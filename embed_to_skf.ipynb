{
  "nbformat": 4,
  "nbformat_minor": 0,
  "metadata": {
    "colab": {
      "provenance": [],
      "collapsed_sections": [],
      "machine_shape": "hm"
    },
    "kernelspec": {
      "name": "python3",
      "display_name": "Python 3"
    },
    "language_info": {
      "name": "python"
    },
    "gpuClass": "standard"
  },
  "cells": [
    {
      "cell_type": "code",
      "source": [
        "#!conda install -c conda-forge lightgbm\n",
        "#!pip install optuna"
      ],
      "metadata": {
        "id": "4h8_aU6mgeJV"
      },
      "execution_count": null,
      "outputs": []
    },
    {
      "cell_type": "code",
      "source": [
        "from google.colab import drive\n",
        "drive.mount('/content/drive')"
      ],
      "metadata": {
        "colab": {
          "base_uri": "https://localhost:8080/"
        },
        "id": "XbQRd4jUUS1V",
        "outputId": "9af1b2fe-6597-42c8-ae57-1b07203a8b00"
      },
      "execution_count": null,
      "outputs": [
        {
          "output_type": "stream",
          "name": "stdout",
          "text": [
            "Drive already mounted at /content/drive; to attempt to forcibly remount, call drive.mount(\"/content/drive\", force_remount=True).\n"
          ]
        }
      ]
    },
    {
      "cell_type": "code",
      "source": [
        "import pandas as pd\n",
        "import numpy as np\n",
        "import matplotlib.pyplot as plt\n",
        "import seaborn as sns\n",
        "\n",
        "from sklearn.metrics import mean_squared_error\n",
        "from sklearn.metrics import log_loss\n",
        "from sklearn.model_selection import StratifiedKFold, KFold\n",
        "from sklearn.model_selection import train_test_split\n",
        "from sklearn.metrics import confusion_matrix\n",
        "\n",
        "import sys\n",
        "import os\n",
        "import re\n",
        "import random\n",
        "\n",
        "from time import time\n",
        "from tqdm import tqdm\n",
        "\n",
        "from contextlib import contextmanager\n",
        "import lightgbm as lgb\n",
        "#import optuna.integration.lightgbm as opt_lgb"
      ],
      "metadata": {
        "id": "XEm9k6tUTlsG"
      },
      "execution_count": null,
      "outputs": []
    },
    {
      "cell_type": "code",
      "source": [
        "#上限表示数を拡張\n",
        "pd.set_option('display.max_columns', 10000)\n",
        "pd.set_option('display.max_rows', 200)"
      ],
      "metadata": {
        "id": "zPmPFgPYAfU-"
      },
      "execution_count": null,
      "outputs": []
    },
    {
      "cell_type": "code",
      "source": [
        "def seed_everything(seed=1234):\n",
        "    random.seed(seed)\n",
        "    os.environ['PYTHONHASHSEED'] = str(seed)\n",
        "    np.random.seed(seed)\n",
        "\n",
        "seed_everything(42)"
      ],
      "metadata": {
        "id": "EkuBal2iT4tu"
      },
      "execution_count": null,
      "outputs": []
    },
    {
      "cell_type": "code",
      "source": [
        "INPUT = \"/content/drive/MyDrive/nishika/\" # 所望のディレクトリに変更してください。\n",
        "train_df = pd.read_csv(os.path.join(INPUT, \"train.csv\"))\n",
        "test_df = pd.read_csv(os.path.join(INPUT, \"test.csv\"))\n",
        "submission_df = pd.read_csv(os.path.join(INPUT, \"sample_submission.csv\"))"
      ],
      "metadata": {
        "id": "abkOSTBkUAuu"
      },
      "execution_count": null,
      "outputs": []
    },
    {
      "cell_type": "code",
      "source": [
        "df_1_tr = pd.read_csv(\"/content/drive/MyDrive/nishika/output/train_SwinTransformerLarge384_V2Large256.csv\")\n",
        "df_1_ts = pd.read_csv(\"/content/drive/MyDrive/nishika/output/test_SwinTransformerLarge384_V2Large256.csv\")"
      ],
      "metadata": {
        "id": "9e1mBWuNUhEF"
      },
      "execution_count": null,
      "outputs": []
    },
    {
      "cell_type": "code",
      "source": [
        "df_2_tr = pd.read_csv(\"/content/drive/MyDrive/nishika/output/train_efb2_rinnabase.csv\")\n",
        "df_2_ts = pd.read_csv(\"/content/drive/MyDrive/nishika/output/test_efb2_rinnabase.csv\")"
      ],
      "metadata": {
        "id": "avW-2jWc1k_7"
      },
      "execution_count": null,
      "outputs": []
    },
    {
      "cell_type": "code",
      "source": [
        "df_2_tr = df_2_tr.drop(df_2_tr.columns[0:352], axis=1)"
      ],
      "metadata": {
        "id": "LRsTYeJzwDFm"
      },
      "execution_count": null,
      "outputs": []
    },
    {
      "cell_type": "code",
      "source": [
        "df_2_ts = df_2_ts.drop(df_2_ts.columns[0:352], axis=1)"
      ],
      "metadata": {
        "id": "Uq5ntOLBxXsF"
      },
      "execution_count": null,
      "outputs": []
    },
    {
      "cell_type": "code",
      "source": [
        "df_3_tr = pd.read_csv(\"/content/drive/MyDrive/nishika/output/train_swinv2base256_ginza510electra.csv\")\n",
        "df_3_ts = pd.read_csv(\"/content/drive/MyDrive/nishika/output/test_swinv2base256_ginza510electra.csv\")"
      ],
      "metadata": {
        "id": "uab1mkuhx3_E"
      },
      "execution_count": null,
      "outputs": []
    },
    {
      "cell_type": "code",
      "source": [
        "df_4_tr = pd.read_csv(\"/content/drive/MyDrive/nishika/output/train_efv2b2_resnet152_jaginza.csv\")\n",
        "df_4_ts = pd.read_csv(\"/content/drive/MyDrive/nishika/output/test_efv2b2_resnet152_jaginza.csv\")"
      ],
      "metadata": {
        "id": "lhNoCqtNyxO8"
      },
      "execution_count": null,
      "outputs": []
    },
    {
      "cell_type": "code",
      "source": [
        "df_4_tr = df_4_tr.drop(df_4_tr.columns[0:865], axis=1)"
      ],
      "metadata": {
        "id": "lCXdu3heyCTl"
      },
      "execution_count": null,
      "outputs": []
    },
    {
      "cell_type": "code",
      "source": [
        "df_4_ts = df_4_ts.drop(df_4_ts.columns[0:865], axis=1)"
      ],
      "metadata": {
        "id": "Fi4jGqvFyY-i"
      },
      "execution_count": null,
      "outputs": []
    },
    {
      "cell_type": "code",
      "source": [
        "#swinL384,swinV2L256,Roberta-text,efb2\n",
        "df_tmp_tr_1 = pd.concat([df_1_tr,df_2_tr],axis=1)\n",
        "df_tmp_ts_1 = pd.concat([df_1_ts,df_2_ts],axis=1)"
      ],
      "metadata": {
        "id": "K800xzjLXruQ"
      },
      "execution_count": null,
      "outputs": []
    },
    {
      "cell_type": "code",
      "source": [
        "#ginza510-electra-base-text,swinv2base256\n",
        "df_tmp_tr_2 = pd.concat([df_tmp_tr_1,df_3_tr],axis=1)\n",
        "#df_tmp_tr_2 = pd.concat([df_1_tr,df_3_tr],axis=1)\n",
        "df_tmp_ts_2 = pd.concat([df_tmp_ts_1,df_3_ts],axis=1)\n",
        "#df_tmp_ts_2 = pd.concat([df_1_ts,df_3_ts],axis=1)"
      ],
      "metadata": {
        "id": "wxk4xwOSz-Mx"
      },
      "execution_count": null,
      "outputs": []
    },
    {
      "cell_type": "code",
      "source": [
        "#efficientnetv2b2,resnet152,jaginza(ginza_electra_text)\n",
        "df_tmp_tr_3 = pd.concat([df_tmp_tr_2,df_4_tr],axis=1)\n",
        "df_tmp_ts_3 = pd.concat([df_tmp_ts_2,df_4_ts],axis=1)"
      ],
      "metadata": {
        "id": "mkGpKte_0IWs"
      },
      "execution_count": null,
      "outputs": []
    },
    {
      "cell_type": "code",
      "source": [
        "train_tmp = df_tmp_tr_3.drop([\"is_laugh\",\"odai_photo_file_name\"], axis=1)"
      ],
      "metadata": {
        "id": "vQmbLHBL4iz7"
      },
      "execution_count": null,
      "outputs": []
    },
    {
      "cell_type": "code",
      "source": [
        "test_tmp = df_tmp_ts_3.drop([\"odai_photo_file_name\"], axis=1)"
      ],
      "metadata": {
        "id": "rhzVwDqM6tzl"
      },
      "execution_count": null,
      "outputs": []
    },
    {
      "cell_type": "code",
      "source": [
        "train = pd.concat([train_tmp,train_df],axis=1)\n",
        "test = pd.concat([test_tmp,test_df],axis=1)"
      ],
      "metadata": {
        "id": "8uyAJR3pBtnb"
      },
      "execution_count": null,
      "outputs": []
    },
    {
      "cell_type": "code",
      "source": [
        "train[\"text_len\"] = train[\"text\"].str.len()\n",
        "test[\"text_len\"] = test[\"text\"].str.len()"
      ],
      "metadata": {
        "id": "vJR4VirHJcB7"
      },
      "execution_count": null,
      "outputs": []
    },
    {
      "cell_type": "code",
      "source": [
        "y = train[\"is_laugh\"]\n",
        "X = train.drop([\"odai_photo_file_name\",\"is_laugh\",\"id\",\"text\"], axis=1)\n",
        "\n",
        "X_test = test.drop([\"odai_photo_file_name\",\"id\",\"text\"], axis=1)"
      ],
      "metadata": {
        "id": "0pInRB316fFo"
      },
      "execution_count": null,
      "outputs": []
    },
    {
      "cell_type": "code",
      "source": [
        "\n",
        "X = X.T.drop_duplicates().T\n",
        "X_test = X_test.T.drop_duplicates().T \n"
      ],
      "metadata": {
        "id": "0oRUq7LEDj4X"
      },
      "execution_count": null,
      "outputs": []
    },
    {
      "cell_type": "markdown",
      "source": [
        "# Model"
      ],
      "metadata": {
        "id": "jtw_IUp87-HP"
      }
    },
    {
      "cell_type": "code",
      "source": [
        "from sklearn.model_selection import KFold\n",
        "kf = KFold(n_splits=5, shuffle=True, random_state=42)"
      ],
      "metadata": {
        "id": "FEtUwC7xUwDi"
      },
      "execution_count": null,
      "outputs": []
    },
    {
      "cell_type": "code",
      "source": [
        "params = {  \n",
        "    \"n_estimators\": 20000,\n",
        "    \"objective\": 'binary',\n",
        "    \"learning_rate\": 0.001,\n",
        "    'lambda_l1': 8.553323365580143, \n",
        "    'lambda_l2': 0.00024389221237366783, \n",
        "    'num_leaves': 240, \n",
        "    'feature_fraction': 0.6839999999999999, \n",
        "    'bagging_fraction': 0.6378550454605715, \n",
        "    'bagging_freq': 1,\n",
        "    \"random_state\": 71,\n",
        "    \"n_jobs\": -1,\n",
        "    \"importance_type\": \"gain\",\n",
        "    'colsample_bytree': .8,\n",
        "    \"reg_lambda\": 5,\n",
        "    \"max_depth\":9,\n",
        "    'min_child_samples': 20\n",
        "    }"
      ],
      "metadata": {
        "id": "ohvH_IfQY8c7"
      },
      "execution_count": null,
      "outputs": []
    },
    {
      "cell_type": "code",
      "source": [
        "# 予測値を格納するdf\n",
        "# df to store the predicted value\n",
        "preds_lgb = pd.DataFrame()\n",
        "\n",
        "for k, (tr_id, vl_id) in enumerate(kf.split(X, y)):\n",
        "    print(\"=\"*50)\n",
        "    print(f\"               KFold{k+1}\")\n",
        "    print(\"=\"*50)\n",
        "    \n",
        "    X_train, X_val = X.iloc[tr_id, :], X.iloc[vl_id, :]\n",
        "    y_train, y_val = y.iloc[tr_id], y.iloc[vl_id]\n",
        "    \n",
        "    lgb_train = lgb.Dataset(X_train, y_train)\n",
        "    lgb_val = lgb.Dataset(X_val, y_val)\n",
        "    \n",
        "    model_lgb = lgb.train(params=params,\n",
        "                          train_set=lgb_train,\n",
        "                          valid_sets=lgb_val,\n",
        "                          num_boost_round=100000,\n",
        "                          early_stopping_rounds=200,\n",
        "                          verbose_eval=1000)\n",
        "    \n",
        "    pred_lgb = model_lgb.predict(X_test, num_iteration=model_lgb.best_iteration)\n",
        "    pred_lgb = pd.DataFrame(pred_lgb)\n",
        "    \n",
        "    # 予測値を横に連結していく\n",
        "    # Concatenate the predictions horizontally\n",
        "    preds_lgb = pd.concat([preds_lgb, pred_lgb], axis=1)"
      ],
      "metadata": {
        "colab": {
          "base_uri": "https://localhost:8080/"
        },
        "id": "IJE1fWmTW0rx",
        "outputId": "2393bcc0-0923-4575-91e0-d187e904fea5"
      },
      "execution_count": null,
      "outputs": [
        {
          "output_type": "stream",
          "name": "stdout",
          "text": [
            "==================================================\n",
            "               KFold1\n",
            "==================================================\n"
          ]
        },
        {
          "output_type": "stream",
          "name": "stderr",
          "text": [
            "/usr/local/lib/python3.7/dist-packages/lightgbm/engine.py:118: UserWarning: Found `n_estimators` in params. Will use it instead of argument\n",
            "  warnings.warn(\"Found `{}` in params. Will use it instead of argument\".format(alias))\n"
          ]
        },
        {
          "output_type": "stream",
          "name": "stdout",
          "text": [
            "Training until validation scores don't improve for 200 rounds.\n",
            "[1000]\tvalid_0's binary_logloss: 0.66267\n",
            "[2000]\tvalid_0's binary_logloss: 0.6534\n",
            "[3000]\tvalid_0's binary_logloss: 0.649697\n",
            "[4000]\tvalid_0's binary_logloss: 0.647589\n",
            "[5000]\tvalid_0's binary_logloss: 0.646081\n",
            "[6000]\tvalid_0's binary_logloss: 0.645023\n",
            "[7000]\tvalid_0's binary_logloss: 0.64428\n",
            "[8000]\tvalid_0's binary_logloss: 0.643775\n",
            "[9000]\tvalid_0's binary_logloss: 0.643349\n",
            "[10000]\tvalid_0's binary_logloss: 0.643014\n",
            "[11000]\tvalid_0's binary_logloss: 0.642874\n",
            "Early stopping, best iteration is:\n",
            "[10915]\tvalid_0's binary_logloss: 0.642865\n",
            "==================================================\n",
            "               KFold2\n",
            "==================================================\n",
            "Training until validation scores don't improve for 200 rounds.\n",
            "[1000]\tvalid_0's binary_logloss: 0.662305\n",
            "[2000]\tvalid_0's binary_logloss: 0.653207\n",
            "[3000]\tvalid_0's binary_logloss: 0.649285\n",
            "[4000]\tvalid_0's binary_logloss: 0.647021\n",
            "[5000]\tvalid_0's binary_logloss: 0.645536\n",
            "[6000]\tvalid_0's binary_logloss: 0.644488\n",
            "[7000]\tvalid_0's binary_logloss: 0.643757\n",
            "[8000]\tvalid_0's binary_logloss: 0.643151\n",
            "[9000]\tvalid_0's binary_logloss: 0.642818\n",
            "Early stopping, best iteration is:\n",
            "[9292]\tvalid_0's binary_logloss: 0.642706\n",
            "==================================================\n",
            "               KFold3\n",
            "==================================================\n",
            "Training until validation scores don't improve for 200 rounds.\n",
            "[1000]\tvalid_0's binary_logloss: 0.659872\n",
            "[2000]\tvalid_0's binary_logloss: 0.649119\n",
            "[3000]\tvalid_0's binary_logloss: 0.644339\n",
            "[4000]\tvalid_0's binary_logloss: 0.641255\n",
            "[5000]\tvalid_0's binary_logloss: 0.639213\n",
            "[6000]\tvalid_0's binary_logloss: 0.637676\n",
            "[7000]\tvalid_0's binary_logloss: 0.636399\n",
            "[8000]\tvalid_0's binary_logloss: 0.635379\n",
            "[9000]\tvalid_0's binary_logloss: 0.634506\n",
            "[10000]\tvalid_0's binary_logloss: 0.633954\n",
            "[11000]\tvalid_0's binary_logloss: 0.633487\n",
            "[12000]\tvalid_0's binary_logloss: 0.633173\n",
            "[13000]\tvalid_0's binary_logloss: 0.632888\n",
            "[14000]\tvalid_0's binary_logloss: 0.632561\n",
            "Early stopping, best iteration is:\n",
            "[14296]\tvalid_0's binary_logloss: 0.63248\n",
            "==================================================\n",
            "               KFold4\n",
            "==================================================\n",
            "Training until validation scores don't improve for 200 rounds.\n",
            "[1000]\tvalid_0's binary_logloss: 0.664503\n",
            "[2000]\tvalid_0's binary_logloss: 0.656313\n",
            "[3000]\tvalid_0's binary_logloss: 0.653022\n",
            "[4000]\tvalid_0's binary_logloss: 0.650963\n",
            "[5000]\tvalid_0's binary_logloss: 0.649556\n",
            "[6000]\tvalid_0's binary_logloss: 0.648443\n",
            "[7000]\tvalid_0's binary_logloss: 0.647826\n",
            "Early stopping, best iteration is:\n",
            "[7501]\tvalid_0's binary_logloss: 0.647542\n",
            "==================================================\n",
            "               KFold5\n",
            "==================================================\n",
            "Training until validation scores don't improve for 200 rounds.\n",
            "[1000]\tvalid_0's binary_logloss: 0.6592\n",
            "[2000]\tvalid_0's binary_logloss: 0.648305\n",
            "[3000]\tvalid_0's binary_logloss: 0.64379\n",
            "[4000]\tvalid_0's binary_logloss: 0.640888\n",
            "[5000]\tvalid_0's binary_logloss: 0.639046\n",
            "[6000]\tvalid_0's binary_logloss: 0.637682\n",
            "[7000]\tvalid_0's binary_logloss: 0.636555\n",
            "[8000]\tvalid_0's binary_logloss: 0.635727\n",
            "[9000]\tvalid_0's binary_logloss: 0.634961\n",
            "[10000]\tvalid_0's binary_logloss: 0.634417\n",
            "[11000]\tvalid_0's binary_logloss: 0.63401\n",
            "[12000]\tvalid_0's binary_logloss: 0.633629\n",
            "[13000]\tvalid_0's binary_logloss: 0.633316\n",
            "Early stopping, best iteration is:\n",
            "[13542]\tvalid_0's binary_logloss: 0.633146\n"
          ]
        }
      ]
    },
    {
      "cell_type": "code",
      "source": [
        "preds_lgb"
      ],
      "metadata": {
        "colab": {
          "base_uri": "https://localhost:8080/",
          "height": 424
        },
        "id": "V-GBI5gTY_hV",
        "outputId": "f3c28aa2-9167-459b-d966-c95ebcda7513"
      },
      "execution_count": null,
      "outputs": [
        {
          "output_type": "execute_result",
          "data": {
            "text/plain": [
              "             0         0         0         0         0\n",
              "0     0.461910  0.465743  0.487420  0.477820  0.507426\n",
              "1     0.418687  0.361823  0.358026  0.432135  0.386081\n",
              "2     0.351371  0.299335  0.275735  0.305091  0.265294\n",
              "3     0.406725  0.357541  0.420258  0.404713  0.417875\n",
              "4     0.792505  0.813922  0.846070  0.801515  0.823104\n",
              "...        ...       ...       ...       ...       ...\n",
              "5995  0.336535  0.353546  0.319175  0.324341  0.284406\n",
              "5996  0.756439  0.754828  0.763791  0.775818  0.763886\n",
              "5997  0.527272  0.516126  0.489099  0.511575  0.468163\n",
              "5998  0.608665  0.569634  0.599885  0.614017  0.582678\n",
              "5999  0.661119  0.655016  0.655121  0.626863  0.680980\n",
              "\n",
              "[6000 rows x 5 columns]"
            ],
            "text/html": [
              "\n",
              "  <div id=\"df-e27d27b7-da33-4ae4-b896-5e1d939396d2\">\n",
              "    <div class=\"colab-df-container\">\n",
              "      <div>\n",
              "<style scoped>\n",
              "    .dataframe tbody tr th:only-of-type {\n",
              "        vertical-align: middle;\n",
              "    }\n",
              "\n",
              "    .dataframe tbody tr th {\n",
              "        vertical-align: top;\n",
              "    }\n",
              "\n",
              "    .dataframe thead th {\n",
              "        text-align: right;\n",
              "    }\n",
              "</style>\n",
              "<table border=\"1\" class=\"dataframe\">\n",
              "  <thead>\n",
              "    <tr style=\"text-align: right;\">\n",
              "      <th></th>\n",
              "      <th>0</th>\n",
              "      <th>0</th>\n",
              "      <th>0</th>\n",
              "      <th>0</th>\n",
              "      <th>0</th>\n",
              "    </tr>\n",
              "  </thead>\n",
              "  <tbody>\n",
              "    <tr>\n",
              "      <th>0</th>\n",
              "      <td>0.461910</td>\n",
              "      <td>0.465743</td>\n",
              "      <td>0.487420</td>\n",
              "      <td>0.477820</td>\n",
              "      <td>0.507426</td>\n",
              "    </tr>\n",
              "    <tr>\n",
              "      <th>1</th>\n",
              "      <td>0.418687</td>\n",
              "      <td>0.361823</td>\n",
              "      <td>0.358026</td>\n",
              "      <td>0.432135</td>\n",
              "      <td>0.386081</td>\n",
              "    </tr>\n",
              "    <tr>\n",
              "      <th>2</th>\n",
              "      <td>0.351371</td>\n",
              "      <td>0.299335</td>\n",
              "      <td>0.275735</td>\n",
              "      <td>0.305091</td>\n",
              "      <td>0.265294</td>\n",
              "    </tr>\n",
              "    <tr>\n",
              "      <th>3</th>\n",
              "      <td>0.406725</td>\n",
              "      <td>0.357541</td>\n",
              "      <td>0.420258</td>\n",
              "      <td>0.404713</td>\n",
              "      <td>0.417875</td>\n",
              "    </tr>\n",
              "    <tr>\n",
              "      <th>4</th>\n",
              "      <td>0.792505</td>\n",
              "      <td>0.813922</td>\n",
              "      <td>0.846070</td>\n",
              "      <td>0.801515</td>\n",
              "      <td>0.823104</td>\n",
              "    </tr>\n",
              "    <tr>\n",
              "      <th>...</th>\n",
              "      <td>...</td>\n",
              "      <td>...</td>\n",
              "      <td>...</td>\n",
              "      <td>...</td>\n",
              "      <td>...</td>\n",
              "    </tr>\n",
              "    <tr>\n",
              "      <th>5995</th>\n",
              "      <td>0.336535</td>\n",
              "      <td>0.353546</td>\n",
              "      <td>0.319175</td>\n",
              "      <td>0.324341</td>\n",
              "      <td>0.284406</td>\n",
              "    </tr>\n",
              "    <tr>\n",
              "      <th>5996</th>\n",
              "      <td>0.756439</td>\n",
              "      <td>0.754828</td>\n",
              "      <td>0.763791</td>\n",
              "      <td>0.775818</td>\n",
              "      <td>0.763886</td>\n",
              "    </tr>\n",
              "    <tr>\n",
              "      <th>5997</th>\n",
              "      <td>0.527272</td>\n",
              "      <td>0.516126</td>\n",
              "      <td>0.489099</td>\n",
              "      <td>0.511575</td>\n",
              "      <td>0.468163</td>\n",
              "    </tr>\n",
              "    <tr>\n",
              "      <th>5998</th>\n",
              "      <td>0.608665</td>\n",
              "      <td>0.569634</td>\n",
              "      <td>0.599885</td>\n",
              "      <td>0.614017</td>\n",
              "      <td>0.582678</td>\n",
              "    </tr>\n",
              "    <tr>\n",
              "      <th>5999</th>\n",
              "      <td>0.661119</td>\n",
              "      <td>0.655016</td>\n",
              "      <td>0.655121</td>\n",
              "      <td>0.626863</td>\n",
              "      <td>0.680980</td>\n",
              "    </tr>\n",
              "  </tbody>\n",
              "</table>\n",
              "<p>6000 rows × 5 columns</p>\n",
              "</div>\n",
              "      <button class=\"colab-df-convert\" onclick=\"convertToInteractive('df-e27d27b7-da33-4ae4-b896-5e1d939396d2')\"\n",
              "              title=\"Convert this dataframe to an interactive table.\"\n",
              "              style=\"display:none;\">\n",
              "        \n",
              "  <svg xmlns=\"http://www.w3.org/2000/svg\" height=\"24px\"viewBox=\"0 0 24 24\"\n",
              "       width=\"24px\">\n",
              "    <path d=\"M0 0h24v24H0V0z\" fill=\"none\"/>\n",
              "    <path d=\"M18.56 5.44l.94 2.06.94-2.06 2.06-.94-2.06-.94-.94-2.06-.94 2.06-2.06.94zm-11 1L8.5 8.5l.94-2.06 2.06-.94-2.06-.94L8.5 2.5l-.94 2.06-2.06.94zm10 10l.94 2.06.94-2.06 2.06-.94-2.06-.94-.94-2.06-.94 2.06-2.06.94z\"/><path d=\"M17.41 7.96l-1.37-1.37c-.4-.4-.92-.59-1.43-.59-.52 0-1.04.2-1.43.59L10.3 9.45l-7.72 7.72c-.78.78-.78 2.05 0 2.83L4 21.41c.39.39.9.59 1.41.59.51 0 1.02-.2 1.41-.59l7.78-7.78 2.81-2.81c.8-.78.8-2.07 0-2.86zM5.41 20L4 18.59l7.72-7.72 1.47 1.35L5.41 20z\"/>\n",
              "  </svg>\n",
              "      </button>\n",
              "      \n",
              "  <style>\n",
              "    .colab-df-container {\n",
              "      display:flex;\n",
              "      flex-wrap:wrap;\n",
              "      gap: 12px;\n",
              "    }\n",
              "\n",
              "    .colab-df-convert {\n",
              "      background-color: #E8F0FE;\n",
              "      border: none;\n",
              "      border-radius: 50%;\n",
              "      cursor: pointer;\n",
              "      display: none;\n",
              "      fill: #1967D2;\n",
              "      height: 32px;\n",
              "      padding: 0 0 0 0;\n",
              "      width: 32px;\n",
              "    }\n",
              "\n",
              "    .colab-df-convert:hover {\n",
              "      background-color: #E2EBFA;\n",
              "      box-shadow: 0px 1px 2px rgba(60, 64, 67, 0.3), 0px 1px 3px 1px rgba(60, 64, 67, 0.15);\n",
              "      fill: #174EA6;\n",
              "    }\n",
              "\n",
              "    [theme=dark] .colab-df-convert {\n",
              "      background-color: #3B4455;\n",
              "      fill: #D2E3FC;\n",
              "    }\n",
              "\n",
              "    [theme=dark] .colab-df-convert:hover {\n",
              "      background-color: #434B5C;\n",
              "      box-shadow: 0px 1px 3px 1px rgba(0, 0, 0, 0.15);\n",
              "      filter: drop-shadow(0px 1px 2px rgba(0, 0, 0, 0.3));\n",
              "      fill: #FFFFFF;\n",
              "    }\n",
              "  </style>\n",
              "\n",
              "      <script>\n",
              "        const buttonEl =\n",
              "          document.querySelector('#df-e27d27b7-da33-4ae4-b896-5e1d939396d2 button.colab-df-convert');\n",
              "        buttonEl.style.display =\n",
              "          google.colab.kernel.accessAllowed ? 'block' : 'none';\n",
              "\n",
              "        async function convertToInteractive(key) {\n",
              "          const element = document.querySelector('#df-e27d27b7-da33-4ae4-b896-5e1d939396d2');\n",
              "          const dataTable =\n",
              "            await google.colab.kernel.invokeFunction('convertToInteractive',\n",
              "                                                     [key], {});\n",
              "          if (!dataTable) return;\n",
              "\n",
              "          const docLinkHtml = 'Like what you see? Visit the ' +\n",
              "            '<a target=\"_blank\" href=https://colab.research.google.com/notebooks/data_table.ipynb>data table notebook</a>'\n",
              "            + ' to learn more about interactive tables.';\n",
              "          element.innerHTML = '';\n",
              "          dataTable['output_type'] = 'display_data';\n",
              "          await google.colab.output.renderOutput(dataTable, element);\n",
              "          const docLink = document.createElement('div');\n",
              "          docLink.innerHTML = docLinkHtml;\n",
              "          element.appendChild(docLink);\n",
              "        }\n",
              "      </script>\n",
              "    </div>\n",
              "  </div>\n",
              "  "
            ]
          },
          "metadata": {},
          "execution_count": 27
        }
      ]
    },
    {
      "cell_type": "code",
      "source": [
        "label = preds_lgb.mean(axis=1)\n",
        "label"
      ],
      "metadata": {
        "colab": {
          "base_uri": "https://localhost:8080/"
        },
        "id": "yZwvzPurZBtr",
        "outputId": "cf89d9e5-cf5f-4188-d1c2-ad5e81f5da8d"
      },
      "execution_count": null,
      "outputs": [
        {
          "output_type": "execute_result",
          "data": {
            "text/plain": [
              "0       0.480064\n",
              "1       0.391350\n",
              "2       0.299365\n",
              "3       0.401422\n",
              "4       0.815423\n",
              "          ...   \n",
              "5995    0.323601\n",
              "5996    0.762952\n",
              "5997    0.502447\n",
              "5998    0.594976\n",
              "5999    0.655820\n",
              "Length: 6000, dtype: float64"
            ]
          },
          "metadata": {},
          "execution_count": 28
        }
      ]
    },
    {
      "cell_type": "markdown",
      "source": [
        "# Predict"
      ],
      "metadata": {
        "id": "sBad8xkWAXi1"
      }
    },
    {
      "cell_type": "code",
      "source": [
        "submission_df[\"is_laugh\"] = label\n",
        "\n",
        "submission_df.head()"
      ],
      "metadata": {
        "colab": {
          "base_uri": "https://localhost:8080/",
          "height": 206
        },
        "id": "jCsmWtuOaXti",
        "outputId": "fa559d2a-3708-4789-edf5-1086f70f52ef"
      },
      "execution_count": null,
      "outputs": [
        {
          "output_type": "execute_result",
          "data": {
            "text/plain": [
              "          id  is_laugh\n",
              "0  rfdjcfsqq  0.480064\n",
              "1  tsgqmfpef  0.391350\n",
              "2  owjcthkz2  0.299365\n",
              "3  rvgaocjyy  0.401422\n",
              "4  uxtwu5i69  0.815423"
            ],
            "text/html": [
              "\n",
              "  <div id=\"df-71b29f72-50f5-4337-b853-9bcee6954399\">\n",
              "    <div class=\"colab-df-container\">\n",
              "      <div>\n",
              "<style scoped>\n",
              "    .dataframe tbody tr th:only-of-type {\n",
              "        vertical-align: middle;\n",
              "    }\n",
              "\n",
              "    .dataframe tbody tr th {\n",
              "        vertical-align: top;\n",
              "    }\n",
              "\n",
              "    .dataframe thead th {\n",
              "        text-align: right;\n",
              "    }\n",
              "</style>\n",
              "<table border=\"1\" class=\"dataframe\">\n",
              "  <thead>\n",
              "    <tr style=\"text-align: right;\">\n",
              "      <th></th>\n",
              "      <th>id</th>\n",
              "      <th>is_laugh</th>\n",
              "    </tr>\n",
              "  </thead>\n",
              "  <tbody>\n",
              "    <tr>\n",
              "      <th>0</th>\n",
              "      <td>rfdjcfsqq</td>\n",
              "      <td>0.480064</td>\n",
              "    </tr>\n",
              "    <tr>\n",
              "      <th>1</th>\n",
              "      <td>tsgqmfpef</td>\n",
              "      <td>0.391350</td>\n",
              "    </tr>\n",
              "    <tr>\n",
              "      <th>2</th>\n",
              "      <td>owjcthkz2</td>\n",
              "      <td>0.299365</td>\n",
              "    </tr>\n",
              "    <tr>\n",
              "      <th>3</th>\n",
              "      <td>rvgaocjyy</td>\n",
              "      <td>0.401422</td>\n",
              "    </tr>\n",
              "    <tr>\n",
              "      <th>4</th>\n",
              "      <td>uxtwu5i69</td>\n",
              "      <td>0.815423</td>\n",
              "    </tr>\n",
              "  </tbody>\n",
              "</table>\n",
              "</div>\n",
              "      <button class=\"colab-df-convert\" onclick=\"convertToInteractive('df-71b29f72-50f5-4337-b853-9bcee6954399')\"\n",
              "              title=\"Convert this dataframe to an interactive table.\"\n",
              "              style=\"display:none;\">\n",
              "        \n",
              "  <svg xmlns=\"http://www.w3.org/2000/svg\" height=\"24px\"viewBox=\"0 0 24 24\"\n",
              "       width=\"24px\">\n",
              "    <path d=\"M0 0h24v24H0V0z\" fill=\"none\"/>\n",
              "    <path d=\"M18.56 5.44l.94 2.06.94-2.06 2.06-.94-2.06-.94-.94-2.06-.94 2.06-2.06.94zm-11 1L8.5 8.5l.94-2.06 2.06-.94-2.06-.94L8.5 2.5l-.94 2.06-2.06.94zm10 10l.94 2.06.94-2.06 2.06-.94-2.06-.94-.94-2.06-.94 2.06-2.06.94z\"/><path d=\"M17.41 7.96l-1.37-1.37c-.4-.4-.92-.59-1.43-.59-.52 0-1.04.2-1.43.59L10.3 9.45l-7.72 7.72c-.78.78-.78 2.05 0 2.83L4 21.41c.39.39.9.59 1.41.59.51 0 1.02-.2 1.41-.59l7.78-7.78 2.81-2.81c.8-.78.8-2.07 0-2.86zM5.41 20L4 18.59l7.72-7.72 1.47 1.35L5.41 20z\"/>\n",
              "  </svg>\n",
              "      </button>\n",
              "      \n",
              "  <style>\n",
              "    .colab-df-container {\n",
              "      display:flex;\n",
              "      flex-wrap:wrap;\n",
              "      gap: 12px;\n",
              "    }\n",
              "\n",
              "    .colab-df-convert {\n",
              "      background-color: #E8F0FE;\n",
              "      border: none;\n",
              "      border-radius: 50%;\n",
              "      cursor: pointer;\n",
              "      display: none;\n",
              "      fill: #1967D2;\n",
              "      height: 32px;\n",
              "      padding: 0 0 0 0;\n",
              "      width: 32px;\n",
              "    }\n",
              "\n",
              "    .colab-df-convert:hover {\n",
              "      background-color: #E2EBFA;\n",
              "      box-shadow: 0px 1px 2px rgba(60, 64, 67, 0.3), 0px 1px 3px 1px rgba(60, 64, 67, 0.15);\n",
              "      fill: #174EA6;\n",
              "    }\n",
              "\n",
              "    [theme=dark] .colab-df-convert {\n",
              "      background-color: #3B4455;\n",
              "      fill: #D2E3FC;\n",
              "    }\n",
              "\n",
              "    [theme=dark] .colab-df-convert:hover {\n",
              "      background-color: #434B5C;\n",
              "      box-shadow: 0px 1px 3px 1px rgba(0, 0, 0, 0.15);\n",
              "      filter: drop-shadow(0px 1px 2px rgba(0, 0, 0, 0.3));\n",
              "      fill: #FFFFFF;\n",
              "    }\n",
              "  </style>\n",
              "\n",
              "      <script>\n",
              "        const buttonEl =\n",
              "          document.querySelector('#df-71b29f72-50f5-4337-b853-9bcee6954399 button.colab-df-convert');\n",
              "        buttonEl.style.display =\n",
              "          google.colab.kernel.accessAllowed ? 'block' : 'none';\n",
              "\n",
              "        async function convertToInteractive(key) {\n",
              "          const element = document.querySelector('#df-71b29f72-50f5-4337-b853-9bcee6954399');\n",
              "          const dataTable =\n",
              "            await google.colab.kernel.invokeFunction('convertToInteractive',\n",
              "                                                     [key], {});\n",
              "          if (!dataTable) return;\n",
              "\n",
              "          const docLinkHtml = 'Like what you see? Visit the ' +\n",
              "            '<a target=\"_blank\" href=https://colab.research.google.com/notebooks/data_table.ipynb>data table notebook</a>'\n",
              "            + ' to learn more about interactive tables.';\n",
              "          element.innerHTML = '';\n",
              "          dataTable['output_type'] = 'display_data';\n",
              "          await google.colab.output.renderOutput(dataTable, element);\n",
              "          const docLink = document.createElement('div');\n",
              "          docLink.innerHTML = docLinkHtml;\n",
              "          element.appendChild(docLink);\n",
              "        }\n",
              "      </script>\n",
              "    </div>\n",
              "  </div>\n",
              "  "
            ]
          },
          "metadata": {},
          "execution_count": 29
        }
      ]
    },
    {
      "cell_type": "code",
      "source": [
        "submission_df.to_csv(('/content/drive/MyDrive/nishika/sub.csv'), index=False)"
      ],
      "metadata": {
        "id": "wV2NPdgBEYM2"
      },
      "execution_count": null,
      "outputs": []
    }
  ]
}