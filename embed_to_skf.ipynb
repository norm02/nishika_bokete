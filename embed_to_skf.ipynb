{
  "nbformat": 4,
  "nbformat_minor": 0,
  "metadata": {
    "colab": {
      "provenance": [],
      "collapsed_sections": [],
      "machine_shape": "hm"
    },
    "kernelspec": {
      "name": "python3",
      "display_name": "Python 3"
    },
    "language_info": {
      "name": "python"
    },
    "gpuClass": "standard"
  },
  "cells": [
    {
      "cell_type": "code",
      "source": [
        "#!conda install -c conda-forge lightgbm\n",
        "#!pip install optuna"
      ],
      "metadata": {
        "id": "4h8_aU6mgeJV"
      },
      "execution_count": null,
      "outputs": []
    },
    {
      "cell_type": "code",
      "source": [
        "from google.colab import drive\n",
        "drive.mount('/content/drive')"
      ],
      "metadata": {
        "id": "XbQRd4jUUS1V"
      },
      "execution_count": null,
      "outputs": []
    },
    {
      "cell_type": "code",
      "source": [
        "import pandas as pd\n",
        "import numpy as np\n",
        "import matplotlib.pyplot as plt\n",
        "import seaborn as sns\n",
        "\n",
        "from sklearn.metrics import mean_squared_error\n",
        "from sklearn.metrics import log_loss\n",
        "from sklearn.model_selection import StratifiedKFold, KFold\n",
        "from sklearn.model_selection import train_test_split\n",
        "from sklearn.metrics import confusion_matrix\n",
        "\n",
        "import sys\n",
        "import os\n",
        "import re\n",
        "import random\n",
        "\n",
        "from time import time\n",
        "from tqdm import tqdm\n",
        "\n",
        "from contextlib import contextmanager\n",
        "import lightgbm as lgb\n",
        "#import optuna.integration.lightgbm as opt_lgb"
      ],
      "metadata": {
        "id": "XEm9k6tUTlsG"
      },
      "execution_count": null,
      "outputs": []
    },
    {
      "cell_type": "code",
      "source": [
        "#上限表示数を拡張\n",
        "pd.set_option('display.max_columns', 10000)\n",
        "pd.set_option('display.max_rows', 200)"
      ],
      "metadata": {
        "id": "zPmPFgPYAfU-"
      },
      "execution_count": null,
      "outputs": []
    },
    {
      "cell_type": "code",
      "source": [
        "def seed_everything(seed=1234):\n",
        "    random.seed(seed)\n",
        "    os.environ['PYTHONHASHSEED'] = str(seed)\n",
        "    np.random.seed(seed)\n",
        "\n",
        "seed_everything(42)"
      ],
      "metadata": {
        "id": "EkuBal2iT4tu"
      },
      "execution_count": null,
      "outputs": []
    },
    {
      "cell_type": "code",
      "source": [
        "INPUT = \"/content/drive/MyDrive/nishika/\" # 所望のディレクトリに変更してください。\n",
        "train_df = pd.read_csv(os.path.join(INPUT, \"train.csv\"))\n",
        "test_df = pd.read_csv(os.path.join(INPUT, \"test.csv\"))\n",
        "submission_df = pd.read_csv(os.path.join(INPUT, \"sample_submission.csv\"))"
      ],
      "metadata": {
        "id": "abkOSTBkUAuu"
      },
      "execution_count": null,
      "outputs": []
    },
    {
      "cell_type": "code",
      "source": [
        "#df_sl384_tr = pd.read_csv(\"content/drive/MyDrive/nishika/embeded/embedding_train_image_SwinTransformerLarge384\")\n",
        "#df_sl384_ts = pd.read_csv(\"content/drive/MyDrive/nishika/embeded/embedding_test_image_SwinTransformerLarge384\")"
      ],
      "metadata": {
        "id": "6D4vjyPh0lMj"
      },
      "execution_count": null,
      "outputs": []
    },
    {
      "cell_type": "code",
      "source": [
        "#df_sl384_tr = df_sl384_tr.drop([\"text_len\",\"Unnamed: 0\",\"odai_photo_file_name\",\"is_laugh\",\"id\",\"text\"], axis=1)"
      ],
      "metadata": {
        "id": "UfBpzy821OnE"
      },
      "execution_count": null,
      "outputs": []
    },
    {
      "cell_type": "code",
      "source": [
        "#df_sl384_ts = df_sl384_ts.drop([\"text_len\",\"Unnamed: 0\",\"odai_photo_file_name\",\"id\",\"text\"], axis=1)"
      ],
      "metadata": {
        "id": "RH7OeB371RVz"
      },
      "execution_count": null,
      "outputs": []
    },
    {
      "cell_type": "code",
      "source": [
        "#df_vl256_tr = pd.read_csv(\"content/drive/MyDrive/nishika/embeded/embedding_train_image_SwinTransformerV2Large256\")\n",
        "#df_vl256_ts = pd.read_csv(\"content/drive/MyDrive/nishika/embeded/embedding_test_image_SwinTransformerV2Large256\")"
      ],
      "metadata": {
        "id": "N6bLu0_U1idt"
      },
      "execution_count": null,
      "outputs": []
    },
    {
      "cell_type": "code",
      "source": [
        "#df_vl256_tr = df_vl256_tr.drop([\"text_len\",\"Unnamed: 0\",\"odai_photo_file_name\",\"is_laugh\",\"id\",\"text\"], axis=1)"
      ],
      "metadata": {
        "id": "DID3tRLz179B"
      },
      "execution_count": null,
      "outputs": []
    },
    {
      "cell_type": "code",
      "source": [
        "#df_vl256_ts = df_vl256_ts.drop([\"text_len\",\"Unnamed: 0\",\"odai_photo_file_name\",\"id\",\"text\"], axis=1)"
      ],
      "metadata": {
        "id": "t2XWfWxy2KIu"
      },
      "execution_count": null,
      "outputs": []
    },
    {
      "cell_type": "code",
      "source": [
        "#df_1_tr = pd.concat([df_sl384_tr,df_vl256_tr],axis=1)\n",
        "#df_1_ts = pd.concat([df_sl384_tr,df_vl256_ts],axis=1)"
      ],
      "metadata": {
        "id": "lz-03m0Z2V0c"
      },
      "execution_count": null,
      "outputs": []
    },
    {
      "cell_type": "code",
      "source": [
        "#df_1_tr.to_csv(\"/content/drive/MyDrive/nishika/output/train_SwinTransformerLarge384_V2Large256.csv\")\n",
        "#df_1_ts.to_csv(\"/content/drive/MyDrive/nishika/output/test_SwinTransformerLarge384_V2Large256.csv\")"
      ],
      "metadata": {
        "id": "yUMSd9TRMBhe"
      },
      "execution_count": null,
      "outputs": []
    },
    {
      "cell_type": "code",
      "source": [
        "df_1_tr = pd.read_csv(\"/content/drive/MyDrive/nishika/output/train_SwinTransformerLarge384_V2Large256.csv\")\n",
        "df_1_ts = pd.read_csv(\"/content/drive/MyDrive/nishika/output/test_SwinTransformerLarge384_V2Large256.csv\")"
      ],
      "metadata": {
        "id": "9e1mBWuNUhEF"
      },
      "execution_count": null,
      "outputs": []
    },
    {
      "cell_type": "code",
      "source": [
        "#df_efb2_tr = pd.read_csv(\"content/drive/MyDrive/nishika/embeded/embedding_train_image_EfficientNetB2\")\n",
        "#df_efb2_ts = pd.read_csv(\"content/drive/MyDrive/nishika/embeded/embedding_test_image_EfficientNetB2\")"
      ],
      "metadata": {
        "id": "BTyZm8Po271m"
      },
      "execution_count": null,
      "outputs": []
    },
    {
      "cell_type": "code",
      "source": [
        "#df_efb2_tr = df_efb2_tr.drop([\"text_len\",\"Unnamed: 0\",\"odai_photo_file_name\",\"is_laugh\",\"id\",\"text\"], axis=1)"
      ],
      "metadata": {
        "id": "7ax9pXu1271n"
      },
      "execution_count": null,
      "outputs": []
    },
    {
      "cell_type": "code",
      "source": [
        "#df_efb2_ts = df_efb2_ts.drop([\"text_len\",\"Unnamed: 0\",\"odai_photo_file_name\",\"id\",\"text\"], axis=1)"
      ],
      "metadata": {
        "id": "f4P0rcJ8271n"
      },
      "execution_count": null,
      "outputs": []
    },
    {
      "cell_type": "code",
      "source": [
        "#df_rinna_tr = pd.read_csv(\"content/drive/MyDrive/nishika/embeded/embedding_train_rinna_roberta_base.csv\")\n",
        "#df_rinna_ts = pd.read_csv(\"content/drive/MyDrive/nishika/embeded/embedding_test_rinna_roberta_base.csv\")"
      ],
      "metadata": {
        "id": "OhpO7aAX271o"
      },
      "execution_count": null,
      "outputs": []
    },
    {
      "cell_type": "code",
      "source": [
        "#df_rinna_tr = df_rinna_tr.drop([\"text_len\",\"Unnamed: 0\",\"odai_photo_file_name\",\"is_laugh\",\"id\",\"text\"], axis=1)"
      ],
      "metadata": {
        "id": "xORVskdJ271o"
      },
      "execution_count": null,
      "outputs": []
    },
    {
      "cell_type": "code",
      "source": [
        "#df_rinna_ts = df_rinna_ts.drop([\"text_len\",\"Unnamed: 0\",\"odai_photo_file_name\",\"id\",\"text\"], axis=1)"
      ],
      "metadata": {
        "id": "fsv-w7TZ271o"
      },
      "execution_count": null,
      "outputs": []
    },
    {
      "cell_type": "code",
      "source": [
        "#df_2_tr = pd.concat([df_efb2_tr,df_rinna_tr],axis=1)\n",
        "#df_2_ts = pd.concat([df_efb2_tr,df_rinna_ts],axis=1)"
      ],
      "metadata": {
        "id": "6wp7yl9u271o"
      },
      "execution_count": null,
      "outputs": []
    },
    {
      "cell_type": "code",
      "source": [
        "#df_2_tr.to_csv(\"/content/drive/MyDrive/nishika/output/train_efb2_rinnabase.csv\")\n",
        "#df_2_ts.to_csv(\"/content/drive/MyDrive/nishika/output/test_efb2_rinnabase.csv\")"
      ],
      "metadata": {
        "id": "78Rw2YUAMRSC"
      },
      "execution_count": null,
      "outputs": []
    },
    {
      "cell_type": "code",
      "source": [
        "df_2_tr = pd.read_csv(\"/content/drive/MyDrive/nishika/output/train_efb2_rinnabase.csv\")\n",
        "df_2_ts = pd.read_csv(\"/content/drive/MyDrive/nishika/output/test_efb2_rinnabase.csv\")"
      ],
      "metadata": {
        "id": "avW-2jWc1k_7"
      },
      "execution_count": null,
      "outputs": []
    },
    {
      "cell_type": "code",
      "source": [
        "#df_2_tr = df_2_tr.drop(df_2_tr.columns[0:352], axis=1)"
      ],
      "metadata": {
        "id": "LRsTYeJzwDFm"
      },
      "execution_count": null,
      "outputs": []
    },
    {
      "cell_type": "code",
      "source": [
        "#df_2_ts = df_2_ts.drop(df_2_ts.columns[0:352], axis=1)"
      ],
      "metadata": {
        "id": "Uq5ntOLBxXsF"
      },
      "execution_count": null,
      "outputs": []
    },
    {
      "cell_type": "code",
      "source": [
        "#df_vb256_tr = pd.read_csv(\"content/drive/MyDrive/nishika/embeded/embedding_train_image_SwinTransformerV2Base256\")\n",
        "#df_vb256_ts = pd.read_csv(\"content/drive/MyDrive/nishika/embeded/embedding_test_image_SwinTransformerV2Base256\")"
      ],
      "metadata": {
        "id": "Xu5vewYd5iR8"
      },
      "execution_count": null,
      "outputs": []
    },
    {
      "cell_type": "code",
      "source": [
        "#df_vb256_tr = df_vb256_tr.drop([\"text_len\",\"Unnamed: 0\",\"odai_photo_file_name\",\"is_laugh\",\"id\",\"text\"], axis=1)"
      ],
      "metadata": {
        "id": "kMffGwTm5iR9"
      },
      "execution_count": null,
      "outputs": []
    },
    {
      "cell_type": "code",
      "source": [
        "#df_vb256_ts = df_vb256_ts.drop([\"text_len\",\"Unnamed: 0\",\"odai_photo_file_name\",\"id\",\"text\"], axis=1)"
      ],
      "metadata": {
        "id": "o23SzPb55iR9"
      },
      "execution_count": null,
      "outputs": []
    },
    {
      "cell_type": "code",
      "source": [
        "#df_g510_tr = pd.read_csv(\"content/drive/MyDrive/nishika/embeded/embedding_train_text_ginza510_electra\")\n",
        "#df_g510_ts = pd.read_csv(\"content/drive/MyDrive/nishika/embeded/embedding_test_text_ginza510_electra\")"
      ],
      "metadata": {
        "id": "g3zuZXG05iR9"
      },
      "execution_count": null,
      "outputs": []
    },
    {
      "cell_type": "code",
      "source": [
        "#df_g510_tr = df_g510_tr.drop([\"text_len\",\"Unnamed: 0\",\"odai_photo_file_name\",\"is_laugh\",\"id\",\"text\"], axis=1)"
      ],
      "metadata": {
        "id": "hWekrRts5iR-"
      },
      "execution_count": null,
      "outputs": []
    },
    {
      "cell_type": "code",
      "source": [
        "#df_g510_ts = df_g510_ts.drop([\"text_len\",\"Unnamed: 0\",\"odai_photo_file_name\",\"id\",\"text\"], axis=1)"
      ],
      "metadata": {
        "id": "HjD9135i5iR-"
      },
      "execution_count": null,
      "outputs": []
    },
    {
      "cell_type": "code",
      "source": [
        "#df_3_tr = pd.concat([df_vb256_tr,df_g510_tr],axis=1)\n",
        "#df_3_ts = pd.concat([df_vb256_ts,df_g510_ts],axis=1)"
      ],
      "metadata": {
        "id": "IM4vmqqc5iR-"
      },
      "execution_count": null,
      "outputs": []
    },
    {
      "cell_type": "code",
      "source": [
        "#df_3_tr.to_csv(\"/content/drive/MyDrive/nishika/output/train_swinv2base256_ginza510electra.csv\")\n",
        "#df_3_ts.to_csv(\"/content/drive/MyDrive/nishika/output/test_swinv2base256_ginza510electra.csv\")"
      ],
      "metadata": {
        "id": "pwCfOZRvMbj7"
      },
      "execution_count": null,
      "outputs": []
    },
    {
      "cell_type": "code",
      "source": [
        "df_3_tr = pd.read_csv(\"/content/drive/MyDrive/nishika/output/train_swinv2base256_ginza510electra.csv\")\n",
        "df_3_ts = pd.read_csv(\"/content/drive/MyDrive/nishika/output/test_swinv2base256_ginza510electra.csv\")"
      ],
      "metadata": {
        "id": "uab1mkuhx3_E"
      },
      "execution_count": null,
      "outputs": []
    },
    {
      "cell_type": "code",
      "source": [
        "#df_efv2b2_tr = pd.read_csv(\"content/drive/MyDrive/nishika/embeded/embedding_train_image_EfficientNetV2B2\")\n",
        "#df_efv2b2_ts = pd.read_csv(\"content/drive/MyDrive/nishika/embeded/embedding_test_image_EfficientNetV2B2\")"
      ],
      "metadata": {
        "id": "Uvr2MtFOB8W4"
      },
      "execution_count": null,
      "outputs": []
    },
    {
      "cell_type": "code",
      "source": [
        "#df_efv2b2_tr = df_efv2b2_tr.drop([\"text_len\",\"Unnamed: 0\",\"odai_photo_file_name\",\"is_laugh\",\"id\",\"text\"], axis=1)"
      ],
      "metadata": {
        "id": "jGo80VNsB8W5"
      },
      "execution_count": null,
      "outputs": []
    },
    {
      "cell_type": "code",
      "source": [
        "#df_efv2b2_ts = df_efv2b2_ts.drop([\"text_len\",\"Unnamed: 0\",\"odai_photo_file_name\",\"id\",\"text\"], axis=1)"
      ],
      "metadata": {
        "id": "h5jri2dGB8W5"
      },
      "execution_count": null,
      "outputs": []
    },
    {
      "cell_type": "code",
      "source": [
        "#df_jaginza_tr = pd.read_csv(\"content/drive/MyDrive/nishika/embeded/embedding_train_text_ja_ginza\")\n",
        "#df_jaginza_ts = pd.read_csv(\"content/drive/MyDrive/nishika/embeded/embedding_test_text_ja_ginza\")"
      ],
      "metadata": {
        "id": "30W3fPd8B8W5"
      },
      "execution_count": null,
      "outputs": []
    },
    {
      "cell_type": "code",
      "source": [
        "#df_jaginza_tr = df_jaginza_tr.drop([\"text_len\",\"Unnamed: 0\",\"odai_photo_file_name\",\"is_laugh\",\"id\",\"text\"], axis=1)"
      ],
      "metadata": {
        "id": "KlLzwvcRB8W6"
      },
      "execution_count": null,
      "outputs": []
    },
    {
      "cell_type": "code",
      "source": [
        "#df_jaginza_ts = df_jaginza_ts.drop([\"text_len\",\"Unnamed: 0\",\"odai_photo_file_name\",\"id\",\"text\"], axis=1)"
      ],
      "metadata": {
        "id": "3NXeWl6AB8W6"
      },
      "execution_count": null,
      "outputs": []
    },
    {
      "cell_type": "code",
      "source": [
        "#df_4_tr = pd.concat([df_efv2b2_tr,df_jaginza_tr],axis=1)\n",
        "#df_4_ts = pd.concat([df_efv2b2_ts,df_jaginza_ts],axis=1)            "
      ],
      "metadata": {
        "id": "oDJd8DlaB8W6"
      },
      "execution_count": null,
      "outputs": []
    },
    {
      "cell_type": "code",
      "source": [
        "#df_4_tr.to_csv(\"/content/drive/MyDrive/nishika/output/train_efv2b2_resnet152_jaginza.csv\")\n",
        "#df_4_ts.to_csv(\"/content/drive/MyDrive/nishika/output/test_efv2b2_resnet152_jaginza.csv\")"
      ],
      "metadata": {
        "id": "cbh8HrFjMhFy"
      },
      "execution_count": null,
      "outputs": []
    },
    {
      "cell_type": "code",
      "source": [
        "df_4_tr = pd.read_csv(\"/content/drive/MyDrive/nishika/output/train_efv2b2_resnet152_jaginza.csv\")\n",
        "df_4_ts = pd.read_csv(\"/content/drive/MyDrive/nishika/output/test_efv2b2_resnet152_jaginza.csv\")"
      ],
      "metadata": {
        "id": "lhNoCqtNyxO8"
      },
      "execution_count": null,
      "outputs": []
    },
    {
      "cell_type": "code",
      "source": [
        "df_4_tr = df_4_tr.drop(df_4_tr.columns[0:865], axis=1)"
      ],
      "metadata": {
        "id": "lCXdu3heyCTl"
      },
      "execution_count": null,
      "outputs": []
    },
    {
      "cell_type": "code",
      "source": [
        "df_4_ts = df_4_ts.drop(df_4_ts.columns[0:865], axis=1)"
      ],
      "metadata": {
        "id": "Fi4jGqvFyY-i"
      },
      "execution_count": null,
      "outputs": []
    },
    {
      "cell_type": "code",
      "source": [
        "\n",
        "df_tmp_tr_1 = pd.concat([df_1_tr,df_2_tr],axis=1)\n",
        "df_tmp_ts_1 = pd.concat([df_1_ts,df_2_ts],axis=1)"
      ],
      "metadata": {
        "id": "K800xzjLXruQ"
      },
      "execution_count": null,
      "outputs": []
    },
    {
      "cell_type": "code",
      "source": [
        "\n",
        "df_tmp_tr_2 = pd.concat([df_tmp_tr_1,df_3_tr],axis=1)\n",
        "#df_tmp_tr_2 = pd.concat([df_1_tr,df_3_tr],axis=1)\n",
        "df_tmp_ts_2 = pd.concat([df_tmp_ts_1,df_3_ts],axis=1)\n",
        "#df_tmp_ts_2 = pd.concat([df_1_ts,df_3_ts],axis=1)"
      ],
      "metadata": {
        "id": "wxk4xwOSz-Mx"
      },
      "execution_count": null,
      "outputs": []
    },
    {
      "cell_type": "code",
      "source": [
        "\n",
        "df_tmp_tr_3 = pd.concat([df_tmp_tr_2,df_4_tr],axis=1)\n",
        "df_tmp_ts_3 = pd.concat([df_tmp_ts_2,df_4_ts],axis=1)"
      ],
      "metadata": {
        "id": "mkGpKte_0IWs"
      },
      "execution_count": null,
      "outputs": []
    },
    {
      "cell_type": "code",
      "source": [
        "train_tmp = df_tmp_tr_3.drop([\"is_laugh\",\"odai_photo_file_name\"], axis=1)"
      ],
      "metadata": {
        "id": "vQmbLHBL4iz7"
      },
      "execution_count": null,
      "outputs": []
    },
    {
      "cell_type": "code",
      "source": [
        "test_tmp = df_tmp_ts_3.drop([\"odai_photo_file_name\"], axis=1)"
      ],
      "metadata": {
        "id": "rhzVwDqM6tzl"
      },
      "execution_count": null,
      "outputs": []
    },
    {
      "cell_type": "code",
      "source": [
        "#tr_van = pd.read_csv('/content/drive/MyDrive/nishika/embeded/embedding_train_image_VanLarge.csv')"
      ],
      "metadata": {
        "id": "mpAJ-LgTwZco"
      },
      "execution_count": null,
      "outputs": []
    },
    {
      "cell_type": "code",
      "source": [
        "#ts_van = pd.read_csv('/content/drive/MyDrive/nishika/embeded/embedding_test_image_VanLarge.csv')"
      ],
      "metadata": {
        "id": "xmWWjI00xqho"
      },
      "execution_count": null,
      "outputs": []
    },
    {
      "cell_type": "code",
      "source": [
        "#tr_van = tr_van.drop([\"text_len\",\"Unnamed: 0\",\"odai_photo_file_name\",\"is_laugh\",\"id\",\"text\"], axis=1)"
      ],
      "metadata": {
        "id": "XPxwQgEtxvVy"
      },
      "execution_count": null,
      "outputs": []
    },
    {
      "cell_type": "code",
      "source": [
        "#ts_van = ts_van.drop([\"text_len\",\"Unnamed: 0\",\"odai_photo_file_name\",\"id\",\"text\"], axis=1)"
      ],
      "metadata": {
        "id": "Y9RHCWlox9hH"
      },
      "execution_count": null,
      "outputs": []
    },
    {
      "cell_type": "code",
      "source": [
        "#tr_tmp_df = pd.concat([train_tmp,tr_van],axis=1)\n",
        "#ts_tmp_df = pd.concat([test_tmp,ts_van],axis=1)"
      ],
      "metadata": {
        "id": "IenolyeLyEDB"
      },
      "execution_count": null,
      "outputs": []
    },
    {
      "cell_type": "code",
      "source": [
        "tr_long = pd.read_csv('/content/drive/MyDrive/nishika/embeded/embedding_train_text_long_roberata.csv')"
      ],
      "metadata": {
        "id": "tDY9AXTpzBOi"
      },
      "execution_count": null,
      "outputs": []
    },
    {
      "cell_type": "code",
      "source": [
        "ts_long = pd.read_csv('/content/drive/MyDrive/nishika/embeded/embedding_test_text_long_roberta.csv')"
      ],
      "metadata": {
        "id": "hTzhwKcTzDYz"
      },
      "execution_count": null,
      "outputs": []
    },
    {
      "cell_type": "code",
      "source": [
        "tr_long = tr_long.drop([\"text_len\",\"Unnamed: 0\",\"odai_photo_file_name\",\"is_laugh\",\"id\",\"text\"], axis=1)"
      ],
      "metadata": {
        "id": "wGyAdcC_zFhy"
      },
      "execution_count": null,
      "outputs": []
    },
    {
      "cell_type": "code",
      "source": [
        "ts_long = ts_long.drop([\"text_len\",\"Unnamed: 0\",\"odai_photo_file_name\",\"id\",\"text\"], axis=1)"
      ],
      "metadata": {
        "id": "LYeHWtjuzHGC"
      },
      "execution_count": null,
      "outputs": []
    },
    {
      "cell_type": "code",
      "source": [
        "tr_tmp2_df = pd.concat([train_tmp,tr_long],axis=1)\n",
        "ts_tmp2_df = pd.concat([test_tmp,ts_long],axis=1)"
      ],
      "metadata": {
        "id": "mHfiuoDazc7J"
      },
      "execution_count": null,
      "outputs": []
    },
    {
      "cell_type": "code",
      "source": [
        "train = pd.concat([tr_tmp2_df,train_df],axis=1)\n",
        "test = pd.concat([ts_tmp2_df,test_df],axis=1)"
      ],
      "metadata": {
        "id": "8uyAJR3pBtnb"
      },
      "execution_count": null,
      "outputs": []
    },
    {
      "cell_type": "code",
      "source": [
        "train[\"text_len\"] = train[\"text\"].str.len()\n",
        "test[\"text_len\"] = test[\"text\"].str.len()"
      ],
      "metadata": {
        "id": "vJR4VirHJcB7"
      },
      "execution_count": null,
      "outputs": []
    },
    {
      "cell_type": "code",
      "source": [
        "y = train[\"is_laugh\"]\n",
        "X = train.drop([\"odai_photo_file_name\",\"is_laugh\",\"id\",\"text\"], axis=1)\n",
        "\n",
        "X_test = test.drop([\"odai_photo_file_name\",\"id\",\"text\"], axis=1)"
      ],
      "metadata": {
        "id": "0pInRB316fFo"
      },
      "execution_count": null,
      "outputs": []
    },
    {
      "cell_type": "code",
      "source": [
        "\n",
        "X = X.T.drop_duplicates().T\n",
        "X_test = X_test.T.drop_duplicates().T \n"
      ],
      "metadata": {
        "id": "0oRUq7LEDj4X"
      },
      "execution_count": null,
      "outputs": []
    },
    {
      "cell_type": "code",
      "source": [
        "from sklearn.model_selection import KFold\n",
        "kf = KFold(n_splits=5, shuffle=True, random_state=42)"
      ],
      "metadata": {
        "id": "FEtUwC7xUwDi"
      },
      "execution_count": null,
      "outputs": []
    },
    {
      "cell_type": "code",
      "source": [
        "params = {  \n",
        "    \"n_estimators\": 20000,\n",
        "    \"objective\": 'binary',\n",
        "    \"learning_rate\": 0.01,\n",
        "    'lambda_l1': 8.553323365580143, \n",
        "    'lambda_l2': 0.00024389221237366783, \n",
        "    'num_leaves': 240, \n",
        "    'feature_fraction': 0.6839999999999999, \n",
        "    'bagging_fraction': 0.6378550454605715, \n",
        "    'bagging_freq': 1,\n",
        "    \"random_state\": 71,\n",
        "    \"n_jobs\": -1,\n",
        "    \"importance_type\": \"gain\",\n",
        "    'colsample_bytree': .8,\n",
        "    \"reg_lambda\": 5,\n",
        "    \"max_depth\":9,\n",
        "    'min_child_samples': 20\n",
        "    }"
      ],
      "metadata": {
        "id": "ohvH_IfQY8c7"
      },
      "execution_count": null,
      "outputs": []
    },
    {
      "cell_type": "code",
      "source": [
        "# 予測値を格納するdf\n",
        "# df to store the predicted value\n",
        "preds_lgb = pd.DataFrame()\n",
        "\n",
        "for k, (tr_id, vl_id) in enumerate(kf.split(X, y)):\n",
        "    print(\"=\"*50)\n",
        "    print(f\"               KFold{k+1}\")\n",
        "    print(\"=\"*50)\n",
        "    \n",
        "    X_train, X_val = X.iloc[tr_id, :], X.iloc[vl_id, :]\n",
        "    y_train, y_val = y.iloc[tr_id], y.iloc[vl_id]\n",
        "    \n",
        "    lgb_train = lgb.Dataset(X_train, y_train)\n",
        "    lgb_val = lgb.Dataset(X_val, y_val)\n",
        "    \n",
        "    model_lgb = lgb.train(params=params,\n",
        "                          train_set=lgb_train,\n",
        "                          valid_sets=lgb_val,\n",
        "                          num_boost_round=100000,\n",
        "                          early_stopping_rounds=200,\n",
        "                          verbose_eval=1000)\n",
        "    \n",
        "    pred_lgb = model_lgb.predict(X_test, num_iteration=model_lgb.best_iteration)\n",
        "    pred_lgb = pd.DataFrame(pred_lgb)\n",
        "    \n",
        "    # 予測値を横に連結していく\n",
        "    # Concatenate the predictions horizontally\n",
        "    preds_lgb = pd.concat([preds_lgb, pred_lgb], axis=1)"
      ],
      "metadata": {
        "id": "IJE1fWmTW0rx"
      },
      "execution_count": null,
      "outputs": []
    },
    {
      "cell_type": "code",
      "source": [
        "preds_lgb"
      ],
      "metadata": {
        "id": "V-GBI5gTY_hV"
      },
      "execution_count": null,
      "outputs": []
    },
    {
      "cell_type": "code",
      "source": [
        "label = preds_lgb.mean(axis=1)\n",
        "label"
      ],
      "metadata": {
        "id": "yZwvzPurZBtr"
      },
      "execution_count": null,
      "outputs": []
    },
    {
      "cell_type": "code",
      "source": [
        "# 特徴量の重要度を可視化。\n",
        "lgb.plot_importance(model_lgb, figsize=(18,18), max_num_features=100, importance_type='gain')\n",
        "plt.tight_layout()\n",
        "plt.show()"
      ],
      "metadata": {
        "id": "_B-vRZbrNhtE"
      },
      "execution_count": null,
      "outputs": []
    },
    {
      "cell_type": "code",
      "source": [
        "submission_df[\"is_laugh\"] = label\n",
        "\n",
        "submission_df.head()"
      ],
      "metadata": {
        "colab": {
          "base_uri": "https://localhost:8080/"
        },
        "id": "jCsmWtuOaXti",
        "outputId": "7fa76bb7-200d-4418-a11e-4b82bb2e1536"
      },
      "execution_count": null,
      "outputs": [
        {
          "output_type": "execute_result",
          "data": {
            "text/plain": [
              "          id  is_laugh\n",
              "0  rfdjcfsqq  0.424958\n",
              "1  tsgqmfpef  0.403522\n",
              "2  owjcthkz2  0.327007\n",
              "3  rvgaocjyy  0.407383\n",
              "4  uxtwu5i69  0.826344"
            ],
            "text/html": [
              "\n",
              "  <div id=\"df-2f7ef465-ea51-452a-9e54-f574f9ef6a8c\">\n",
              "    <div class=\"colab-df-container\">\n",
              "      <div>\n",
              "<style scoped>\n",
              "    .dataframe tbody tr th:only-of-type {\n",
              "        vertical-align: middle;\n",
              "    }\n",
              "\n",
              "    .dataframe tbody tr th {\n",
              "        vertical-align: top;\n",
              "    }\n",
              "\n",
              "    .dataframe thead th {\n",
              "        text-align: right;\n",
              "    }\n",
              "</style>\n",
              "<table border=\"1\" class=\"dataframe\">\n",
              "  <thead>\n",
              "    <tr style=\"text-align: right;\">\n",
              "      <th></th>\n",
              "      <th>id</th>\n",
              "      <th>is_laugh</th>\n",
              "    </tr>\n",
              "  </thead>\n",
              "  <tbody>\n",
              "    <tr>\n",
              "      <th>0</th>\n",
              "      <td>rfdjcfsqq</td>\n",
              "      <td>0.424958</td>\n",
              "    </tr>\n",
              "    <tr>\n",
              "      <th>1</th>\n",
              "      <td>tsgqmfpef</td>\n",
              "      <td>0.403522</td>\n",
              "    </tr>\n",
              "    <tr>\n",
              "      <th>2</th>\n",
              "      <td>owjcthkz2</td>\n",
              "      <td>0.327007</td>\n",
              "    </tr>\n",
              "    <tr>\n",
              "      <th>3</th>\n",
              "      <td>rvgaocjyy</td>\n",
              "      <td>0.407383</td>\n",
              "    </tr>\n",
              "    <tr>\n",
              "      <th>4</th>\n",
              "      <td>uxtwu5i69</td>\n",
              "      <td>0.826344</td>\n",
              "    </tr>\n",
              "  </tbody>\n",
              "</table>\n",
              "</div>\n",
              "      <button class=\"colab-df-convert\" onclick=\"convertToInteractive('df-2f7ef465-ea51-452a-9e54-f574f9ef6a8c')\"\n",
              "              title=\"Convert this dataframe to an interactive table.\"\n",
              "              style=\"display:none;\">\n",
              "        \n",
              "  <svg xmlns=\"http://www.w3.org/2000/svg\" height=\"24px\"viewBox=\"0 0 24 24\"\n",
              "       width=\"24px\">\n",
              "    <path d=\"M0 0h24v24H0V0z\" fill=\"none\"/>\n",
              "    <path d=\"M18.56 5.44l.94 2.06.94-2.06 2.06-.94-2.06-.94-.94-2.06-.94 2.06-2.06.94zm-11 1L8.5 8.5l.94-2.06 2.06-.94-2.06-.94L8.5 2.5l-.94 2.06-2.06.94zm10 10l.94 2.06.94-2.06 2.06-.94-2.06-.94-.94-2.06-.94 2.06-2.06.94z\"/><path d=\"M17.41 7.96l-1.37-1.37c-.4-.4-.92-.59-1.43-.59-.52 0-1.04.2-1.43.59L10.3 9.45l-7.72 7.72c-.78.78-.78 2.05 0 2.83L4 21.41c.39.39.9.59 1.41.59.51 0 1.02-.2 1.41-.59l7.78-7.78 2.81-2.81c.8-.78.8-2.07 0-2.86zM5.41 20L4 18.59l7.72-7.72 1.47 1.35L5.41 20z\"/>\n",
              "  </svg>\n",
              "      </button>\n",
              "      \n",
              "  <style>\n",
              "    .colab-df-container {\n",
              "      display:flex;\n",
              "      flex-wrap:wrap;\n",
              "      gap: 12px;\n",
              "    }\n",
              "\n",
              "    .colab-df-convert {\n",
              "      background-color: #E8F0FE;\n",
              "      border: none;\n",
              "      border-radius: 50%;\n",
              "      cursor: pointer;\n",
              "      display: none;\n",
              "      fill: #1967D2;\n",
              "      height: 32px;\n",
              "      padding: 0 0 0 0;\n",
              "      width: 32px;\n",
              "    }\n",
              "\n",
              "    .colab-df-convert:hover {\n",
              "      background-color: #E2EBFA;\n",
              "      box-shadow: 0px 1px 2px rgba(60, 64, 67, 0.3), 0px 1px 3px 1px rgba(60, 64, 67, 0.15);\n",
              "      fill: #174EA6;\n",
              "    }\n",
              "\n",
              "    [theme=dark] .colab-df-convert {\n",
              "      background-color: #3B4455;\n",
              "      fill: #D2E3FC;\n",
              "    }\n",
              "\n",
              "    [theme=dark] .colab-df-convert:hover {\n",
              "      background-color: #434B5C;\n",
              "      box-shadow: 0px 1px 3px 1px rgba(0, 0, 0, 0.15);\n",
              "      filter: drop-shadow(0px 1px 2px rgba(0, 0, 0, 0.3));\n",
              "      fill: #FFFFFF;\n",
              "    }\n",
              "  </style>\n",
              "\n",
              "      <script>\n",
              "        const buttonEl =\n",
              "          document.querySelector('#df-2f7ef465-ea51-452a-9e54-f574f9ef6a8c button.colab-df-convert');\n",
              "        buttonEl.style.display =\n",
              "          google.colab.kernel.accessAllowed ? 'block' : 'none';\n",
              "\n",
              "        async function convertToInteractive(key) {\n",
              "          const element = document.querySelector('#df-2f7ef465-ea51-452a-9e54-f574f9ef6a8c');\n",
              "          const dataTable =\n",
              "            await google.colab.kernel.invokeFunction('convertToInteractive',\n",
              "                                                     [key], {});\n",
              "          if (!dataTable) return;\n",
              "\n",
              "          const docLinkHtml = 'Like what you see? Visit the ' +\n",
              "            '<a target=\"_blank\" href=https://colab.research.google.com/notebooks/data_table.ipynb>data table notebook</a>'\n",
              "            + ' to learn more about interactive tables.';\n",
              "          element.innerHTML = '';\n",
              "          dataTable['output_type'] = 'display_data';\n",
              "          await google.colab.output.renderOutput(dataTable, element);\n",
              "          const docLink = document.createElement('div');\n",
              "          docLink.innerHTML = docLinkHtml;\n",
              "          element.appendChild(docLink);\n",
              "        }\n",
              "      </script>\n",
              "    </div>\n",
              "  </div>\n",
              "  "
            ]
          },
          "metadata": {},
          "execution_count": 41
        }
      ]
    },
    {
      "cell_type": "code",
      "source": [
        "submission_df.to_csv(('/content/drive/MyDrive/nishika/sub.csv'), index=False)"
      ],
      "metadata": {
        "id": "wV2NPdgBEYM2"
      },
      "execution_count": null,
      "outputs": []
    }
  ]
}