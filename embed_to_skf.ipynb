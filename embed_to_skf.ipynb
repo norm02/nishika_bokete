{
  "nbformat": 4,
  "nbformat_minor": 0,
  "metadata": {
    "colab": {
      "provenance": [],
      "collapsed_sections": [],
      "machine_shape": "hm"
    },
    "kernelspec": {
      "name": "python3",
      "display_name": "Python 3"
    },
    "language_info": {
      "name": "python"
    },
    "gpuClass": "standard"
  },
  "cells": [
    {
      "cell_type": "code",
      "source": [
        "#!conda install -c conda-forge lightgbm\n",
        "#!pip install optuna"
      ],
      "metadata": {
        "id": "4h8_aU6mgeJV"
      },
      "execution_count": 1,
      "outputs": []
    },
    {
      "cell_type": "code",
      "source": [
        "from google.colab import drive\n",
        "drive.mount('/content/drive')"
      ],
      "metadata": {
        "colab": {
          "base_uri": "https://localhost:8080/"
        },
        "id": "XbQRd4jUUS1V",
        "outputId": "f260b30a-f6ef-4740-8a47-42ae40bfc5ca"
      },
      "execution_count": 2,
      "outputs": [
        {
          "output_type": "stream",
          "name": "stdout",
          "text": [
            "Mounted at /content/drive\n"
          ]
        }
      ]
    },
    {
      "cell_type": "code",
      "source": [
        "import pandas as pd\n",
        "import numpy as np\n",
        "import matplotlib.pyplot as plt\n",
        "import seaborn as sns\n",
        "\n",
        "from sklearn.metrics import mean_squared_error\n",
        "from sklearn.metrics import log_loss\n",
        "from sklearn.model_selection import StratifiedKFold, KFold\n",
        "from sklearn.model_selection import train_test_split\n",
        "from sklearn.metrics import confusion_matrix\n",
        "\n",
        "import sys\n",
        "import os\n",
        "import re\n",
        "import random\n",
        "\n",
        "from time import time\n",
        "from tqdm import tqdm\n",
        "\n",
        "from contextlib import contextmanager\n",
        "import lightgbm as lgb\n",
        "#import optuna.integration.lightgbm as opt_lgb"
      ],
      "metadata": {
        "id": "XEm9k6tUTlsG"
      },
      "execution_count": 3,
      "outputs": []
    },
    {
      "cell_type": "code",
      "source": [
        "#上限表示数を拡張\n",
        "pd.set_option('display.max_columns', 10000)\n",
        "pd.set_option('display.max_rows', 200)"
      ],
      "metadata": {
        "id": "zPmPFgPYAfU-"
      },
      "execution_count": 4,
      "outputs": []
    },
    {
      "cell_type": "code",
      "source": [
        "def seed_everything(seed=1234):\n",
        "    random.seed(seed)\n",
        "    os.environ['PYTHONHASHSEED'] = str(seed)\n",
        "    np.random.seed(seed)\n",
        "\n",
        "seed_everything(42)"
      ],
      "metadata": {
        "id": "EkuBal2iT4tu"
      },
      "execution_count": 5,
      "outputs": []
    },
    {
      "cell_type": "code",
      "source": [
        "INPUT = \"/content/drive/MyDrive/nishika/\" # 所望のディレクトリに変更してください。\n",
        "train_df = pd.read_csv(os.path.join(INPUT, \"train.csv\"))\n",
        "test_df = pd.read_csv(os.path.join(INPUT, \"test.csv\"))\n",
        "submission_df = pd.read_csv(os.path.join(INPUT, \"sample_submission.csv\"))"
      ],
      "metadata": {
        "id": "abkOSTBkUAuu"
      },
      "execution_count": 6,
      "outputs": []
    },
    {
      "cell_type": "code",
      "source": [
        "df_1_tr = pd.read_csv(\"/content/drive/MyDrive/nishika/output/train_SwinTransformerLarge384_V2Large256.csv\")\n",
        "df_1_ts = pd.read_csv(\"/content/drive/MyDrive/nishika/output/test_SwinTransformerLarge384_V2Large256.csv\")"
      ],
      "metadata": {
        "id": "9e1mBWuNUhEF"
      },
      "execution_count": 7,
      "outputs": []
    },
    {
      "cell_type": "code",
      "source": [
        "df_2_tr = pd.read_csv(\"/content/drive/MyDrive/nishika/output/train_efb2_rinnabase.csv\")\n",
        "df_2_ts = pd.read_csv(\"/content/drive/MyDrive/nishika/output/test_efb2_rinnabase.csv\")"
      ],
      "metadata": {
        "id": "avW-2jWc1k_7"
      },
      "execution_count": 8,
      "outputs": []
    },
    {
      "cell_type": "code",
      "source": [
        "df_2_tr = df_2_tr.drop(df_2_tr.columns[0:352], axis=1)"
      ],
      "metadata": {
        "id": "LRsTYeJzwDFm"
      },
      "execution_count": 9,
      "outputs": []
    },
    {
      "cell_type": "code",
      "source": [
        "df_2_ts = df_2_ts.drop(df_2_ts.columns[0:352], axis=1)"
      ],
      "metadata": {
        "id": "Uq5ntOLBxXsF"
      },
      "execution_count": 10,
      "outputs": []
    },
    {
      "cell_type": "code",
      "source": [
        "df_3_tr = pd.read_csv(\"/content/drive/MyDrive/nishika/output/train_swinv2base256_ginza510electra.csv\")\n",
        "df_3_ts = pd.read_csv(\"/content/drive/MyDrive/nishika/output/test_swinv2base256_ginza510electra.csv\")"
      ],
      "metadata": {
        "id": "uab1mkuhx3_E"
      },
      "execution_count": 11,
      "outputs": []
    },
    {
      "cell_type": "code",
      "source": [
        "df_4_tr = pd.read_csv(\"/content/drive/MyDrive/nishika/output/train_efv2b2_resnet152_jaginza.csv\")\n",
        "df_4_ts = pd.read_csv(\"/content/drive/MyDrive/nishika/output/test_efv2b2_resnet152_jaginza.csv\")"
      ],
      "metadata": {
        "id": "lhNoCqtNyxO8"
      },
      "execution_count": 12,
      "outputs": []
    },
    {
      "cell_type": "code",
      "source": [
        "df_4_tr = df_4_tr.drop(df_4_tr.columns[0:865], axis=1)"
      ],
      "metadata": {
        "id": "lCXdu3heyCTl"
      },
      "execution_count": 13,
      "outputs": []
    },
    {
      "cell_type": "code",
      "source": [
        "df_4_ts = df_4_ts.drop(df_4_ts.columns[0:865], axis=1)"
      ],
      "metadata": {
        "id": "Fi4jGqvFyY-i"
      },
      "execution_count": 14,
      "outputs": []
    },
    {
      "cell_type": "code",
      "source": [
        "#swinL384,swinV2L256,Roberta-text,efb2\n",
        "df_tmp_tr_1 = pd.concat([df_1_tr,df_2_tr],axis=1)\n",
        "df_tmp_ts_1 = pd.concat([df_1_ts,df_2_ts],axis=1)"
      ],
      "metadata": {
        "id": "K800xzjLXruQ"
      },
      "execution_count": 15,
      "outputs": []
    },
    {
      "cell_type": "code",
      "source": [
        "#ginza510-electra-base-text,swinv2base256\n",
        "df_tmp_tr_2 = pd.concat([df_tmp_tr_1,df_3_tr],axis=1)\n",
        "#df_tmp_tr_2 = pd.concat([df_1_tr,df_3_tr],axis=1)\n",
        "df_tmp_ts_2 = pd.concat([df_tmp_ts_1,df_3_ts],axis=1)\n",
        "#df_tmp_ts_2 = pd.concat([df_1_ts,df_3_ts],axis=1)"
      ],
      "metadata": {
        "id": "wxk4xwOSz-Mx"
      },
      "execution_count": 16,
      "outputs": []
    },
    {
      "cell_type": "code",
      "source": [
        "#efficientnetv2b2,resnet152,jaginza(ginza_electra_text)\n",
        "df_tmp_tr_3 = pd.concat([df_tmp_tr_2,df_4_tr],axis=1)\n",
        "df_tmp_ts_3 = pd.concat([df_tmp_ts_2,df_4_ts],axis=1)"
      ],
      "metadata": {
        "id": "mkGpKte_0IWs"
      },
      "execution_count": 17,
      "outputs": []
    },
    {
      "cell_type": "code",
      "source": [
        "train_tmp = df_tmp_tr_3.drop([\"is_laugh\",\"odai_photo_file_name\"], axis=1)"
      ],
      "metadata": {
        "id": "vQmbLHBL4iz7"
      },
      "execution_count": 18,
      "outputs": []
    },
    {
      "cell_type": "code",
      "source": [
        "test_tmp = df_tmp_ts_3.drop([\"odai_photo_file_name\"], axis=1)"
      ],
      "metadata": {
        "id": "rhzVwDqM6tzl"
      },
      "execution_count": 19,
      "outputs": []
    },
    {
      "cell_type": "code",
      "source": [
        "train = pd.concat([train_tmp,train_df],axis=1)\n",
        "test = pd.concat([test_tmp,test_df],axis=1)"
      ],
      "metadata": {
        "id": "8uyAJR3pBtnb"
      },
      "execution_count": 20,
      "outputs": []
    },
    {
      "cell_type": "code",
      "source": [
        "train[\"text_len\"] = train[\"text\"].str.len()\n",
        "test[\"text_len\"] = test[\"text\"].str.len()"
      ],
      "metadata": {
        "id": "vJR4VirHJcB7"
      },
      "execution_count": 21,
      "outputs": []
    },
    {
      "cell_type": "code",
      "source": [
        "y = train[\"is_laugh\"]\n",
        "X = train.drop([\"odai_photo_file_name\",\"is_laugh\",\"id\",\"text\"], axis=1)\n",
        "\n",
        "X_test = test.drop([\"odai_photo_file_name\",\"id\",\"text\"], axis=1)"
      ],
      "metadata": {
        "id": "0pInRB316fFo"
      },
      "execution_count": 22,
      "outputs": []
    },
    {
      "cell_type": "code",
      "source": [
        "\n",
        "X = X.T.drop_duplicates().T\n",
        "X_test = X_test.T.drop_duplicates().T \n"
      ],
      "metadata": {
        "id": "0oRUq7LEDj4X"
      },
      "execution_count": null,
      "outputs": []
    },
    {
      "cell_type": "markdown",
      "source": [
        "# Model"
      ],
      "metadata": {
        "id": "jtw_IUp87-HP"
      }
    },
    {
      "cell_type": "code",
      "source": [
        "from sklearn.model_selection import KFold\n",
        "kf = KFold(n_splits=5, shuffle=True, random_state=42)"
      ],
      "metadata": {
        "id": "FEtUwC7xUwDi"
      },
      "execution_count": null,
      "outputs": []
    },
    {
      "cell_type": "code",
      "source": [
        "params = {  \n",
        "    \"n_estimators\": 20000,\n",
        "    \"objective\": 'binary',\n",
        "    \"learning_rate\": 0.01,\n",
        "    'lambda_l1': 8.553323365580143, \n",
        "    'lambda_l2': 0.00024389221237366783, \n",
        "    'num_leaves': 240, \n",
        "    'feature_fraction': 0.6839999999999999, \n",
        "    'bagging_fraction': 0.6378550454605715, \n",
        "    'bagging_freq': 1,\n",
        "    \"random_state\": 71,\n",
        "    \"n_jobs\": -1,\n",
        "    \"importance_type\": \"gain\",\n",
        "    'colsample_bytree': .8,\n",
        "    \"reg_lambda\": 5,\n",
        "    \"max_depth\":9,\n",
        "    'min_child_samples': 20\n",
        "    }"
      ],
      "metadata": {
        "id": "ohvH_IfQY8c7"
      },
      "execution_count": null,
      "outputs": []
    },
    {
      "cell_type": "code",
      "source": [
        "# 予測値を格納するdf\n",
        "# df to store the predicted value\n",
        "preds_lgb = pd.DataFrame()\n",
        "\n",
        "for k, (tr_id, vl_id) in enumerate(kf.split(X, y)):\n",
        "    print(\"=\"*50)\n",
        "    print(f\"               KFold{k+1}\")\n",
        "    print(\"=\"*50)\n",
        "    \n",
        "    X_train, X_val = X.iloc[tr_id, :], X.iloc[vl_id, :]\n",
        "    y_train, y_val = y.iloc[tr_id], y.iloc[vl_id]\n",
        "    \n",
        "    lgb_train = lgb.Dataset(X_train, y_train)\n",
        "    lgb_val = lgb.Dataset(X_val, y_val)\n",
        "    \n",
        "    model_lgb = lgb.train(params=params,\n",
        "                          train_set=lgb_train,\n",
        "                          valid_sets=lgb_val,\n",
        "                          num_boost_round=100000,\n",
        "                          early_stopping_rounds=200,\n",
        "                          verbose_eval=1000)\n",
        "    \n",
        "    pred_lgb = model_lgb.predict(X_test, num_iteration=model_lgb.best_iteration)\n",
        "    pred_lgb = pd.DataFrame(pred_lgb)\n",
        "    \n",
        "    # 予測値を横に連結していく\n",
        "    # Concatenate the predictions horizontally\n",
        "    preds_lgb = pd.concat([preds_lgb, pred_lgb], axis=1)"
      ],
      "metadata": {
        "id": "IJE1fWmTW0rx"
      },
      "execution_count": null,
      "outputs": []
    },
    {
      "cell_type": "code",
      "source": [
        "preds_lgb"
      ],
      "metadata": {
        "id": "V-GBI5gTY_hV"
      },
      "execution_count": null,
      "outputs": []
    },
    {
      "cell_type": "code",
      "source": [
        "label = preds_lgb.mean(axis=1)\n",
        "label"
      ],
      "metadata": {
        "id": "yZwvzPurZBtr"
      },
      "execution_count": null,
      "outputs": []
    },
    {
      "cell_type": "markdown",
      "source": [
        "# Predict"
      ],
      "metadata": {
        "id": "sBad8xkWAXi1"
      }
    },
    {
      "cell_type": "code",
      "source": [
        "submission_df[\"is_laugh\"] = label\n",
        "\n",
        "submission_df.head()"
      ],
      "metadata": {
        "id": "jCsmWtuOaXti"
      },
      "execution_count": null,
      "outputs": []
    },
    {
      "cell_type": "code",
      "source": [
        "submission_df.to_csv(('/content/drive/MyDrive/nishika/sub.csv'), index=False)"
      ],
      "metadata": {
        "id": "wV2NPdgBEYM2"
      },
      "execution_count": null,
      "outputs": []
    }
  ]
}