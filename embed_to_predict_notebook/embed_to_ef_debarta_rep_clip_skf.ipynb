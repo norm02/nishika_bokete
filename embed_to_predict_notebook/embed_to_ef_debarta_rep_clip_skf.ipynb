{
  "cells": [
    {
      "cell_type": "code",
      "execution_count": null,
      "metadata": {
        "id": "4h8_aU6mgeJV"
      },
      "outputs": [],
      "source": [
        "#!conda install -c conda-forge lightgbm\n",
        "#!pip install optuna"
      ]
    },
    {
      "cell_type": "code",
      "execution_count": null,
      "metadata": {
        "id": "XbQRd4jUUS1V"
      },
      "outputs": [],
      "source": [
        "from google.colab import drive\n",
        "drive.mount('/content/drive')"
      ]
    },
    {
      "cell_type": "code",
      "execution_count": null,
      "metadata": {
        "id": "XEm9k6tUTlsG"
      },
      "outputs": [],
      "source": [
        "import pandas as pd\n",
        "import numpy as np\n",
        "import matplotlib.pyplot as plt\n",
        "import seaborn as sns\n",
        "\n",
        "from sklearn.metrics import mean_squared_error\n",
        "from sklearn.metrics import log_loss\n",
        "from sklearn.model_selection import StratifiedKFold, KFold\n",
        "from sklearn.model_selection import train_test_split\n",
        "from sklearn.metrics import confusion_matrix\n",
        "\n",
        "import sys\n",
        "import os\n",
        "import re\n",
        "import random\n",
        "\n",
        "from time import time\n",
        "from tqdm import tqdm\n",
        "\n",
        "from contextlib import contextmanager\n",
        "import lightgbm as lgb\n",
        "#import optuna.integration.lightgbm as opt_lgb"
      ]
    },
    {
      "cell_type": "code",
      "execution_count": null,
      "metadata": {
        "id": "zPmPFgPYAfU-"
      },
      "outputs": [],
      "source": [
        "#上限表示数を拡張\n",
        "pd.set_option('display.max_columns', 10000)\n",
        "pd.set_option('display.max_rows', 200)"
      ]
    },
    {
      "cell_type": "code",
      "execution_count": null,
      "metadata": {
        "id": "EkuBal2iT4tu"
      },
      "outputs": [],
      "source": [
        "def seed_everything(seed=1234):\n",
        "    random.seed(seed)\n",
        "    os.environ['PYTHONHASHSEED'] = str(seed)\n",
        "    np.random.seed(seed)\n",
        "\n",
        "seed_everything(42)"
      ]
    },
    {
      "cell_type": "code",
      "execution_count": null,
      "metadata": {
        "id": "abkOSTBkUAuu"
      },
      "outputs": [],
      "source": [
        "INPUT = \"/content/drive/MyDrive/nishika/\" # 所望のディレクトリに変更してください。\n",
        "train_df = pd.read_csv(os.path.join(INPUT, \"train.csv\"))\n",
        "test_df = pd.read_csv(os.path.join(INPUT, \"test.csv\"))\n",
        "submission_df = pd.read_csv(os.path.join(INPUT, \"sample_submission.csv\"))"
      ]
    },
    {
      "cell_type": "code",
      "source": [
        "#df_sl384_tr = pd.read_csv(\"content/drive/MyDrive/nishika/embeded/embedding_train_image_SwinTransformerLarge384\")\n",
        "#df_sl384_ts = pd.read_csv(\"content/drive/MyDrive/nishika/embeded/embedding_test_image_SwinTransformerLarge384\")"
      ],
      "metadata": {
        "id": "6D4vjyPh0lMj"
      },
      "execution_count": null,
      "outputs": []
    },
    {
      "cell_type": "code",
      "source": [
        "#df_sl384_tr = df_sl384_tr.drop([\"text_len\",\"Unnamed: 0\",\"odai_photo_file_name\",\"is_laugh\",\"id\",\"text\"], axis=1)"
      ],
      "metadata": {
        "id": "UfBpzy821OnE"
      },
      "execution_count": null,
      "outputs": []
    },
    {
      "cell_type": "code",
      "source": [
        "#df_sl384_ts = df_sl384_ts.drop([\"text_len\",\"Unnamed: 0\",\"odai_photo_file_name\",\"id\",\"text\"], axis=1)"
      ],
      "metadata": {
        "id": "RH7OeB371RVz"
      },
      "execution_count": null,
      "outputs": []
    },
    {
      "cell_type": "code",
      "source": [
        "#df_vl256_tr = pd.read_csv(\"content/drive/MyDrive/nishika/embeded/embedding_train_image_SwinTransformerV2Large256\")\n",
        "#df_vl256_ts = pd.read_csv(\"content/drive/MyDrive/nishika/embeded/embedding_test_image_SwinTransformerV2Large256\")"
      ],
      "metadata": {
        "id": "N6bLu0_U1idt"
      },
      "execution_count": null,
      "outputs": []
    },
    {
      "cell_type": "code",
      "source": [
        "#df_vl256_tr = df_vl256_tr.drop([\"text_len\",\"Unnamed: 0\",\"odai_photo_file_name\",\"is_laugh\",\"id\",\"text\"], axis=1)"
      ],
      "metadata": {
        "id": "DID3tRLz179B"
      },
      "execution_count": null,
      "outputs": []
    },
    {
      "cell_type": "code",
      "source": [
        "#df_vl256_ts = df_vl256_ts.drop([\"text_len\",\"Unnamed: 0\",\"odai_photo_file_name\",\"id\",\"text\"], axis=1)"
      ],
      "metadata": {
        "id": "t2XWfWxy2KIu"
      },
      "execution_count": null,
      "outputs": []
    },
    {
      "cell_type": "code",
      "source": [
        "#df_1_tr = pd.concat([df_sl384_tr,df_vl256_tr],axis=1)\n",
        "#df_1_ts = pd.concat([df_sl384_tr,df_vl256_ts],axis=1)"
      ],
      "metadata": {
        "id": "lz-03m0Z2V0c"
      },
      "execution_count": null,
      "outputs": []
    },
    {
      "cell_type": "code",
      "source": [
        "#df_1_tr.to_csv(\"/content/drive/MyDrive/nishika/output/train_SwinTransformerLarge384_V2Large256.csv\")\n",
        "#df_1_ts.to_csv(\"/content/drive/MyDrive/nishika/output/test_SwinTransformerLarge384_V2Large256.csv\")"
      ],
      "metadata": {
        "id": "yUMSd9TRMBhe"
      },
      "execution_count": null,
      "outputs": []
    },
    {
      "cell_type": "code",
      "source": [
        "#df_1_tr = pd.read_csv(\"/content/drive/MyDrive/nishika/output/train_SwinTransformerLarge384_V2Large256.csv\")\n",
        "#df_1_ts = pd.read_csv(\"/content/drive/MyDrive/nishika/output/test_SwinTransformerLarge384_V2Large256.csv\")"
      ],
      "metadata": {
        "id": "aofC9FDJQHSz"
      },
      "execution_count": null,
      "outputs": []
    },
    {
      "cell_type": "code",
      "source": [
        "#df_efb2_tr = pd.read_csv(\"content/drive/MyDrive/nishika/embeded/embedding_train_image_EfficientNetB2\")\n",
        "#df_efb2_ts = pd.read_csv(\"content/drive/MyDrive/nishika/embeded/embedding_test_image_EfficientNetB2\")"
      ],
      "metadata": {
        "id": "BTyZm8Po271m"
      },
      "execution_count": null,
      "outputs": []
    },
    {
      "cell_type": "code",
      "source": [
        "#df_efb2_tr = df_efb2_tr.drop([\"text_len\",\"Unnamed: 0\",\"odai_photo_file_name\",\"is_laugh\",\"id\",\"text\"], axis=1)"
      ],
      "metadata": {
        "id": "7ax9pXu1271n"
      },
      "execution_count": null,
      "outputs": []
    },
    {
      "cell_type": "code",
      "source": [
        "#df_efb2_ts = df_efb2_ts.drop([\"text_len\",\"Unnamed: 0\",\"odai_photo_file_name\",\"id\",\"text\"], axis=1)"
      ],
      "metadata": {
        "id": "f4P0rcJ8271n"
      },
      "execution_count": null,
      "outputs": []
    },
    {
      "cell_type": "code",
      "source": [
        "#df_rinna_tr = pd.read_csv(\"content/drive/MyDrive/nishika/embeded/embedding_train_rinna_roberta_base.csv\")\n",
        "#df_rinna_ts = pd.read_csv(\"content/drive/MyDrive/nishika/embeded/embedding_test_rinna_roberta_base.csv\")"
      ],
      "metadata": {
        "id": "OhpO7aAX271o"
      },
      "execution_count": null,
      "outputs": []
    },
    {
      "cell_type": "code",
      "source": [
        "#df_rinna_tr = df_rinna_tr.drop([\"text_len\",\"Unnamed: 0\",\"odai_photo_file_name\",\"is_laugh\",\"id\",\"text\"], axis=1)"
      ],
      "metadata": {
        "id": "xORVskdJ271o"
      },
      "execution_count": null,
      "outputs": []
    },
    {
      "cell_type": "code",
      "source": [
        "#df_rinna_ts = df_rinna_ts.drop([\"text_len\",\"Unnamed: 0\",\"odai_photo_file_name\",\"id\",\"text\"], axis=1)"
      ],
      "metadata": {
        "id": "fsv-w7TZ271o"
      },
      "execution_count": null,
      "outputs": []
    },
    {
      "cell_type": "code",
      "source": [
        "#df_2_tr = pd.concat([df_efb2_tr,df_rinna_tr],axis=1)\n",
        "#df_2_ts = pd.concat([df_efb2_tr,df_rinna_ts],axis=1)"
      ],
      "metadata": {
        "id": "6wp7yl9u271o"
      },
      "execution_count": null,
      "outputs": []
    },
    {
      "cell_type": "code",
      "source": [
        "#df_2_tr.to_csv(\"/content/drive/MyDrive/nishika/output/train_efb2_rinnabase.csv\")\n",
        "#df_2_ts.to_csv(\"/content/drive/MyDrive/nishika/output/test_efb2_rinnabase.csv\")"
      ],
      "metadata": {
        "id": "78Rw2YUAMRSC"
      },
      "execution_count": null,
      "outputs": []
    },
    {
      "cell_type": "code",
      "source": [
        "df_2_tr = pd.read_csv(\"/content/drive/MyDrive/nishika/output/train_efb2_rinnabase.csv\")\n",
        "df_2_ts = pd.read_csv(\"/content/drive/MyDrive/nishika/output/test_efb2_rinnabase.csv\")"
      ],
      "metadata": {
        "id": "cGrkaQCMQHS2"
      },
      "execution_count": null,
      "outputs": []
    },
    {
      "cell_type": "code",
      "execution_count": null,
      "metadata": {
        "id": "LRsTYeJzwDFm"
      },
      "outputs": [],
      "source": [
        "df_2_tr = df_2_tr.drop(df_2_tr.columns[352:], axis=1)"
      ]
    },
    {
      "cell_type": "code",
      "execution_count": null,
      "metadata": {
        "id": "Uq5ntOLBxXsF"
      },
      "outputs": [],
      "source": [
        "df_2_ts = df_2_ts.drop(df_2_ts.columns[352:], axis=1)"
      ]
    },
    {
      "cell_type": "code",
      "source": [
        "#df_vb256_tr = pd.read_csv(\"content/drive/MyDrive/nishika/embeded/embedding_train_image_SwinTransformerV2Base256\")\n",
        "#df_vb256_ts = pd.read_csv(\"content/drive/MyDrive/nishika/embeded/embedding_test_image_SwinTransformerV2Base256\")"
      ],
      "metadata": {
        "id": "Xu5vewYd5iR8"
      },
      "execution_count": null,
      "outputs": []
    },
    {
      "cell_type": "code",
      "source": [
        "#df_vb256_tr = df_vb256_tr.drop([\"text_len\",\"Unnamed: 0\",\"odai_photo_file_name\",\"is_laugh\",\"id\",\"text\"], axis=1)"
      ],
      "metadata": {
        "id": "kMffGwTm5iR9"
      },
      "execution_count": null,
      "outputs": []
    },
    {
      "cell_type": "code",
      "source": [
        "#df_vb256_ts = df_vb256_ts.drop([\"text_len\",\"Unnamed: 0\",\"odai_photo_file_name\",\"id\",\"text\"], axis=1)"
      ],
      "metadata": {
        "id": "o23SzPb55iR9"
      },
      "execution_count": null,
      "outputs": []
    },
    {
      "cell_type": "code",
      "source": [
        "#df_g510_tr = pd.read_csv(\"content/drive/MyDrive/nishika/embeded/embedding_train_text_ginza510_electra\")\n",
        "#df_g510_ts = pd.read_csv(\"content/drive/MyDrive/nishika/embeded/embedding_test_text_ginza510_electra\")"
      ],
      "metadata": {
        "id": "g3zuZXG05iR9"
      },
      "execution_count": null,
      "outputs": []
    },
    {
      "cell_type": "code",
      "source": [
        "#df_g510_tr = df_g510_tr.drop([\"text_len\",\"Unnamed: 0\",\"odai_photo_file_name\",\"is_laugh\",\"id\",\"text\"], axis=1)"
      ],
      "metadata": {
        "id": "hWekrRts5iR-"
      },
      "execution_count": null,
      "outputs": []
    },
    {
      "cell_type": "code",
      "source": [
        "#df_g510_ts = df_g510_ts.drop([\"text_len\",\"Unnamed: 0\",\"odai_photo_file_name\",\"id\",\"text\"], axis=1)"
      ],
      "metadata": {
        "id": "HjD9135i5iR-"
      },
      "execution_count": null,
      "outputs": []
    },
    {
      "cell_type": "code",
      "source": [
        "#df_3_tr = pd.concat([df_vb256_tr,df_g510_tr],axis=1)\n",
        "#df_3_ts = pd.concat([df_vb256_ts,df_g510_ts],axis=1)"
      ],
      "metadata": {
        "id": "IM4vmqqc5iR-"
      },
      "execution_count": null,
      "outputs": []
    },
    {
      "cell_type": "code",
      "source": [
        "#df_3_tr.to_csv(\"/content/drive/MyDrive/nishika/output/train_swinv2base256_ginza510electra.csv\")\n",
        "#df_3_ts.to_csv(\"/content/drive/MyDrive/nishika/output/test_swinv2base256_ginza510electra.csv\")"
      ],
      "metadata": {
        "id": "pwCfOZRvMbj7"
      },
      "execution_count": null,
      "outputs": []
    },
    {
      "cell_type": "code",
      "source": [
        "#df_3_tr = pd.read_csv(\"/content/drive/MyDrive/nishika/output/train_swinv2base256_ginza510electra.csv\")\n",
        "#df_3_ts = pd.read_csv(\"/content/drive/MyDrive/nishika/output/test_swinv2base256_ginza510electra.csv\")"
      ],
      "metadata": {
        "id": "q831mUymQHS5"
      },
      "execution_count": null,
      "outputs": []
    },
    {
      "cell_type": "code",
      "source": [
        "#df_efv2b2_tr = pd.read_csv(\"content/drive/MyDrive/nishika/embeded/embedding_train_image_EfficientNetV2B2\")\n",
        "#df_efv2b2_ts = pd.read_csv(\"content/drive/MyDrive/nishika/embeded/embedding_test_image_EfficientNetV2B2\")"
      ],
      "metadata": {
        "id": "Uvr2MtFOB8W4"
      },
      "execution_count": null,
      "outputs": []
    },
    {
      "cell_type": "code",
      "source": [
        "#df_efv2b2_tr = df_efv2b2_tr.drop([\"text_len\",\"Unnamed: 0\",\"odai_photo_file_name\",\"is_laugh\",\"id\",\"text\"], axis=1)"
      ],
      "metadata": {
        "id": "jGo80VNsB8W5"
      },
      "execution_count": null,
      "outputs": []
    },
    {
      "cell_type": "code",
      "source": [
        "#df_efv2b2_ts = df_efv2b2_ts.drop([\"text_len\",\"Unnamed: 0\",\"odai_photo_file_name\",\"id\",\"text\"], axis=1)"
      ],
      "metadata": {
        "id": "h5jri2dGB8W5"
      },
      "execution_count": null,
      "outputs": []
    },
    {
      "cell_type": "code",
      "source": [
        "#df_jaginza_tr = pd.read_csv(\"content/drive/MyDrive/nishika/embeded/embedding_train_text_ja_ginza\")\n",
        "#df_jaginza_ts = pd.read_csv(\"content/drive/MyDrive/nishika/embeded/embedding_test_text_ja_ginza\")"
      ],
      "metadata": {
        "id": "30W3fPd8B8W5"
      },
      "execution_count": null,
      "outputs": []
    },
    {
      "cell_type": "code",
      "source": [
        "#df_jaginza_tr = df_jaginza_tr.drop([\"text_len\",\"Unnamed: 0\",\"odai_photo_file_name\",\"is_laugh\",\"id\",\"text\"], axis=1)"
      ],
      "metadata": {
        "id": "KlLzwvcRB8W6"
      },
      "execution_count": null,
      "outputs": []
    },
    {
      "cell_type": "code",
      "source": [
        "#df_jaginza_ts = df_jaginza_ts.drop([\"text_len\",\"Unnamed: 0\",\"odai_photo_file_name\",\"id\",\"text\"], axis=1)"
      ],
      "metadata": {
        "id": "3NXeWl6AB8W6"
      },
      "execution_count": null,
      "outputs": []
    },
    {
      "cell_type": "code",
      "source": [
        "#df_4_tr = pd.concat([df_efv2b2_tr,df_jaginza_tr],axis=1)\n",
        "#df_4_ts = pd.concat([df_efv2b2_ts,df_jaginza_ts],axis=1)            "
      ],
      "metadata": {
        "id": "oDJd8DlaB8W6"
      },
      "execution_count": null,
      "outputs": []
    },
    {
      "cell_type": "code",
      "source": [
        "#df_4_tr.to_csv(\"/content/drive/MyDrive/nishika/output/train_efv2b2_resnet152_jaginza.csv\")\n",
        "#df_4_ts.to_csv(\"/content/drive/MyDrive/nishika/output/test_efv2b2_resnet152_jaginza.csv\")"
      ],
      "metadata": {
        "id": "cbh8HrFjMhFy"
      },
      "execution_count": null,
      "outputs": []
    },
    {
      "cell_type": "code",
      "execution_count": null,
      "metadata": {
        "id": "lCXdu3heyCTl"
      },
      "outputs": [],
      "source": [
        "df_4_tr = df_4_tr.drop(df_4_tr.columns[352:], axis=1)"
      ]
    },
    {
      "cell_type": "code",
      "execution_count": null,
      "metadata": {
        "id": "Fi4jGqvFyY-i"
      },
      "outputs": [],
      "source": [
        "df_4_ts = df_4_ts.drop(df_4_ts.columns[352:], axis=1)"
      ]
    },
    {
      "cell_type": "code",
      "execution_count": null,
      "metadata": {
        "id": "K800xzjLXruQ"
      },
      "outputs": [],
      "source": [
        "#swinL384,swinV2L256,Roberta-text,efb2\n",
        "#df_tmp_tr_1 = pd.concat([df_1_tr,df_2_tr],axis=1)\n",
        "#df_tmp_ts_1 = pd.concat([df_1_ts,df_2_ts],axis=1)"
      ]
    },
    {
      "cell_type": "code",
      "execution_count": null,
      "metadata": {
        "id": "wxk4xwOSz-Mx"
      },
      "outputs": [],
      "source": [
        "#ginza510-electra-base-text,swinv2base256\n",
        "#df_tmp_tr_2 = pd.concat([df_tmp_tr_1,df_3_tr],axis=1)\n",
        "#df_tmp_tr_2 = pd.concat([df_1_tr,df_3_tr],axis=1)\n",
        "#df_tmp_ts_2 = pd.concat([df_tmp_ts_1,df_3_ts],axis=1)\n",
        "#df_tmp_ts_2 = pd.concat([df_1_ts,df_3_ts],axis=1)"
      ]
    },
    {
      "cell_type": "code",
      "execution_count": null,
      "metadata": {
        "id": "mkGpKte_0IWs"
      },
      "outputs": [],
      "source": [
        "#efficientnetv2b2,resnet152,jaginza(ginza_electra_text)\n",
        "#df_tmp_tr_3 = pd.concat([df_tmp_tr_2,df_4_tr],axis=1)\n",
        "#df_tmp_ts_3 = pd.concat([df_tmp_ts_2,df_4_ts],axis=1)"
      ]
    },
    {
      "cell_type": "code",
      "execution_count": null,
      "metadata": {
        "id": "vQmbLHBL4iz7"
      },
      "outputs": [],
      "source": [
        "#train_tmp = df_tmp_tr_3.drop([\"is_laugh\",\"odai_photo_file_name\"], axis=1)"
      ]
    },
    {
      "cell_type": "code",
      "execution_count": null,
      "metadata": {
        "id": "rhzVwDqM6tzl"
      },
      "outputs": [],
      "source": [
        "#test_tmp = df_tmp_ts_3.drop([\"odai_photo_file_name\"], axis=1)"
      ]
    },
    {
      "cell_type": "code",
      "execution_count": null,
      "metadata": {
        "id": "ekmjqzMw1KYF"
      },
      "outputs": [],
      "source": [
        "#df_5_tr = pd.read_csv(\"/content/drive/MyDrive/nishika/embeded/embedding_train_image_beit.csv\")\n",
        "#df_5_ts = pd.read_csv(\"/content/drive/MyDrive/nishika/embeded/embedding_test_image_beit.csv\")"
      ]
    },
    {
      "cell_type": "code",
      "execution_count": null,
      "metadata": {
        "id": "da0NsVoC1XMW"
      },
      "outputs": [],
      "source": [
        "#df_5_tr = df_5_tr.drop([\"Unnamed: 0\",\"odai_photo_file_name\",\"id\", \"text\",\"is_laugh\"], axis=1)\n",
        "#df_5_ts = df_5_ts.drop([\"Unnamed: 0\",\"odai_photo_file_name\",\"id\", \"text\"], axis=1)"
      ]
    },
    {
      "cell_type": "code",
      "execution_count": null,
      "metadata": {
        "id": "oKGS21Lz5Hmc"
      },
      "outputs": [],
      "source": [
        "#train_tmp = pd.concat([train_emb,df_5_tr],axis=1)\n",
        "#train_tmp = pd.concat([train_emb,df_4_tr],axis=1)\n",
        "#test_tmp = pd.concat([test_emb,df_5_ts],axis=1)\n",
        "#test_tmp = pd.concat([test_emb,df_4_ts],axis=1)"
      ]
    },
    {
      "cell_type": "code",
      "execution_count": null,
      "metadata": {
        "id": "qzlQNGLajjmD"
      },
      "outputs": [],
      "source": [
        "df_6_tr = pd.read_csv(\"/content/drive/MyDrive/nishika/embeded/embedding_train_rinna_tune_clip.csv\")\n",
        "df_6_ts = pd.read_csv(\"/content/drive/MyDrive/nishika/embeded/embedding_test_rinna_tune_clip.csv\")"
      ]
    },
    {
      "cell_type": "code",
      "execution_count": null,
      "metadata": {
        "id": "kr9N2cqrPfXs"
      },
      "outputs": [],
      "source": [
        "df_6_tr = df_6_tr.drop([\"img_path\",\"Unnamed: 0\",\"odai_photo_file_name\",\"id\", \"text\",\"is_laugh\"], axis=1)\n",
        "df_6_ts = df_6_ts.drop([\"img_path\",\"Unnamed: 0\",\"odai_photo_file_name\",\"id\", \"text\"], axis=1)"
      ]
    },
    {
      "cell_type": "code",
      "execution_count": null,
      "metadata": {
        "id": "DepRLSFQj8os"
      },
      "outputs": [],
      "source": [
        "#df_6_tr = df_6_tr.drop(df_6_tr.columns[0:1030], axis=1)"
      ]
    },
    {
      "cell_type": "code",
      "execution_count": null,
      "metadata": {
        "id": "iwcRs_UdkShe"
      },
      "outputs": [],
      "source": [
        "#df_6_ts = df_6_ts.drop(df_6_ts.columns[0:1029], axis=1)"
      ]
    },
    {
      "cell_type": "code",
      "execution_count": null,
      "metadata": {
        "id": "k0WKcn0B2L8n"
      },
      "outputs": [],
      "source": [
        "#train_tmp_2 = pd.concat([train_tmp,df_6_tr],axis=1)\n",
        "#test_tmp_2 = pd.concat([test_tmp,df_6_ts],axis=1)"
      ]
    },
    {
      "cell_type": "code",
      "execution_count": null,
      "metadata": {
        "id": "JA197nUoxOOK"
      },
      "outputs": [],
      "source": [
        "#cos_tr = pd.read_csv('/content/drive/MyDrive/nishika/output/tsne_cos_sim_tr_df.csv')\n",
        "#cos_ts = pd.read_csv('/content/drive/MyDrive/nishika/output/tsne_cos_sim_ts_df.csv')"
      ]
    },
    {
      "cell_type": "code",
      "execution_count": null,
      "metadata": {
        "id": "k5DiwSbylGE3"
      },
      "outputs": [],
      "source": [
        "#train = pd.concat([train_tmp_2,train_df],axis=1)\n",
        "#train = pd.concat([train_tmp,cos_tr],axis=1)\n",
        "#test = pd.concat([test_tmp_2,test_df],axis=1)\n",
        "#test = pd.concat([test_tmp,cos_ts],axis=1)"
      ]
    },
    {
      "cell_type": "code",
      "execution_count": null,
      "metadata": {
        "id": "KREL9yZo8tiM"
      },
      "outputs": [],
      "source": [
        "tr_debv3 = pd.read_csv(\"/content/drive/MyDrive/nishika/embeded/embedding_train_debertav3.csv\")\n",
        "ts_debv3 = pd.read_csv(\"/content/drive/MyDrive/nishika/embeded/embedding_test_debertav3.csv\")"
      ]
    },
    {
      "cell_type": "code",
      "execution_count": null,
      "metadata": {
        "id": "sjs8pP3X9EoZ"
      },
      "outputs": [],
      "source": [
        "tr_debv3 = tr_debv3.drop([\"Unnamed: 0\",\"is_laugh\",\"id\",\"text\",\"odai_photo_file_name\"], axis=1)"
      ]
    },
    {
      "cell_type": "code",
      "execution_count": null,
      "metadata": {
        "id": "QvGzdax-94c6"
      },
      "outputs": [],
      "source": [
        "ts_debv3 = ts_debv3.drop([\"Unnamed: 0\",\"id\",\"text\",\"odai_photo_file_name\"], axis=1)"
      ]
    },
    {
      "cell_type": "code",
      "execution_count": null,
      "metadata": {
        "id": "v4r_zOWeW5VW"
      },
      "outputs": [],
      "source": [
        "tr_debv2 = pd.read_csv(\"/content/drive/MyDrive/nishika/embeded/embedding_train_debertav2.csv\")\n",
        "ts_debv2 = pd.read_csv(\"/content/drive/MyDrive/nishika/embeded/embedding_test_debertav2.csv\")"
      ]
    },
    {
      "cell_type": "code",
      "execution_count": null,
      "metadata": {
        "id": "NUIvr69gXJ5O"
      },
      "outputs": [],
      "source": [
        "tr_debv2 = tr_debv2.drop([\"Unnamed: 0\",\"is_laugh\",\"id\",\"text\",\"odai_photo_file_name\"], axis=1)\n",
        "ts_debv2 = ts_debv2.drop([\"Unnamed: 0\",\"id\",\"text\",\"odai_photo_file_name\"], axis=1)"
      ]
    },
    {
      "cell_type": "code",
      "execution_count": null,
      "metadata": {
        "id": "ExovqVI3XSye"
      },
      "outputs": [],
      "source": [
        "tr_deb = pd.read_csv(\"/content/drive/MyDrive/nishika/embeded/embedding_train_deberta.csv\")\n",
        "ts_deb = pd.read_csv(\"/content/drive/MyDrive/nishika/embeded/embedding_test_deberta.csv\")"
      ]
    },
    {
      "cell_type": "code",
      "execution_count": null,
      "metadata": {
        "id": "TjRkKQeQXfAv"
      },
      "outputs": [],
      "source": [
        "tr_deb = tr_deb.drop([\"Unnamed: 0\",\"is_laugh\",\"id\",\"text\",\"odai_photo_file_name\"], axis=1)\n",
        "ts_deb = ts_deb.drop([\"Unnamed: 0\",\"id\",\"text\",\"odai_photo_file_name\"], axis=1)"
      ]
    },
    {
      "cell_type": "code",
      "execution_count": null,
      "metadata": {
        "id": "HCGFGGX4Xk4e"
      },
      "outputs": [],
      "source": [
        "tr_tmp_db1= pd.concat([tr_deb,tr_debv2],axis=1)\n",
        "ts_tmp_db1 = pd.concat([ts_deb,ts_debv2],axis=1)"
      ]
    },
    {
      "cell_type": "code",
      "execution_count": null,
      "metadata": {
        "id": "CDsuU4KCX4ge"
      },
      "outputs": [],
      "source": [
        "tr_tmp_db2= pd.concat([tr_tmp_db1,tr_debv3],axis=1)\n",
        "ts_tmp_db2 = pd.concat([ts_tmp_db1,ts_debv3],axis=1)"
      ]
    },
    {
      "cell_type": "code",
      "execution_count": null,
      "metadata": {
        "id": "x2-PqEIc9-vt"
      },
      "outputs": [],
      "source": [
        "train_tmp_2 = pd.concat([tr_tmp_db1,tr_tmp_db2],axis=1)\n",
        "test_tmp_2 = pd.concat([ts_tmp_db1,ts_tmp_db2],axis=1)"
      ]
    },
    {
      "cell_type": "code",
      "execution_count": null,
      "metadata": {
        "id": "OXOECrRIef2U"
      },
      "outputs": [],
      "source": [
        "#tr_tmpo = pd.concat([train_tmp,tr_deb],axis=1)\n",
        "#ts_tmpo = pd.concat([test_tmp,ts_deb],axis=1)"
      ]
    },
    {
      "cell_type": "code",
      "execution_count": null,
      "metadata": {
        "id": "0JCXKOqOtc5W"
      },
      "outputs": [],
      "source": [
        "train_tmpo = pd.concat([df_2_tr,df_4_tr],axis=1)\n",
        "test_tmpo = pd.concat([df_2_ts,df_4_ts],axis=1)"
      ]
    },
    {
      "cell_type": "code",
      "execution_count": null,
      "metadata": {
        "id": "2qH4331fOoe8"
      },
      "outputs": [],
      "source": [
        "train_tmpo = pd.concat([train_tmpo,df_6_tr],axis=1)\n",
        "test_tmpo = pd.concat([test_tmpo,df_6_ts],axis=1)"
      ]
    },
    {
      "cell_type": "code",
      "execution_count": null,
      "metadata": {
        "id": "JKKHqCBqo-DN"
      },
      "outputs": [],
      "source": [
        "train_tmp = pd.concat([train_tmpo,train_tmp_2],axis=1)\n",
        "test_tmp = pd.concat([test_tmpo,test_tmp_2],axis=1)"
      ]
    },
    {
      "cell_type": "code",
      "source": [
        "tr_rep = pd.read_csv(\"/content/drive/MyDrive/nishika/embeded/embedding_train_image_RepLKNetXL320In21k.csv\")\n",
        "ts_rep = pd.read_csv(\"/content/drive/MyDrive/nishika/embeded/embedding_test_image_RepLKNetXL320In21k.csv\")"
      ],
      "metadata": {
        "id": "TFmgK5bivNZ3"
      },
      "execution_count": null,
      "outputs": []
    },
    {
      "cell_type": "code",
      "source": [
        "tr_rep = tr_rep.drop([\"text_len\",\"Unnamed: 0\",\"is_laugh\",\"id\",\"text\",\"odai_photo_file_name\"], axis=1)\n",
        "ts_rep = ts_rep.drop([\"text_len\",\"Unnamed: 0\",\"id\",\"text\",\"odai_photo_file_name\"], axis=1)"
      ],
      "metadata": {
        "id": "RcxApJ1ovaTf"
      },
      "execution_count": null,
      "outputs": []
    },
    {
      "cell_type": "code",
      "source": [
        "#tr_tmp_timm = pd.concat([tr_van,train_tmp],axis=1)\n",
        "#ts_tmp_timm = pd.concat([ts_van,test_tmp],axis=1)"
      ],
      "metadata": {
        "id": "F3AqFWy4ONPd"
      },
      "execution_count": null,
      "outputs": []
    },
    {
      "cell_type": "code",
      "source": [
        "tr_tmp_z = pd.concat([train_tmp,tr_rep],axis=1)\n",
        "ts_tmp_z = pd.concat([test_tmp,ts_rep],axis=1)"
      ],
      "metadata": {
        "id": "dmrGB204vt9k"
      },
      "execution_count": null,
      "outputs": []
    },
    {
      "cell_type": "code",
      "execution_count": null,
      "metadata": {
        "id": "8uyAJR3pBtnb"
      },
      "outputs": [],
      "source": [
        "train = pd.concat([tr_tmp_z,train_df],axis=1)\n",
        "test = pd.concat([ts_tmp_z,test_df],axis=1)"
      ]
    },
    {
      "cell_type": "code",
      "execution_count": null,
      "metadata": {
        "id": "yOV8ys4NPKcE"
      },
      "outputs": [],
      "source": [
        "print(train)"
      ]
    },
    {
      "cell_type": "code",
      "execution_count": null,
      "metadata": {
        "id": "vJR4VirHJcB7"
      },
      "outputs": [],
      "source": [
        "train[\"text_len\"] = train[\"text\"].str.len()\n",
        "test[\"text_len\"] = test[\"text\"].str.len()"
      ]
    },
    {
      "cell_type": "code",
      "source": [
        "y = train[\"is_laugh\"]\n",
        "X = train.drop([\"odai_photo_file_name\",\"is_laugh\",\"id\",\"text\"], axis=1)\n",
        "\n",
        "X_test = test.drop([\"odai_photo_file_name\",\"id\",\"text\"], axis=1)"
      ],
      "metadata": {
        "id": "sg6Xao77VT1Y"
      },
      "execution_count": null,
      "outputs": []
    },
    {
      "cell_type": "code",
      "execution_count": null,
      "metadata": {
        "id": "0oRUq7LEDj4X"
      },
      "outputs": [],
      "source": [
        "\n",
        "X = X.T.drop_duplicates().T\n",
        "X_test = X_test.T.drop_duplicates().T\n"
      ]
    },
    {
      "cell_type": "code",
      "source": [
        "print(X)"
      ],
      "metadata": {
        "id": "SReBETZ6OM5a"
      },
      "execution_count": null,
      "outputs": []
    },
    {
      "cell_type": "markdown",
      "metadata": {
        "id": "jtw_IUp87-HP"
      },
      "source": [
        "# Model"
      ]
    },
    {
      "cell_type": "code",
      "source": [
        "\n",
        "from sklearn.model_selection import KFold\n",
        "kf = KFold(n_splits=5, shuffle=True, random_state=42)"
      ],
      "metadata": {
        "id": "MTbR5TvkVahh"
      },
      "execution_count": null,
      "outputs": []
    },
    {
      "cell_type": "code",
      "execution_count": null,
      "metadata": {
        "id": "dZS_euCU79xd"
      },
      "outputs": [],
      "source": [
        "\n",
        "params = {  \n",
        "    \"n_estimators\": 20000,\n",
        "    \"objective\": 'binary',\n",
        "    \"learning_rate\": 0.01,\n",
        "    'lambda_l1': 8.553323365580143, \n",
        "    'lambda_l2': 0.00024389221237366783, \n",
        "    'num_leaves': 240, \n",
        "    'feature_fraction': 0.6839999999999999, \n",
        "    'bagging_fraction': 0.6378550454605715, \n",
        "    'bagging_freq': 1,\n",
        "    \"random_state\": 71,\n",
        "    \"n_jobs\": -1,\n",
        "    \"importance_type\": \"gain\",\n",
        "    'colsample_bytree': .8,\n",
        "    \"reg_lambda\": 5,\n",
        "    \"max_depth\":9,\n",
        "    'min_child_samples': 20\n",
        "    }"
      ]
    },
    {
      "cell_type": "code",
      "source": [
        "# 予測値を格納するdf\n",
        "# df to store the predicted value\n",
        "preds_lgb = pd.DataFrame()\n",
        "\n",
        "for k, (tr_id, vl_id) in enumerate(kf.split(X, y)):\n",
        "    print(\"=\"*50)\n",
        "    print(f\"               KFold{k+1}\")\n",
        "    print(\"=\"*50)\n",
        "    \n",
        "    X_train, X_val = X.iloc[tr_id, :], X.iloc[vl_id, :]\n",
        "    y_train, y_val = y.iloc[tr_id], y.iloc[vl_id]\n",
        "    \n",
        "    lgb_train = lgb.Dataset(X_train, y_train)\n",
        "    lgb_val = lgb.Dataset(X_val, y_val)\n",
        "    \n",
        "    model_lgb = lgb.train(params=params,\n",
        "                          train_set=lgb_train,\n",
        "                          valid_sets=lgb_val,\n",
        "                          num_boost_round=100000,\n",
        "                          early_stopping_rounds=200,\n",
        "                          verbose_eval=1000)\n",
        "    \n",
        "    pred_lgb = model_lgb.predict(X_test, num_iteration=model_lgb.best_iteration)\n",
        "    pred_lgb = pd.DataFrame(pred_lgb)\n",
        "    \n",
        "    # 予測値を横に連結していく\n",
        "    # Concatenate the predictions horizontally\n",
        "    preds_lgb = pd.concat([preds_lgb, pred_lgb], axis=1)"
      ],
      "metadata": {
        "colab": {
          "base_uri": "https://localhost:8080/"
        },
        "id": "ZtAINpLgVd6f",
        "outputId": "44a8287b-56d3-473a-97f4-5f8f552f8c17"
      },
      "execution_count": null,
      "outputs": [
        {
          "output_type": "stream",
          "name": "stdout",
          "text": [
            "==================================================\n",
            "               KFold1\n",
            "==================================================\n"
          ]
        },
        {
          "output_type": "stream",
          "name": "stderr",
          "text": [
            "/usr/local/lib/python3.7/dist-packages/lightgbm/engine.py:118: UserWarning: Found `n_estimators` in params. Will use it instead of argument\n",
            "  warnings.warn(\"Found `{}` in params. Will use it instead of argument\".format(alias))\n"
          ]
        },
        {
          "output_type": "stream",
          "name": "stdout",
          "text": [
            "Training until validation scores don't improve for 200 rounds.\n",
            "Early stopping, best iteration is:\n",
            "[705]\tvalid_0's binary_logloss: 0.65012\n",
            "==================================================\n",
            "               KFold2\n",
            "==================================================\n",
            "Training until validation scores don't improve for 200 rounds.\n",
            "[1000]\tvalid_0's binary_logloss: 0.644146\n",
            "Early stopping, best iteration is:\n",
            "[999]\tvalid_0's binary_logloss: 0.644131\n",
            "==================================================\n",
            "               KFold3\n",
            "==================================================\n",
            "Training until validation scores don't improve for 200 rounds.\n",
            "[1000]\tvalid_0's binary_logloss: 0.642197\n",
            "Early stopping, best iteration is:\n",
            "[1327]\tvalid_0's binary_logloss: 0.641588\n",
            "==================================================\n",
            "               KFold4\n",
            "==================================================\n",
            "Training until validation scores don't improve for 200 rounds.\n",
            "[1000]\tvalid_0's binary_logloss: 0.650473\n",
            "Early stopping, best iteration is:\n",
            "[1137]\tvalid_0's binary_logloss: 0.650323\n",
            "==================================================\n",
            "               KFold5\n",
            "==================================================\n",
            "Training until validation scores don't improve for 200 rounds.\n",
            "[1000]\tvalid_0's binary_logloss: 0.644554\n",
            "Early stopping, best iteration is:\n",
            "[1004]\tvalid_0's binary_logloss: 0.644467\n"
          ]
        }
      ]
    },
    {
      "cell_type": "code",
      "source": [
        "preds_lgb"
      ],
      "metadata": {
        "colab": {
          "base_uri": "https://localhost:8080/",
          "height": 423
        },
        "id": "H08ORyoRVe5_",
        "outputId": "2556f9be-6967-4e1b-e660-0967598edcdb"
      },
      "execution_count": null,
      "outputs": [
        {
          "output_type": "execute_result",
          "data": {
            "text/plain": [
              "             0         0         0         0         0\n",
              "0     0.460240  0.450571  0.514945  0.457683  0.404298\n",
              "1     0.306081  0.231312  0.274218  0.276592  0.288135\n",
              "2     0.271700  0.280877  0.221810  0.211789  0.274057\n",
              "3     0.472168  0.489265  0.417953  0.391353  0.429712\n",
              "4     0.786073  0.822606  0.872962  0.848196  0.859048\n",
              "...        ...       ...       ...       ...       ...\n",
              "5995  0.449196  0.417411  0.456319  0.448322  0.433513\n",
              "5996  0.689943  0.731657  0.747663  0.755814  0.739387\n",
              "5997  0.601708  0.511832  0.496789  0.572841  0.562537\n",
              "5998  0.539805  0.491715  0.458416  0.554754  0.522006\n",
              "5999  0.649127  0.763700  0.814395  0.680920  0.742321\n",
              "\n",
              "[6000 rows x 5 columns]"
            ],
            "text/html": [
              "\n",
              "  <div id=\"df-c3999479-79d6-4986-ab56-16fbd77fd247\">\n",
              "    <div class=\"colab-df-container\">\n",
              "      <div>\n",
              "<style scoped>\n",
              "    .dataframe tbody tr th:only-of-type {\n",
              "        vertical-align: middle;\n",
              "    }\n",
              "\n",
              "    .dataframe tbody tr th {\n",
              "        vertical-align: top;\n",
              "    }\n",
              "\n",
              "    .dataframe thead th {\n",
              "        text-align: right;\n",
              "    }\n",
              "</style>\n",
              "<table border=\"1\" class=\"dataframe\">\n",
              "  <thead>\n",
              "    <tr style=\"text-align: right;\">\n",
              "      <th></th>\n",
              "      <th>0</th>\n",
              "      <th>0</th>\n",
              "      <th>0</th>\n",
              "      <th>0</th>\n",
              "      <th>0</th>\n",
              "    </tr>\n",
              "  </thead>\n",
              "  <tbody>\n",
              "    <tr>\n",
              "      <th>0</th>\n",
              "      <td>0.460240</td>\n",
              "      <td>0.450571</td>\n",
              "      <td>0.514945</td>\n",
              "      <td>0.457683</td>\n",
              "      <td>0.404298</td>\n",
              "    </tr>\n",
              "    <tr>\n",
              "      <th>1</th>\n",
              "      <td>0.306081</td>\n",
              "      <td>0.231312</td>\n",
              "      <td>0.274218</td>\n",
              "      <td>0.276592</td>\n",
              "      <td>0.288135</td>\n",
              "    </tr>\n",
              "    <tr>\n",
              "      <th>2</th>\n",
              "      <td>0.271700</td>\n",
              "      <td>0.280877</td>\n",
              "      <td>0.221810</td>\n",
              "      <td>0.211789</td>\n",
              "      <td>0.274057</td>\n",
              "    </tr>\n",
              "    <tr>\n",
              "      <th>3</th>\n",
              "      <td>0.472168</td>\n",
              "      <td>0.489265</td>\n",
              "      <td>0.417953</td>\n",
              "      <td>0.391353</td>\n",
              "      <td>0.429712</td>\n",
              "    </tr>\n",
              "    <tr>\n",
              "      <th>4</th>\n",
              "      <td>0.786073</td>\n",
              "      <td>0.822606</td>\n",
              "      <td>0.872962</td>\n",
              "      <td>0.848196</td>\n",
              "      <td>0.859048</td>\n",
              "    </tr>\n",
              "    <tr>\n",
              "      <th>...</th>\n",
              "      <td>...</td>\n",
              "      <td>...</td>\n",
              "      <td>...</td>\n",
              "      <td>...</td>\n",
              "      <td>...</td>\n",
              "    </tr>\n",
              "    <tr>\n",
              "      <th>5995</th>\n",
              "      <td>0.449196</td>\n",
              "      <td>0.417411</td>\n",
              "      <td>0.456319</td>\n",
              "      <td>0.448322</td>\n",
              "      <td>0.433513</td>\n",
              "    </tr>\n",
              "    <tr>\n",
              "      <th>5996</th>\n",
              "      <td>0.689943</td>\n",
              "      <td>0.731657</td>\n",
              "      <td>0.747663</td>\n",
              "      <td>0.755814</td>\n",
              "      <td>0.739387</td>\n",
              "    </tr>\n",
              "    <tr>\n",
              "      <th>5997</th>\n",
              "      <td>0.601708</td>\n",
              "      <td>0.511832</td>\n",
              "      <td>0.496789</td>\n",
              "      <td>0.572841</td>\n",
              "      <td>0.562537</td>\n",
              "    </tr>\n",
              "    <tr>\n",
              "      <th>5998</th>\n",
              "      <td>0.539805</td>\n",
              "      <td>0.491715</td>\n",
              "      <td>0.458416</td>\n",
              "      <td>0.554754</td>\n",
              "      <td>0.522006</td>\n",
              "    </tr>\n",
              "    <tr>\n",
              "      <th>5999</th>\n",
              "      <td>0.649127</td>\n",
              "      <td>0.763700</td>\n",
              "      <td>0.814395</td>\n",
              "      <td>0.680920</td>\n",
              "      <td>0.742321</td>\n",
              "    </tr>\n",
              "  </tbody>\n",
              "</table>\n",
              "<p>6000 rows × 5 columns</p>\n",
              "</div>\n",
              "      <button class=\"colab-df-convert\" onclick=\"convertToInteractive('df-c3999479-79d6-4986-ab56-16fbd77fd247')\"\n",
              "              title=\"Convert this dataframe to an interactive table.\"\n",
              "              style=\"display:none;\">\n",
              "        \n",
              "  <svg xmlns=\"http://www.w3.org/2000/svg\" height=\"24px\"viewBox=\"0 0 24 24\"\n",
              "       width=\"24px\">\n",
              "    <path d=\"M0 0h24v24H0V0z\" fill=\"none\"/>\n",
              "    <path d=\"M18.56 5.44l.94 2.06.94-2.06 2.06-.94-2.06-.94-.94-2.06-.94 2.06-2.06.94zm-11 1L8.5 8.5l.94-2.06 2.06-.94-2.06-.94L8.5 2.5l-.94 2.06-2.06.94zm10 10l.94 2.06.94-2.06 2.06-.94-2.06-.94-.94-2.06-.94 2.06-2.06.94z\"/><path d=\"M17.41 7.96l-1.37-1.37c-.4-.4-.92-.59-1.43-.59-.52 0-1.04.2-1.43.59L10.3 9.45l-7.72 7.72c-.78.78-.78 2.05 0 2.83L4 21.41c.39.39.9.59 1.41.59.51 0 1.02-.2 1.41-.59l7.78-7.78 2.81-2.81c.8-.78.8-2.07 0-2.86zM5.41 20L4 18.59l7.72-7.72 1.47 1.35L5.41 20z\"/>\n",
              "  </svg>\n",
              "      </button>\n",
              "      \n",
              "  <style>\n",
              "    .colab-df-container {\n",
              "      display:flex;\n",
              "      flex-wrap:wrap;\n",
              "      gap: 12px;\n",
              "    }\n",
              "\n",
              "    .colab-df-convert {\n",
              "      background-color: #E8F0FE;\n",
              "      border: none;\n",
              "      border-radius: 50%;\n",
              "      cursor: pointer;\n",
              "      display: none;\n",
              "      fill: #1967D2;\n",
              "      height: 32px;\n",
              "      padding: 0 0 0 0;\n",
              "      width: 32px;\n",
              "    }\n",
              "\n",
              "    .colab-df-convert:hover {\n",
              "      background-color: #E2EBFA;\n",
              "      box-shadow: 0px 1px 2px rgba(60, 64, 67, 0.3), 0px 1px 3px 1px rgba(60, 64, 67, 0.15);\n",
              "      fill: #174EA6;\n",
              "    }\n",
              "\n",
              "    [theme=dark] .colab-df-convert {\n",
              "      background-color: #3B4455;\n",
              "      fill: #D2E3FC;\n",
              "    }\n",
              "\n",
              "    [theme=dark] .colab-df-convert:hover {\n",
              "      background-color: #434B5C;\n",
              "      box-shadow: 0px 1px 3px 1px rgba(0, 0, 0, 0.15);\n",
              "      filter: drop-shadow(0px 1px 2px rgba(0, 0, 0, 0.3));\n",
              "      fill: #FFFFFF;\n",
              "    }\n",
              "  </style>\n",
              "\n",
              "      <script>\n",
              "        const buttonEl =\n",
              "          document.querySelector('#df-c3999479-79d6-4986-ab56-16fbd77fd247 button.colab-df-convert');\n",
              "        buttonEl.style.display =\n",
              "          google.colab.kernel.accessAllowed ? 'block' : 'none';\n",
              "\n",
              "        async function convertToInteractive(key) {\n",
              "          const element = document.querySelector('#df-c3999479-79d6-4986-ab56-16fbd77fd247');\n",
              "          const dataTable =\n",
              "            await google.colab.kernel.invokeFunction('convertToInteractive',\n",
              "                                                     [key], {});\n",
              "          if (!dataTable) return;\n",
              "\n",
              "          const docLinkHtml = 'Like what you see? Visit the ' +\n",
              "            '<a target=\"_blank\" href=https://colab.research.google.com/notebooks/data_table.ipynb>data table notebook</a>'\n",
              "            + ' to learn more about interactive tables.';\n",
              "          element.innerHTML = '';\n",
              "          dataTable['output_type'] = 'display_data';\n",
              "          await google.colab.output.renderOutput(dataTable, element);\n",
              "          const docLink = document.createElement('div');\n",
              "          docLink.innerHTML = docLinkHtml;\n",
              "          element.appendChild(docLink);\n",
              "        }\n",
              "      </script>\n",
              "    </div>\n",
              "  </div>\n",
              "  "
            ]
          },
          "metadata": {},
          "execution_count": 59
        }
      ]
    },
    {
      "cell_type": "code",
      "source": [
        "label = preds_lgb.mean(axis=1)\n",
        "label"
      ],
      "metadata": {
        "colab": {
          "base_uri": "https://localhost:8080/"
        },
        "id": "FWLjEh-aVjXO",
        "outputId": "c1fcba70-0fb5-4262-82ad-779f1288b0bc"
      },
      "execution_count": null,
      "outputs": [
        {
          "output_type": "execute_result",
          "data": {
            "text/plain": [
              "0       0.457548\n",
              "1       0.275268\n",
              "2       0.252047\n",
              "3       0.440090\n",
              "4       0.837777\n",
              "          ...   \n",
              "5995    0.440952\n",
              "5996    0.732893\n",
              "5997    0.549141\n",
              "5998    0.513339\n",
              "5999    0.730092\n",
              "Length: 6000, dtype: float64"
            ]
          },
          "metadata": {},
          "execution_count": 60
        }
      ]
    },
    {
      "cell_type": "code",
      "source": [
        "#特徴量の重要度を可視化。\n",
        "lgb.plot_importance(model_lgb, figsize=(18,18), max_num_features=100, importance_type='gain')\n",
        "plt.tight_layout()\n",
        "plt.show()"
      ],
      "metadata": {
        "id": "7VMptboZT1HH"
      },
      "execution_count": null,
      "outputs": []
    },
    {
      "cell_type": "code",
      "source": [
        "submission_df[\"is_laugh\"] = label\n",
        "\n",
        "submission_df.head()"
      ],
      "metadata": {
        "colab": {
          "base_uri": "https://localhost:8080/",
          "height": 206
        },
        "id": "vWttRZ8ZVkFR",
        "outputId": "6bf24f4d-11a0-49d2-e4ca-aaaca976fce1"
      },
      "execution_count": null,
      "outputs": [
        {
          "output_type": "execute_result",
          "data": {
            "text/plain": [
              "          id  is_laugh\n",
              "0  rfdjcfsqq  0.457548\n",
              "1  tsgqmfpef  0.275268\n",
              "2  owjcthkz2  0.252047\n",
              "3  rvgaocjyy  0.440090\n",
              "4  uxtwu5i69  0.837777"
            ],
            "text/html": [
              "\n",
              "  <div id=\"df-58b86442-2d18-4a33-bd07-7a7d663b5441\">\n",
              "    <div class=\"colab-df-container\">\n",
              "      <div>\n",
              "<style scoped>\n",
              "    .dataframe tbody tr th:only-of-type {\n",
              "        vertical-align: middle;\n",
              "    }\n",
              "\n",
              "    .dataframe tbody tr th {\n",
              "        vertical-align: top;\n",
              "    }\n",
              "\n",
              "    .dataframe thead th {\n",
              "        text-align: right;\n",
              "    }\n",
              "</style>\n",
              "<table border=\"1\" class=\"dataframe\">\n",
              "  <thead>\n",
              "    <tr style=\"text-align: right;\">\n",
              "      <th></th>\n",
              "      <th>id</th>\n",
              "      <th>is_laugh</th>\n",
              "    </tr>\n",
              "  </thead>\n",
              "  <tbody>\n",
              "    <tr>\n",
              "      <th>0</th>\n",
              "      <td>rfdjcfsqq</td>\n",
              "      <td>0.457548</td>\n",
              "    </tr>\n",
              "    <tr>\n",
              "      <th>1</th>\n",
              "      <td>tsgqmfpef</td>\n",
              "      <td>0.275268</td>\n",
              "    </tr>\n",
              "    <tr>\n",
              "      <th>2</th>\n",
              "      <td>owjcthkz2</td>\n",
              "      <td>0.252047</td>\n",
              "    </tr>\n",
              "    <tr>\n",
              "      <th>3</th>\n",
              "      <td>rvgaocjyy</td>\n",
              "      <td>0.440090</td>\n",
              "    </tr>\n",
              "    <tr>\n",
              "      <th>4</th>\n",
              "      <td>uxtwu5i69</td>\n",
              "      <td>0.837777</td>\n",
              "    </tr>\n",
              "  </tbody>\n",
              "</table>\n",
              "</div>\n",
              "      <button class=\"colab-df-convert\" onclick=\"convertToInteractive('df-58b86442-2d18-4a33-bd07-7a7d663b5441')\"\n",
              "              title=\"Convert this dataframe to an interactive table.\"\n",
              "              style=\"display:none;\">\n",
              "        \n",
              "  <svg xmlns=\"http://www.w3.org/2000/svg\" height=\"24px\"viewBox=\"0 0 24 24\"\n",
              "       width=\"24px\">\n",
              "    <path d=\"M0 0h24v24H0V0z\" fill=\"none\"/>\n",
              "    <path d=\"M18.56 5.44l.94 2.06.94-2.06 2.06-.94-2.06-.94-.94-2.06-.94 2.06-2.06.94zm-11 1L8.5 8.5l.94-2.06 2.06-.94-2.06-.94L8.5 2.5l-.94 2.06-2.06.94zm10 10l.94 2.06.94-2.06 2.06-.94-2.06-.94-.94-2.06-.94 2.06-2.06.94z\"/><path d=\"M17.41 7.96l-1.37-1.37c-.4-.4-.92-.59-1.43-.59-.52 0-1.04.2-1.43.59L10.3 9.45l-7.72 7.72c-.78.78-.78 2.05 0 2.83L4 21.41c.39.39.9.59 1.41.59.51 0 1.02-.2 1.41-.59l7.78-7.78 2.81-2.81c.8-.78.8-2.07 0-2.86zM5.41 20L4 18.59l7.72-7.72 1.47 1.35L5.41 20z\"/>\n",
              "  </svg>\n",
              "      </button>\n",
              "      \n",
              "  <style>\n",
              "    .colab-df-container {\n",
              "      display:flex;\n",
              "      flex-wrap:wrap;\n",
              "      gap: 12px;\n",
              "    }\n",
              "\n",
              "    .colab-df-convert {\n",
              "      background-color: #E8F0FE;\n",
              "      border: none;\n",
              "      border-radius: 50%;\n",
              "      cursor: pointer;\n",
              "      display: none;\n",
              "      fill: #1967D2;\n",
              "      height: 32px;\n",
              "      padding: 0 0 0 0;\n",
              "      width: 32px;\n",
              "    }\n",
              "\n",
              "    .colab-df-convert:hover {\n",
              "      background-color: #E2EBFA;\n",
              "      box-shadow: 0px 1px 2px rgba(60, 64, 67, 0.3), 0px 1px 3px 1px rgba(60, 64, 67, 0.15);\n",
              "      fill: #174EA6;\n",
              "    }\n",
              "\n",
              "    [theme=dark] .colab-df-convert {\n",
              "      background-color: #3B4455;\n",
              "      fill: #D2E3FC;\n",
              "    }\n",
              "\n",
              "    [theme=dark] .colab-df-convert:hover {\n",
              "      background-color: #434B5C;\n",
              "      box-shadow: 0px 1px 3px 1px rgba(0, 0, 0, 0.15);\n",
              "      filter: drop-shadow(0px 1px 2px rgba(0, 0, 0, 0.3));\n",
              "      fill: #FFFFFF;\n",
              "    }\n",
              "  </style>\n",
              "\n",
              "      <script>\n",
              "        const buttonEl =\n",
              "          document.querySelector('#df-58b86442-2d18-4a33-bd07-7a7d663b5441 button.colab-df-convert');\n",
              "        buttonEl.style.display =\n",
              "          google.colab.kernel.accessAllowed ? 'block' : 'none';\n",
              "\n",
              "        async function convertToInteractive(key) {\n",
              "          const element = document.querySelector('#df-58b86442-2d18-4a33-bd07-7a7d663b5441');\n",
              "          const dataTable =\n",
              "            await google.colab.kernel.invokeFunction('convertToInteractive',\n",
              "                                                     [key], {});\n",
              "          if (!dataTable) return;\n",
              "\n",
              "          const docLinkHtml = 'Like what you see? Visit the ' +\n",
              "            '<a target=\"_blank\" href=https://colab.research.google.com/notebooks/data_table.ipynb>data table notebook</a>'\n",
              "            + ' to learn more about interactive tables.';\n",
              "          element.innerHTML = '';\n",
              "          dataTable['output_type'] = 'display_data';\n",
              "          await google.colab.output.renderOutput(dataTable, element);\n",
              "          const docLink = document.createElement('div');\n",
              "          docLink.innerHTML = docLinkHtml;\n",
              "          element.appendChild(docLink);\n",
              "        }\n",
              "      </script>\n",
              "    </div>\n",
              "  </div>\n",
              "  "
            ]
          },
          "metadata": {},
          "execution_count": 62
        }
      ]
    },
    {
      "cell_type": "code",
      "source": [
        "submission_df.to_csv(('/content/drive/MyDrive/nishika/sub.csv'), index=False)"
      ],
      "metadata": {
        "id": "A23widSLVmr-"
      },
      "execution_count": null,
      "outputs": []
    }
  ],
  "metadata": {
    "colab": {
      "collapsed_sections": [],
      "machine_shape": "hm",
      "provenance": []
    },
    "gpuClass": "standard",
    "kernelspec": {
      "display_name": "Python 3",
      "name": "python3"
    },
    "language_info": {
      "name": "python"
    }
  },
  "nbformat": 4,
  "nbformat_minor": 0
}
