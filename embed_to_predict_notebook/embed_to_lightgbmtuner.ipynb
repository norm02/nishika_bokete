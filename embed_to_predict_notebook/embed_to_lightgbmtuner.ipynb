{
  "cells": [
    {
      "cell_type": "code",
      "execution_count": null,
      "metadata": {
        "id": "4h8_aU6mgeJV"
      },
      "outputs": [],
      "source": [
        "#!conda install -c conda-forge lightgbm\n",
        "#!pip install optuna"
      ]
    },
    {
      "cell_type": "code",
      "execution_count": null,
      "metadata": {
        "colab": {
          "base_uri": "https://localhost:8080/"
        },
        "id": "XbQRd4jUUS1V",
        "outputId": "d99ae767-9ff8-4c1b-a8a1-096ca427f7be"
      },
      "outputs": [
        {
          "output_type": "stream",
          "name": "stdout",
          "text": [
            "Mounted at /content/drive\n"
          ]
        }
      ],
      "source": [
        "from google.colab import drive\n",
        "drive.mount('/content/drive')"
      ]
    },
    {
      "cell_type": "code",
      "execution_count": null,
      "metadata": {
        "id": "XEm9k6tUTlsG"
      },
      "outputs": [],
      "source": [
        "import pandas as pd\n",
        "import numpy as np\n",
        "import matplotlib.pyplot as plt\n",
        "import seaborn as sns\n",
        "\n",
        "from sklearn.metrics import mean_squared_error\n",
        "from sklearn.metrics import log_loss\n",
        "from sklearn.model_selection import StratifiedKFold, KFold\n",
        "from sklearn.model_selection import train_test_split\n",
        "from sklearn.metrics import confusion_matrix\n",
        "\n",
        "import sys\n",
        "import os\n",
        "import re\n",
        "import random\n",
        "\n",
        "from time import time\n",
        "from tqdm import tqdm\n",
        "\n",
        "from contextlib import contextmanager\n",
        "import lightgbm as lgb\n",
        "#import optuna.integration.lightgbm as opt_lgb"
      ]
    },
    {
      "cell_type": "code",
      "execution_count": null,
      "metadata": {
        "id": "zPmPFgPYAfU-"
      },
      "outputs": [],
      "source": [
        "#上限表示数を拡張\n",
        "pd.set_option('display.max_columns', 10000)\n",
        "pd.set_option('display.max_rows', 200)"
      ]
    },
    {
      "cell_type": "code",
      "execution_count": null,
      "metadata": {
        "id": "EkuBal2iT4tu"
      },
      "outputs": [],
      "source": [
        "def seed_everything(seed=1234):\n",
        "    random.seed(seed)\n",
        "    os.environ['PYTHONHASHSEED'] = str(seed)\n",
        "    np.random.seed(seed)\n",
        "\n",
        "seed_everything(42)"
      ]
    },
    {
      "cell_type": "code",
      "execution_count": null,
      "metadata": {
        "id": "abkOSTBkUAuu"
      },
      "outputs": [],
      "source": [
        "INPUT = \"/content/drive/MyDrive/nishika/\" # 所望のディレクトリに変更してください。\n",
        "train_df = pd.read_csv(os.path.join(INPUT, \"train.csv\"))\n",
        "test_df = pd.read_csv(os.path.join(INPUT, \"test.csv\"))\n",
        "submission_df = pd.read_csv(os.path.join(INPUT, \"sample_submission.csv\"))"
      ]
    },
    {
      "cell_type": "code",
      "execution_count": null,
      "metadata": {
        "id": "9e1mBWuNUhEF"
      },
      "outputs": [],
      "source": [
        "df_1_tr = pd.read_csv(\"/content/drive/MyDrive/nishika/output/train_SwinTransformerLarge384_V2Large256.csv\")\n",
        "df_1_ts = pd.read_csv(\"/content/drive/MyDrive/nishika/output/test_SwinTransformerLarge384_V2Large256.csv\")"
      ]
    },
    {
      "cell_type": "code",
      "execution_count": null,
      "metadata": {
        "id": "avW-2jWc1k_7"
      },
      "outputs": [],
      "source": [
        "df_2_tr = pd.read_csv(\"/content/drive/MyDrive/nishika/output/train_efb2_rinnabase.csv\")\n",
        "df_2_ts = pd.read_csv(\"/content/drive/MyDrive/nishika/output/test_efb2_rinnabase.csv\")"
      ]
    },
    {
      "cell_type": "code",
      "execution_count": null,
      "metadata": {
        "id": "LRsTYeJzwDFm"
      },
      "outputs": [],
      "source": [
        "df_2_tr = df_2_tr.drop(df_2_tr.columns[352:], axis=1)"
      ]
    },
    {
      "cell_type": "code",
      "execution_count": null,
      "metadata": {
        "id": "Uq5ntOLBxXsF"
      },
      "outputs": [],
      "source": [
        "df_2_ts = df_2_ts.drop(df_2_ts.columns[352:], axis=1)"
      ]
    },
    {
      "cell_type": "code",
      "execution_count": null,
      "metadata": {
        "id": "uab1mkuhx3_E"
      },
      "outputs": [],
      "source": [
        "df_3_tr = pd.read_csv(\"/content/drive/MyDrive/nishika/output/train_swinv2base256_ginza510electra.csv\")\n",
        "df_3_ts = pd.read_csv(\"/content/drive/MyDrive/nishika/output/test_swinv2base256_ginza510electra.csv\")"
      ]
    },
    {
      "cell_type": "code",
      "execution_count": null,
      "metadata": {
        "id": "lhNoCqtNyxO8"
      },
      "outputs": [],
      "source": [
        "df_4_tr = pd.read_csv(\"/content/drive/MyDrive/nishika/output/train_efv2b2_resnet152_jaginza.csv\")\n",
        "df_4_ts = pd.read_csv(\"/content/drive/MyDrive/nishika/output/test_efv2b2_resnet152_jaginza.csv\")"
      ]
    },
    {
      "cell_type": "code",
      "execution_count": null,
      "metadata": {
        "id": "lCXdu3heyCTl"
      },
      "outputs": [],
      "source": [
        "df_4_tr = df_4_tr.drop(df_4_tr.columns[352:], axis=1)"
      ]
    },
    {
      "cell_type": "code",
      "execution_count": null,
      "metadata": {
        "id": "Fi4jGqvFyY-i"
      },
      "outputs": [],
      "source": [
        "df_4_ts = df_4_ts.drop(df_4_ts.columns[352:], axis=1)"
      ]
    },
    {
      "cell_type": "code",
      "execution_count": null,
      "metadata": {
        "id": "K800xzjLXruQ"
      },
      "outputs": [],
      "source": [
        "#swinL384,swinV2L256,Roberta-text,efb2\n",
        "df_tmp_tr_1 = pd.concat([df_1_tr,df_2_tr],axis=1)\n",
        "df_tmp_ts_1 = pd.concat([df_1_ts,df_2_ts],axis=1)"
      ]
    },
    {
      "cell_type": "code",
      "execution_count": null,
      "metadata": {
        "id": "wxk4xwOSz-Mx"
      },
      "outputs": [],
      "source": [
        "#ginza510-electra-base-text,swinv2base256\n",
        "df_tmp_tr_2 = pd.concat([df_tmp_tr_1,df_3_tr],axis=1)\n",
        "df_tmp_tr_2 = pd.concat([df_1_tr,df_3_tr],axis=1)\n",
        "df_tmp_ts_2 = pd.concat([df_tmp_ts_1,df_3_ts],axis=1)\n",
        "df_tmp_ts_2 = pd.concat([df_1_ts,df_3_ts],axis=1)"
      ]
    },
    {
      "cell_type": "code",
      "execution_count": null,
      "metadata": {
        "id": "mkGpKte_0IWs"
      },
      "outputs": [],
      "source": [
        "#efficientnetv2b2,resnet152,jaginza(ginza_electra_text)\n",
        "df_tmp_tr_3 = pd.concat([df_tmp_tr_2,df_4_tr],axis=1)\n",
        "df_tmp_ts_3 = pd.concat([df_tmp_ts_2,df_4_ts],axis=1)"
      ]
    },
    {
      "cell_type": "code",
      "execution_count": null,
      "metadata": {
        "id": "vQmbLHBL4iz7"
      },
      "outputs": [],
      "source": [
        "#train_tmp = df_tmp_tr_3.drop([\"is_laugh\",\"odai_photo_file_name\"], axis=1)"
      ]
    },
    {
      "cell_type": "code",
      "execution_count": null,
      "metadata": {
        "id": "rhzVwDqM6tzl"
      },
      "outputs": [],
      "source": [
        "#test_tmp = df_tmp_ts_3.drop([\"odai_photo_file_name\"], axis=1)"
      ]
    },
    {
      "cell_type": "code",
      "execution_count": null,
      "metadata": {
        "id": "ekmjqzMw1KYF"
      },
      "outputs": [],
      "source": [
        "#df_5_tr = pd.read_csv(\"/content/drive/MyDrive/nishika/embeded/embedding_train_image_beit.csv\")\n",
        "#df_5_ts = pd.read_csv(\"/content/drive/MyDrive/nishika/embeded/embedding_test_image_beit.csv\")"
      ]
    },
    {
      "cell_type": "code",
      "execution_count": null,
      "metadata": {
        "id": "da0NsVoC1XMW"
      },
      "outputs": [],
      "source": [
        "#df_5_tr = df_5_tr.drop([\"Unnamed: 0\",\"odai_photo_file_name\",\"id\", \"text\",\"is_laugh\"], axis=1)\n",
        "#df_5_ts = df_5_ts.drop([\"Unnamed: 0\",\"odai_photo_file_name\",\"id\", \"text\"], axis=1)"
      ]
    },
    {
      "cell_type": "code",
      "execution_count": null,
      "metadata": {
        "id": "oKGS21Lz5Hmc"
      },
      "outputs": [],
      "source": [
        "#train_tmp = pd.concat([train_emb,df_5_tr],axis=1)\n",
        "#train_tmp = pd.concat([train_emb,df_4_tr],axis=1)\n",
        "#test_tmp = pd.concat([test_emb,df_5_ts],axis=1)\n",
        "#test_tmp = pd.concat([test_emb,df_4_ts],axis=1)"
      ]
    },
    {
      "cell_type": "code",
      "execution_count": null,
      "metadata": {
        "id": "qzlQNGLajjmD"
      },
      "outputs": [],
      "source": [
        "#df_6_tr = pd.read_csv(\"/content/drive/MyDrive/nishika/embeded/embedding_train_rinna_clip_big_batch.csv\")\n",
        "#df_6_ts = pd.read_csv(\"/content/drive/MyDrive/nishika/embeded/embedding_test_rinna_clip_bigbatch.csv\")"
      ]
    },
    {
      "cell_type": "code",
      "execution_count": null,
      "metadata": {
        "id": "kr9N2cqrPfXs"
      },
      "outputs": [],
      "source": [
        "#df_6_tr = df_6_tr.drop([\"img_path\",\"Unnamed: 0\",\"odai_photo_file_name\",\"id\", \"text\",\"is_laugh\"], axis=1)\n",
        "#df_6_ts = df_6_ts.drop([\"img_path\",\"Unnamed: 0\",\"odai_photo_file_name\",\"id\", \"text\"], axis=1)"
      ]
    },
    {
      "cell_type": "code",
      "execution_count": null,
      "metadata": {
        "id": "DepRLSFQj8os"
      },
      "outputs": [],
      "source": [
        "#df_6_tr = df_6_tr.drop(df_6_tr.columns[0:1030], axis=1)"
      ]
    },
    {
      "cell_type": "code",
      "execution_count": null,
      "metadata": {
        "id": "iwcRs_UdkShe"
      },
      "outputs": [],
      "source": [
        "#df_6_ts = df_6_ts.drop(df_6_ts.columns[0:1029], axis=1)"
      ]
    },
    {
      "cell_type": "code",
      "execution_count": null,
      "metadata": {
        "id": "k0WKcn0B2L8n"
      },
      "outputs": [],
      "source": [
        "#train_tmp_2 = pd.concat([train_tmp,df_6_tr],axis=1)\n",
        "#test_tmp_2 = pd.concat([test_tmp,df_6_ts],axis=1)"
      ]
    },
    {
      "cell_type": "code",
      "execution_count": null,
      "metadata": {
        "id": "JA197nUoxOOK"
      },
      "outputs": [],
      "source": [
        "#cos_tr = pd.read_csv('/content/drive/MyDrive/nishika/output/tsne_cos_sim_tr_df.csv')\n",
        "#cos_ts = pd.read_csv('/content/drive/MyDrive/nishika/output/tsne_cos_sim_ts_df.csv')"
      ]
    },
    {
      "cell_type": "code",
      "execution_count": null,
      "metadata": {
        "id": "k5DiwSbylGE3"
      },
      "outputs": [],
      "source": [
        "#train = pd.concat([train_tmp_2,train_df],axis=1)\n",
        "#train = pd.concat([train_tmp,cos_tr],axis=1)\n",
        "#test = pd.concat([test_tmp_2,test_df],axis=1)\n",
        "#test = pd.concat([test_tmp,cos_ts],axis=1)"
      ]
    },
    {
      "cell_type": "code",
      "execution_count": null,
      "metadata": {
        "id": "KREL9yZo8tiM"
      },
      "outputs": [],
      "source": [
        "#tr_debv3 = pd.read_csv(\"/content/drive/MyDrive/nishika/embeded/embedding_train_debertav3.csv\")\n",
        "#ts_debv3 = pd.read_csv(\"/content/drive/MyDrive/nishika/embeded/embedding_test_debertav3.csv\")"
      ]
    },
    {
      "cell_type": "code",
      "execution_count": null,
      "metadata": {
        "id": "sjs8pP3X9EoZ"
      },
      "outputs": [],
      "source": [
        "#tr_debv3 = tr_debv3.drop([\"Unnamed: 0\",\"is_laugh\",\"id\",\"text\",\"odai_photo_file_name\"], axis=1)"
      ]
    },
    {
      "cell_type": "code",
      "execution_count": null,
      "metadata": {
        "id": "QvGzdax-94c6"
      },
      "outputs": [],
      "source": [
        "#ts_debv3 = ts_debv3.drop([\"Unnamed: 0\",\"id\",\"text\",\"odai_photo_file_name\"], axis=1)"
      ]
    },
    {
      "cell_type": "code",
      "execution_count": null,
      "metadata": {
        "id": "v4r_zOWeW5VW"
      },
      "outputs": [],
      "source": [
        "#tr_debv2 = pd.read_csv(\"/content/drive/MyDrive/nishika/embeded/embedding_train_debertav2.csv\")\n",
        "#ts_debv2 = pd.read_csv(\"/content/drive/MyDrive/nishika/embeded/embedding_test_debertav2.csv\")"
      ]
    },
    {
      "cell_type": "code",
      "execution_count": null,
      "metadata": {
        "id": "NUIvr69gXJ5O"
      },
      "outputs": [],
      "source": [
        "#tr_debv2 = tr_debv2.drop([\"Unnamed: 0\",\"is_laugh\",\"id\",\"text\",\"odai_photo_file_name\"], axis=1)\n",
        "#ts_debv2 = ts_debv2.drop([\"Unnamed: 0\",\"id\",\"text\",\"odai_photo_file_name\"], axis=1)"
      ]
    },
    {
      "cell_type": "code",
      "execution_count": null,
      "metadata": {
        "id": "ExovqVI3XSye"
      },
      "outputs": [],
      "source": [
        "#tr_deb = pd.read_csv(\"/content/drive/MyDrive/nishika/embeded/embedding_train_deberta.csv\")\n",
        "#ts_deb = pd.read_csv(\"/content/drive/MyDrive/nishika/embeded/embedding_test_deberta.csv\")"
      ]
    },
    {
      "cell_type": "code",
      "execution_count": null,
      "metadata": {
        "id": "TjRkKQeQXfAv"
      },
      "outputs": [],
      "source": [
        "#tr_deb = tr_deb.drop([\"Unnamed: 0\",\"is_laugh\",\"id\",\"text\",\"odai_photo_file_name\"], axis=1)\n",
        "#ts_deb = ts_deb.drop([\"Unnamed: 0\",\"id\",\"text\",\"odai_photo_file_name\"], axis=1)"
      ]
    },
    {
      "cell_type": "code",
      "execution_count": null,
      "metadata": {
        "id": "HCGFGGX4Xk4e"
      },
      "outputs": [],
      "source": [
        "#tr_tmp_db1= pd.concat([tr_deb,tr_debv2],axis=1)\n",
        "#ts_tmp_db1 = pd.concat([ts_deb,ts_debv2],axis=1)"
      ]
    },
    {
      "cell_type": "code",
      "execution_count": null,
      "metadata": {
        "id": "CDsuU4KCX4ge"
      },
      "outputs": [],
      "source": [
        "#tr_tmp_db2= pd.concat([tr_tmp_db1,tr_debv3],axis=1)\n",
        "#ts_tmp_db2 = pd.concat([ts_tmp_db1,ts_debv3],axis=1)"
      ]
    },
    {
      "cell_type": "code",
      "execution_count": null,
      "metadata": {
        "id": "x2-PqEIc9-vt"
      },
      "outputs": [],
      "source": [
        "#train_tmp_2 = pd.concat([tr_tmp_db1,tr_tmp_db2],axis=1)\n",
        "#test_tmp_2 = pd.concat([ts_tmp_db1,ts_tmp_db2],axis=1)"
      ]
    },
    {
      "cell_type": "code",
      "execution_count": null,
      "metadata": {
        "id": "OXOECrRIef2U"
      },
      "outputs": [],
      "source": [
        "#tr_tmpo = pd.concat([train_tmp,tr_deb],axis=1)\n",
        "#ts_tmpo = pd.concat([test_tmp,ts_deb],axis=1)"
      ]
    },
    {
      "cell_type": "code",
      "execution_count": null,
      "metadata": {
        "id": "0JCXKOqOtc5W"
      },
      "outputs": [],
      "source": [
        "#train_tmpo = pd.concat([df_2_tr,df_4_tr],axis=1)\n",
        "#test_tmpo = pd.concat([df_2_ts,df_4_ts],axis=1)"
      ]
    },
    {
      "cell_type": "code",
      "execution_count": null,
      "metadata": {
        "id": "2qH4331fOoe8"
      },
      "outputs": [],
      "source": [
        "#train_tmpo = pd.concat([train_tmpo,df_6_tr],axis=1)\n",
        "#test_tmpo = pd.concat([test_tmpo,df_6_ts],axis=1)"
      ]
    },
    {
      "cell_type": "code",
      "execution_count": null,
      "metadata": {
        "id": "JKKHqCBqo-DN"
      },
      "outputs": [],
      "source": [
        "#train_tmp = pd.concat([train_tmpo,train_tmp_2],axis=1)\n",
        "#test_tmp = pd.concat([test_tmpo,test_tmp_2],axis=1)"
      ]
    },
    {
      "cell_type": "code",
      "execution_count": null,
      "metadata": {
        "id": "8uyAJR3pBtnb"
      },
      "outputs": [],
      "source": [
        "train = pd.concat([df_tmp_tr_3,train_df],axis=1)\n",
        "test = pd.concat([df_tmp_ts_3,test_df],axis=1)"
      ]
    },
    {
      "cell_type": "code",
      "execution_count": null,
      "metadata": {
        "id": "yOV8ys4NPKcE"
      },
      "outputs": [],
      "source": [
        "print(train)"
      ]
    },
    {
      "cell_type": "code",
      "execution_count": null,
      "metadata": {
        "id": "vJR4VirHJcB7"
      },
      "outputs": [],
      "source": [
        "train[\"text_len\"] = train[\"text\"].str.len()\n",
        "test[\"text_len\"] = test[\"text\"].str.len()"
      ]
    },
    {
      "cell_type": "code",
      "execution_count": null,
      "metadata": {
        "id": "0pInRB316fFo"
      },
      "outputs": [],
      "source": [
        "# 学習データと評価データに分割します\n",
        "train, valid = train_test_split(train, test_size=0.2, random_state=42, stratify=train[\"is_laugh\"])\n",
        "\n",
        "train_y = train[\"is_laugh\"]\n",
        "train_x = train.drop([\"odai_photo_file_name\",\"is_laugh\",\"id\",\"text\"], axis=1)\n",
        "\n",
        "valid_y = valid[\"is_laugh\"]\n",
        "valid_x = valid.drop([\"odai_photo_file_name\",\"is_laugh\",\"id\",\"text\"], axis=1)\n",
        "\n",
        "test_x = test.drop([\"odai_photo_file_name\",\"id\",\"text\"], axis=1)"
      ]
    },
    {
      "cell_type": "code",
      "execution_count": null,
      "metadata": {
        "id": "2DyOqFn57PAA",
        "colab": {
          "base_uri": "https://localhost:8080/"
        },
        "outputId": "b1961d8b-2f12-411d-b8ef-74c5d0514037"
      },
      "outputs": [
        {
          "output_type": "stream",
          "name": "stdout",
          "text": [
            "(19969, 2146)\n",
            "(4993, 2146)\n"
          ]
        }
      ],
      "source": [
        "print(train_x.shape)\n",
        "print(valid_x.shape)"
      ]
    },
    {
      "cell_type": "code",
      "execution_count": null,
      "metadata": {
        "id": "0oRUq7LEDj4X"
      },
      "outputs": [],
      "source": [
        "\n",
        "train_x = train_x.T.drop_duplicates().T\n",
        "valid_x = valid_x.T.drop_duplicates().T \n",
        "test_x = test_x.T.drop_duplicates().T \n"
      ]
    },
    {
      "cell_type": "code",
      "execution_count": null,
      "metadata": {
        "id": "m06JY9e0BiZ6"
      },
      "outputs": [],
      "source": [
        "\"\"\"\n",
        "dtrain = opt_lgb.Dataset(train_x, train_y)\n",
        "deval = opt_lgb.Dataset(valid_x, valid_y, reference=dtrain)\n",
        "\n",
        "best_params, history = {}, []\n",
        "param = {\n",
        "        'objective': 'binary',\n",
        "        'verbosity': -1,\n",
        "        'boosting_type': 'gbdt',\n",
        "    }\n",
        "\n",
        "opt = opt_lgb.train(param, \n",
        "                 dtrain,\n",
        "                 valid_sets=deval,\n",
        "                 num_boost_round=10000,\n",
        "                 early_stopping_rounds=100)\n",
        "\"\"\""
      ]
    },
    {
      "cell_type": "code",
      "execution_count": null,
      "metadata": {
        "id": "tYfRW84gB8mD"
      },
      "outputs": [],
      "source": [
        "#最適化したパラメータを表示する。\n",
        "#best_params = opt.params\n",
        "#print(best_params)\n",
        "\"\"\"\n",
        "params = {  \n",
        "    \"n_estimators\": 20000,\n",
        "    \"objective\": 'binary',\n",
        "    \"learning_rate\": 0.01,\n",
        "    'lambda_l1': 8.553323365580143, \n",
        "    'lambda_l2': 0.00024389221237366783, \n",
        "    'num_leaves': 240, \n",
        "    'feature_fraction': 0.6839999999999999, \n",
        "    'bagging_fraction': 0.6378550454605715, \n",
        "    'bagging_freq': 1,\n",
        "    \"random_state\": 71,\n",
        "    \"n_jobs\": -1,\n",
        "    \"importance_type\": \"gain\",\n",
        "    'colsample_bytree': .8,\n",
        "    \"reg_lambda\": 5,\n",
        "    \"max_depth\":9,\n",
        "    'min_child_samples': 20\n",
        "    }\n",
        "\n",
        "lgtrain = lgb.Dataset(train_x, train_y)\n",
        "lgvalid = lgb.Dataset(valid_x, valid_y)\n",
        "\n",
        "lgb_clf = lgb.train(\n",
        "    params,\n",
        "    lgtrain,\n",
        "    num_boost_round=10000,\n",
        "    valid_sets=[lgtrain, lgvalid],\n",
        "    valid_names=['train','valid'],\n",
        "    early_stopping_rounds=100,\n",
        "    verbose_eval=100\n",
        ")\n",
        "\"\"\""
      ]
    },
    {
      "cell_type": "code",
      "execution_count": null,
      "metadata": {
        "id": "dZS_euCU79xd"
      },
      "outputs": [],
      "source": [
        "\n",
        "params = {  \n",
        "    \"n_estimators\": 20000,\n",
        "    \"objective\": 'binary',\n",
        "    \"learning_rate\": 1e-5,\n",
        "    'lambda_l1': 8.553323365580143, \n",
        "    'lambda_l2': 0.00024389221237366783, \n",
        "    'num_leaves': 240, \n",
        "    'feature_fraction': 0.6839999999999999, \n",
        "    'bagging_fraction': 0.6378550454605715, \n",
        "    'bagging_freq': 1,\n",
        "    \"random_state\": 71,\n",
        "    \"n_jobs\": -1,\n",
        "    \"importance_type\": \"gain\",\n",
        "    'colsample_bytree': .8,\n",
        "    \"reg_lambda\": 5,\n",
        "    \"max_depth\":9,\n",
        "    'min_child_samples': 20\n",
        "    }\n",
        "\n",
        "lgtrain = lgb.Dataset(train_x, train_y)\n",
        "lgvalid = lgb.Dataset(valid_x, valid_y)\n",
        "\n",
        "lgb_clf = lgb.train(\n",
        "    params,\n",
        "    lgtrain,\n",
        "    num_boost_round=10000,\n",
        "    valid_sets=[lgtrain, lgvalid],\n",
        "    valid_names=['train','valid'],\n",
        "    early_stopping_rounds=100,\n",
        "    verbose_eval=100\n",
        ")"
      ]
    },
    {
      "cell_type": "code",
      "execution_count": null,
      "metadata": {
        "id": "5m1V_v6T9vMz"
      },
      "outputs": [],
      "source": [
        "# 特徴量の重要度を可視化。\n",
        "lgb.plot_importance(lgb_clf, figsize=(15,20), max_num_features=100, importance_type='gain')\n",
        "plt.tight_layout()\n",
        "plt.show()"
      ]
    },
    {
      "cell_type": "code",
      "execution_count": null,
      "metadata": {
        "id": "qQaVWqkTAZ74"
      },
      "outputs": [],
      "source": [
        "# 評価指標はlog lossだが、accuracyも見てみる\n",
        "\n",
        "val_pred = lgb_clf.predict(valid_x, num_iteration=lgb_clf.best_iteration)\n",
        "val_pred_max = np.round(lgb_clf.predict(valid_x)).astype(int)  # クラスに分類\n",
        "accuracy = sum(valid_y == val_pred_max) / len(valid_y)\n",
        "print(accuracy)"
      ]
    },
    {
      "cell_type": "markdown",
      "metadata": {
        "id": "I0yZN_NTrAqk"
      },
      "source": [
        "\n",
        "default\n",
        "0.6214700580813138\n",
        "d lr 0.01 depth9\n",
        "0.6328860404566393"
      ]
    },
    {
      "cell_type": "code",
      "execution_count": null,
      "metadata": {
        "id": "FPX2pXaZBMpu"
      },
      "outputs": [],
      "source": [
        "_conf_options = {\"normalize\": None,}\n",
        "_plot_options = {\n",
        "        \"cmap\": \"Blues\",\n",
        "        \"annot\": True\n",
        "    }\n",
        "\n",
        "conf = confusion_matrix(y_true=valid_y,\n",
        "                        y_pred=val_pred_max,\n",
        "                        **_conf_options)\n",
        "\n",
        "fig, ax = plt.subplots(figsize=(8, 8))\n",
        "sns.heatmap(conf, ax=ax, **_plot_options)\n",
        "ax.set_ylabel(\"Label\")\n",
        "ax.set_xlabel(\"Predict\")"
      ]
    },
    {
      "cell_type": "code",
      "execution_count": null,
      "metadata": {
        "id": "gGvSdvMH-hq5"
      },
      "outputs": [],
      "source": [
        "test_pred = lgb_clf.predict(test_x, num_iteration=lgb_clf.best_iteration)"
      ]
    },
    {
      "cell_type": "code",
      "execution_count": null,
      "metadata": {
        "id": "p8g6BTPjCg9R"
      },
      "outputs": [],
      "source": [
        "submission_df[\"is_laugh\"] = test_pred\n",
        "submission_df.head()"
      ]
    },
    {
      "cell_type": "code",
      "execution_count": null,
      "metadata": {
        "id": "wV2NPdgBEYM2"
      },
      "outputs": [],
      "source": [
        "submission_df.to_csv(('sub.csv'), index=False)"
      ]
    }
  ],
  "metadata": {
    "colab": {
      "collapsed_sections": [],
      "machine_shape": "hm",
      "provenance": []
    },
    "gpuClass": "standard",
    "kernelspec": {
      "display_name": "Python 3",
      "name": "python3"
    },
    "language_info": {
      "name": "python"
    }
  },
  "nbformat": 4,
  "nbformat_minor": 0
}
