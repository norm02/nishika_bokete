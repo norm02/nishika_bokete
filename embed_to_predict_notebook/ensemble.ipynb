{
  "nbformat": 4,
  "nbformat_minor": 0,
  "metadata": {
    "colab": {
      "provenance": [],
      "collapsed_sections": [],
      "mount_file_id": "1XcuPjSHFevYSDS4osQlZ64hFVtNI2ywU",
      "authorship_tag": "ABX9TyNWg8neb7YEjxJW2kPJKh9V"
    },
    "kernelspec": {
      "name": "python3",
      "display_name": "Python 3"
    },
    "language_info": {
      "name": "python"
    }
  },
  "cells": [
    {
      "cell_type": "code",
      "execution_count": null,
      "metadata": {
        "id": "kPaG3TbNF4TB"
      },
      "outputs": [],
      "source": [
        "import pandas as pd\n",
        "import numpy as np\n",
        "import os\n",
        "\n",
        "from PIL import Image"
      ]
    },
    {
      "cell_type": "code",
      "source": [
        "#上限表示数を拡張\n",
        "pd.set_option('display.max_columns', 100)\n",
        "pd.set_option('display.max_rows', 6000)"
      ],
      "metadata": {
        "id": "5T25VRfi06VE"
      },
      "execution_count": null,
      "outputs": []
    },
    {
      "cell_type": "code",
      "source": [
        "INPUT = \"/content/drive/MyDrive/nishika\"\n",
        "train_df = pd.read_csv(os.path.join(INPUT, \"train.csv\"))\n",
        "test_df = pd.read_csv(os.path.join(INPUT, \"test.csv\"))"
      ],
      "metadata": {
        "id": "RV-SOg0H2fhc"
      },
      "execution_count": null,
      "outputs": []
    },
    {
      "cell_type": "code",
      "source": [
        "train_image_path = \"/content/drive/MyDrive/nishika/train/\"\n",
        "test_image_path = \"/content/drive/MyDrive/nishika/test/\""
      ],
      "metadata": {
        "id": "1LtGOVoj1Ftk"
      },
      "execution_count": null,
      "outputs": []
    },
    {
      "cell_type": "code",
      "source": [
        "gpt_np = np.load(\"/content/drive/MyDrive/nishika/output/test_prediction_full0.npy\")"
      ],
      "metadata": {
        "id": "ZFPnrw3bN2h5"
      },
      "execution_count": null,
      "outputs": []
    },
    {
      "cell_type": "code",
      "source": [
        "df_1 = pd.read_csv('/content/drive/MyDrive/nishika/sub/sub93.csv')\n",
        "\n",
        "df_2 = pd.read_csv('/content/drive/MyDrive/nishika/sub/sub94.csv')\n",
        "\n",
        "df_4 = pd.read_csv('/content/drive/MyDrive/nishika/sub/sub100.csv')\n",
        "\n",
        "df_5 = pd.read_csv('/content/drive/MyDrive/nishika/sub/sub101.csv')"
      ],
      "metadata": {
        "id": "u6DsdKhlF6VC"
      },
      "execution_count": null,
      "outputs": []
    },
    {
      "cell_type": "code",
      "source": [
        "from scipy.special import softmax"
      ],
      "metadata": {
        "id": "X2hUbeRLuUF8"
      },
      "execution_count": null,
      "outputs": []
    },
    {
      "cell_type": "code",
      "source": [
        "m = softmax(gpt_np, axis=1)"
      ],
      "metadata": {
        "id": "faMwLoPXuXE2"
      },
      "execution_count": null,
      "outputs": []
    },
    {
      "cell_type": "code",
      "source": [
        "print(m)"
      ],
      "metadata": {
        "id": "en5zeLoIcmK9"
      },
      "execution_count": null,
      "outputs": []
    },
    {
      "cell_type": "code",
      "source": [
        "arg = np.max(m,axis=1)"
      ],
      "metadata": {
        "id": "ozqr_ZQduRE7"
      },
      "execution_count": null,
      "outputs": []
    },
    {
      "cell_type": "code",
      "source": [
        "print(arg)"
      ],
      "metadata": {
        "id": "RaaGeuAbvtxU"
      },
      "execution_count": null,
      "outputs": []
    },
    {
      "cell_type": "code",
      "source": [
        "df_3 = pd.DataFrame(arg)"
      ],
      "metadata": {
        "id": "iji8aF8xvy5M"
      },
      "execution_count": null,
      "outputs": []
    },
    {
      "cell_type": "code",
      "source": [
        "df_3 = df_3.rename(columns={0: 'gpt_laugh'})"
      ],
      "metadata": {
        "id": "c7DxmMw8_a15"
      },
      "execution_count": null,
      "outputs": []
    },
    {
      "cell_type": "code",
      "source": [
        "df_1[\"sa\"] = df_2[\"is_laugh\"] - df_1[\"is_laugh\"]"
      ],
      "metadata": {
        "id": "REAWxXK5Ls-L"
      },
      "execution_count": null,
      "outputs": []
    },
    {
      "cell_type": "code",
      "source": [
        "import matplotlib.pyplot as plt"
      ],
      "metadata": {
        "id": "hxlgy6zkxatt"
      },
      "execution_count": null,
      "outputs": []
    },
    {
      "cell_type": "code",
      "source": [
        "plt.hist(x=df_1.sa)       "
      ],
      "metadata": {
        "colab": {
          "base_uri": "https://localhost:8080/",
          "height": 379
        },
        "id": "RPhGID6qytqK",
        "outputId": "5b40d9af-56ce-4280-b7b0-e0f18681e897"
      },
      "execution_count": null,
      "outputs": [
        {
          "output_type": "execute_result",
          "data": {
            "text/plain": [
              "(array([  24.,  113.,  383., 1013., 1532., 1510.,  938.,  369.,   99.,\n",
              "          19.]),\n",
              " array([-0.27823531, -0.22245104, -0.16666678, -0.11088252, -0.05509825,\n",
              "         0.00068601,  0.05647028,  0.11225454,  0.16803881,  0.22382307,\n",
              "         0.27960734]),\n",
              " <a list of 10 Patch objects>)"
            ]
          },
          "metadata": {},
          "execution_count": 17
        },
        {
          "output_type": "display_data",
          "data": {
            "text/plain": [
              "<Figure size 432x288 with 1 Axes>"
            ],
            "image/png": "[encoded data removed]"
          },
          "metadata": {
            "needs_background": "light"
          }
        }
      ]
    },
    {
      "cell_type": "code",
      "source": [
        "diff= df_1[\"sa\"].abs()"
      ],
      "metadata": {
        "id": "qC9M1wpKzTE0"
      },
      "execution_count": null,
      "outputs": []
    },
    {
      "cell_type": "code",
      "source": [
        "df_1 = pd.concat([df_1,df_3],axis=1)"
      ],
      "metadata": {
        "id": "N3V4sDmIGyoN"
      },
      "execution_count": null,
      "outputs": []
    },
    {
      "cell_type": "code",
      "source": [
        "df_1[\"new_laugh\"] = df_1[\"gpt_laugh\"].where(diff>0.2, df_1[\"is_laugh\"])"
      ],
      "metadata": {
        "id": "pCi5DK1GBB-1"
      },
      "execution_count": null,
      "outputs": []
    },
    {
      "cell_type": "code",
      "source": [
        "big_diff = diff[diff>0.2]"
      ],
      "metadata": {
        "id": "ZLA-pK740BA8"
      },
      "execution_count": null,
      "outputs": []
    },
    {
      "cell_type": "code",
      "source": [
        "big_diff.sort_values(ascending=True)"
      ],
      "metadata": {
        "id": "iQwPIoZc0Ti9",
        "colab": {
          "base_uri": "https://localhost:8080/"
        },
        "outputId": "242c4ec9-a945-4b30-8279-3d2993d59cd3"
      },
      "execution_count": null,
      "outputs": [
        {
          "output_type": "execute_result",
          "data": {
            "text/plain": [
              "974     0.200682\n",
              "5915    0.201361\n",
              "33      0.201647\n",
              "1743    0.201688\n",
              "106     0.202038\n",
              "323     0.203637\n",
              "131     0.203852\n",
              "3931    0.204013\n",
              "5952    0.204530\n",
              "3344    0.204675\n",
              "3705    0.204734\n",
              "3767    0.204753\n",
              "930     0.204963\n",
              "3559    0.205339\n",
              "5265    0.205361\n",
              "5775    0.206157\n",
              "4719    0.206256\n",
              "228     0.207318\n",
              "3926    0.207424\n",
              "2795    0.207472\n",
              "5478    0.207773\n",
              "3125    0.208148\n",
              "3713    0.208345\n",
              "2879    0.208462\n",
              "2196    0.208739\n",
              "1907    0.208954\n",
              "1783    0.210306\n",
              "2351    0.213136\n",
              "4848    0.213386\n",
              "1301    0.213626\n",
              "5414    0.213911\n",
              "5379    0.213989\n",
              "1077    0.214491\n",
              "324     0.214627\n",
              "4301    0.214770\n",
              "2209    0.217160\n",
              "5274    0.217486\n",
              "2872    0.217863\n",
              "592     0.218540\n",
              "1915    0.219139\n",
              "4661    0.219553\n",
              "3718    0.220912\n",
              "1814    0.220983\n",
              "3557    0.221105\n",
              "2464    0.221866\n",
              "3788    0.223202\n",
              "4023    0.223589\n",
              "2672    0.224592\n",
              "3964    0.225189\n",
              "1306    0.225503\n",
              "5266    0.225534\n",
              "4578    0.225720\n",
              "964     0.226103\n",
              "3068    0.226879\n",
              "5472    0.227595\n",
              "4116    0.228198\n",
              "1140    0.229686\n",
              "124     0.229765\n",
              "869     0.229775\n",
              "4911    0.231758\n",
              "2558    0.232250\n",
              "2711    0.232539\n",
              "3854    0.233271\n",
              "1125    0.233377\n",
              "1596    0.234974\n",
              "242     0.235477\n",
              "5346    0.236406\n",
              "828     0.236721\n",
              "1082    0.239316\n",
              "4293    0.239503\n",
              "5708    0.239544\n",
              "3694    0.241677\n",
              "2590    0.242491\n",
              "4350    0.245957\n",
              "418     0.247886\n",
              "1071    0.251543\n",
              "845     0.253422\n",
              "1255    0.254512\n",
              "3120    0.254532\n",
              "545     0.256929\n",
              "604     0.258445\n",
              "3960    0.259813\n",
              "2145    0.260831\n",
              "5537    0.262156\n",
              "5325    0.262562\n",
              "2276    0.267477\n",
              "921     0.275846\n",
              "4598    0.278235\n",
              "4785    0.279607\n",
              "Name: sa, dtype: float64"
            ]
          },
          "metadata": {},
          "execution_count": 22
        }
      ]
    },
    {
      "cell_type": "code",
      "source": [
        "df = pd.DataFrame({\"df_1\":df_1['is_laugh'],\n",
        "                  \"df_2\":df_2['is_laugh'],\n",
        "                   \"df_4\":df_4['is_laugh'],\n",
        "                    \"df_5\":df_5['is_laugh'],\n",
        "                 })\n",
        "\n",
        "# 相関行列\n",
        "df.corr()"
      ],
      "metadata": {
        "colab": {
          "base_uri": "https://localhost:8080/",
          "height": 175
        },
        "id": "emMsaFu-F-1x",
        "outputId": "3b76082f-5b17-43a7-8e82-ca24df8f4b35"
      },
      "execution_count": null,
      "outputs": [
        {
          "output_type": "execute_result",
          "data": {
            "text/plain": [
              "          df_1      df_2      df_4      df_5\n",
              "df_1  1.000000  0.877209  0.985888  0.873612\n",
              "df_2  0.877209  1.000000  0.871200  0.984474\n",
              "df_4  0.985888  0.871200  1.000000  0.867171\n",
              "df_5  0.873612  0.984474  0.867171  1.000000"
            ],
            "text/html": [
              "\n",
              "  <div id=\"df-854dc63f-521b-4513-82cd-2586070bff94\">\n",
              "    <div class=\"colab-df-container\">\n",
              "      <div>\n",
              "<style scoped>\n",
              "    .dataframe tbody tr th:only-of-type {\n",
              "        vertical-align: middle;\n",
              "    }\n",
              "\n",
              "    .dataframe tbody tr th {\n",
              "        vertical-align: top;\n",
              "    }\n",
              "\n",
              "    .dataframe thead th {\n",
              "        text-align: right;\n",
              "    }\n",
              "</style>\n",
              "<table border=\"1\" class=\"dataframe\">\n",
              "  <thead>\n",
              "    <tr style=\"text-align: right;\">\n",
              "      <th></th>\n",
              "      <th>df_1</th>\n",
              "      <th>df_2</th>\n",
              "      <th>df_4</th>\n",
              "      <th>df_5</th>\n",
              "    </tr>\n",
              "  </thead>\n",
              "  <tbody>\n",
              "    <tr>\n",
              "      <th>df_1</th>\n",
              "      <td>1.000000</td>\n",
              "      <td>0.877209</td>\n",
              "      <td>0.985888</td>\n",
              "      <td>0.873612</td>\n",
              "    </tr>\n",
              "    <tr>\n",
              "      <th>df_2</th>\n",
              "      <td>0.877209</td>\n",
              "      <td>1.000000</td>\n",
              "      <td>0.871200</td>\n",
              "      <td>0.984474</td>\n",
              "    </tr>\n",
              "    <tr>\n",
              "      <th>df_4</th>\n",
              "      <td>0.985888</td>\n",
              "      <td>0.871200</td>\n",
              "      <td>1.000000</td>\n",
              "      <td>0.867171</td>\n",
              "    </tr>\n",
              "    <tr>\n",
              "      <th>df_5</th>\n",
              "      <td>0.873612</td>\n",
              "      <td>0.984474</td>\n",
              "      <td>0.867171</td>\n",
              "      <td>1.000000</td>\n",
              "    </tr>\n",
              "  </tbody>\n",
              "</table>\n",
              "</div>\n",
              "      <button class=\"colab-df-convert\" onclick=\"convertToInteractive('df-854dc63f-521b-4513-82cd-2586070bff94')\"\n",
              "              title=\"Convert this dataframe to an interactive table.\"\n",
              "              style=\"display:none;\">\n",
              "        \n",
              "  <svg xmlns=\"http://www.w3.org/2000/svg\" height=\"24px\"viewBox=\"0 0 24 24\"\n",
              "       width=\"24px\">\n",
              "    <path d=\"M0 0h24v24H0V0z\" fill=\"none\"/>\n",
              "    <path d=\"M18.56 5.44l.94 2.06.94-2.06 2.06-.94-2.06-.94-.94-2.06-.94 2.06-2.06.94zm-11 1L8.5 8.5l.94-2.06 2.06-.94-2.06-.94L8.5 2.5l-.94 2.06-2.06.94zm10 10l.94 2.06.94-2.06 2.06-.94-2.06-.94-.94-2.06-.94 2.06-2.06.94z\"/><path d=\"M17.41 7.96l-1.37-1.37c-.4-.4-.92-.59-1.43-.59-.52 0-1.04.2-1.43.59L10.3 9.45l-7.72 7.72c-.78.78-.78 2.05 0 2.83L4 21.41c.39.39.9.59 1.41.59.51 0 1.02-.2 1.41-.59l7.78-7.78 2.81-2.81c.8-.78.8-2.07 0-2.86zM5.41 20L4 18.59l7.72-7.72 1.47 1.35L5.41 20z\"/>\n",
              "  </svg>\n",
              "      </button>\n",
              "      \n",
              "  <style>\n",
              "    .colab-df-container {\n",
              "      display:flex;\n",
              "      flex-wrap:wrap;\n",
              "      gap: 12px;\n",
              "    }\n",
              "\n",
              "    .colab-df-convert {\n",
              "      background-color: #E8F0FE;\n",
              "      border: none;\n",
              "      border-radius: 50%;\n",
              "      cursor: pointer;\n",
              "      display: none;\n",
              "      fill: #1967D2;\n",
              "      height: 32px;\n",
              "      padding: 0 0 0 0;\n",
              "      width: 32px;\n",
              "    }\n",
              "\n",
              "    .colab-df-convert:hover {\n",
              "      background-color: #E2EBFA;\n",
              "      box-shadow: 0px 1px 2px rgba(60, 64, 67, 0.3), 0px 1px 3px 1px rgba(60, 64, 67, 0.15);\n",
              "      fill: #174EA6;\n",
              "    }\n",
              "\n",
              "    [theme=dark] .colab-df-convert {\n",
              "      background-color: #3B4455;\n",
              "      fill: #D2E3FC;\n",
              "    }\n",
              "\n",
              "    [theme=dark] .colab-df-convert:hover {\n",
              "      background-color: #434B5C;\n",
              "      box-shadow: 0px 1px 3px 1px rgba(0, 0, 0, 0.15);\n",
              "      filter: drop-shadow(0px 1px 2px rgba(0, 0, 0, 0.3));\n",
              "      fill: #FFFFFF;\n",
              "    }\n",
              "  </style>\n",
              "\n",
              "      <script>\n",
              "        const buttonEl =\n",
              "          document.querySelector('#df-854dc63f-521b-4513-82cd-2586070bff94 button.colab-df-convert');\n",
              "        buttonEl.style.display =\n",
              "          google.colab.kernel.accessAllowed ? 'block' : 'none';\n",
              "\n",
              "        async function convertToInteractive(key) {\n",
              "          const element = document.querySelector('#df-854dc63f-521b-4513-82cd-2586070bff94');\n",
              "          const dataTable =\n",
              "            await google.colab.kernel.invokeFunction('convertToInteractive',\n",
              "                                                     [key], {});\n",
              "          if (!dataTable) return;\n",
              "\n",
              "          const docLinkHtml = 'Like what you see? Visit the ' +\n",
              "            '<a target=\"_blank\" href=https://colab.research.google.com/notebooks/data_table.ipynb>data table notebook</a>'\n",
              "            + ' to learn more about interactive tables.';\n",
              "          element.innerHTML = '';\n",
              "          dataTable['output_type'] = 'display_data';\n",
              "          await google.colab.output.renderOutput(dataTable, element);\n",
              "          const docLink = document.createElement('div');\n",
              "          docLink.innerHTML = docLinkHtml;\n",
              "          element.appendChild(docLink);\n",
              "        }\n",
              "      </script>\n",
              "    </div>\n",
              "  </div>\n",
              "  "
            ]
          },
          "metadata": {},
          "execution_count": 23
        }
      ]
    },
    {
      "cell_type": "code",
      "source": [
        "# 予測値の多数決\n",
        "sum_pred = df_1[\"is_laugh\"]*0.45 + df_2[\"is_laugh\"]*0.2 + df_4[\"is_laugh\"]*0.25+ df_5[\"is_laugh\"]*0.1\n",
        "ensemble = pd.DataFrame({\"id\": df_1[\"id\"], \"is_laugh\":sum_pred})\n",
        "ensemble.to_csv(\"sub.csv\", index=False)"
      ],
      "metadata": {
        "id": "o5rdUz6LGDgp"
      },
      "execution_count": null,
      "outputs": []
    },
    {
      "cell_type": "code",
      "source": [
        "# データ内にあるボケてを確認してみる\n",
        "\n",
        "fig = plt.figure(figsize=(15,7))\n",
        "\n",
        "image_path1 = test_image_path + test_df.iloc[592][\"odai_photo_file_name\"]\n",
        "img1 = img = Image.open(image_path1)\n",
        "\n",
        "ax1 = fig.add_subplot(1,2,1)\n",
        "ax1.imshow(img1)\n",
        "\n",
        "image_path2 = test_image_path + test_df.iloc[1915][\"odai_photo_file_name\"]\n",
        "img2 = img = Image.open(image_path2)\n",
        "\n",
        "ax2 = fig.add_subplot(1,2,2)\n",
        "ax2.imshow(img2)\n",
        "\n",
        "plt.show()"
      ],
      "metadata": {
        "id": "SuGZAej713il"
      },
      "execution_count": null,
      "outputs": []
    },
    {
      "cell_type": "code",
      "source": [
        "print(test_df[\"text\"][592])"
      ],
      "metadata": {
        "id": "trqFRPTq48Tb"
      },
      "execution_count": null,
      "outputs": []
    },
    {
      "cell_type": "code",
      "source": [
        "print(test_df[\"text\"][1915])"
      ],
      "metadata": {
        "id": "OBAe5M-n5EIa"
      },
      "execution_count": null,
      "outputs": []
    }
  ]
}
