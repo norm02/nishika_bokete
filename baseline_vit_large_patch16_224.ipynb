{
  "nbformat": 4,
  "nbformat_minor": 0,
  "metadata": {
    "colab": {
      "provenance": [],
      "collapsed_sections": [],
      "machine_shape": "hm"
    },
    "kernelspec": {
      "name": "python3",
      "display_name": "Python 3"
    },
    "language_info": {
      "name": "python"
    },
    "accelerator": "GPU",
    "gpuClass": "premium"
  },
  "cells": [
    {
      "cell_type": "markdown",
      "source": [
        "# ボケ判定AIを作ろう！-チュートリアル1\n",
        "このnotebookは、Nishikaコンペティション [ボケ判定AIを作ろう！](https://www.nishika.com/competitions/) のチュートリアルです。\n",
        "\n",
        "「ボケて」データを用いて、画像データと文章からそのボケてが面白いか面白くないかを予測することをテーマとしています。\n",
        "\n",
        "このNotebookでは、画像とテキストそれぞれの特徴量生成を以下のような方法で行っていきます。\n",
        "\n",
        "- CNNモデルを用いた画像データの特徴量化\n",
        "- BERTモデルを用いたテキストデータの特徴量化\n",
        "\n",
        "特徴量の作成では、テキストと画像それぞれ別々で作成していますので、画像データとテキストデータを組み合わせた特徴量を入れることで精度向上が見込めるかも知れませんので、いろいろと試していただければと思います。"
      ],
      "metadata": {
        "id": "m0ayzrjm-DgE"
      }
    },
    {
      "cell_type": "markdown",
      "source": [
        "| 要素 | 説明 |\n",
        "| ---- | ---- |\n",
        "|id | ID|\n",
        "|odai_photo_file_name | ボケてのお題画像|\n",
        "|text | ボケての文章|\n",
        "|is_laugh | 面白さ（面白い：１、面白くない：０）|\n"
      ],
      "metadata": {
        "id": "EjvjywgsCuKU"
      }
    },
    {
      "cell_type": "markdown",
      "source": [
        "ディレクトリ構成は以下のように設定します\n",
        "\n",
        "```\n",
        "├── train.zip\n",
        "│ ├── xxx.jpg\n",
        "│ └── yyy.jpg\n",
        "├── test.zip\n",
        "│ ├── xxx.jpg\n",
        "│ └── yyy.jpg\n",
        "├── train.csv\n",
        "├── test.csv\n",
        "├── sample_submission.csv\n",
        "└── submission.csv(今回のbaselineで生成されるsubmissionファイル)\n",
        "\n",
        "\n",
        "```\n",
        "\n",
        "### setting\n",
        "ページ上部の「ランタイム」>「ランタイムのタイプを変更」から「GPU」「ハイメモリ」を選択"
      ],
      "metadata": {
        "id": "9YJVABJ8CqoX"
      }
    },
    {
      "cell_type": "code",
      "execution_count": 1,
      "metadata": {
        "colab": {
          "base_uri": "https://localhost:8080/"
        },
        "id": "exPnU6gJ9_8L",
        "outputId": "9c50db56-ab80-4600-df4e-f2b36989e6b2"
      },
      "outputs": [
        {
          "output_type": "stream",
          "name": "stdout",
          "text": [
            "Drive already mounted at /content/drive; to attempt to forcibly remount, call drive.mount(\"/content/drive\", force_remount=True).\n"
          ]
        }
      ],
      "source": [
        "from google.colab import drive\n",
        "drive.mount('/content/drive')"
      ]
    },
    {
      "cell_type": "code",
      "source": [
        "!nvidia-smi"
      ],
      "metadata": {
        "colab": {
          "base_uri": "https://localhost:8080/"
        },
        "id": "9onj0RDDiWU4",
        "outputId": "0ff83b3c-2537-4dd6-f696-d01ee6fe1078"
      },
      "execution_count": 2,
      "outputs": [
        {
          "output_type": "stream",
          "name": "stdout",
          "text": [
            "Tue Oct  4 11:01:41 2022       \n",
            "+-----------------------------------------------------------------------------+\n",
            "| NVIDIA-SMI 460.32.03    Driver Version: 460.32.03    CUDA Version: 11.2     |\n",
            "|-------------------------------+----------------------+----------------------+\n",
            "| GPU  Name        Persistence-M| Bus-Id        Disp.A | Volatile Uncorr. ECC |\n",
            "| Fan  Temp  Perf  Pwr:Usage/Cap|         Memory-Usage | GPU-Util  Compute M. |\n",
            "|                               |                      |               MIG M. |\n",
            "|===============================+======================+======================|\n",
            "|   0  Tesla P100-PCIE...  Off  | 00000000:00:04.0 Off |                    0 |\n",
            "| N/A   54C    P0    32W / 250W |      0MiB / 16280MiB |      0%      Default |\n",
            "|                               |                      |                  N/A |\n",
            "+-------------------------------+----------------------+----------------------+\n",
            "                                                                               \n",
            "+-----------------------------------------------------------------------------+\n",
            "| Processes:                                                                  |\n",
            "|  GPU   GI   CI        PID   Type   Process name                  GPU Memory |\n",
            "|        ID   ID                                                   Usage      |\n",
            "|=============================================================================|\n",
            "|  No running processes found                                                 |\n",
            "+-----------------------------------------------------------------------------+\n"
          ]
        }
      ]
    },
    {
      "cell_type": "markdown",
      "source": [
        "# Library"
      ],
      "metadata": {
        "id": "JGai1EPR_tEA"
      }
    },
    {
      "cell_type": "code",
      "source": [
        "!pip install timm\n",
        "import timm"
      ],
      "metadata": {
        "colab": {
          "base_uri": "https://localhost:8080/"
        },
        "id": "0i4TVQqfsOM3",
        "outputId": "3fa8a697-6afa-40ab-dbc9-8621a748ed5d"
      },
      "execution_count": 3,
      "outputs": [
        {
          "output_type": "stream",
          "name": "stdout",
          "text": [
            "Looking in indexes: https://pypi.org/simple, https://us-python.pkg.dev/colab-wheels/public/simple/\n",
            "Requirement already satisfied: timm in /usr/local/lib/python3.7/dist-packages (0.6.11)\n",
            "Requirement already satisfied: huggingface-hub in /usr/local/lib/python3.7/dist-packages (from timm) (0.10.0)\n",
            "Requirement already satisfied: torchvision in /usr/local/lib/python3.7/dist-packages (from timm) (0.13.1+cu113)\n",
            "Requirement already satisfied: torch>=1.7 in /usr/local/lib/python3.7/dist-packages (from timm) (1.12.1+cu113)\n",
            "Requirement already satisfied: pyyaml in /usr/local/lib/python3.7/dist-packages (from timm) (6.0)\n",
            "Requirement already satisfied: typing-extensions in /usr/local/lib/python3.7/dist-packages (from torch>=1.7->timm) (4.1.1)\n",
            "Requirement already satisfied: packaging>=20.9 in /usr/local/lib/python3.7/dist-packages (from huggingface-hub->timm) (21.3)\n",
            "Requirement already satisfied: requests in /usr/local/lib/python3.7/dist-packages (from huggingface-hub->timm) (2.23.0)\n",
            "Requirement already satisfied: importlib-metadata in /usr/local/lib/python3.7/dist-packages (from huggingface-hub->timm) (4.12.0)\n",
            "Requirement already satisfied: filelock in /usr/local/lib/python3.7/dist-packages (from huggingface-hub->timm) (3.8.0)\n",
            "Requirement already satisfied: tqdm in /usr/local/lib/python3.7/dist-packages (from huggingface-hub->timm) (4.64.1)\n",
            "Requirement already satisfied: pyparsing!=3.0.5,>=2.0.2 in /usr/local/lib/python3.7/dist-packages (from packaging>=20.9->huggingface-hub->timm) (3.0.9)\n",
            "Requirement already satisfied: zipp>=0.5 in /usr/local/lib/python3.7/dist-packages (from importlib-metadata->huggingface-hub->timm) (3.8.1)\n",
            "Requirement already satisfied: chardet<4,>=3.0.2 in /usr/local/lib/python3.7/dist-packages (from requests->huggingface-hub->timm) (3.0.4)\n",
            "Requirement already satisfied: urllib3!=1.25.0,!=1.25.1,<1.26,>=1.21.1 in /usr/local/lib/python3.7/dist-packages (from requests->huggingface-hub->timm) (1.24.3)\n",
            "Requirement already satisfied: idna<3,>=2.5 in /usr/local/lib/python3.7/dist-packages (from requests->huggingface-hub->timm) (2.10)\n",
            "Requirement already satisfied: certifi>=2017.4.17 in /usr/local/lib/python3.7/dist-packages (from requests->huggingface-hub->timm) (2022.6.15)\n",
            "Requirement already satisfied: pillow!=8.3.*,>=5.3.0 in /usr/local/lib/python3.7/dist-packages (from torchvision->timm) (7.1.2)\n",
            "Requirement already satisfied: numpy in /usr/local/lib/python3.7/dist-packages (from torchvision->timm) (1.21.6)\n"
          ]
        }
      ]
    },
    {
      "cell_type": "code",
      "source": [
        "!pip install --quiet transformers==4.18.0\n",
        "!pip install --quiet tokenizers==0.12.1\n",
        "!pip install --quiet sentencepiece\n",
        "!pip install --quiet japanize-matplotlib\n",
        "!pip install transformers fugashi ipadic >> /dev/null"
      ],
      "metadata": {
        "id": "23tLb36S_nX-"
      },
      "execution_count": 4,
      "outputs": []
    },
    {
      "cell_type": "code",
      "source": [
        "import pandas as pd\n",
        "import numpy as np\n",
        "import matplotlib.pyplot as plt\n",
        "import seaborn as sns\n",
        "from PIL import Image\n",
        "\n",
        "import torch\n",
        "\n",
        "\n",
        "from sklearn.metrics import mean_squared_error\n",
        "from sklearn.metrics import log_loss\n",
        "from sklearn.model_selection import StratifiedKFold, KFold\n",
        "from sklearn.model_selection import train_test_split\n",
        "from sklearn.metrics import confusion_matrix\n",
        "\n",
        "import sys\n",
        "import os\n",
        "import re\n",
        "import random\n",
        "\n",
        "from time import time\n",
        "from tqdm import tqdm\n",
        "\n",
        "from contextlib import contextmanager\n",
        "import lightgbm as lgb\n",
        "\n",
        "import re\n",
        "import requests\n",
        "import unicodedata\n",
        "import nltk\n",
        "from nltk.corpus import wordnet\n",
        "from bs4 import BeautifulSoup\n",
        "nltk.download(['wordnet', 'stopwords', 'punkt'])"
      ],
      "metadata": {
        "colab": {
          "base_uri": "https://localhost:8080/"
        },
        "id": "Myu_A_Kc_zyK",
        "outputId": "4f0041b4-2214-4279-8bb4-0ce94920071d"
      },
      "execution_count": 5,
      "outputs": [
        {
          "output_type": "stream",
          "name": "stderr",
          "text": [
            "[nltk_data] Downloading package wordnet to /root/nltk_data...\n",
            "[nltk_data]   Package wordnet is already up-to-date!\n",
            "[nltk_data] Downloading package stopwords to /root/nltk_data...\n",
            "[nltk_data]   Package stopwords is already up-to-date!\n",
            "[nltk_data] Downloading package punkt to /root/nltk_data...\n",
            "[nltk_data]   Package punkt is already up-to-date!\n"
          ]
        },
        {
          "output_type": "execute_result",
          "data": {
            "text/plain": [
              "True"
            ]
          },
          "metadata": {},
          "execution_count": 5
        }
      ]
    },
    {
      "cell_type": "markdown",
      "source": [
        "# Setting"
      ],
      "metadata": {
        "id": "dCYVrA1lAB8L"
      }
    },
    {
      "cell_type": "code",
      "source": [
        "def seed_everything(seed=1234):\n",
        "    random.seed(seed)\n",
        "    os.environ['PYTHONHASHSEED'] = str(seed)\n",
        "    np.random.seed(seed)\n",
        "    torch.manual_seed(seed)\n",
        "    torch.cuda.manual_seed(seed)\n",
        "\n",
        "seed_everything(42)"
      ],
      "metadata": {
        "id": "z9WsZjx-NT-O"
      },
      "execution_count": 6,
      "outputs": []
    },
    {
      "cell_type": "code",
      "source": [
        "INPUT = \"/content/drive/MyDrive/nishika/\" # 所望のディレクトリに変更してください。\n",
        "train_image_path = \"/content/drive/MyDrive/nishika/train/\"\n",
        "test_image_path = \"/content/drive/MyDrive/nishika/test/\""
      ],
      "metadata": {
        "id": "ajiBxfC2ABC4"
      },
      "execution_count": 7,
      "outputs": []
    },
    {
      "cell_type": "markdown",
      "source": [
        "# Read Data\n",
        "学習データと推論データについて、目的変数の分布などを確認していきます。"
      ],
      "metadata": {
        "id": "qbdARhsQASHE"
      }
    },
    {
      "cell_type": "code",
      "source": [
        "train_df = pd.read_csv(os.path.join(INPUT, \"train.csv\"))\n",
        "test_df = pd.read_csv(os.path.join(INPUT, \"test.csv\"))\n",
        "submission_df = pd.read_csv(os.path.join(INPUT, \"sample_submission.csv\"))"
      ],
      "metadata": {
        "id": "Nh06H3rFAPA5"
      },
      "execution_count": 8,
      "outputs": []
    },
    {
      "cell_type": "code",
      "source": [
        "print(f\"train_data: {train_df.shape}\")\n",
        "display(train_df.head())\n",
        "\n",
        "print(f\"test_data: {test_df.shape}\")\n",
        "display(test_df.head())"
      ],
      "metadata": {
        "colab": {
          "base_uri": "https://localhost:8080/",
          "height": 432
        },
        "id": "sofMAgYkAqmU",
        "outputId": "6eb6390c-c982-4c62-eda0-1818ec24f8b2"
      },
      "execution_count": 9,
      "outputs": [
        {
          "output_type": "stream",
          "name": "stdout",
          "text": [
            "train_data: (24962, 4)\n"
          ]
        },
        {
          "output_type": "display_data",
          "data": {
            "text/plain": [
              "          id odai_photo_file_name  \\\n",
              "0  ge5kssftl       9fkys1gb2r.jpg   \n",
              "1  r7sm6tvkj       c6ag0m1lak.jpg   \n",
              "2  yp5aze0bh       whtn6gb9ww.jpg   \n",
              "3  ujaixzo56       6yk5cwmrsy.jpg   \n",
              "4  7vkeveptl       0i9gsa2jsm.jpg   \n",
              "\n",
              "                                            text  is_laugh  \n",
              "0             君しょっちゅうソレ自慢するけど、ツムジ２個ってそんなに嬉しいのかい？         0  \n",
              "1                            これでバレない？授業中寝てもバレない？         0  \n",
              "2  「あなたも感じる？」\\n『ああ…、感じてる…』\\n「後ろに幽霊いるよね…」\\n『女のな…』         0  \n",
              "3                 大塚愛聞いてたらお腹減った…さく、らんぼと牛タン食べたい…          0  \n",
              "4                                    熊だと思ったら嫁だった         0  "
            ],
            "text/html": [
              "\n",
              "  <div id=\"df-8775b001-665f-439f-90bc-ad99d3a931f9\">\n",
              "    <div class=\"colab-df-container\">\n",
              "      <div>\n",
              "<style scoped>\n",
              "    .dataframe tbody tr th:only-of-type {\n",
              "        vertical-align: middle;\n",
              "    }\n",
              "\n",
              "    .dataframe tbody tr th {\n",
              "        vertical-align: top;\n",
              "    }\n",
              "\n",
              "    .dataframe thead th {\n",
              "        text-align: right;\n",
              "    }\n",
              "</style>\n",
              "<table border=\"1\" class=\"dataframe\">\n",
              "  <thead>\n",
              "    <tr style=\"text-align: right;\">\n",
              "      <th></th>\n",
              "      <th>id</th>\n",
              "      <th>odai_photo_file_name</th>\n",
              "      <th>text</th>\n",
              "      <th>is_laugh</th>\n",
              "    </tr>\n",
              "  </thead>\n",
              "  <tbody>\n",
              "    <tr>\n",
              "      <th>0</th>\n",
              "      <td>ge5kssftl</td>\n",
              "      <td>9fkys1gb2r.jpg</td>\n",
              "      <td>君しょっちゅうソレ自慢するけど、ツムジ２個ってそんなに嬉しいのかい？</td>\n",
              "      <td>0</td>\n",
              "    </tr>\n",
              "    <tr>\n",
              "      <th>1</th>\n",
              "      <td>r7sm6tvkj</td>\n",
              "      <td>c6ag0m1lak.jpg</td>\n",
              "      <td>これでバレない？授業中寝てもバレない？</td>\n",
              "      <td>0</td>\n",
              "    </tr>\n",
              "    <tr>\n",
              "      <th>2</th>\n",
              "      <td>yp5aze0bh</td>\n",
              "      <td>whtn6gb9ww.jpg</td>\n",
              "      <td>「あなたも感じる？」\\n『ああ…、感じてる…』\\n「後ろに幽霊いるよね…」\\n『女のな…』</td>\n",
              "      <td>0</td>\n",
              "    </tr>\n",
              "    <tr>\n",
              "      <th>3</th>\n",
              "      <td>ujaixzo56</td>\n",
              "      <td>6yk5cwmrsy.jpg</td>\n",
              "      <td>大塚愛聞いてたらお腹減った…さく、らんぼと牛タン食べたい…</td>\n",
              "      <td>0</td>\n",
              "    </tr>\n",
              "    <tr>\n",
              "      <th>4</th>\n",
              "      <td>7vkeveptl</td>\n",
              "      <td>0i9gsa2jsm.jpg</td>\n",
              "      <td>熊だと思ったら嫁だった</td>\n",
              "      <td>0</td>\n",
              "    </tr>\n",
              "  </tbody>\n",
              "</table>\n",
              "</div>\n",
              "      <button class=\"colab-df-convert\" onclick=\"convertToInteractive('df-8775b001-665f-439f-90bc-ad99d3a931f9')\"\n",
              "              title=\"Convert this dataframe to an interactive table.\"\n",
              "              style=\"display:none;\">\n",
              "        \n",
              "  <svg xmlns=\"http://www.w3.org/2000/svg\" height=\"24px\"viewBox=\"0 0 24 24\"\n",
              "       width=\"24px\">\n",
              "    <path d=\"M0 0h24v24H0V0z\" fill=\"none\"/>\n",
              "    <path d=\"M18.56 5.44l.94 2.06.94-2.06 2.06-.94-2.06-.94-.94-2.06-.94 2.06-2.06.94zm-11 1L8.5 8.5l.94-2.06 2.06-.94-2.06-.94L8.5 2.5l-.94 2.06-2.06.94zm10 10l.94 2.06.94-2.06 2.06-.94-2.06-.94-.94-2.06-.94 2.06-2.06.94z\"/><path d=\"M17.41 7.96l-1.37-1.37c-.4-.4-.92-.59-1.43-.59-.52 0-1.04.2-1.43.59L10.3 9.45l-7.72 7.72c-.78.78-.78 2.05 0 2.83L4 21.41c.39.39.9.59 1.41.59.51 0 1.02-.2 1.41-.59l7.78-7.78 2.81-2.81c.8-.78.8-2.07 0-2.86zM5.41 20L4 18.59l7.72-7.72 1.47 1.35L5.41 20z\"/>\n",
              "  </svg>\n",
              "      </button>\n",
              "      \n",
              "  <style>\n",
              "    .colab-df-container {\n",
              "      display:flex;\n",
              "      flex-wrap:wrap;\n",
              "      gap: 12px;\n",
              "    }\n",
              "\n",
              "    .colab-df-convert {\n",
              "      background-color: #E8F0FE;\n",
              "      border: none;\n",
              "      border-radius: 50%;\n",
              "      cursor: pointer;\n",
              "      display: none;\n",
              "      fill: #1967D2;\n",
              "      height: 32px;\n",
              "      padding: 0 0 0 0;\n",
              "      width: 32px;\n",
              "    }\n",
              "\n",
              "    .colab-df-convert:hover {\n",
              "      background-color: #E2EBFA;\n",
              "      box-shadow: 0px 1px 2px rgba(60, 64, 67, 0.3), 0px 1px 3px 1px rgba(60, 64, 67, 0.15);\n",
              "      fill: #174EA6;\n",
              "    }\n",
              "\n",
              "    [theme=dark] .colab-df-convert {\n",
              "      background-color: #3B4455;\n",
              "      fill: #D2E3FC;\n",
              "    }\n",
              "\n",
              "    [theme=dark] .colab-df-convert:hover {\n",
              "      background-color: #434B5C;\n",
              "      box-shadow: 0px 1px 3px 1px rgba(0, 0, 0, 0.15);\n",
              "      filter: drop-shadow(0px 1px 2px rgba(0, 0, 0, 0.3));\n",
              "      fill: #FFFFFF;\n",
              "    }\n",
              "  </style>\n",
              "\n",
              "      <script>\n",
              "        const buttonEl =\n",
              "          document.querySelector('#df-8775b001-665f-439f-90bc-ad99d3a931f9 button.colab-df-convert');\n",
              "        buttonEl.style.display =\n",
              "          google.colab.kernel.accessAllowed ? 'block' : 'none';\n",
              "\n",
              "        async function convertToInteractive(key) {\n",
              "          const element = document.querySelector('#df-8775b001-665f-439f-90bc-ad99d3a931f9');\n",
              "          const dataTable =\n",
              "            await google.colab.kernel.invokeFunction('convertToInteractive',\n",
              "                                                     [key], {});\n",
              "          if (!dataTable) return;\n",
              "\n",
              "          const docLinkHtml = 'Like what you see? Visit the ' +\n",
              "            '<a target=\"_blank\" href=https://colab.research.google.com/notebooks/data_table.ipynb>data table notebook</a>'\n",
              "            + ' to learn more about interactive tables.';\n",
              "          element.innerHTML = '';\n",
              "          dataTable['output_type'] = 'display_data';\n",
              "          await google.colab.output.renderOutput(dataTable, element);\n",
              "          const docLink = document.createElement('div');\n",
              "          docLink.innerHTML = docLinkHtml;\n",
              "          element.appendChild(docLink);\n",
              "        }\n",
              "      </script>\n",
              "    </div>\n",
              "  </div>\n",
              "  "
            ]
          },
          "metadata": {}
        },
        {
          "output_type": "stream",
          "name": "stdout",
          "text": [
            "test_data: (6000, 3)\n"
          ]
        },
        {
          "output_type": "display_data",
          "data": {
            "text/plain": [
              "          id odai_photo_file_name  \\\n",
              "0  rfdjcfsqq       nc1kez326b.jpg   \n",
              "1  tsgqmfpef       49xt2fmjw0.jpg   \n",
              "2  owjcthkz2       9dtscjmyfh.jpg   \n",
              "3  rvgaocjyy       osa3n56tiv.jpg   \n",
              "4  uxtwu5i69       yb1yqs4pvb.jpg   \n",
              "\n",
              "                                                text  \n",
              "0                          僕のママ、キャラ弁のゆでたまごに８時間かかったんだ  \n",
              "1                                          かわいいが作れた！  \n",
              "2                                           来世の志茂田景樹  \n",
              "3                       ちょ、あの、オカン、これ水風呂やねんけど、なんの冗談??  \n",
              "4  「今日は皆さんにザリガニと消防車の違いを知ってもらいたいと思います」『どっちも同じだろ。両方...  "
            ],
            "text/html": [
              "\n",
              "  <div id=\"df-adcc1203-e893-4bf7-87f2-b98f2cd134d3\">\n",
              "    <div class=\"colab-df-container\">\n",
              "      <div>\n",
              "<style scoped>\n",
              "    .dataframe tbody tr th:only-of-type {\n",
              "        vertical-align: middle;\n",
              "    }\n",
              "\n",
              "    .dataframe tbody tr th {\n",
              "        vertical-align: top;\n",
              "    }\n",
              "\n",
              "    .dataframe thead th {\n",
              "        text-align: right;\n",
              "    }\n",
              "</style>\n",
              "<table border=\"1\" class=\"dataframe\">\n",
              "  <thead>\n",
              "    <tr style=\"text-align: right;\">\n",
              "      <th></th>\n",
              "      <th>id</th>\n",
              "      <th>odai_photo_file_name</th>\n",
              "      <th>text</th>\n",
              "    </tr>\n",
              "  </thead>\n",
              "  <tbody>\n",
              "    <tr>\n",
              "      <th>0</th>\n",
              "      <td>rfdjcfsqq</td>\n",
              "      <td>nc1kez326b.jpg</td>\n",
              "      <td>僕のママ、キャラ弁のゆでたまごに８時間かかったんだ</td>\n",
              "    </tr>\n",
              "    <tr>\n",
              "      <th>1</th>\n",
              "      <td>tsgqmfpef</td>\n",
              "      <td>49xt2fmjw0.jpg</td>\n",
              "      <td>かわいいが作れた！</td>\n",
              "    </tr>\n",
              "    <tr>\n",
              "      <th>2</th>\n",
              "      <td>owjcthkz2</td>\n",
              "      <td>9dtscjmyfh.jpg</td>\n",
              "      <td>来世の志茂田景樹</td>\n",
              "    </tr>\n",
              "    <tr>\n",
              "      <th>3</th>\n",
              "      <td>rvgaocjyy</td>\n",
              "      <td>osa3n56tiv.jpg</td>\n",
              "      <td>ちょ、あの、オカン、これ水風呂やねんけど、なんの冗談??</td>\n",
              "    </tr>\n",
              "    <tr>\n",
              "      <th>4</th>\n",
              "      <td>uxtwu5i69</td>\n",
              "      <td>yb1yqs4pvb.jpg</td>\n",
              "      <td>「今日は皆さんにザリガニと消防車の違いを知ってもらいたいと思います」『どっちも同じだろ。両方...</td>\n",
              "    </tr>\n",
              "  </tbody>\n",
              "</table>\n",
              "</div>\n",
              "      <button class=\"colab-df-convert\" onclick=\"convertToInteractive('df-adcc1203-e893-4bf7-87f2-b98f2cd134d3')\"\n",
              "              title=\"Convert this dataframe to an interactive table.\"\n",
              "              style=\"display:none;\">\n",
              "        \n",
              "  <svg xmlns=\"http://www.w3.org/2000/svg\" height=\"24px\"viewBox=\"0 0 24 24\"\n",
              "       width=\"24px\">\n",
              "    <path d=\"M0 0h24v24H0V0z\" fill=\"none\"/>\n",
              "    <path d=\"M18.56 5.44l.94 2.06.94-2.06 2.06-.94-2.06-.94-.94-2.06-.94 2.06-2.06.94zm-11 1L8.5 8.5l.94-2.06 2.06-.94-2.06-.94L8.5 2.5l-.94 2.06-2.06.94zm10 10l.94 2.06.94-2.06 2.06-.94-2.06-.94-.94-2.06-.94 2.06-2.06.94z\"/><path d=\"M17.41 7.96l-1.37-1.37c-.4-.4-.92-.59-1.43-.59-.52 0-1.04.2-1.43.59L10.3 9.45l-7.72 7.72c-.78.78-.78 2.05 0 2.83L4 21.41c.39.39.9.59 1.41.59.51 0 1.02-.2 1.41-.59l7.78-7.78 2.81-2.81c.8-.78.8-2.07 0-2.86zM5.41 20L4 18.59l7.72-7.72 1.47 1.35L5.41 20z\"/>\n",
              "  </svg>\n",
              "      </button>\n",
              "      \n",
              "  <style>\n",
              "    .colab-df-container {\n",
              "      display:flex;\n",
              "      flex-wrap:wrap;\n",
              "      gap: 12px;\n",
              "    }\n",
              "\n",
              "    .colab-df-convert {\n",
              "      background-color: #E8F0FE;\n",
              "      border: none;\n",
              "      border-radius: 50%;\n",
              "      cursor: pointer;\n",
              "      display: none;\n",
              "      fill: #1967D2;\n",
              "      height: 32px;\n",
              "      padding: 0 0 0 0;\n",
              "      width: 32px;\n",
              "    }\n",
              "\n",
              "    .colab-df-convert:hover {\n",
              "      background-color: #E2EBFA;\n",
              "      box-shadow: 0px 1px 2px rgba(60, 64, 67, 0.3), 0px 1px 3px 1px rgba(60, 64, 67, 0.15);\n",
              "      fill: #174EA6;\n",
              "    }\n",
              "\n",
              "    [theme=dark] .colab-df-convert {\n",
              "      background-color: #3B4455;\n",
              "      fill: #D2E3FC;\n",
              "    }\n",
              "\n",
              "    [theme=dark] .colab-df-convert:hover {\n",
              "      background-color: #434B5C;\n",
              "      box-shadow: 0px 1px 3px 1px rgba(0, 0, 0, 0.15);\n",
              "      filter: drop-shadow(0px 1px 2px rgba(0, 0, 0, 0.3));\n",
              "      fill: #FFFFFF;\n",
              "    }\n",
              "  </style>\n",
              "\n",
              "      <script>\n",
              "        const buttonEl =\n",
              "          document.querySelector('#df-adcc1203-e893-4bf7-87f2-b98f2cd134d3 button.colab-df-convert');\n",
              "        buttonEl.style.display =\n",
              "          google.colab.kernel.accessAllowed ? 'block' : 'none';\n",
              "\n",
              "        async function convertToInteractive(key) {\n",
              "          const element = document.querySelector('#df-adcc1203-e893-4bf7-87f2-b98f2cd134d3');\n",
              "          const dataTable =\n",
              "            await google.colab.kernel.invokeFunction('convertToInteractive',\n",
              "                                                     [key], {});\n",
              "          if (!dataTable) return;\n",
              "\n",
              "          const docLinkHtml = 'Like what you see? Visit the ' +\n",
              "            '<a target=\"_blank\" href=https://colab.research.google.com/notebooks/data_table.ipynb>data table notebook</a>'\n",
              "            + ' to learn more about interactive tables.';\n",
              "          element.innerHTML = '';\n",
              "          dataTable['output_type'] = 'display_data';\n",
              "          await google.colab.output.renderOutput(dataTable, element);\n",
              "          const docLink = document.createElement('div');\n",
              "          docLink.innerHTML = docLinkHtml;\n",
              "          element.appendChild(docLink);\n",
              "        }\n",
              "      </script>\n",
              "    </div>\n",
              "  </div>\n",
              "  "
            ]
          },
          "metadata": {}
        }
      ]
    },
    {
      "cell_type": "markdown",
      "source": [
        "# Create Image Features\n",
        "\n",
        "ボケてというものは、画像と文章の組み合わせで面白さを表現しているので、以下にして画像のデータと文章のデータをモデルに学習させるかがポイントになってくるかと思います。\n",
        "\n",
        "画像のデータを特徴量として用いるために、今回はDenseNet121の学習済みモデルを用います。"
      ],
      "metadata": {
        "id": "0yLcrqu6GsfK"
      }
    },
    {
      "cell_type": "code",
      "source": [
        "from tqdm import tqdm, tqdm_notebook"
      ],
      "metadata": {
        "id": "Y2u7Txq3BgnO"
      },
      "execution_count": 10,
      "outputs": []
    },
    {
      "cell_type": "code",
      "source": [
        "import torch.nn as nn\n",
        "from torchvision import transforms\n",
        "from pathlib import Path\n",
        "\n",
        "from torch.utils.data import DataLoader, Dataset"
      ],
      "metadata": {
        "id": "7v_1XLE_t6dq"
      },
      "execution_count": 11,
      "outputs": []
    },
    {
      "cell_type": "code",
      "source": [
        "device = \"cuda\" if torch.cuda.is_available() else \"cpu\""
      ],
      "metadata": {
        "id": "wDCJul0duwag"
      },
      "execution_count": 12,
      "outputs": []
    },
    {
      "cell_type": "code",
      "source": [
        "model_name = \"vit_large_patch16_224\"\n",
        "data_config = timm.data.resolve_data_config({}, model=model_name, verbose=True)"
      ],
      "metadata": {
        "id": "I0yZI24griWg"
      },
      "execution_count": 13,
      "outputs": []
    },
    {
      "cell_type": "code",
      "source": [
        "\"\"\"\n",
        "class Net(nn.Module):\n",
        "    def __init__(self, n_out):\n",
        "        super(Net, self).__init__()\n",
        "        #モデルの定義\n",
        "        self.net = timm.create_model(model_name, pretrained=True)\n",
        "\n",
        "        #self.in_features = self.net.num_features,\n",
        "        #最終層の再定義\n",
        "        #self.head = nn.Sequential(\n",
        "          #nn.Linear(self.in_features,96),\n",
        "          #nn.ReLU(),nn.Dropout(0.2),\n",
        "        self.net.classifier = nn.Linear(1280,n_out)\n",
        "          \n",
        "          #nn.AvgPool2d()(1280),\n",
        "          #nn.Lambda(lambda x: torch.unsqueeze(x,axis = -1))(1280),\n",
        "          #nn.AvgPool1d(4)(1280),\n",
        "          #nn.Lambda(lambda x: x[:,:,0])(n_out)\n",
        "          \n",
        "        #)\n",
        "\n",
        "    def forward(self, x):\n",
        "      return self.net(x)\n",
        "\"\"\""
      ],
      "metadata": {
        "colab": {
          "base_uri": "https://localhost:8080/",
          "height": 110
        },
        "id": "w8BQw7RLoVGG",
        "outputId": "8b78d461-2435-4c08-bb5b-afe369e459a5"
      },
      "execution_count": 14,
      "outputs": [
        {
          "output_type": "execute_result",
          "data": {
            "text/plain": [
              "'\\nclass Net(nn.Module):\\n    def __init__(self, n_out):\\n        super(Net, self).__init__()\\n        #モデルの定義\\n        self.net = timm.create_model(model_name, pretrained=True)\\n\\n        #self.in_features = self.net.num_features,\\n        #最終層の再定義\\n        #self.head = nn.Sequential(\\n          #nn.Linear(self.in_features,96),\\n          #nn.ReLU(),nn.Dropout(0.2),\\n        self.net.classifier = nn.Linear(1280,n_out)\\n          \\n          #nn.AvgPool2d()(1280),\\n          #nn.Lambda(lambda x: torch.unsqueeze(x,axis = -1))(1280),\\n          #nn.AvgPool1d(4)(1280),\\n          #nn.Lambda(lambda x: x[:,:,0])(n_out)\\n          \\n        #)\\n\\n    def forward(self, x):\\n      return self.net(x)\\n'"
            ],
            "application/vnd.google.colaboratory.intrinsic+json": {
              "type": "string"
            }
          },
          "metadata": {},
          "execution_count": 14
        }
      ]
    },
    {
      "cell_type": "code",
      "source": [
        "class Net(nn.Module):\n",
        "     def __init__(self,n_out):\n",
        "        super().__init__()\n",
        "        #モデルの定義\n",
        "        self.net = timm.create_model(model_name, pretrained=True, num_classes=0)\n",
        "\n",
        "        self.in_features = self.net.num_features\n",
        "        #最終層の再定義\n",
        "        self.head = nn.Sequential(\n",
        "          nn.Linear(self.in_features,1280),\n",
        "          nn.ReLU(),nn.Dropout(),\n",
        "          nn.Linear(1280,n_out))\n",
        "          \n",
        "          #nn.AvgPool2d()(self.in_features),\n",
        "          #nn.Lambda(lambda x: torch.unsqueeze(x,axis = -1)),\n",
        "          #nn.AvgPool1d(4),\n",
        "          #nn.Lambda(lambda x: x[:,:,0]))\n",
        "\n",
        "     def forward(self, x):\n",
        "      h = self.net(x)\n",
        "      y = self.head(h)\n",
        "\n",
        "      return y"
      ],
      "metadata": {
        "id": "oj3dD3Dc3GhM"
      },
      "execution_count": 15,
      "outputs": []
    },
    {
      "cell_type": "code",
      "source": [
        "model = Net(512)\n",
        "model.to(device)\n",
        "optimizer = torch.optim.Adam(model.parameters())\n",
        "criterion = torch.nn.CrossEntropyLoss()"
      ],
      "metadata": {
        "id": "VSrv5A9x2kYe"
      },
      "execution_count": 16,
      "outputs": []
    },
    {
      "cell_type": "code",
      "source": [
        "transform = transforms.Compose(\n",
        "    [\n",
        "        transforms.Resize(225),  \n",
        "        transforms.CenterCrop(224),\n",
        "        transforms.ToTensor(),  # テンソルにする。\n",
        "        transforms.Normalize(\n",
        "            mean=[0.485, 0.456, 0.406], std=[0.229, 0.224, 0.225]\n",
        "        ),  # 標準化する。\n",
        "    ]\n",
        ")"
      ],
      "metadata": {
        "id": "FPgcnRvl1zPb"
      },
      "execution_count": 17,
      "outputs": []
    },
    {
      "cell_type": "code",
      "source": [
        "def _get_img_paths(img_dir):\n",
        "    img_dir = Path(img_dir)\n",
        "    img_extensions = [\".jpg\"]\n",
        "    img_paths = [str(p) for p in img_dir.iterdir() if p.suffix in img_extensions]\n",
        "    img_paths.sort()\n",
        "\n",
        "    return img_paths\n",
        "\n",
        "\n",
        "class ImageFolder(Dataset):\n",
        "    def __init__(self, img_dir,transform):\n",
        "        # 画像ファイルのパス一覧を取得する。\n",
        "        self.img_paths = _get_img_paths(img_dir)\n",
        "        self.transform = transform\n",
        "\n",
        "    def __getitem__(self, index):\n",
        "        path = self.img_paths[index]\n",
        "        img = Image.open(path).convert(\"RGB\")\n",
        "        inputs = self.transform(img)\n",
        "\n",
        "        return {\"image\": inputs, \"path\": path}\n",
        "\n",
        "    def __len__(self):\n",
        "        return len(self.img_paths)"
      ],
      "metadata": {
        "id": "EzxtbELYqXuY"
      },
      "execution_count": 18,
      "outputs": []
    },
    {
      "cell_type": "code",
      "source": [
        "# Dataset を作成する。\n",
        "dstrain = ImageFolder(\"/content/drive/MyDrive/nishika/train\",transform)"
      ],
      "metadata": {
        "id": "5hZqwpgSsozY"
      },
      "execution_count": 19,
      "outputs": []
    },
    {
      "cell_type": "code",
      "source": [
        "import glob\n",
        "import itertools\n",
        "\n",
        "\n",
        "def get_images_features(dataset):\n",
        "    image_features = []\n",
        "    \n",
        "    with torch.no_grad():\n",
        "        for batch in tqdm(DataLoader(dataset, batch_size=17)):\n",
        "            inputs = batch[\"image\"].to(device)\n",
        "            outputs = model(inputs)\n",
        "\n",
        "            image_features.append(outputs)\n",
        "\n",
        "    return torch.cat(image_features).cpu().numpy()"
      ],
      "metadata": {
        "id": "E1oCG4MBsrBw"
      },
      "execution_count": 20,
      "outputs": []
    },
    {
      "cell_type": "code",
      "source": [
        "train_image_features = get_images_features(dstrain)"
      ],
      "metadata": {
        "id": "bk9ApzI3vwHN",
        "colab": {
          "base_uri": "https://localhost:8080/"
        },
        "outputId": "97047d17-e815-47d5-ed2c-7021326ef952"
      },
      "execution_count": 21,
      "outputs": [
        {
          "output_type": "stream",
          "name": "stderr",
          "text": [
            "100%|██████████| 1469/1469 [07:53<00:00,  3.10it/s]\n"
          ]
        }
      ]
    },
    {
      "cell_type": "code",
      "source": [
        "image_feature = pd.DataFrame.from_dict(train_image_features, orient='columns').add_prefix(\"vit_large_patch16_224_\").reset_index()\n",
        "image_feature.rename(columns={\"columns\":\"odai_photo_file_name\"}, inplace=True)"
      ],
      "metadata": {
        "id": "T3x9JsVsI3ht"
      },
      "execution_count": 22,
      "outputs": []
    },
    {
      "cell_type": "code",
      "source": [
        "image_feature = image_feature.drop([\"index\"], axis=1)"
      ],
      "metadata": {
        "id": "1BgxAWwav-9J"
      },
      "execution_count": 23,
      "outputs": []
    },
    {
      "cell_type": "code",
      "source": [
        "print(image_feature)"
      ],
      "metadata": {
        "id": "ToGtahIfQqJ_",
        "colab": {
          "base_uri": "https://localhost:8080/"
        },
        "outputId": "373248dd-613e-4f35-abfb-48d85f140ea5"
      },
      "execution_count": 24,
      "outputs": [
        {
          "output_type": "stream",
          "name": "stdout",
          "text": [
            "       vit_large_patch16_224_0  vit_large_patch16_224_1  \\\n",
            "0                    -0.174948                 1.216538   \n",
            "1                     0.759446                 0.550291   \n",
            "2                     0.445224                -0.187247   \n",
            "3                    -0.329393                 0.633074   \n",
            "4                     0.406402                 1.002488   \n",
            "...                        ...                      ...   \n",
            "24957                 1.024891                -0.834444   \n",
            "24958                -0.776498                 0.833142   \n",
            "24959                -0.751882                 1.186205   \n",
            "24960                 0.502788                 2.710541   \n",
            "24961                -1.214408                 1.231479   \n",
            "\n",
            "       vit_large_patch16_224_2  vit_large_patch16_224_3  \\\n",
            "0                    -2.196662                 0.005932   \n",
            "1                    -1.803098                -1.484083   \n",
            "2                    -1.625515                -1.966000   \n",
            "3                    -1.377089                -1.452802   \n",
            "4                     0.224914                -0.227645   \n",
            "...                        ...                      ...   \n",
            "24957                -0.775808                 0.718487   \n",
            "24958                -0.394028                -2.701428   \n",
            "24959                -0.106252                -1.335430   \n",
            "24960                 0.373421                 0.314995   \n",
            "24961                -1.255543                -0.736786   \n",
            "\n",
            "       vit_large_patch16_224_4  vit_large_patch16_224_5  \\\n",
            "0                    -0.485160                -0.266343   \n",
            "1                    -0.891691                 0.601550   \n",
            "2                    -1.071445                 0.845671   \n",
            "3                     0.048397                -0.372456   \n",
            "4                    -1.571646                 1.643758   \n",
            "...                        ...                      ...   \n",
            "24957                 0.104615                 1.001306   \n",
            "24958                -0.802824                 0.390993   \n",
            "24959                 0.429174                -0.439118   \n",
            "24960                 0.446445                 0.521337   \n",
            "24961                -1.179739                 0.257036   \n",
            "\n",
            "       vit_large_patch16_224_6  vit_large_patch16_224_7  \\\n",
            "0                    -0.444636                 0.738530   \n",
            "1                    -0.372493                 0.654417   \n",
            "2                     1.028168                -0.414130   \n",
            "3                     0.434387                -0.023357   \n",
            "4                     1.364096                -0.302570   \n",
            "...                        ...                      ...   \n",
            "24957                -0.291517                -1.053913   \n",
            "24958                 0.799781                -0.235038   \n",
            "24959                 0.054243                 0.525026   \n",
            "24960                 0.016655                -1.411605   \n",
            "24961                 1.564352                 0.027446   \n",
            "\n",
            "       vit_large_patch16_224_8  vit_large_patch16_224_9  ...  \\\n",
            "0                    -0.162168                 0.801793  ...   \n",
            "1                     0.759811                 0.589524  ...   \n",
            "2                     1.673791                 0.998874  ...   \n",
            "3                     0.344427                -2.017753  ...   \n",
            "4                     0.056414                 0.781183  ...   \n",
            "...                        ...                      ...  ...   \n",
            "24957                 0.858432                -0.071386  ...   \n",
            "24958                 1.325855                -1.146091  ...   \n",
            "24959                 0.229109                -0.747751  ...   \n",
            "24960                 0.000640                 0.791184  ...   \n",
            "24961                -0.159280                 0.084167  ...   \n",
            "\n",
            "       vit_large_patch16_224_502  vit_large_patch16_224_503  \\\n",
            "0                       1.373957                   0.221823   \n",
            "1                       0.059126                  -0.930061   \n",
            "2                       1.604939                   0.523975   \n",
            "3                      -0.826101                  -0.905065   \n",
            "4                       0.651690                  -0.651015   \n",
            "...                          ...                        ...   \n",
            "24957                   0.309703                  -0.120706   \n",
            "24958                  -0.868042                  -2.141407   \n",
            "24959                   0.424821                  -0.445494   \n",
            "24960                   1.198844                  -0.846539   \n",
            "24961                   0.358037                  -1.856804   \n",
            "\n",
            "       vit_large_patch16_224_504  vit_large_patch16_224_505  \\\n",
            "0                       0.287796                  -1.230174   \n",
            "1                      -0.258731                  -2.034544   \n",
            "2                      -1.223806                  -0.338546   \n",
            "3                      -0.736168                  -0.972735   \n",
            "4                       1.649013                  -0.206821   \n",
            "...                          ...                        ...   \n",
            "24957                   0.937272                  -0.706299   \n",
            "24958                   0.676148                  -0.798698   \n",
            "24959                  -0.218653                  -0.758818   \n",
            "24960                   0.614235                  -1.179372   \n",
            "24961                  -0.398856                   0.634140   \n",
            "\n",
            "       vit_large_patch16_224_506  vit_large_patch16_224_507  \\\n",
            "0                      -0.838540                  -0.819295   \n",
            "1                      -0.011322                   0.317888   \n",
            "2                      -0.144300                   0.173328   \n",
            "3                       0.124732                   0.262146   \n",
            "4                      -1.025549                  -0.327051   \n",
            "...                          ...                        ...   \n",
            "24957                   0.226431                   0.080370   \n",
            "24958                   0.594656                  -0.452872   \n",
            "24959                  -1.617516                  -2.491712   \n",
            "24960                   0.345508                   0.139563   \n",
            "24961                   0.598481                  -0.545276   \n",
            "\n",
            "       vit_large_patch16_224_508  vit_large_patch16_224_509  \\\n",
            "0                       1.105795                   0.639750   \n",
            "1                      -1.469162                   0.310025   \n",
            "2                      -0.222973                  -0.290291   \n",
            "3                       0.616327                  -0.726810   \n",
            "4                       0.770352                  -0.551739   \n",
            "...                          ...                        ...   \n",
            "24957                   0.719980                  -0.484213   \n",
            "24958                   0.673306                   0.878519   \n",
            "24959                  -1.284745                  -0.484952   \n",
            "24960                   0.521432                   1.031333   \n",
            "24961                   0.793364                   1.275097   \n",
            "\n",
            "       vit_large_patch16_224_510  vit_large_patch16_224_511  \n",
            "0                      -0.566172                   0.690336  \n",
            "1                      -1.272964                   0.441891  \n",
            "2                      -1.701804                  -0.075501  \n",
            "3                      -0.561069                  -0.737897  \n",
            "4                       0.814860                  -1.039391  \n",
            "...                          ...                        ...  \n",
            "24957                   1.296191                  -0.182964  \n",
            "24958                  -0.162257                  -1.351135  \n",
            "24959                  -0.322056                   0.595420  \n",
            "24960                  -1.712225                   0.375508  \n",
            "24961                   0.360235                  -2.410201  \n",
            "\n",
            "[24962 rows x 512 columns]\n"
          ]
        }
      ]
    },
    {
      "cell_type": "code",
      "source": [
        "# trainのデータに結合します。\n",
        "train_df = pd.concat([train_df, image_feature],axis=1)"
      ],
      "metadata": {
        "id": "pNZpZ19iJEun"
      },
      "execution_count": 25,
      "outputs": []
    },
    {
      "cell_type": "code",
      "source": [
        "train_df.shape"
      ],
      "metadata": {
        "id": "TLa8BVy5y4mh",
        "colab": {
          "base_uri": "https://localhost:8080/"
        },
        "outputId": "cc247b95-6fa2-4f9a-feb5-27fa508808d7"
      },
      "execution_count": 26,
      "outputs": [
        {
          "output_type": "execute_result",
          "data": {
            "text/plain": [
              "(24962, 516)"
            ]
          },
          "metadata": {},
          "execution_count": 26
        }
      ]
    },
    {
      "cell_type": "code",
      "source": [
        "print(train_df)"
      ],
      "metadata": {
        "id": "BFKyIJmQRDG2",
        "colab": {
          "base_uri": "https://localhost:8080/"
        },
        "outputId": "2e742d81-735b-4a2f-8a2e-c473e1be19a0"
      },
      "execution_count": 27,
      "outputs": [
        {
          "output_type": "stream",
          "name": "stdout",
          "text": [
            "              id odai_photo_file_name  \\\n",
            "0      ge5kssftl       9fkys1gb2r.jpg   \n",
            "1      r7sm6tvkj       c6ag0m1lak.jpg   \n",
            "2      yp5aze0bh       whtn6gb9ww.jpg   \n",
            "3      ujaixzo56       6yk5cwmrsy.jpg   \n",
            "4      7vkeveptl       0i9gsa2jsm.jpg   \n",
            "...          ...                  ...   \n",
            "24957  xa2nruec1       5ctq9ohpge.jpg   \n",
            "24958  dl8r1idfv       dcj9pepjwf.jpg   \n",
            "24959  kabzw7bxm       ks04y4iy7i.jpg   \n",
            "24960  4blagy0gf       cgfkktchbz.jpg   \n",
            "24961  of5eofmq6       jwulli1cmi.jpg   \n",
            "\n",
            "                                                text  is_laugh  \\\n",
            "0                 君しょっちゅうソレ自慢するけど、ツムジ２個ってそんなに嬉しいのかい？         0   \n",
            "1                                これでバレない？授業中寝てもバレない？         0   \n",
            "2      「あなたも感じる？」\\n『ああ…、感じてる…』\\n「後ろに幽霊いるよね…」\\n『女のな…』         0   \n",
            "3                     大塚愛聞いてたらお腹減った…さく、らんぼと牛タン食べたい…          0   \n",
            "4                                        熊だと思ったら嫁だった         0   \n",
            "...                                              ...       ...   \n",
            "24957                            え、いいんすか？マジっすか？あざーっす         0   \n",
            "24958                                 しかし回り込まれてしまった！         1   \n",
            "24959                 緑でもない中を走り抜けてく♪真っ赤でもないポルシェでもない♪         1   \n",
            "24960              後ろのサングラスの友達を撮ろうとしたが、思いっきり割り込んできた。         0   \n",
            "24961                                 待って、今西田敏行になるから         1   \n",
            "\n",
            "       vit_large_patch16_224_0  vit_large_patch16_224_1  \\\n",
            "0                    -0.174948                 1.216538   \n",
            "1                     0.759446                 0.550291   \n",
            "2                     0.445224                -0.187247   \n",
            "3                    -0.329393                 0.633074   \n",
            "4                     0.406402                 1.002488   \n",
            "...                        ...                      ...   \n",
            "24957                 1.024891                -0.834444   \n",
            "24958                -0.776498                 0.833142   \n",
            "24959                -0.751882                 1.186205   \n",
            "24960                 0.502788                 2.710541   \n",
            "24961                -1.214408                 1.231479   \n",
            "\n",
            "       vit_large_patch16_224_2  vit_large_patch16_224_3  \\\n",
            "0                    -2.196662                 0.005932   \n",
            "1                    -1.803098                -1.484083   \n",
            "2                    -1.625515                -1.966000   \n",
            "3                    -1.377089                -1.452802   \n",
            "4                     0.224914                -0.227645   \n",
            "...                        ...                      ...   \n",
            "24957                -0.775808                 0.718487   \n",
            "24958                -0.394028                -2.701428   \n",
            "24959                -0.106252                -1.335430   \n",
            "24960                 0.373421                 0.314995   \n",
            "24961                -1.255543                -0.736786   \n",
            "\n",
            "       vit_large_patch16_224_4  vit_large_patch16_224_5  ...  \\\n",
            "0                    -0.485160                -0.266343  ...   \n",
            "1                    -0.891691                 0.601550  ...   \n",
            "2                    -1.071445                 0.845671  ...   \n",
            "3                     0.048397                -0.372456  ...   \n",
            "4                    -1.571646                 1.643758  ...   \n",
            "...                        ...                      ...  ...   \n",
            "24957                 0.104615                 1.001306  ...   \n",
            "24958                -0.802824                 0.390993  ...   \n",
            "24959                 0.429174                -0.439118  ...   \n",
            "24960                 0.446445                 0.521337  ...   \n",
            "24961                -1.179739                 0.257036  ...   \n",
            "\n",
            "       vit_large_patch16_224_502  vit_large_patch16_224_503  \\\n",
            "0                       1.373957                   0.221823   \n",
            "1                       0.059126                  -0.930061   \n",
            "2                       1.604939                   0.523975   \n",
            "3                      -0.826101                  -0.905065   \n",
            "4                       0.651690                  -0.651015   \n",
            "...                          ...                        ...   \n",
            "24957                   0.309703                  -0.120706   \n",
            "24958                  -0.868042                  -2.141407   \n",
            "24959                   0.424821                  -0.445494   \n",
            "24960                   1.198844                  -0.846539   \n",
            "24961                   0.358037                  -1.856804   \n",
            "\n",
            "       vit_large_patch16_224_504  vit_large_patch16_224_505  \\\n",
            "0                       0.287796                  -1.230174   \n",
            "1                      -0.258731                  -2.034544   \n",
            "2                      -1.223806                  -0.338546   \n",
            "3                      -0.736168                  -0.972735   \n",
            "4                       1.649013                  -0.206821   \n",
            "...                          ...                        ...   \n",
            "24957                   0.937272                  -0.706299   \n",
            "24958                   0.676148                  -0.798698   \n",
            "24959                  -0.218653                  -0.758818   \n",
            "24960                   0.614235                  -1.179372   \n",
            "24961                  -0.398856                   0.634140   \n",
            "\n",
            "       vit_large_patch16_224_506  vit_large_patch16_224_507  \\\n",
            "0                      -0.838540                  -0.819295   \n",
            "1                      -0.011322                   0.317888   \n",
            "2                      -0.144300                   0.173328   \n",
            "3                       0.124732                   0.262146   \n",
            "4                      -1.025549                  -0.327051   \n",
            "...                          ...                        ...   \n",
            "24957                   0.226431                   0.080370   \n",
            "24958                   0.594656                  -0.452872   \n",
            "24959                  -1.617516                  -2.491712   \n",
            "24960                   0.345508                   0.139563   \n",
            "24961                   0.598481                  -0.545276   \n",
            "\n",
            "       vit_large_patch16_224_508  vit_large_patch16_224_509  \\\n",
            "0                       1.105795                   0.639750   \n",
            "1                      -1.469162                   0.310025   \n",
            "2                      -0.222973                  -0.290291   \n",
            "3                       0.616327                  -0.726810   \n",
            "4                       0.770352                  -0.551739   \n",
            "...                          ...                        ...   \n",
            "24957                   0.719980                  -0.484213   \n",
            "24958                   0.673306                   0.878519   \n",
            "24959                  -1.284745                  -0.484952   \n",
            "24960                   0.521432                   1.031333   \n",
            "24961                   0.793364                   1.275097   \n",
            "\n",
            "       vit_large_patch16_224_510  vit_large_patch16_224_511  \n",
            "0                      -0.566172                   0.690336  \n",
            "1                      -1.272964                   0.441891  \n",
            "2                      -1.701804                  -0.075501  \n",
            "3                      -0.561069                  -0.737897  \n",
            "4                       0.814860                  -1.039391  \n",
            "...                          ...                        ...  \n",
            "24957                   1.296191                  -0.182964  \n",
            "24958                  -0.162257                  -1.351135  \n",
            "24959                  -0.322056                   0.595420  \n",
            "24960                  -1.712225                   0.375508  \n",
            "24961                   0.360235                  -2.410201  \n",
            "\n",
            "[24962 rows x 516 columns]\n"
          ]
        }
      ]
    },
    {
      "cell_type": "code",
      "source": [
        "# Dataset を作成する。\n",
        "dstest = ImageFolder(\"/content/drive/MyDrive/nishika/test\",transform)"
      ],
      "metadata": {
        "id": "ae6931WeAuO5"
      },
      "execution_count": 28,
      "outputs": []
    },
    {
      "cell_type": "code",
      "source": [
        "test_image_features = get_images_features(dstest)"
      ],
      "metadata": {
        "id": "eiwP9erCA0ZX",
        "colab": {
          "base_uri": "https://localhost:8080/"
        },
        "outputId": "8a6e85db-ff91-47d9-9796-ac8d190b608f"
      },
      "execution_count": 29,
      "outputs": [
        {
          "output_type": "stream",
          "name": "stderr",
          "text": [
            "100%|██████████| 353/353 [01:53<00:00,  3.12it/s]\n"
          ]
        }
      ]
    },
    {
      "cell_type": "code",
      "source": [
        "image_feature = pd.DataFrame.from_dict(test_image_features, orient='columns').add_prefix(\"vit_large_patch16_224_\").reset_index()\n",
        "image_feature.rename(columns={\"columns\":\"odai_photo_file_name\"}, inplace=True)"
      ],
      "metadata": {
        "id": "qYD460EkA30V"
      },
      "execution_count": 30,
      "outputs": []
    },
    {
      "cell_type": "code",
      "source": [
        "image_feature = image_feature.drop([\"index\"], axis=1)"
      ],
      "metadata": {
        "id": "hOKXr0bHA71n"
      },
      "execution_count": 31,
      "outputs": []
    },
    {
      "cell_type": "code",
      "source": [
        "# trainのデータに結合します。\n",
        "test_df = pd.concat([test_df, image_feature],axis=1)"
      ],
      "metadata": {
        "id": "hJX3ez3PA_er"
      },
      "execution_count": 32,
      "outputs": []
    },
    {
      "cell_type": "code",
      "source": [
        "test_df.shape"
      ],
      "metadata": {
        "id": "Mo5JFt2kBDKR",
        "colab": {
          "base_uri": "https://localhost:8080/"
        },
        "outputId": "679bac03-893c-447a-d2e8-2ab226291758"
      },
      "execution_count": 33,
      "outputs": [
        {
          "output_type": "execute_result",
          "data": {
            "text/plain": [
              "(6000, 515)"
            ]
          },
          "metadata": {},
          "execution_count": 33
        }
      ]
    },
    {
      "cell_type": "markdown",
      "source": [
        "# Data Split"
      ],
      "metadata": {
        "id": "H4K63PLc6oGW"
      }
    },
    {
      "cell_type": "code",
      "source": [
        "train_df.to_csv('/content/drive/MyDrive/nishika/embeded/embedding_train_image_timm_dm_vit_large_patch16_224.csv')"
      ],
      "metadata": {
        "id": "vqlFKSDJ_MuL"
      },
      "execution_count": 34,
      "outputs": []
    },
    {
      "cell_type": "code",
      "source": [
        "test_df.to_csv('/content/drive/MyDrive/nishika/embeded/embedding_test_image_timm_dm_vit_large_patch16_224.csv')"
      ],
      "metadata": {
        "id": "fcsVcItHAIPQ"
      },
      "execution_count": 35,
      "outputs": []
    },
    {
      "cell_type": "code",
      "source": [
        "train_df[\"text_len\"] = train_df[\"text\"].str.len()\n",
        "test_df[\"text_len\"] = test_df[\"text\"].str.len()"
      ],
      "metadata": {
        "id": "KwO044Y6PI8d"
      },
      "execution_count": 36,
      "outputs": []
    },
    {
      "cell_type": "code",
      "source": [
        "# 学習データと評価データに分割します\n",
        "train_df, valid_df = train_test_split(train_df, test_size=0.2, random_state=42, stratify=train_df[\"is_laugh\"])\n",
        "\n",
        "train_y = train_df[\"is_laugh\"]\n",
        "train_x = train_df.drop([\"id\", \"odai_photo_file_name\", \"text\",\"is_laugh\"], axis=1)\n",
        "\n",
        "valid_y = valid_df[\"is_laugh\"]\n",
        "valid_x = valid_df.drop([\"id\", \"odai_photo_file_name\", \"text\",\"is_laugh\"], axis=1)\n",
        "\n",
        "test_x = test_df.drop([\"id\", \"odai_photo_file_name\", \"text\"], axis=1)"
      ],
      "metadata": {
        "id": "0pInRB316fFo"
      },
      "execution_count": 37,
      "outputs": []
    },
    {
      "cell_type": "code",
      "source": [
        "print(train_x.shape)\n",
        "print(valid_x.shape)"
      ],
      "metadata": {
        "id": "2DyOqFn57PAA",
        "colab": {
          "base_uri": "https://localhost:8080/"
        },
        "outputId": "e1625ba3-e51e-4d78-bd67-96fbc0be361a"
      },
      "execution_count": 38,
      "outputs": [
        {
          "output_type": "stream",
          "name": "stdout",
          "text": [
            "(19969, 513)\n",
            "(4993, 513)\n"
          ]
        }
      ]
    },
    {
      "cell_type": "markdown",
      "source": [
        "# Model"
      ],
      "metadata": {
        "id": "jtw_IUp87-HP"
      }
    },
    {
      "cell_type": "code",
      "source": [
        "lgbm_params = {  \n",
        "    \"n_estimators\": 20000,\n",
        "    \"objective\": 'binary',\n",
        "    \"learning_rate\": 0.01,\n",
        "    \"num_leaves\": 32,\n",
        "    \"random_state\": 71,\n",
        "    \"n_jobs\": -1,\n",
        "    \"importance_type\": \"gain\",\n",
        "    'colsample_bytree': .8,\n",
        "    \"reg_lambda\": 5,\n",
        "    \"max_depth\":9,\n",
        "    }\n",
        "\n",
        "lgtrain = lgb.Dataset(train_x, train_y)\n",
        "lgvalid = lgb.Dataset(valid_x, valid_y)\n",
        "\n",
        "lgb_clf = lgb.train(\n",
        "    lgbm_params,\n",
        "    lgtrain,\n",
        "    num_boost_round=10000,\n",
        "    valid_sets=[lgtrain, lgvalid],\n",
        "    valid_names=['train','valid'],\n",
        "    early_stopping_rounds=100,\n",
        "    verbose_eval=100\n",
        ")"
      ],
      "metadata": {
        "id": "dZS_euCU79xd",
        "colab": {
          "base_uri": "https://localhost:8080/"
        },
        "outputId": "923e4f14-558e-4c02-a011-12ea8d2a64ce"
      },
      "execution_count": 39,
      "outputs": [
        {
          "output_type": "stream",
          "name": "stderr",
          "text": [
            "/usr/local/lib/python3.7/dist-packages/lightgbm/engine.py:118: UserWarning: Found `n_estimators` in params. Will use it instead of argument\n",
            "  warnings.warn(\"Found `{}` in params. Will use it instead of argument\".format(alias))\n"
          ]
        },
        {
          "output_type": "stream",
          "name": "stdout",
          "text": [
            "Training until validation scores don't improve for 100 rounds.\n",
            "[100]\ttrain's binary_logloss: 0.653686\tvalid's binary_logloss: 0.674765\n",
            "[200]\ttrain's binary_logloss: 0.629966\tvalid's binary_logloss: 0.670354\n",
            "[300]\ttrain's binary_logloss: 0.610511\tvalid's binary_logloss: 0.669692\n",
            "[400]\ttrain's binary_logloss: 0.592992\tvalid's binary_logloss: 0.670154\n",
            "Early stopping, best iteration is:\n",
            "[306]\ttrain's binary_logloss: 0.6094\tvalid's binary_logloss: 0.669638\n"
          ]
        }
      ]
    },
    {
      "cell_type": "code",
      "source": [
        "# 特徴量の重要度を可視化。\n",
        "lgb.plot_importance(lgb_clf, figsize=(12,8), max_num_features=50, importance_type='gain')\n",
        "plt.tight_layout()\n",
        "plt.show()"
      ],
      "metadata": {
        "id": "5m1V_v6T9vMz",
        "colab": {
          "base_uri": "https://localhost:8080/",
          "height": 585
        },
        "outputId": "0040c375-1e82-4eeb-bdb9-220a700c2e04"
      },
      "execution_count": 40,
      "outputs": [
        {
          "output_type": "display_data",
          "data": {
            "text/plain": [
              "<Figure size 864x576 with 1 Axes>"
            ],
            "image/png": "[encoded data removed]"
          },
          "metadata": {
            "needs_background": "light"
          }
        }
      ]
    },
    {
      "cell_type": "code",
      "source": [
        "# 評価指標はlog lossだが、accuracyも見てみる\n",
        "\n",
        "val_pred = lgb_clf.predict(valid_x, num_iteration=lgb_clf.best_iteration)\n",
        "val_pred_max = np.round(lgb_clf.predict(valid_x)).astype(int)  # クラスに分類\n",
        "accuracy = sum(valid_y == val_pred_max) / len(valid_y)\n",
        "print(accuracy)"
      ],
      "metadata": {
        "id": "qQaVWqkTAZ74",
        "colab": {
          "base_uri": "https://localhost:8080/"
        },
        "outputId": "ceaa9f02-b648-4302-8f14-6d3c60d55988"
      },
      "execution_count": 41,
      "outputs": [
        {
          "output_type": "stream",
          "name": "stdout",
          "text": [
            "0.5870218305627879\n"
          ]
        }
      ]
    },
    {
      "cell_type": "code",
      "source": [
        "_conf_options = {\"normalize\": None,}\n",
        "_plot_options = {\n",
        "        \"cmap\": \"Blues\",\n",
        "        \"annot\": True\n",
        "    }\n",
        "\n",
        "conf = confusion_matrix(y_true=valid_y,\n",
        "                        y_pred=val_pred_max,\n",
        "                        **_conf_options)\n",
        "\n",
        "fig, ax = plt.subplots(figsize=(8, 8))\n",
        "sns.heatmap(conf, ax=ax, **_plot_options)\n",
        "ax.set_ylabel(\"Label\")\n",
        "ax.set_xlabel(\"Predict\")"
      ],
      "metadata": {
        "id": "FPX2pXaZBMpu",
        "colab": {
          "base_uri": "https://localhost:8080/",
          "height": 515
        },
        "outputId": "ea45ac1d-3673-42bc-ddae-0911bbe8a517"
      },
      "execution_count": 42,
      "outputs": [
        {
          "output_type": "execute_result",
          "data": {
            "text/plain": [
              "Text(0.5, 51.0, 'Predict')"
            ]
          },
          "metadata": {},
          "execution_count": 42
        },
        {
          "output_type": "display_data",
          "data": {
            "text/plain": [
              "<Figure size 576x576 with 2 Axes>"
            ],
            "image/png": "[encoded data removed]"
          },
          "metadata": {
            "needs_background": "light"
          }
        }
      ]
    },
    {
      "cell_type": "markdown",
      "source": [
        "# Predict"
      ],
      "metadata": {
        "id": "sBad8xkWAXi1"
      }
    },
    {
      "cell_type": "code",
      "source": [
        "test_pred = lgb_clf.predict(test_x, num_iteration=lgb_clf.best_iteration)"
      ],
      "metadata": {
        "id": "gGvSdvMH-hq5"
      },
      "execution_count": 43,
      "outputs": []
    },
    {
      "cell_type": "code",
      "source": [
        "submission_df[\"is_laugh\"] = test_pred\n",
        "submission_df.head()"
      ],
      "metadata": {
        "id": "p8g6BTPjCg9R",
        "colab": {
          "base_uri": "https://localhost:8080/",
          "height": 206
        },
        "outputId": "a066a609-e3ee-4019-f086-b67a719ddca2"
      },
      "execution_count": 44,
      "outputs": [
        {
          "output_type": "execute_result",
          "data": {
            "text/plain": [
              "          id  is_laugh\n",
              "0  rfdjcfsqq  0.528760\n",
              "1  tsgqmfpef  0.404427\n",
              "2  owjcthkz2  0.363496\n",
              "3  rvgaocjyy  0.492799\n",
              "4  uxtwu5i69  0.739498"
            ],
            "text/html": [
              "\n",
              "  <div id=\"df-70e1067f-6af0-4b61-ba71-4f611cbbd2e2\">\n",
              "    <div class=\"colab-df-container\">\n",
              "      <div>\n",
              "<style scoped>\n",
              "    .dataframe tbody tr th:only-of-type {\n",
              "        vertical-align: middle;\n",
              "    }\n",
              "\n",
              "    .dataframe tbody tr th {\n",
              "        vertical-align: top;\n",
              "    }\n",
              "\n",
              "    .dataframe thead th {\n",
              "        text-align: right;\n",
              "    }\n",
              "</style>\n",
              "<table border=\"1\" class=\"dataframe\">\n",
              "  <thead>\n",
              "    <tr style=\"text-align: right;\">\n",
              "      <th></th>\n",
              "      <th>id</th>\n",
              "      <th>is_laugh</th>\n",
              "    </tr>\n",
              "  </thead>\n",
              "  <tbody>\n",
              "    <tr>\n",
              "      <th>0</th>\n",
              "      <td>rfdjcfsqq</td>\n",
              "      <td>0.528760</td>\n",
              "    </tr>\n",
              "    <tr>\n",
              "      <th>1</th>\n",
              "      <td>tsgqmfpef</td>\n",
              "      <td>0.404427</td>\n",
              "    </tr>\n",
              "    <tr>\n",
              "      <th>2</th>\n",
              "      <td>owjcthkz2</td>\n",
              "      <td>0.363496</td>\n",
              "    </tr>\n",
              "    <tr>\n",
              "      <th>3</th>\n",
              "      <td>rvgaocjyy</td>\n",
              "      <td>0.492799</td>\n",
              "    </tr>\n",
              "    <tr>\n",
              "      <th>4</th>\n",
              "      <td>uxtwu5i69</td>\n",
              "      <td>0.739498</td>\n",
              "    </tr>\n",
              "  </tbody>\n",
              "</table>\n",
              "</div>\n",
              "      <button class=\"colab-df-convert\" onclick=\"convertToInteractive('df-70e1067f-6af0-4b61-ba71-4f611cbbd2e2')\"\n",
              "              title=\"Convert this dataframe to an interactive table.\"\n",
              "              style=\"display:none;\">\n",
              "        \n",
              "  <svg xmlns=\"http://www.w3.org/2000/svg\" height=\"24px\"viewBox=\"0 0 24 24\"\n",
              "       width=\"24px\">\n",
              "    <path d=\"M0 0h24v24H0V0z\" fill=\"none\"/>\n",
              "    <path d=\"M18.56 5.44l.94 2.06.94-2.06 2.06-.94-2.06-.94-.94-2.06-.94 2.06-2.06.94zm-11 1L8.5 8.5l.94-2.06 2.06-.94-2.06-.94L8.5 2.5l-.94 2.06-2.06.94zm10 10l.94 2.06.94-2.06 2.06-.94-2.06-.94-.94-2.06-.94 2.06-2.06.94z\"/><path d=\"M17.41 7.96l-1.37-1.37c-.4-.4-.92-.59-1.43-.59-.52 0-1.04.2-1.43.59L10.3 9.45l-7.72 7.72c-.78.78-.78 2.05 0 2.83L4 21.41c.39.39.9.59 1.41.59.51 0 1.02-.2 1.41-.59l7.78-7.78 2.81-2.81c.8-.78.8-2.07 0-2.86zM5.41 20L4 18.59l7.72-7.72 1.47 1.35L5.41 20z\"/>\n",
              "  </svg>\n",
              "      </button>\n",
              "      \n",
              "  <style>\n",
              "    .colab-df-container {\n",
              "      display:flex;\n",
              "      flex-wrap:wrap;\n",
              "      gap: 12px;\n",
              "    }\n",
              "\n",
              "    .colab-df-convert {\n",
              "      background-color: #E8F0FE;\n",
              "      border: none;\n",
              "      border-radius: 50%;\n",
              "      cursor: pointer;\n",
              "      display: none;\n",
              "      fill: #1967D2;\n",
              "      height: 32px;\n",
              "      padding: 0 0 0 0;\n",
              "      width: 32px;\n",
              "    }\n",
              "\n",
              "    .colab-df-convert:hover {\n",
              "      background-color: #E2EBFA;\n",
              "      box-shadow: 0px 1px 2px rgba(60, 64, 67, 0.3), 0px 1px 3px 1px rgba(60, 64, 67, 0.15);\n",
              "      fill: #174EA6;\n",
              "    }\n",
              "\n",
              "    [theme=dark] .colab-df-convert {\n",
              "      background-color: #3B4455;\n",
              "      fill: #D2E3FC;\n",
              "    }\n",
              "\n",
              "    [theme=dark] .colab-df-convert:hover {\n",
              "      background-color: #434B5C;\n",
              "      box-shadow: 0px 1px 3px 1px rgba(0, 0, 0, 0.15);\n",
              "      filter: drop-shadow(0px 1px 2px rgba(0, 0, 0, 0.3));\n",
              "      fill: #FFFFFF;\n",
              "    }\n",
              "  </style>\n",
              "\n",
              "      <script>\n",
              "        const buttonEl =\n",
              "          document.querySelector('#df-70e1067f-6af0-4b61-ba71-4f611cbbd2e2 button.colab-df-convert');\n",
              "        buttonEl.style.display =\n",
              "          google.colab.kernel.accessAllowed ? 'block' : 'none';\n",
              "\n",
              "        async function convertToInteractive(key) {\n",
              "          const element = document.querySelector('#df-70e1067f-6af0-4b61-ba71-4f611cbbd2e2');\n",
              "          const dataTable =\n",
              "            await google.colab.kernel.invokeFunction('convertToInteractive',\n",
              "                                                     [key], {});\n",
              "          if (!dataTable) return;\n",
              "\n",
              "          const docLinkHtml = 'Like what you see? Visit the ' +\n",
              "            '<a target=\"_blank\" href=https://colab.research.google.com/notebooks/data_table.ipynb>data table notebook</a>'\n",
              "            + ' to learn more about interactive tables.';\n",
              "          element.innerHTML = '';\n",
              "          dataTable['output_type'] = 'display_data';\n",
              "          await google.colab.output.renderOutput(dataTable, element);\n",
              "          const docLink = document.createElement('div');\n",
              "          docLink.innerHTML = docLinkHtml;\n",
              "          element.appendChild(docLink);\n",
              "        }\n",
              "      </script>\n",
              "    </div>\n",
              "  </div>\n",
              "  "
            ]
          },
          "metadata": {},
          "execution_count": 44
        }
      ]
    },
    {
      "cell_type": "code",
      "source": [
        "submission_df.to_csv(('/content/drive/MyDrive/nishika/sub.csv'), index=False)"
      ],
      "metadata": {
        "id": "wV2NPdgBEYM2"
      },
      "execution_count": 45,
      "outputs": []
    },
    {
      "cell_type": "markdown",
      "source": [
        "実際に提出して、スコアを確認してみましょう。  精度向上に向けて様々なアイディアがあるかと思いますので、ぜひいろいろとトライしていただければと思います！\n",
        "\n",
        "- 異なる学習済みモデルでの特徴量化\n",
        "- 画像の状況とボケての文章との解離具合を測定する\n",
        "- 説明文口調とセリフ口調の分類をしてみる。\n",
        "- 画像に何が写っているかを検出し、特徴量に加えてみる（人が写っている。動物が写っている）\n"
      ],
      "metadata": {
        "id": "VSDaDtajVF3F"
      }
    },
    {
      "cell_type": "markdown",
      "source": [
        "https://lab.mo-t.com/blog/kaggle-shopee\n",
        "前処理については今回は気にしない。最終的なLightgbmにぶっこむ特徴量を増やして選別する方針でいく。\n",
        "エンベッディングした結果は保存する。\n",
        "最初は画像は画像、テキストはテキストでエンベッディングする。\n",
        "画像のArcFaceちょっとめんどい、実装できそうならやる\n",
        "knn(k=50)を使って、画像、テキストの分類自体はする。\n",
        "https://www.kaggle.com/code/jyotmakadiya/shopee-groupkfolds-effnetb1-and-tfidf-or-bert\n",
        "\n",
        "基本はエンベッディングしたものを使う。\n",
        "プラスで、特徴量を足してみる。\n",
        "乖離具合ってどうやって測定するのか\n",
        "・長文？なんかキーになる話がある？画像と関係？わからん\n",
        "・ボケのデザインパターン/ジョナサン・ハイト\n",
        "・既知未知判定ってどうやってやるんだ・・・\n",
        "・ポジネガ距離はおもろい。\n",
        "あえて正しいこととは逆なことをして、許されるライン的な話。\n",
        "→単純にえぐい言葉やえぐさを分類？なんかいいのないかな。\n",
        "説明文とセリフ文→なんかいい楽な分類ないかな、なかったら頑張る。\n",
        "画像に何が写っているか→うーん、手動しかないかも。"
      ],
      "metadata": {
        "id": "_m7QT4Ttk9Rv"
      }
    }
  ]
}