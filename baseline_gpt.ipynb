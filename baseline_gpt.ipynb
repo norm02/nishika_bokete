{
  "nbformat": 4,
  "nbformat_minor": 0,
  "metadata": {
    "colab": {
      "provenance": [],
      "collapsed_sections": [],
      "machine_shape": "hm"
    },
    "kernelspec": {
      "name": "python3",
      "display_name": "Python 3"
    },
    "language_info": {
      "name": "python"
    },
    "gpuClass": "standard",
    "accelerator": "GPU"
  },
  "cells": [
    {
      "cell_type": "code",
      "execution_count": null,
      "metadata": {
        "id": "exPnU6gJ9_8L"
      },
      "outputs": [],
      "source": [
        "from google.colab import drive\n",
        "drive.mount('/content/drive')"
      ]
    },
    {
      "cell_type": "code",
      "source": [
        "!nvidia-smi"
      ],
      "metadata": {
        "id": "9onj0RDDiWU4"
      },
      "execution_count": null,
      "outputs": []
    },
    {
      "cell_type": "code",
      "source": [
        "!pip install datasets"
      ],
      "metadata": {
        "id": "9PfayGQZbqNx"
      },
      "execution_count": null,
      "outputs": []
    },
    {
      "cell_type": "code",
      "source": [
        "!pip install transformers\n",
        "!pip install tokenizers\n",
        "!pip install --quiet sentencepiece\n",
        "!pip install --quiet japanize-matplotlib\n",
        "!pip install transformers fugashi ipadic >> /dev/null"
      ],
      "metadata": {
        "id": "23tLb36S_nX-"
      },
      "execution_count": null,
      "outputs": []
    },
    {
      "cell_type": "code",
      "source": [
        "import pandas as pd\n",
        "import numpy as np\n",
        "import matplotlib.pyplot as plt\n",
        "import seaborn as sns\n",
        "from PIL import Image\n",
        "import japanize_matplotlib\n",
        "\n",
        "import torch\n",
        "import transformers\n",
        "from transformers import BertTokenizer, BertJapaneseTokenizer\n",
        "\n",
        "from sklearn.metrics import mean_squared_error\n",
        "from sklearn.metrics import log_loss\n",
        "from sklearn.model_selection import StratifiedKFold, KFold\n",
        "from sklearn.model_selection import train_test_split\n",
        "from sklearn.metrics import confusion_matrix\n",
        "\n",
        "import sys\n",
        "import os\n",
        "import re\n",
        "import random\n",
        "\n",
        "from time import time\n",
        "from tqdm import tqdm\n",
        "\n",
        "from contextlib import contextmanager\n",
        "import lightgbm as lgb\n",
        "\n",
        "import re\n",
        "import requests\n",
        "import unicodedata\n",
        "import nltk\n",
        "from nltk.corpus import wordnet\n",
        "from bs4 import BeautifulSoup\n",
        "nltk.download(['wordnet', 'stopwords', 'punkt'])"
      ],
      "metadata": {
        "id": "Myu_A_Kc_zyK"
      },
      "execution_count": null,
      "outputs": []
    },
    {
      "cell_type": "code",
      "source": [
        "def seed_everything(seed=1234):\n",
        "    random.seed(seed)\n",
        "    os.environ['PYTHONHASHSEED'] = str(seed)\n",
        "    np.random.seed(seed)\n",
        "    torch.manual_seed(seed)\n",
        "    torch.cuda.manual_seed(seed)\n",
        "\n",
        "seed_everything(42)"
      ],
      "metadata": {
        "id": "z9WsZjx-NT-O"
      },
      "execution_count": 6,
      "outputs": []
    },
    {
      "cell_type": "code",
      "source": [
        "INPUT = \"/content/drive/MyDrive/nishika\" # 所望のディレクトリに変更してください。\n",
        "train_image_path = \"/content/drive/MyDrive/nishika/train/\"\n",
        "test_image_path = \"/content/drive/MyDrive/nishika/test/\""
      ],
      "metadata": {
        "id": "ajiBxfC2ABC4"
      },
      "execution_count": 7,
      "outputs": []
    },
    {
      "cell_type": "code",
      "source": [
        "train_df = pd.read_csv(os.path.join(INPUT, \"train.csv\"))\n",
        "test_df = pd.read_csv(os.path.join(INPUT, \"test.csv\"))\n",
        "submission_df = pd.read_csv(os.path.join(INPUT, \"sample_submission.csv\"))"
      ],
      "metadata": {
        "id": "Nh06H3rFAPA5"
      },
      "execution_count": 8,
      "outputs": []
    },
    {
      "cell_type": "code",
      "source": [
        "print(f\"train_data: {train_df.shape}\")\n",
        "display(train_df.head())\n",
        "\n",
        "print(f\"test_data: {test_df.shape}\")\n",
        "display(test_df.head())"
      ],
      "metadata": {
        "id": "sofMAgYkAqmU"
      },
      "execution_count": null,
      "outputs": []
    },
    {
      "cell_type": "code",
      "source": [
        "import datasets\n",
        "from datasets import load_metric\n",
        "from transformers import (\n",
        "    AutoModelForSequenceClassification,\n",
        "    DataCollatorWithPadding,\n",
        "    T5Tokenizer,\n",
        "    Trainer,\n",
        "    TrainingArguments,\n",
        ")"
      ],
      "metadata": {
        "id": "3iw1czKoXBGC"
      },
      "execution_count": 10,
      "outputs": []
    },
    {
      "cell_type": "code",
      "source": [
        "## テキストの欠損値を補間します\n",
        "train_df[\"text\"] = train_df[\"text\"].fillna('NaN')\n",
        "test_df[\"text\"] = test_df[\"text\"].fillna('NaN')"
      ],
      "metadata": {
        "id": "GIor4FKq1hbU"
      },
      "execution_count": 11,
      "outputs": []
    },
    {
      "cell_type": "code",
      "source": [
        "pseud = pd.read_csv(\"/content/drive/MyDrive/nishika/sub/sub59.csv\")"
      ],
      "metadata": {
        "id": "sryOGSz8hapV"
      },
      "execution_count": 12,
      "outputs": []
    },
    {
      "cell_type": "code",
      "source": [
        "test_df[\"label\"] = pseud[\"is_laugh\"]"
      ],
      "metadata": {
        "id": "3KeFlF_fjoCl"
      },
      "execution_count": 13,
      "outputs": []
    },
    {
      "cell_type": "code",
      "source": [
        "# ソフトマックス関数を定義\n",
        "def softmax(x):\n",
        "    u = np.sum(np.exp(x))\n",
        "    return np.exp(x)/u"
      ],
      "metadata": {
        "id": "zc7fdBDCYzCe"
      },
      "execution_count": 14,
      "outputs": []
    },
    {
      "cell_type": "code",
      "source": [
        "def preprocess_function(examples):\n",
        "    return tokenizer(examples[\"text\"], truncation=True, max_length=512)\n",
        "\n",
        "\n",
        "def compute_metrics(eval_pred):\n",
        "    logits, labels = eval_pred\n",
        "    predictions = softmax(logits)\n",
        "    return metric.compute(predictions=predictions, references=labels)\n",
        "\n",
        "\n",
        "if __name__ == \"__main__\":\n",
        "\n",
        "    os.environ[\"WANDB_DISABLED\"] = \"true\"\n",
        "    metric = load_metric(\"accuracy\")\n",
        "\n",
        "    df = train_df\n",
        "    df.columns = [\"id\",\"odai_photo_file_name\", \"text\",\"label\"]\n",
        "\n",
        "    tokenizer = T5Tokenizer.from_pretrained(\"rinna/japanese-gpt2-medium\")\n",
        "    tokenizer.pad_token = tokenizer.eos_token\n",
        "\n",
        "    test = test_df\n",
        "    test_dataset = datasets.Dataset.from_pandas(test[[\"text\"]])\n",
        "    test_tokenized = test_dataset.map(preprocess_function, batched=True)\n",
        "\n",
        "    train_dataset = datasets.Dataset.from_pandas(df[[\"text\",\"label\"]])\n",
        "    train_tokenized = train_dataset.map(preprocess_function, batched=True)\n",
        "\n",
        "    val_dataset = datasets.Dataset.from_pandas(df[[\"text\",\"label\"]])\n",
        "    val_tokenized = val_dataset.map(preprocess_function, batched=True)\n",
        "\n",
        "    data_collator = DataCollatorWithPadding(tokenizer=tokenizer)\n",
        "\n",
        "    model = AutoModelForSequenceClassification.from_pretrained(\n",
        "        \"rinna/japanese-gpt2-medium\", num_labels=2\n",
        "    )\n",
        "    model.config.pad_token_id = model.config.eos_token_id\n",
        "\n",
        "    fold_id = 0\n",
        "\n",
        "    training_args = TrainingArguments(\n",
        "        output_dir=f\"../tmp/results{fold_id}\",\n",
        "        learning_rate=4e-5,\n",
        "        per_device_train_batch_size=4,\n",
        "        per_device_eval_batch_size=64,\n",
        "        num_train_epochs=3,\n",
        "        weight_decay=0.01,\n",
        "        evaluation_strategy=\"steps\",\n",
        "        eval_steps=250,\n",
        "        load_best_model_at_end=True,\n",
        "        save_steps=1000,\n",
        "        gradient_accumulation_steps=3,\n",
        "        save_total_limit=3,\n",
        "        fp16=True,\n",
        "    )\n",
        "\n",
        "    trainer = Trainer(\n",
        "        model=model,\n",
        "        args=training_args,\n",
        "        train_dataset=train_tokenized,\n",
        "        eval_dataset=val_tokenized,\n",
        "        tokenizer=tokenizer,\n",
        "        data_collator=data_collator,\n",
        "        compute_metrics=compute_metrics,\n",
        "    )\n",
        "\n",
        "    trainer.train()\n",
        "\n",
        "    oof_results = trainer.predict(test_dataset=val_tokenized)\n",
        "    np.save(f\"oof_prediction{fold_id}\", oof_results.predictions)\n",
        "\n",
        "    results = trainer.predict(test_dataset=test_tokenized)\n",
        "    np.save(f\"test_prediction_full{fold_id}\", results.predictions)\n",
        "\n",
        "    test[\"is_laugh\"] = softmax(results.predictions)\n",
        "    test[[\"id\", \"is_laugh\"]].to_csv(\"sub.csv\", index=False)"
      ],
      "metadata": {
        "id": "PzVQjvJOXWb7"
      },
      "execution_count": null,
      "outputs": []
    }
  ]
}