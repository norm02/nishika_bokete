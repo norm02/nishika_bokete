{
  "cells": [
    {
      "cell_type": "markdown",
      "metadata": {
        "id": "kxB67KAvdE0z"
      },
      "source": [
        "画像をクラスタリングして似ている画像や完全に同じ画像が無いかを探索します。\n",
        "\n",
        "画像間の距離は ImageHash で計算したハッシュ値の差分を用います。\n",
        "\n",
        "クラスタリングは逐次クラスタリングの手法を用います。train/test 全ての画像に対して以下の手続きを行い、所属するクラスターを求めます。\n",
        "\n",
        "1. 最初、クラスターは1つも存在しません。\n",
        "2. 1枚目の画像はクラスター1に所属するとします。\n",
        "2. $K(\\gt1)$番目の画像について、既存のクラスター全てとの距離を計算します。クラスターとの距離とは「当該クラスターに属する画像の中で、最も距離が近いものとの距離」と定義します。\n",
        "3, 最も距離が近いクラスターが$i$番目のクラスターだったとします。\n",
        "  - クラスター$i$との距離が一定の閾値（今回は10.0とします）未満であれば$K$番目の画像はクラスター$i$に属するとします。\n",
        "  - クラスター$i$との距離が閾値を超えた場合、$K$番目は既存クラスターのどれにも属さないので、$K$番目の画像だけが所属する新たなクラスターを生成します。\n"
      ]
    },
    {
      "cell_type": "markdown",
      "metadata": {
        "id": "-LJ-ZroXgdS_"
      },
      "source": [
        "## モジュールの import"
      ]
    },
    {
      "cell_type": "code",
      "execution_count": null,
      "metadata": {
        "colab": {
          "base_uri": "https://localhost:8080/"
        },
        "id": "qqKuN-QNsg6f",
        "outputId": "4131b591-b096-4e98-d273-1c1980e7d641"
      },
      "outputs": [
        {
          "name": "stdout",
          "output_type": "stream",
          "text": [
            "Drive already mounted at /content/drive; to attempt to forcibly remount, call drive.mount(\"/content/drive\", force_remount=True).\n"
          ]
        }
      ],
      "source": [
        "from google.colab import drive\n",
        "drive.mount('/content/drive')"
      ]
    },
    {
      "cell_type": "code",
      "execution_count": null,
      "metadata": {
        "id": "S-CKidxrdEI9"
      },
      "outputs": [],
      "source": [
        "import glob\n",
        "import os\n",
        "\n",
        "try:\n",
        "    import imagehash\n",
        "except ImportError:\n",
        "    !pip install Imagehash --quiet\n",
        "    import imagehash\n",
        "import matplotlib.pyplot as plt\n",
        "%matplotlib inline\n",
        "import pandas as pd\n",
        "from PIL import Image\n",
        "import seaborn as sns\n",
        "from tqdm.notebook import tqdm"
      ]
    },
    {
      "cell_type": "markdown",
      "metadata": {
        "id": "zQPbUlxXgqz7"
      },
      "source": [
        "## データの読み込み"
      ]
    },
    {
      "cell_type": "code",
      "execution_count": null,
      "metadata": {
        "id": "rWPNPi6viKP_"
      },
      "outputs": [],
      "source": [
        "DATA_DIR = '/content/drive/MyDrive/nishika/'  # コンペのデータを置いているフォルダ\n",
        "assert os.path.isdir(DATA_DIR)\n",
        "\n",
        "# train/test の画像フォルダも存在しなければNG\n",
        "assert os.path.isdir(os.path.join(DATA_DIR, 'train'))\n",
        "assert os.path.isdir(os.path.join(DATA_DIR, 'test'))"
      ]
    },
    {
      "cell_type": "code",
      "execution_count": null,
      "metadata": {
        "id": "4vYEw6NDcSp6"
      },
      "outputs": [],
      "source": [
        "train = pd.read_csv(os.path.join(DATA_DIR, 'train.csv'))\n",
        "test = pd.read_csv(os.path.join(DATA_DIR, 'test.csv'))\n",
        "\n",
        "# ファイル名には重複が無い\n",
        "assert not train['odai_photo_file_name'].duplicated().any()\n",
        "assert not test['odai_photo_file_name'].duplicated().any()\n",
        "\n",
        "# train/test の両方に登場するファイル名も存在しない\n",
        "assert not train['odai_photo_file_name'].isin(test['odai_photo_file_name']).any()"
      ]
    },
    {
      "cell_type": "code",
      "execution_count": null,
      "metadata": {
        "colab": {
          "base_uri": "https://localhost:8080/",
          "height": 424
        },
        "id": "r7JZS6Fjcf9a",
        "outputId": "ab807942-b6b9-429d-cf8f-aff78aa30632"
      },
      "outputs": [
        {
          "data": {
            "text/html": [
              "\n",
              "  <div id=\"df-2eccd811-dd0f-4b04-99c0-f55514394b2a\">\n",
              "    <div class=\"colab-df-container\">\n",
              "      <div>\n",
              "<style scoped>\n",
              "    .dataframe tbody tr th:only-of-type {\n",
              "        vertical-align: middle;\n",
              "    }\n",
              "\n",
              "    .dataframe tbody tr th {\n",
              "        vertical-align: top;\n",
              "    }\n",
              "\n",
              "    .dataframe thead th {\n",
              "        text-align: right;\n",
              "    }\n",
              "</style>\n",
              "<table border=\"1\" class=\"dataframe\">\n",
              "  <thead>\n",
              "    <tr style=\"text-align: right;\">\n",
              "      <th></th>\n",
              "      <th>id</th>\n",
              "      <th>odai_photo_file_name</th>\n",
              "      <th>text</th>\n",
              "      <th>is_laugh</th>\n",
              "    </tr>\n",
              "  </thead>\n",
              "  <tbody>\n",
              "    <tr>\n",
              "      <th>0</th>\n",
              "      <td>ge5kssftl</td>\n",
              "      <td>9fkys1gb2r.jpg</td>\n",
              "      <td>君しょっちゅうソレ自慢するけど、ツムジ２個ってそんなに嬉しいのかい？</td>\n",
              "      <td>0</td>\n",
              "    </tr>\n",
              "    <tr>\n",
              "      <th>1</th>\n",
              "      <td>r7sm6tvkj</td>\n",
              "      <td>c6ag0m1lak.jpg</td>\n",
              "      <td>これでバレない？授業中寝てもバレない？</td>\n",
              "      <td>0</td>\n",
              "    </tr>\n",
              "    <tr>\n",
              "      <th>2</th>\n",
              "      <td>yp5aze0bh</td>\n",
              "      <td>whtn6gb9ww.jpg</td>\n",
              "      <td>「あなたも感じる？」\\n『ああ…、感じてる…』\\n「後ろに幽霊いるよね…」\\n『女のな…』</td>\n",
              "      <td>0</td>\n",
              "    </tr>\n",
              "    <tr>\n",
              "      <th>3</th>\n",
              "      <td>ujaixzo56</td>\n",
              "      <td>6yk5cwmrsy.jpg</td>\n",
              "      <td>大塚愛聞いてたらお腹減った…さく、らんぼと牛タン食べたい…</td>\n",
              "      <td>0</td>\n",
              "    </tr>\n",
              "    <tr>\n",
              "      <th>4</th>\n",
              "      <td>7vkeveptl</td>\n",
              "      <td>0i9gsa2jsm.jpg</td>\n",
              "      <td>熊だと思ったら嫁だった</td>\n",
              "      <td>0</td>\n",
              "    </tr>\n",
              "    <tr>\n",
              "      <th>...</th>\n",
              "      <td>...</td>\n",
              "      <td>...</td>\n",
              "      <td>...</td>\n",
              "      <td>...</td>\n",
              "    </tr>\n",
              "    <tr>\n",
              "      <th>24957</th>\n",
              "      <td>xa2nruec1</td>\n",
              "      <td>5ctq9ohpge.jpg</td>\n",
              "      <td>え、いいんすか？マジっすか？あざーっす</td>\n",
              "      <td>0</td>\n",
              "    </tr>\n",
              "    <tr>\n",
              "      <th>24958</th>\n",
              "      <td>dl8r1idfv</td>\n",
              "      <td>dcj9pepjwf.jpg</td>\n",
              "      <td>しかし回り込まれてしまった！</td>\n",
              "      <td>1</td>\n",
              "    </tr>\n",
              "    <tr>\n",
              "      <th>24959</th>\n",
              "      <td>kabzw7bxm</td>\n",
              "      <td>ks04y4iy7i.jpg</td>\n",
              "      <td>緑でもない中を走り抜けてく♪真っ赤でもないポルシェでもない♪</td>\n",
              "      <td>1</td>\n",
              "    </tr>\n",
              "    <tr>\n",
              "      <th>24960</th>\n",
              "      <td>4blagy0gf</td>\n",
              "      <td>cgfkktchbz.jpg</td>\n",
              "      <td>後ろのサングラスの友達を撮ろうとしたが、思いっきり割り込んできた。</td>\n",
              "      <td>0</td>\n",
              "    </tr>\n",
              "    <tr>\n",
              "      <th>24961</th>\n",
              "      <td>of5eofmq6</td>\n",
              "      <td>jwulli1cmi.jpg</td>\n",
              "      <td>待って、今西田敏行になるから</td>\n",
              "      <td>1</td>\n",
              "    </tr>\n",
              "  </tbody>\n",
              "</table>\n",
              "<p>24962 rows × 4 columns</p>\n",
              "</div>\n",
              "      <button class=\"colab-df-convert\" onclick=\"convertToInteractive('df-2eccd811-dd0f-4b04-99c0-f55514394b2a')\"\n",
              "              title=\"Convert this dataframe to an interactive table.\"\n",
              "              style=\"display:none;\">\n",
              "        \n",
              "  <svg xmlns=\"http://www.w3.org/2000/svg\" height=\"24px\"viewBox=\"0 0 24 24\"\n",
              "       width=\"24px\">\n",
              "    <path d=\"M0 0h24v24H0V0z\" fill=\"none\"/>\n",
              "    <path d=\"M18.56 5.44l.94 2.06.94-2.06 2.06-.94-2.06-.94-.94-2.06-.94 2.06-2.06.94zm-11 1L8.5 8.5l.94-2.06 2.06-.94-2.06-.94L8.5 2.5l-.94 2.06-2.06.94zm10 10l.94 2.06.94-2.06 2.06-.94-2.06-.94-.94-2.06-.94 2.06-2.06.94z\"/><path d=\"M17.41 7.96l-1.37-1.37c-.4-.4-.92-.59-1.43-.59-.52 0-1.04.2-1.43.59L10.3 9.45l-7.72 7.72c-.78.78-.78 2.05 0 2.83L4 21.41c.39.39.9.59 1.41.59.51 0 1.02-.2 1.41-.59l7.78-7.78 2.81-2.81c.8-.78.8-2.07 0-2.86zM5.41 20L4 18.59l7.72-7.72 1.47 1.35L5.41 20z\"/>\n",
              "  </svg>\n",
              "      </button>\n",
              "      \n",
              "  <style>\n",
              "    .colab-df-container {\n",
              "      display:flex;\n",
              "      flex-wrap:wrap;\n",
              "      gap: 12px;\n",
              "    }\n",
              "\n",
              "    .colab-df-convert {\n",
              "      background-color: #E8F0FE;\n",
              "      border: none;\n",
              "      border-radius: 50%;\n",
              "      cursor: pointer;\n",
              "      display: none;\n",
              "      fill: #1967D2;\n",
              "      height: 32px;\n",
              "      padding: 0 0 0 0;\n",
              "      width: 32px;\n",
              "    }\n",
              "\n",
              "    .colab-df-convert:hover {\n",
              "      background-color: #E2EBFA;\n",
              "      box-shadow: 0px 1px 2px rgba(60, 64, 67, 0.3), 0px 1px 3px 1px rgba(60, 64, 67, 0.15);\n",
              "      fill: #174EA6;\n",
              "    }\n",
              "\n",
              "    [theme=dark] .colab-df-convert {\n",
              "      background-color: #3B4455;\n",
              "      fill: #D2E3FC;\n",
              "    }\n",
              "\n",
              "    [theme=dark] .colab-df-convert:hover {\n",
              "      background-color: #434B5C;\n",
              "      box-shadow: 0px 1px 3px 1px rgba(0, 0, 0, 0.15);\n",
              "      filter: drop-shadow(0px 1px 2px rgba(0, 0, 0, 0.3));\n",
              "      fill: #FFFFFF;\n",
              "    }\n",
              "  </style>\n",
              "\n",
              "      <script>\n",
              "        const buttonEl =\n",
              "          document.querySelector('#df-2eccd811-dd0f-4b04-99c0-f55514394b2a button.colab-df-convert');\n",
              "        buttonEl.style.display =\n",
              "          google.colab.kernel.accessAllowed ? 'block' : 'none';\n",
              "\n",
              "        async function convertToInteractive(key) {\n",
              "          const element = document.querySelector('#df-2eccd811-dd0f-4b04-99c0-f55514394b2a');\n",
              "          const dataTable =\n",
              "            await google.colab.kernel.invokeFunction('convertToInteractive',\n",
              "                                                     [key], {});\n",
              "          if (!dataTable) return;\n",
              "\n",
              "          const docLinkHtml = 'Like what you see? Visit the ' +\n",
              "            '<a target=\"_blank\" href=https://colab.research.google.com/notebooks/data_table.ipynb>data table notebook</a>'\n",
              "            + ' to learn more about interactive tables.';\n",
              "          element.innerHTML = '';\n",
              "          dataTable['output_type'] = 'display_data';\n",
              "          await google.colab.output.renderOutput(dataTable, element);\n",
              "          const docLink = document.createElement('div');\n",
              "          docLink.innerHTML = docLinkHtml;\n",
              "          element.appendChild(docLink);\n",
              "        }\n",
              "      </script>\n",
              "    </div>\n",
              "  </div>\n",
              "  "
            ],
            "text/plain": [
              "              id odai_photo_file_name  \\\n",
              "0      ge5kssftl       9fkys1gb2r.jpg   \n",
              "1      r7sm6tvkj       c6ag0m1lak.jpg   \n",
              "2      yp5aze0bh       whtn6gb9ww.jpg   \n",
              "3      ujaixzo56       6yk5cwmrsy.jpg   \n",
              "4      7vkeveptl       0i9gsa2jsm.jpg   \n",
              "...          ...                  ...   \n",
              "24957  xa2nruec1       5ctq9ohpge.jpg   \n",
              "24958  dl8r1idfv       dcj9pepjwf.jpg   \n",
              "24959  kabzw7bxm       ks04y4iy7i.jpg   \n",
              "24960  4blagy0gf       cgfkktchbz.jpg   \n",
              "24961  of5eofmq6       jwulli1cmi.jpg   \n",
              "\n",
              "                                                text  is_laugh  \n",
              "0                 君しょっちゅうソレ自慢するけど、ツムジ２個ってそんなに嬉しいのかい？         0  \n",
              "1                                これでバレない？授業中寝てもバレない？         0  \n",
              "2      「あなたも感じる？」\\n『ああ…、感じてる…』\\n「後ろに幽霊いるよね…」\\n『女のな…』         0  \n",
              "3                     大塚愛聞いてたらお腹減った…さく、らんぼと牛タン食べたい…          0  \n",
              "4                                        熊だと思ったら嫁だった         0  \n",
              "...                                              ...       ...  \n",
              "24957                            え、いいんすか？マジっすか？あざーっす         0  \n",
              "24958                                 しかし回り込まれてしまった！         1  \n",
              "24959                 緑でもない中を走り抜けてく♪真っ赤でもないポルシェでもない♪         1  \n",
              "24960              後ろのサングラスの友達を撮ろうとしたが、思いっきり割り込んできた。         0  \n",
              "24961                                 待って、今西田敏行になるから         1  \n",
              "\n",
              "[24962 rows x 4 columns]"
            ]
          },
          "execution_count": 5,
          "metadata": {},
          "output_type": "execute_result"
        }
      ],
      "source": [
        "train"
      ]
    },
    {
      "cell_type": "code",
      "execution_count": null,
      "metadata": {
        "colab": {
          "base_uri": "https://localhost:8080/",
          "height": 424
        },
        "id": "a7Px3g1tcgNJ",
        "outputId": "18117a7e-f026-4fe5-c707-9e6b65b1f6b7"
      },
      "outputs": [
        {
          "data": {
            "text/html": [
              "\n",
              "  <div id=\"df-9109e79a-0425-4981-b538-a985dbc42754\">\n",
              "    <div class=\"colab-df-container\">\n",
              "      <div>\n",
              "<style scoped>\n",
              "    .dataframe tbody tr th:only-of-type {\n",
              "        vertical-align: middle;\n",
              "    }\n",
              "\n",
              "    .dataframe tbody tr th {\n",
              "        vertical-align: top;\n",
              "    }\n",
              "\n",
              "    .dataframe thead th {\n",
              "        text-align: right;\n",
              "    }\n",
              "</style>\n",
              "<table border=\"1\" class=\"dataframe\">\n",
              "  <thead>\n",
              "    <tr style=\"text-align: right;\">\n",
              "      <th></th>\n",
              "      <th>id</th>\n",
              "      <th>odai_photo_file_name</th>\n",
              "      <th>text</th>\n",
              "    </tr>\n",
              "  </thead>\n",
              "  <tbody>\n",
              "    <tr>\n",
              "      <th>0</th>\n",
              "      <td>rfdjcfsqq</td>\n",
              "      <td>nc1kez326b.jpg</td>\n",
              "      <td>僕のママ、キャラ弁のゆでたまごに８時間かかったんだ</td>\n",
              "    </tr>\n",
              "    <tr>\n",
              "      <th>1</th>\n",
              "      <td>tsgqmfpef</td>\n",
              "      <td>49xt2fmjw0.jpg</td>\n",
              "      <td>かわいいが作れた！</td>\n",
              "    </tr>\n",
              "    <tr>\n",
              "      <th>2</th>\n",
              "      <td>owjcthkz2</td>\n",
              "      <td>9dtscjmyfh.jpg</td>\n",
              "      <td>来世の志茂田景樹</td>\n",
              "    </tr>\n",
              "    <tr>\n",
              "      <th>3</th>\n",
              "      <td>rvgaocjyy</td>\n",
              "      <td>osa3n56tiv.jpg</td>\n",
              "      <td>ちょ、あの、オカン、これ水風呂やねんけど、なんの冗談??</td>\n",
              "    </tr>\n",
              "    <tr>\n",
              "      <th>4</th>\n",
              "      <td>uxtwu5i69</td>\n",
              "      <td>yb1yqs4pvb.jpg</td>\n",
              "      <td>「今日は皆さんにザリガニと消防車の違いを知ってもらいたいと思います」『どっちも同じだろ。両方...</td>\n",
              "    </tr>\n",
              "    <tr>\n",
              "      <th>...</th>\n",
              "      <td>...</td>\n",
              "      <td>...</td>\n",
              "      <td>...</td>\n",
              "    </tr>\n",
              "    <tr>\n",
              "      <th>5995</th>\n",
              "      <td>vx1lpzark</td>\n",
              "      <td>0bgwr5po4l.jpg</td>\n",
              "      <td>フォントの幸せってなんなんでしょうね</td>\n",
              "    </tr>\n",
              "    <tr>\n",
              "      <th>5996</th>\n",
              "      <td>y9sugbhm8</td>\n",
              "      <td>3wgkjwrq11.jpg</td>\n",
              "      <td>隣に出来た店のせいで自分の店の売り上げが落ちたので無銭飲食しようと乗り込んだらちょうど1万人...</td>\n",
              "    </tr>\n",
              "    <tr>\n",
              "      <th>5997</th>\n",
              "      <td>dsd1yixzk</td>\n",
              "      <td>rny98dohwa.jpg</td>\n",
              "      <td>大クラッシュ後、マンガのような形でまさかの生還</td>\n",
              "    </tr>\n",
              "    <tr>\n",
              "      <th>5998</th>\n",
              "      <td>vmyopn0mu</td>\n",
              "      <td>rlrze2yhes.jpg</td>\n",
              "      <td>天井にバレーボールがはさまってる</td>\n",
              "    </tr>\n",
              "    <tr>\n",
              "      <th>5999</th>\n",
              "      <td>sveiueszw</td>\n",
              "      <td>khnyiksntu.jpg</td>\n",
              "      <td>「今日の病院の待ち合い所井戸端会議にトメさん、来れないんだって？」『風邪ひいて体調が悪いんだ...</td>\n",
              "    </tr>\n",
              "  </tbody>\n",
              "</table>\n",
              "<p>6000 rows × 3 columns</p>\n",
              "</div>\n",
              "      <button class=\"colab-df-convert\" onclick=\"convertToInteractive('df-9109e79a-0425-4981-b538-a985dbc42754')\"\n",
              "              title=\"Convert this dataframe to an interactive table.\"\n",
              "              style=\"display:none;\">\n",
              "        \n",
              "  <svg xmlns=\"http://www.w3.org/2000/svg\" height=\"24px\"viewBox=\"0 0 24 24\"\n",
              "       width=\"24px\">\n",
              "    <path d=\"M0 0h24v24H0V0z\" fill=\"none\"/>\n",
              "    <path d=\"M18.56 5.44l.94 2.06.94-2.06 2.06-.94-2.06-.94-.94-2.06-.94 2.06-2.06.94zm-11 1L8.5 8.5l.94-2.06 2.06-.94-2.06-.94L8.5 2.5l-.94 2.06-2.06.94zm10 10l.94 2.06.94-2.06 2.06-.94-2.06-.94-.94-2.06-.94 2.06-2.06.94z\"/><path d=\"M17.41 7.96l-1.37-1.37c-.4-.4-.92-.59-1.43-.59-.52 0-1.04.2-1.43.59L10.3 9.45l-7.72 7.72c-.78.78-.78 2.05 0 2.83L4 21.41c.39.39.9.59 1.41.59.51 0 1.02-.2 1.41-.59l7.78-7.78 2.81-2.81c.8-.78.8-2.07 0-2.86zM5.41 20L4 18.59l7.72-7.72 1.47 1.35L5.41 20z\"/>\n",
              "  </svg>\n",
              "      </button>\n",
              "      \n",
              "  <style>\n",
              "    .colab-df-container {\n",
              "      display:flex;\n",
              "      flex-wrap:wrap;\n",
              "      gap: 12px;\n",
              "    }\n",
              "\n",
              "    .colab-df-convert {\n",
              "      background-color: #E8F0FE;\n",
              "      border: none;\n",
              "      border-radius: 50%;\n",
              "      cursor: pointer;\n",
              "      display: none;\n",
              "      fill: #1967D2;\n",
              "      height: 32px;\n",
              "      padding: 0 0 0 0;\n",
              "      width: 32px;\n",
              "    }\n",
              "\n",
              "    .colab-df-convert:hover {\n",
              "      background-color: #E2EBFA;\n",
              "      box-shadow: 0px 1px 2px rgba(60, 64, 67, 0.3), 0px 1px 3px 1px rgba(60, 64, 67, 0.15);\n",
              "      fill: #174EA6;\n",
              "    }\n",
              "\n",
              "    [theme=dark] .colab-df-convert {\n",
              "      background-color: #3B4455;\n",
              "      fill: #D2E3FC;\n",
              "    }\n",
              "\n",
              "    [theme=dark] .colab-df-convert:hover {\n",
              "      background-color: #434B5C;\n",
              "      box-shadow: 0px 1px 3px 1px rgba(0, 0, 0, 0.15);\n",
              "      filter: drop-shadow(0px 1px 2px rgba(0, 0, 0, 0.3));\n",
              "      fill: #FFFFFF;\n",
              "    }\n",
              "  </style>\n",
              "\n",
              "      <script>\n",
              "        const buttonEl =\n",
              "          document.querySelector('#df-9109e79a-0425-4981-b538-a985dbc42754 button.colab-df-convert');\n",
              "        buttonEl.style.display =\n",
              "          google.colab.kernel.accessAllowed ? 'block' : 'none';\n",
              "\n",
              "        async function convertToInteractive(key) {\n",
              "          const element = document.querySelector('#df-9109e79a-0425-4981-b538-a985dbc42754');\n",
              "          const dataTable =\n",
              "            await google.colab.kernel.invokeFunction('convertToInteractive',\n",
              "                                                     [key], {});\n",
              "          if (!dataTable) return;\n",
              "\n",
              "          const docLinkHtml = 'Like what you see? Visit the ' +\n",
              "            '<a target=\"_blank\" href=https://colab.research.google.com/notebooks/data_table.ipynb>data table notebook</a>'\n",
              "            + ' to learn more about interactive tables.';\n",
              "          element.innerHTML = '';\n",
              "          dataTable['output_type'] = 'display_data';\n",
              "          await google.colab.output.renderOutput(dataTable, element);\n",
              "          const docLink = document.createElement('div');\n",
              "          docLink.innerHTML = docLinkHtml;\n",
              "          element.appendChild(docLink);\n",
              "        }\n",
              "      </script>\n",
              "    </div>\n",
              "  </div>\n",
              "  "
            ],
            "text/plain": [
              "             id odai_photo_file_name  \\\n",
              "0     rfdjcfsqq       nc1kez326b.jpg   \n",
              "1     tsgqmfpef       49xt2fmjw0.jpg   \n",
              "2     owjcthkz2       9dtscjmyfh.jpg   \n",
              "3     rvgaocjyy       osa3n56tiv.jpg   \n",
              "4     uxtwu5i69       yb1yqs4pvb.jpg   \n",
              "...         ...                  ...   \n",
              "5995  vx1lpzark       0bgwr5po4l.jpg   \n",
              "5996  y9sugbhm8       3wgkjwrq11.jpg   \n",
              "5997  dsd1yixzk       rny98dohwa.jpg   \n",
              "5998  vmyopn0mu       rlrze2yhes.jpg   \n",
              "5999  sveiueszw       khnyiksntu.jpg   \n",
              "\n",
              "                                                   text  \n",
              "0                             僕のママ、キャラ弁のゆでたまごに８時間かかったんだ  \n",
              "1                                             かわいいが作れた！  \n",
              "2                                              来世の志茂田景樹  \n",
              "3                          ちょ、あの、オカン、これ水風呂やねんけど、なんの冗談??  \n",
              "4     「今日は皆さんにザリガニと消防車の違いを知ってもらいたいと思います」『どっちも同じだろ。両方...  \n",
              "...                                                 ...  \n",
              "5995                                 フォントの幸せってなんなんでしょうね  \n",
              "5996  隣に出来た店のせいで自分の店の売り上げが落ちたので無銭飲食しようと乗り込んだらちょうど1万人...  \n",
              "5997                            大クラッシュ後、マンガのような形でまさかの生還  \n",
              "5998                                   天井にバレーボールがはさまってる  \n",
              "5999  「今日の病院の待ち合い所井戸端会議にトメさん、来れないんだって？」『風邪ひいて体調が悪いんだ...  \n",
              "\n",
              "[6000 rows x 3 columns]"
            ]
          },
          "execution_count": 6,
          "metadata": {},
          "output_type": "execute_result"
        }
      ],
      "source": [
        "test"
      ]
    },
    {
      "cell_type": "markdown",
      "metadata": {
        "id": "ERJeqPg2gw4F"
      },
      "source": [
        "## クラスタリング"
      ]
    },
    {
      "cell_type": "code",
      "execution_count": null,
      "metadata": {
        "id": "a_G9ScPwcgZy"
      },
      "outputs": [],
      "source": [
        "def gen_path_and_text():\n",
        "    # 画像のファイル名と格納フォルダを順番に返す\n",
        "    for is_train in (True, False):\n",
        "        if is_train:\n",
        "            for filename in train['odai_photo_file_name'].tolist():\n",
        "                yield filename, os.path.join(DATA_DIR, 'train')\n",
        "        else:\n",
        "            for filename in test['odai_photo_file_name'].tolist():\n",
        "                yield filename, os.path.join(DATA_DIR, 'test')"
      ]
    },
    {
      "cell_type": "code",
      "execution_count": null,
      "metadata": {
        "colab": {
          "base_uri": "https://localhost:8080/"
        },
        "id": "jVG6DB7_c3Wj",
        "outputId": "542b02c1-e4cf-427c-fdb0-7c6852901b17"
      },
      "outputs": [
        {
          "name": "stdout",
          "output_type": "stream",
          "text": [
            "Complete 1000/30962 files\n",
            "Complete 2000/30962 files\n",
            "Complete 3000/30962 files\n",
            "Complete 4000/30962 files\n",
            "Complete 5000/30962 files\n",
            "Complete 6000/30962 files\n",
            "Complete 7000/30962 files\n",
            "Complete 8000/30962 files\n",
            "Complete 9000/30962 files\n",
            "Complete 10000/30962 files\n",
            "Complete 11000/30962 files\n",
            "Complete 12000/30962 files\n",
            "Complete 13000/30962 files\n",
            "Complete 14000/30962 files\n",
            "Complete 15000/30962 files\n",
            "Complete 16000/30962 files\n",
            "Complete 17000/30962 files\n",
            "Complete 18000/30962 files\n",
            "Complete 19000/30962 files\n",
            "Complete 20000/30962 files\n",
            "Complete 21000/30962 files\n",
            "Complete 22000/30962 files\n",
            "Complete 23000/30962 files\n",
            "Complete 24000/30962 files\n",
            "Complete 25000/30962 files\n",
            "Complete 26000/30962 files\n",
            "Complete 27000/30962 files\n",
            "Complete 28000/30962 files\n",
            "Complete 29000/30962 files\n",
            "Complete 30000/30962 files\n"
          ]
        }
      ],
      "source": [
        "%%time\n",
        "\n",
        "THRESHOLD = 10.  # ハッシュの差分がこれ未満でないと同じクラスターにはなれない\n",
        "clusters = []  # list of list[filename]\n",
        "hash_values = {}  # filename: image hash\n",
        "n = train.shape[0] + test.shape[0]\n",
        "\n",
        "for i, (filename, directory) in enumerate(gen_path_and_text()):\n",
        "\n",
        "    # 画像のハッシュ計算処理は重いので結果は cache しておく\n",
        "    image = Image.open(os.path.join(directory, filename))\n",
        "    hash_value = imagehash.phash(image)\n",
        "    hash_values[filename] = hash_value\n",
        "\n",
        "    # 画像が所属するクラスターを決める\n",
        "    if not clusters:\n",
        "        clusters.append([filename])\n",
        "    else:\n",
        "        # 最も近くのクラスターを特定する\n",
        "        distance_from_nearest_cluster = nearest_cluster_idx = None\n",
        "        for cluster_idx, image_filenames_in_cluster in enumerate(clusters):\n",
        "            distance_from_cluster = min([hash_value - hash_values[f] for f in image_filenames_in_cluster])\n",
        "            if cluster_idx == 0:\n",
        "                distance_from_nearest_cluster = distance_from_cluster\n",
        "                nearest_cluster_idx = cluster_idx\n",
        "            elif distance_from_cluster < distance_from_nearest_cluster:\n",
        "                distance_from_nearest_cluster = distance_from_cluster\n",
        "                nearest_cluster_idx = cluster_idx\n",
        "        # クラスターまでの距離が閾値を下回ればそのクラスターに所属させるがそうでなければ新たなクラスターに属する\n",
        "        if distance_from_nearest_cluster < THRESHOLD:\n",
        "            clusters[nearest_cluster_idx].append(filename)\n",
        "        else:\n",
        "            clusters.append([filename])\n",
        "\n",
        "    # 進捗を表示する\n",
        "    if (i + 1) % 1000 == 0 or i == n - 1:\n",
        "        print(f'Complete {i + 1}/{n} files')\n"
      ]
    },
    {
      "cell_type": "code",
      "execution_count": null,
      "metadata": {
        "id": "wPwRqU7jiYnl"
      },
      "outputs": [],
      "source": [
        "len(clusters)"
      ]
    },
    {
      "cell_type": "markdown",
      "metadata": {
        "id": "eenAp0hFQfyF"
      },
      "source": [
        "train/test で30962個ある画像が30887個のクラスターを形成している。"
      ]
    },
    {
      "cell_type": "code",
      "execution_count": null,
      "metadata": {
        "id": "N4wX9OmkQe5B"
      },
      "outputs": [],
      "source": [
        "cluster_sizes = [len(c) for c in clusters]\n",
        "pd.Series(cluster_sizes).value_counts().sort_index().reset_index().rename(columns={'index': 'Cluster size', 0: 'Number of clusters'}).set_index('Cluster size')"
      ]
    },
    {
      "cell_type": "markdown",
      "metadata": {
        "id": "pIxOzimhQwUi"
      },
      "source": [
        "2個の画像からなるクラスターが65, 3個の画像からなるクラスターが65個、5個の画像からなるクラスターが1個存在する。"
      ]
    },
    {
      "cell_type": "markdown",
      "metadata": {
        "id": "LmpgiARyaAy2"
      },
      "source": [
        "## 似ている画像、重複画像の表示"
      ]
    },
    {
      "cell_type": "markdown",
      "metadata": {
        "id": "7qAz-Md1aFO3"
      },
      "source": [
        "複数の画像が所属するクラスターについて、同じクラスターに属する画像を横並びにして確認する。"
      ]
    },
    {
      "cell_type": "code",
      "execution_count": null,
      "metadata": {
        "colab": {
          "background_save": true,
          "referenced_widgets": [
            "e7919067a97b489e8abe8a35102f5c10"
          ]
        },
        "id": "iOiKgYCPwKRP",
        "outputId": "511313e3-ed2b-4968-ae36-cd211457951e"
      },
      "outputs": [],
      "source": [
        "for cluster_id, image_filenames_in_cluster in tqdm(enumerate(clusters)):\n",
        "    if len(image_filenames_in_cluster) < 2:\n",
        "        pass\n",
        "    else:\n",
        "        fig = plt.figure(figsize=(18., 6.))\n",
        "        for i, filename in enumerate(image_filenames_in_cluster):\n",
        "            ax = plt.subplot(1, len(image_filenames_in_cluster), i + 1)\n",
        "            directory = 'test' if filename in test['odai_photo_file_name'].to_list() else 'train'\n",
        "            image = Image.open(os.path.join(DATA_DIR, directory, filename))\n",
        "            plt.imshow(image)\n",
        "            ax.set_title(f'{filename} ({directory})')\n",
        "            if i == 0:\n",
        "                ax.set_ylabel(f'Cluster {cluster_id}')\n",
        "        plt.show()"
      ]
    },
    {
      "cell_type": "markdown",
      "metadata": {
        "id": "SQJoyB3_RS9n"
      },
      "source": [
        "ファイル名が異なっていても完全に、あるいはほとんど同一の画像の組み合わせが存在することを確認した。"
      ]
    },
    {
      "cell_type": "code",
      "execution_count": null,
      "metadata": {
        "colab": {
          "background_save": true,
          "referenced_widgets": [
            "1b4462c03ec94d6f9489b08465bbcfee"
          ]
        },
        "id": "00n7TRspR7xi",
        "outputId": "ab3bae7c-0ce4-4b50-8bc8-8ca979c5cee2"
      },
      "outputs": [
        {
          "data": {
            "application/vnd.jupyter.widget-view+json": {
              "model_id": "1b4462c03ec94d6f9489b08465bbcfee",
              "version_major": 2,
              "version_minor": 0
            },
            "text/plain": [
              "0it [00:00, ?it/s]"
            ]
          },
          "metadata": {},
          "output_type": "display_data"
        }
      ],
      "source": [
        "output_dir = '/content/drive/MyDrive/nishika/output'\n",
        "cluster_list = []  # list of cluster_id, filename, directory\n",
        "for cluster_id, image_filenames_in_cluster in tqdm(enumerate(clusters)):\n",
        "    for filename in image_filenames_in_cluster:\n",
        "        directory = 'test' if filename in test['odai_photo_file_name'].to_list() else 'train'\n",
        "        cluster_list.append((cluster_id, filename, directory))\n",
        "cluster_list = pd.DataFrame(cluster_list, columns=['cluster_id', 'filename', 'fold'])\n",
        "cluster_list.to_csv(os.path.join(output_dir, 'hash_clustering_result.csv'), index=False)"
      ]
    },
    {
      "cell_type": "code",
      "execution_count": null,
      "metadata": {
        "colab": {
          "background_save": true
        },
        "id": "c3Cp_aT9TJ8K",
        "outputId": "17a8970f-ddf9-4d29-bda3-4be1f8a0e246"
      },
      "outputs": [
        {
          "data": {
            "text/html": [
              "\n",
              "  <div id=\"df-a437ad76-2983-4b45-a624-490d0defa397\">\n",
              "    <div class=\"colab-df-container\">\n",
              "      <div>\n",
              "<style scoped>\n",
              "    .dataframe tbody tr th:only-of-type {\n",
              "        vertical-align: middle;\n",
              "    }\n",
              "\n",
              "    .dataframe tbody tr th {\n",
              "        vertical-align: top;\n",
              "    }\n",
              "\n",
              "    .dataframe thead th {\n",
              "        text-align: right;\n",
              "    }\n",
              "</style>\n",
              "<table border=\"1\" class=\"dataframe\">\n",
              "  <thead>\n",
              "    <tr style=\"text-align: right;\">\n",
              "      <th></th>\n",
              "      <th>cluster_id</th>\n",
              "      <th>filename</th>\n",
              "      <th>fold</th>\n",
              "    </tr>\n",
              "  </thead>\n",
              "  <tbody>\n",
              "    <tr>\n",
              "      <th>0</th>\n",
              "      <td>0</td>\n",
              "      <td>9fkys1gb2r.jpg</td>\n",
              "      <td>train</td>\n",
              "    </tr>\n",
              "    <tr>\n",
              "      <th>1</th>\n",
              "      <td>1</td>\n",
              "      <td>c6ag0m1lak.jpg</td>\n",
              "      <td>train</td>\n",
              "    </tr>\n",
              "    <tr>\n",
              "      <th>2</th>\n",
              "      <td>2</td>\n",
              "      <td>whtn6gb9ww.jpg</td>\n",
              "      <td>train</td>\n",
              "    </tr>\n",
              "    <tr>\n",
              "      <th>3</th>\n",
              "      <td>3</td>\n",
              "      <td>6yk5cwmrsy.jpg</td>\n",
              "      <td>train</td>\n",
              "    </tr>\n",
              "    <tr>\n",
              "      <th>4</th>\n",
              "      <td>4</td>\n",
              "      <td>0i9gsa2jsm.jpg</td>\n",
              "      <td>train</td>\n",
              "    </tr>\n",
              "    <tr>\n",
              "      <th>...</th>\n",
              "      <td>...</td>\n",
              "      <td>...</td>\n",
              "      <td>...</td>\n",
              "    </tr>\n",
              "    <tr>\n",
              "      <th>30957</th>\n",
              "      <td>30882</td>\n",
              "      <td>0bgwr5po4l.jpg</td>\n",
              "      <td>test</td>\n",
              "    </tr>\n",
              "    <tr>\n",
              "      <th>30958</th>\n",
              "      <td>30883</td>\n",
              "      <td>3wgkjwrq11.jpg</td>\n",
              "      <td>test</td>\n",
              "    </tr>\n",
              "    <tr>\n",
              "      <th>30959</th>\n",
              "      <td>30884</td>\n",
              "      <td>rny98dohwa.jpg</td>\n",
              "      <td>test</td>\n",
              "    </tr>\n",
              "    <tr>\n",
              "      <th>30960</th>\n",
              "      <td>30885</td>\n",
              "      <td>rlrze2yhes.jpg</td>\n",
              "      <td>test</td>\n",
              "    </tr>\n",
              "    <tr>\n",
              "      <th>30961</th>\n",
              "      <td>30886</td>\n",
              "      <td>khnyiksntu.jpg</td>\n",
              "      <td>test</td>\n",
              "    </tr>\n",
              "  </tbody>\n",
              "</table>\n",
              "<p>30962 rows × 3 columns</p>\n",
              "</div>\n",
              "      <button class=\"colab-df-convert\" onclick=\"convertToInteractive('df-a437ad76-2983-4b45-a624-490d0defa397')\"\n",
              "              title=\"Convert this dataframe to an interactive table.\"\n",
              "              style=\"display:none;\">\n",
              "        \n",
              "  <svg xmlns=\"http://www.w3.org/2000/svg\" height=\"24px\"viewBox=\"0 0 24 24\"\n",
              "       width=\"24px\">\n",
              "    <path d=\"M0 0h24v24H0V0z\" fill=\"none\"/>\n",
              "    <path d=\"M18.56 5.44l.94 2.06.94-2.06 2.06-.94-2.06-.94-.94-2.06-.94 2.06-2.06.94zm-11 1L8.5 8.5l.94-2.06 2.06-.94-2.06-.94L8.5 2.5l-.94 2.06-2.06.94zm10 10l.94 2.06.94-2.06 2.06-.94-2.06-.94-.94-2.06-.94 2.06-2.06.94z\"/><path d=\"M17.41 7.96l-1.37-1.37c-.4-.4-.92-.59-1.43-.59-.52 0-1.04.2-1.43.59L10.3 9.45l-7.72 7.72c-.78.78-.78 2.05 0 2.83L4 21.41c.39.39.9.59 1.41.59.51 0 1.02-.2 1.41-.59l7.78-7.78 2.81-2.81c.8-.78.8-2.07 0-2.86zM5.41 20L4 18.59l7.72-7.72 1.47 1.35L5.41 20z\"/>\n",
              "  </svg>\n",
              "      </button>\n",
              "      \n",
              "  <style>\n",
              "    .colab-df-container {\n",
              "      display:flex;\n",
              "      flex-wrap:wrap;\n",
              "      gap: 12px;\n",
              "    }\n",
              "\n",
              "    .colab-df-convert {\n",
              "      background-color: #E8F0FE;\n",
              "      border: none;\n",
              "      border-radius: 50%;\n",
              "      cursor: pointer;\n",
              "      display: none;\n",
              "      fill: #1967D2;\n",
              "      height: 32px;\n",
              "      padding: 0 0 0 0;\n",
              "      width: 32px;\n",
              "    }\n",
              "\n",
              "    .colab-df-convert:hover {\n",
              "      background-color: #E2EBFA;\n",
              "      box-shadow: 0px 1px 2px rgba(60, 64, 67, 0.3), 0px 1px 3px 1px rgba(60, 64, 67, 0.15);\n",
              "      fill: #174EA6;\n",
              "    }\n",
              "\n",
              "    [theme=dark] .colab-df-convert {\n",
              "      background-color: #3B4455;\n",
              "      fill: #D2E3FC;\n",
              "    }\n",
              "\n",
              "    [theme=dark] .colab-df-convert:hover {\n",
              "      background-color: #434B5C;\n",
              "      box-shadow: 0px 1px 3px 1px rgba(0, 0, 0, 0.15);\n",
              "      filter: drop-shadow(0px 1px 2px rgba(0, 0, 0, 0.3));\n",
              "      fill: #FFFFFF;\n",
              "    }\n",
              "  </style>\n",
              "\n",
              "      <script>\n",
              "        const buttonEl =\n",
              "          document.querySelector('#df-a437ad76-2983-4b45-a624-490d0defa397 button.colab-df-convert');\n",
              "        buttonEl.style.display =\n",
              "          google.colab.kernel.accessAllowed ? 'block' : 'none';\n",
              "\n",
              "        async function convertToInteractive(key) {\n",
              "          const element = document.querySelector('#df-a437ad76-2983-4b45-a624-490d0defa397');\n",
              "          const dataTable =\n",
              "            await google.colab.kernel.invokeFunction('convertToInteractive',\n",
              "                                                     [key], {});\n",
              "          if (!dataTable) return;\n",
              "\n",
              "          const docLinkHtml = 'Like what you see? Visit the ' +\n",
              "            '<a target=\"_blank\" href=https://colab.research.google.com/notebooks/data_table.ipynb>data table notebook</a>'\n",
              "            + ' to learn more about interactive tables.';\n",
              "          element.innerHTML = '';\n",
              "          dataTable['output_type'] = 'display_data';\n",
              "          await google.colab.output.renderOutput(dataTable, element);\n",
              "          const docLink = document.createElement('div');\n",
              "          docLink.innerHTML = docLinkHtml;\n",
              "          element.appendChild(docLink);\n",
              "        }\n",
              "      </script>\n",
              "    </div>\n",
              "  </div>\n",
              "  "
            ],
            "text/plain": [
              "       cluster_id        filename   fold\n",
              "0               0  9fkys1gb2r.jpg  train\n",
              "1               1  c6ag0m1lak.jpg  train\n",
              "2               2  whtn6gb9ww.jpg  train\n",
              "3               3  6yk5cwmrsy.jpg  train\n",
              "4               4  0i9gsa2jsm.jpg  train\n",
              "...           ...             ...    ...\n",
              "30957       30882  0bgwr5po4l.jpg   test\n",
              "30958       30883  3wgkjwrq11.jpg   test\n",
              "30959       30884  rny98dohwa.jpg   test\n",
              "30960       30885  rlrze2yhes.jpg   test\n",
              "30961       30886  khnyiksntu.jpg   test\n",
              "\n",
              "[30962 rows x 3 columns]"
            ]
          },
          "execution_count": 13,
          "metadata": {},
          "output_type": "execute_result"
        }
      ],
      "source": [
        "cluster_list"
      ]
    }
  ],
  "metadata": {
    "colab": {
      "collapsed_sections": [],
      "provenance": []
    },
    "kernelspec": {
      "display_name": "Python 3",
      "name": "python3"
    },
    "language_info": {
      "name": "python"
    }
  },
  "nbformat": 4,
  "nbformat_minor": 0
}