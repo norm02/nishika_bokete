{
  "nbformat": 4,
  "nbformat_minor": 0,
  "metadata": {
    "colab": {
      "provenance": [],
      "collapsed_sections": [],
      "machine_shape": "hm"
    },
    "kernelspec": {
      "name": "python3",
      "display_name": "Python 3"
    },
    "language_info": {
      "name": "python"
    },
    "gpuClass": "standard"
  },
  "cells": [
    {
      "cell_type": "code",
      "source": [
        "#!conda install -c conda-forge lightgbm\n",
        "#!pip install optuna"
      ],
      "metadata": {
        "id": "4h8_aU6mgeJV"
      },
      "execution_count": 1,
      "outputs": []
    },
    {
      "cell_type": "code",
      "source": [
        "from google.colab import drive\n",
        "drive.mount('/content/drive')"
      ],
      "metadata": {
        "colab": {
          "base_uri": "https://localhost:8080/"
        },
        "id": "XbQRd4jUUS1V",
        "outputId": "41566ef2-c97d-41e6-b7ae-e355400d82d7"
      },
      "execution_count": 2,
      "outputs": [
        {
          "output_type": "stream",
          "name": "stdout",
          "text": [
            "Drive already mounted at /content/drive; to attempt to forcibly remount, call drive.mount(\"/content/drive\", force_remount=True).\n"
          ]
        }
      ]
    },
    {
      "cell_type": "code",
      "source": [
        "import pandas as pd\n",
        "import numpy as np\n",
        "import matplotlib.pyplot as plt\n",
        "import seaborn as sns\n",
        "\n",
        "from sklearn.metrics import mean_squared_error\n",
        "from sklearn.metrics import log_loss\n",
        "from sklearn.model_selection import StratifiedKFold, KFold\n",
        "from sklearn.model_selection import train_test_split\n",
        "from sklearn.metrics import confusion_matrix\n",
        "\n",
        "import sys\n",
        "import os\n",
        "import re\n",
        "import random\n",
        "\n",
        "from time import time\n",
        "from tqdm import tqdm\n",
        "\n",
        "from contextlib import contextmanager\n",
        "import lightgbm as lgb\n",
        "#import optuna.integration.lightgbm as opt_lgb"
      ],
      "metadata": {
        "id": "XEm9k6tUTlsG"
      },
      "execution_count": 3,
      "outputs": []
    },
    {
      "cell_type": "code",
      "source": [
        "#上限表示数を拡張\n",
        "pd.set_option('display.max_columns', 10000)\n",
        "pd.set_option('display.max_rows', 200)"
      ],
      "metadata": {
        "id": "zPmPFgPYAfU-"
      },
      "execution_count": 4,
      "outputs": []
    },
    {
      "cell_type": "code",
      "source": [
        "def seed_everything(seed=1234):\n",
        "    random.seed(seed)\n",
        "    os.environ['PYTHONHASHSEED'] = str(seed)\n",
        "    np.random.seed(seed)\n",
        "\n",
        "seed_everything(42)"
      ],
      "metadata": {
        "id": "EkuBal2iT4tu"
      },
      "execution_count": 5,
      "outputs": []
    },
    {
      "cell_type": "code",
      "source": [
        "INPUT = \"/content/drive/MyDrive/nishika/\" # 所望のディレクトリに変更してください。\n",
        "train_df = pd.read_csv(os.path.join(INPUT, \"train.csv\"))\n",
        "test_df = pd.read_csv(os.path.join(INPUT, \"test.csv\"))\n",
        "submission_df = pd.read_csv(os.path.join(INPUT, \"sample_submission.csv\"))"
      ],
      "metadata": {
        "id": "abkOSTBkUAuu"
      },
      "execution_count": 6,
      "outputs": []
    },
    {
      "cell_type": "code",
      "source": [
        "df_1_tr = pd.read_csv(\"/content/drive/MyDrive/nishika/output/train_SwinTransformerLarge384_V2Large256.csv\")\n",
        "df_1_ts = pd.read_csv(\"/content/drive/MyDrive/nishika/output/test_SwinTransformerLarge384_V2Large256.csv\")"
      ],
      "metadata": {
        "id": "9e1mBWuNUhEF"
      },
      "execution_count": 7,
      "outputs": []
    },
    {
      "cell_type": "code",
      "source": [
        "df_2_tr = pd.read_csv(\"/content/drive/MyDrive/nishika/output/train_efb2_rinnabase.csv\")\n",
        "df_2_ts = pd.read_csv(\"/content/drive/MyDrive/nishika/output/test_efb2_rinnabase.csv\")"
      ],
      "metadata": {
        "id": "avW-2jWc1k_7"
      },
      "execution_count": 8,
      "outputs": []
    },
    {
      "cell_type": "code",
      "source": [
        "df_2_tr = df_2_tr.drop(df_2_tr.columns[0:352], axis=1)"
      ],
      "metadata": {
        "id": "LRsTYeJzwDFm"
      },
      "execution_count": 9,
      "outputs": []
    },
    {
      "cell_type": "code",
      "source": [
        "df_2_ts = df_2_ts.drop(df_2_ts.columns[0:352], axis=1)"
      ],
      "metadata": {
        "id": "Uq5ntOLBxXsF"
      },
      "execution_count": 10,
      "outputs": []
    },
    {
      "cell_type": "code",
      "source": [
        "df_3_tr = pd.read_csv(\"/content/drive/MyDrive/nishika/output/train_swinv2base256_ginza510electra.csv\")\n",
        "df_3_ts = pd.read_csv(\"/content/drive/MyDrive/nishika/output/test_swinv2base256_ginza510electra.csv\")"
      ],
      "metadata": {
        "id": "uab1mkuhx3_E"
      },
      "execution_count": 11,
      "outputs": []
    },
    {
      "cell_type": "code",
      "source": [
        "df_4_tr = pd.read_csv(\"/content/drive/MyDrive/nishika/output/train_efv2b2_resnet152_jaginza.csv\")\n",
        "df_4_ts = pd.read_csv(\"/content/drive/MyDrive/nishika/output/test_efv2b2_resnet152_jaginza.csv\")"
      ],
      "metadata": {
        "id": "lhNoCqtNyxO8"
      },
      "execution_count": 12,
      "outputs": []
    },
    {
      "cell_type": "code",
      "source": [
        "df_4_tr = df_4_tr.drop(df_4_tr.columns[0:865], axis=1)"
      ],
      "metadata": {
        "id": "lCXdu3heyCTl"
      },
      "execution_count": 13,
      "outputs": []
    },
    {
      "cell_type": "code",
      "source": [
        "df_4_ts = df_4_ts.drop(df_4_ts.columns[0:865], axis=1)"
      ],
      "metadata": {
        "id": "Fi4jGqvFyY-i"
      },
      "execution_count": 14,
      "outputs": []
    },
    {
      "cell_type": "code",
      "source": [
        "#swinL384,swinV2L256,Roberta-text,efb2\n",
        "df_tmp_tr_1 = pd.concat([df_1_tr,df_2_tr],axis=1)\n",
        "df_tmp_ts_1 = pd.concat([df_1_ts,df_2_ts],axis=1)"
      ],
      "metadata": {
        "id": "K800xzjLXruQ"
      },
      "execution_count": 15,
      "outputs": []
    },
    {
      "cell_type": "code",
      "source": [
        "#ginza510-electra-base-text,swinv2base256\n",
        "df_tmp_tr_2 = pd.concat([df_tmp_tr_1,df_3_tr],axis=1)\n",
        "#df_tmp_tr_2 = pd.concat([df_1_tr,df_3_tr],axis=1)\n",
        "df_tmp_ts_2 = pd.concat([df_tmp_ts_1,df_3_ts],axis=1)\n",
        "#df_tmp_ts_2 = pd.concat([df_1_ts,df_3_ts],axis=1)"
      ],
      "metadata": {
        "id": "wxk4xwOSz-Mx"
      },
      "execution_count": 16,
      "outputs": []
    },
    {
      "cell_type": "code",
      "source": [
        "#efficientnetv2b2,resnet152,jaginza(ginza_electra_text)\n",
        "df_tmp_tr_3 = pd.concat([df_tmp_tr_2,df_4_tr],axis=1)\n",
        "df_tmp_ts_3 = pd.concat([df_tmp_ts_2,df_4_ts],axis=1)"
      ],
      "metadata": {
        "id": "mkGpKte_0IWs"
      },
      "execution_count": 17,
      "outputs": []
    },
    {
      "cell_type": "code",
      "source": [
        "train_tmp = df_tmp_tr_3.drop([\"is_laugh\",\"odai_photo_file_name\"], axis=1)"
      ],
      "metadata": {
        "id": "vQmbLHBL4iz7"
      },
      "execution_count": 18,
      "outputs": []
    },
    {
      "cell_type": "code",
      "source": [
        "test_tmp = df_tmp_ts_3.drop([\"odai_photo_file_name\"], axis=1)"
      ],
      "metadata": {
        "id": "rhzVwDqM6tzl"
      },
      "execution_count": 19,
      "outputs": []
    },
    {
      "cell_type": "code",
      "source": [
        "train = pd.concat([train_tmp,train_df],axis=1)\n",
        "test = pd.concat([test_tmp,test_df],axis=1)"
      ],
      "metadata": {
        "id": "8uyAJR3pBtnb"
      },
      "execution_count": 20,
      "outputs": []
    },
    {
      "cell_type": "code",
      "source": [
        "train[\"text_len\"] = train[\"text\"].str.len()\n",
        "test[\"text_len\"] = test[\"text\"].str.len()"
      ],
      "metadata": {
        "id": "vJR4VirHJcB7"
      },
      "execution_count": 21,
      "outputs": []
    },
    {
      "cell_type": "code",
      "source": [
        "y = train[\"is_laugh\"]\n",
        "X = train.drop([\"odai_photo_file_name\",\"is_laugh\",\"id\",\"text\"], axis=1)\n",
        "\n",
        "X_test = test.drop([\"odai_photo_file_name\",\"id\",\"text\"], axis=1)"
      ],
      "metadata": {
        "id": "0pInRB316fFo"
      },
      "execution_count": 22,
      "outputs": []
    },
    {
      "cell_type": "code",
      "source": [
        "\n",
        "X = X.T.drop_duplicates().T\n",
        "X_test = X_test.T.drop_duplicates().T \n"
      ],
      "metadata": {
        "id": "0oRUq7LEDj4X"
      },
      "execution_count": 23,
      "outputs": []
    },
    {
      "cell_type": "markdown",
      "source": [
        "# Model"
      ],
      "metadata": {
        "id": "jtw_IUp87-HP"
      }
    },
    {
      "cell_type": "code",
      "source": [
        "from sklearn.model_selection import KFold\n",
        "kf = KFold(n_splits=5, shuffle=True, random_state=42)"
      ],
      "metadata": {
        "id": "FEtUwC7xUwDi"
      },
      "execution_count": 24,
      "outputs": []
    },
    {
      "cell_type": "code",
      "source": [
        "params = {  \n",
        "    \"n_estimators\": 20000,\n",
        "    \"objective\": 'binary',\n",
        "    \"learning_rate\": 0.01,\n",
        "    'lambda_l1': 8.553323365580143, \n",
        "    'lambda_l2': 0.00024389221237366783, \n",
        "    'num_leaves': 240, \n",
        "    'feature_fraction': 0.6839999999999999, \n",
        "    'bagging_fraction': 0.6378550454605715, \n",
        "    'bagging_freq': 1,\n",
        "    \"random_state\": 71,\n",
        "    \"n_jobs\": -1,\n",
        "    \"importance_type\": \"gain\",\n",
        "    'colsample_bytree': .8,\n",
        "    \"reg_lambda\": 5,\n",
        "    \"max_depth\":9,\n",
        "    'min_child_samples': 20\n",
        "    }"
      ],
      "metadata": {
        "id": "ohvH_IfQY8c7"
      },
      "execution_count": 25,
      "outputs": []
    },
    {
      "cell_type": "code",
      "source": [
        "# 予測値を格納するdf\n",
        "# df to store the predicted value\n",
        "preds_lgb = pd.DataFrame()\n",
        "\n",
        "for k, (tr_id, vl_id) in enumerate(kf.split(X, y)):\n",
        "    print(\"=\"*50)\n",
        "    print(f\"               KFold{k+1}\")\n",
        "    print(\"=\"*50)\n",
        "    \n",
        "    X_train, X_val = X.iloc[tr_id, :], X.iloc[vl_id, :]\n",
        "    y_train, y_val = y.iloc[tr_id], y.iloc[vl_id]\n",
        "    \n",
        "    lgb_train = lgb.Dataset(X_train, y_train)\n",
        "    lgb_val = lgb.Dataset(X_val, y_val)\n",
        "    \n",
        "    model_lgb = lgb.train(params=params,\n",
        "                          train_set=lgb_train,\n",
        "                          valid_sets=lgb_val,\n",
        "                          num_boost_round=100000,\n",
        "                          early_stopping_rounds=200,\n",
        "                          verbose_eval=1000)\n",
        "    \n",
        "    pred_lgb = model_lgb.predict(X_test, num_iteration=model_lgb.best_iteration)\n",
        "    pred_lgb = pd.DataFrame(pred_lgb)\n",
        "    \n",
        "    # 予測値を横に連結していく\n",
        "    # Concatenate the predictions horizontally\n",
        "    preds_lgb = pd.concat([preds_lgb, pred_lgb], axis=1)"
      ],
      "metadata": {
        "colab": {
          "base_uri": "https://localhost:8080/"
        },
        "id": "IJE1fWmTW0rx",
        "outputId": "ed434177-17cb-4709-f733-b7cc5a4074b0"
      },
      "execution_count": 26,
      "outputs": [
        {
          "output_type": "stream",
          "name": "stdout",
          "text": [
            "==================================================\n",
            "               KFold1\n",
            "==================================================\n"
          ]
        },
        {
          "output_type": "stream",
          "name": "stderr",
          "text": [
            "/usr/local/lib/python3.7/dist-packages/lightgbm/engine.py:118: UserWarning: Found `n_estimators` in params. Will use it instead of argument\n",
            "  warnings.warn(\"Found `{}` in params. Will use it instead of argument\".format(alias))\n"
          ]
        },
        {
          "output_type": "stream",
          "name": "stdout",
          "text": [
            "Training until validation scores don't improve for 200 rounds.\n",
            "[1000]\tvalid_0's binary_logloss: 0.642963\n",
            "Early stopping, best iteration is:\n",
            "[1128]\tvalid_0's binary_logloss: 0.642689\n",
            "==================================================\n",
            "               KFold2\n",
            "==================================================\n",
            "Training until validation scores don't improve for 200 rounds.\n",
            "[1000]\tvalid_0's binary_logloss: 0.642951\n",
            "Early stopping, best iteration is:\n",
            "[1378]\tvalid_0's binary_logloss: 0.642057\n",
            "==================================================\n",
            "               KFold3\n",
            "==================================================\n",
            "Training until validation scores don't improve for 200 rounds.\n",
            "[1000]\tvalid_0's binary_logloss: 0.63749\n",
            "Early stopping, best iteration is:\n",
            "[1065]\tvalid_0's binary_logloss: 0.637069\n",
            "==================================================\n",
            "               KFold4\n",
            "==================================================\n",
            "Training until validation scores don't improve for 200 rounds.\n",
            "[1000]\tvalid_0's binary_logloss: 0.643735\n",
            "Early stopping, best iteration is:\n",
            "[1466]\tvalid_0's binary_logloss: 0.64297\n",
            "==================================================\n",
            "               KFold5\n",
            "==================================================\n",
            "Training until validation scores don't improve for 200 rounds.\n",
            "[1000]\tvalid_0's binary_logloss: 0.635652\n",
            "Early stopping, best iteration is:\n",
            "[1361]\tvalid_0's binary_logloss: 0.633888\n",
            "==================================================\n",
            "               KFold6\n",
            "==================================================\n",
            "Training until validation scores don't improve for 200 rounds.\n",
            "[1000]\tvalid_0's binary_logloss: 0.640582\n",
            "Early stopping, best iteration is:\n",
            "[1583]\tvalid_0's binary_logloss: 0.639485\n",
            "==================================================\n",
            "               KFold7\n",
            "==================================================\n",
            "Training until validation scores don't improve for 200 rounds.\n",
            "Early stopping, best iteration is:\n",
            "[461]\tvalid_0's binary_logloss: 0.659261\n",
            "==================================================\n",
            "               KFold8\n",
            "==================================================\n",
            "Training until validation scores don't improve for 200 rounds.\n",
            "[1000]\tvalid_0's binary_logloss: 0.640177\n",
            "Early stopping, best iteration is:\n",
            "[1247]\tvalid_0's binary_logloss: 0.63969\n",
            "==================================================\n",
            "               KFold9\n",
            "==================================================\n",
            "Training until validation scores don't improve for 200 rounds.\n",
            "[1000]\tvalid_0's binary_logloss: 0.630567\n",
            "Early stopping, best iteration is:\n",
            "[1532]\tvalid_0's binary_logloss: 0.628599\n"
          ]
        }
      ]
    },
    {
      "cell_type": "code",
      "source": [
        "preds_lgb"
      ],
      "metadata": {
        "colab": {
          "base_uri": "https://localhost:8080/",
          "height": 424
        },
        "id": "V-GBI5gTY_hV",
        "outputId": "98519394-16f3-4eb6-f627-a75715f59a2f"
      },
      "execution_count": 27,
      "outputs": [
        {
          "output_type": "execute_result",
          "data": {
            "text/plain": [
              "             0         0         0         0         0         0         0  \\\n",
              "0     0.423566  0.495273  0.568438  0.414313  0.463123  0.573604  0.427315   \n",
              "1     0.336148  0.378194  0.405104  0.327592  0.333974  0.408124  0.459992   \n",
              "2     0.331823  0.329790  0.348196  0.281929  0.280603  0.328949  0.320767   \n",
              "3     0.444603  0.407810  0.395718  0.377376  0.405860  0.372486  0.414796   \n",
              "4     0.832556  0.786828  0.797869  0.867819  0.800257  0.856682  0.783809   \n",
              "...        ...       ...       ...       ...       ...       ...       ...   \n",
              "5995  0.339020  0.303307  0.294857  0.297898  0.317812  0.300478  0.391976   \n",
              "5996  0.771582  0.777806  0.788575  0.782329  0.758853  0.834688  0.741459   \n",
              "5997  0.526680  0.556843  0.482768  0.507028  0.508497  0.504150  0.509365   \n",
              "5998  0.609568  0.579668  0.588485  0.605833  0.555977  0.661311  0.579440   \n",
              "5999  0.609914  0.618159  0.638289  0.719523  0.632002  0.656690  0.585634   \n",
              "\n",
              "             0         0  \n",
              "0     0.532491  0.503579  \n",
              "1     0.403829  0.363239  \n",
              "2     0.288006  0.224300  \n",
              "3     0.359601  0.438708  \n",
              "4     0.813682  0.825206  \n",
              "...        ...       ...  \n",
              "5995  0.357798  0.250543  \n",
              "5996  0.758652  0.762338  \n",
              "5997  0.507823  0.457717  \n",
              "5998  0.583233  0.616364  \n",
              "5999  0.696202  0.683071  \n",
              "\n",
              "[6000 rows x 9 columns]"
            ],
            "text/html": [
              "\n",
              "  <div id=\"df-998bcbc6-5b4f-4004-8bca-82d1519b65b6\">\n",
              "    <div class=\"colab-df-container\">\n",
              "      <div>\n",
              "<style scoped>\n",
              "    .dataframe tbody tr th:only-of-type {\n",
              "        vertical-align: middle;\n",
              "    }\n",
              "\n",
              "    .dataframe tbody tr th {\n",
              "        vertical-align: top;\n",
              "    }\n",
              "\n",
              "    .dataframe thead th {\n",
              "        text-align: right;\n",
              "    }\n",
              "</style>\n",
              "<table border=\"1\" class=\"dataframe\">\n",
              "  <thead>\n",
              "    <tr style=\"text-align: right;\">\n",
              "      <th></th>\n",
              "      <th>0</th>\n",
              "      <th>0</th>\n",
              "      <th>0</th>\n",
              "      <th>0</th>\n",
              "      <th>0</th>\n",
              "      <th>0</th>\n",
              "      <th>0</th>\n",
              "      <th>0</th>\n",
              "      <th>0</th>\n",
              "    </tr>\n",
              "  </thead>\n",
              "  <tbody>\n",
              "    <tr>\n",
              "      <th>0</th>\n",
              "      <td>0.423566</td>\n",
              "      <td>0.495273</td>\n",
              "      <td>0.568438</td>\n",
              "      <td>0.414313</td>\n",
              "      <td>0.463123</td>\n",
              "      <td>0.573604</td>\n",
              "      <td>0.427315</td>\n",
              "      <td>0.532491</td>\n",
              "      <td>0.503579</td>\n",
              "    </tr>\n",
              "    <tr>\n",
              "      <th>1</th>\n",
              "      <td>0.336148</td>\n",
              "      <td>0.378194</td>\n",
              "      <td>0.405104</td>\n",
              "      <td>0.327592</td>\n",
              "      <td>0.333974</td>\n",
              "      <td>0.408124</td>\n",
              "      <td>0.459992</td>\n",
              "      <td>0.403829</td>\n",
              "      <td>0.363239</td>\n",
              "    </tr>\n",
              "    <tr>\n",
              "      <th>2</th>\n",
              "      <td>0.331823</td>\n",
              "      <td>0.329790</td>\n",
              "      <td>0.348196</td>\n",
              "      <td>0.281929</td>\n",
              "      <td>0.280603</td>\n",
              "      <td>0.328949</td>\n",
              "      <td>0.320767</td>\n",
              "      <td>0.288006</td>\n",
              "      <td>0.224300</td>\n",
              "    </tr>\n",
              "    <tr>\n",
              "      <th>3</th>\n",
              "      <td>0.444603</td>\n",
              "      <td>0.407810</td>\n",
              "      <td>0.395718</td>\n",
              "      <td>0.377376</td>\n",
              "      <td>0.405860</td>\n",
              "      <td>0.372486</td>\n",
              "      <td>0.414796</td>\n",
              "      <td>0.359601</td>\n",
              "      <td>0.438708</td>\n",
              "    </tr>\n",
              "    <tr>\n",
              "      <th>4</th>\n",
              "      <td>0.832556</td>\n",
              "      <td>0.786828</td>\n",
              "      <td>0.797869</td>\n",
              "      <td>0.867819</td>\n",
              "      <td>0.800257</td>\n",
              "      <td>0.856682</td>\n",
              "      <td>0.783809</td>\n",
              "      <td>0.813682</td>\n",
              "      <td>0.825206</td>\n",
              "    </tr>\n",
              "    <tr>\n",
              "      <th>...</th>\n",
              "      <td>...</td>\n",
              "      <td>...</td>\n",
              "      <td>...</td>\n",
              "      <td>...</td>\n",
              "      <td>...</td>\n",
              "      <td>...</td>\n",
              "      <td>...</td>\n",
              "      <td>...</td>\n",
              "      <td>...</td>\n",
              "    </tr>\n",
              "    <tr>\n",
              "      <th>5995</th>\n",
              "      <td>0.339020</td>\n",
              "      <td>0.303307</td>\n",
              "      <td>0.294857</td>\n",
              "      <td>0.297898</td>\n",
              "      <td>0.317812</td>\n",
              "      <td>0.300478</td>\n",
              "      <td>0.391976</td>\n",
              "      <td>0.357798</td>\n",
              "      <td>0.250543</td>\n",
              "    </tr>\n",
              "    <tr>\n",
              "      <th>5996</th>\n",
              "      <td>0.771582</td>\n",
              "      <td>0.777806</td>\n",
              "      <td>0.788575</td>\n",
              "      <td>0.782329</td>\n",
              "      <td>0.758853</td>\n",
              "      <td>0.834688</td>\n",
              "      <td>0.741459</td>\n",
              "      <td>0.758652</td>\n",
              "      <td>0.762338</td>\n",
              "    </tr>\n",
              "    <tr>\n",
              "      <th>5997</th>\n",
              "      <td>0.526680</td>\n",
              "      <td>0.556843</td>\n",
              "      <td>0.482768</td>\n",
              "      <td>0.507028</td>\n",
              "      <td>0.508497</td>\n",
              "      <td>0.504150</td>\n",
              "      <td>0.509365</td>\n",
              "      <td>0.507823</td>\n",
              "      <td>0.457717</td>\n",
              "    </tr>\n",
              "    <tr>\n",
              "      <th>5998</th>\n",
              "      <td>0.609568</td>\n",
              "      <td>0.579668</td>\n",
              "      <td>0.588485</td>\n",
              "      <td>0.605833</td>\n",
              "      <td>0.555977</td>\n",
              "      <td>0.661311</td>\n",
              "      <td>0.579440</td>\n",
              "      <td>0.583233</td>\n",
              "      <td>0.616364</td>\n",
              "    </tr>\n",
              "    <tr>\n",
              "      <th>5999</th>\n",
              "      <td>0.609914</td>\n",
              "      <td>0.618159</td>\n",
              "      <td>0.638289</td>\n",
              "      <td>0.719523</td>\n",
              "      <td>0.632002</td>\n",
              "      <td>0.656690</td>\n",
              "      <td>0.585634</td>\n",
              "      <td>0.696202</td>\n",
              "      <td>0.683071</td>\n",
              "    </tr>\n",
              "  </tbody>\n",
              "</table>\n",
              "<p>6000 rows × 9 columns</p>\n",
              "</div>\n",
              "      <button class=\"colab-df-convert\" onclick=\"convertToInteractive('df-998bcbc6-5b4f-4004-8bca-82d1519b65b6')\"\n",
              "              title=\"Convert this dataframe to an interactive table.\"\n",
              "              style=\"display:none;\">\n",
              "        \n",
              "  <svg xmlns=\"http://www.w3.org/2000/svg\" height=\"24px\"viewBox=\"0 0 24 24\"\n",
              "       width=\"24px\">\n",
              "    <path d=\"M0 0h24v24H0V0z\" fill=\"none\"/>\n",
              "    <path d=\"M18.56 5.44l.94 2.06.94-2.06 2.06-.94-2.06-.94-.94-2.06-.94 2.06-2.06.94zm-11 1L8.5 8.5l.94-2.06 2.06-.94-2.06-.94L8.5 2.5l-.94 2.06-2.06.94zm10 10l.94 2.06.94-2.06 2.06-.94-2.06-.94-.94-2.06-.94 2.06-2.06.94z\"/><path d=\"M17.41 7.96l-1.37-1.37c-.4-.4-.92-.59-1.43-.59-.52 0-1.04.2-1.43.59L10.3 9.45l-7.72 7.72c-.78.78-.78 2.05 0 2.83L4 21.41c.39.39.9.59 1.41.59.51 0 1.02-.2 1.41-.59l7.78-7.78 2.81-2.81c.8-.78.8-2.07 0-2.86zM5.41 20L4 18.59l7.72-7.72 1.47 1.35L5.41 20z\"/>\n",
              "  </svg>\n",
              "      </button>\n",
              "      \n",
              "  <style>\n",
              "    .colab-df-container {\n",
              "      display:flex;\n",
              "      flex-wrap:wrap;\n",
              "      gap: 12px;\n",
              "    }\n",
              "\n",
              "    .colab-df-convert {\n",
              "      background-color: #E8F0FE;\n",
              "      border: none;\n",
              "      border-radius: 50%;\n",
              "      cursor: pointer;\n",
              "      display: none;\n",
              "      fill: #1967D2;\n",
              "      height: 32px;\n",
              "      padding: 0 0 0 0;\n",
              "      width: 32px;\n",
              "    }\n",
              "\n",
              "    .colab-df-convert:hover {\n",
              "      background-color: #E2EBFA;\n",
              "      box-shadow: 0px 1px 2px rgba(60, 64, 67, 0.3), 0px 1px 3px 1px rgba(60, 64, 67, 0.15);\n",
              "      fill: #174EA6;\n",
              "    }\n",
              "\n",
              "    [theme=dark] .colab-df-convert {\n",
              "      background-color: #3B4455;\n",
              "      fill: #D2E3FC;\n",
              "    }\n",
              "\n",
              "    [theme=dark] .colab-df-convert:hover {\n",
              "      background-color: #434B5C;\n",
              "      box-shadow: 0px 1px 3px 1px rgba(0, 0, 0, 0.15);\n",
              "      filter: drop-shadow(0px 1px 2px rgba(0, 0, 0, 0.3));\n",
              "      fill: #FFFFFF;\n",
              "    }\n",
              "  </style>\n",
              "\n",
              "      <script>\n",
              "        const buttonEl =\n",
              "          document.querySelector('#df-998bcbc6-5b4f-4004-8bca-82d1519b65b6 button.colab-df-convert');\n",
              "        buttonEl.style.display =\n",
              "          google.colab.kernel.accessAllowed ? 'block' : 'none';\n",
              "\n",
              "        async function convertToInteractive(key) {\n",
              "          const element = document.querySelector('#df-998bcbc6-5b4f-4004-8bca-82d1519b65b6');\n",
              "          const dataTable =\n",
              "            await google.colab.kernel.invokeFunction('convertToInteractive',\n",
              "                                                     [key], {});\n",
              "          if (!dataTable) return;\n",
              "\n",
              "          const docLinkHtml = 'Like what you see? Visit the ' +\n",
              "            '<a target=\"_blank\" href=https://colab.research.google.com/notebooks/data_table.ipynb>data table notebook</a>'\n",
              "            + ' to learn more about interactive tables.';\n",
              "          element.innerHTML = '';\n",
              "          dataTable['output_type'] = 'display_data';\n",
              "          await google.colab.output.renderOutput(dataTable, element);\n",
              "          const docLink = document.createElement('div');\n",
              "          docLink.innerHTML = docLinkHtml;\n",
              "          element.appendChild(docLink);\n",
              "        }\n",
              "      </script>\n",
              "    </div>\n",
              "  </div>\n",
              "  "
            ]
          },
          "metadata": {},
          "execution_count": 27
        }
      ]
    },
    {
      "cell_type": "code",
      "source": [
        "# 平均を計算して、テストデータに対する疑似ラベルとする\n",
        "# Calculate the mean and use it as a pseudo labels for the test data\n",
        "\n",
        "label = preds_lgb.mean(axis=1)\n",
        "label"
      ],
      "metadata": {
        "colab": {
          "base_uri": "https://localhost:8080/"
        },
        "id": "yZwvzPurZBtr",
        "outputId": "d86401a2-65f1-4f1c-f723-f5be6c41a216"
      },
      "execution_count": 28,
      "outputs": [
        {
          "output_type": "execute_result",
          "data": {
            "text/plain": [
              "0       0.489078\n",
              "1       0.379577\n",
              "2       0.303818\n",
              "3       0.401884\n",
              "4       0.818301\n",
              "          ...   \n",
              "5995    0.317077\n",
              "5996    0.775142\n",
              "5997    0.506763\n",
              "5998    0.597764\n",
              "5999    0.648832\n",
              "Length: 6000, dtype: float64"
            ]
          },
          "metadata": {},
          "execution_count": 28
        }
      ]
    },
    {
      "cell_type": "code",
      "source": [
        "# もともとの学習データX, yにテストデータと疑似ラベルを縦に連結する。\n",
        "# これを新たな学習データとする\n",
        "# Concatenate the test data and pseudo labels to the original training data X, y.\n",
        "# Make this the new training data.\n",
        "\n",
        "X = pd.concat([X,X_test], axis=0).reset_index(drop=True)\n",
        "y = pd.concat([y, label], axis=0).reset_index(drop=True)\n",
        "\n",
        "print(\"X.shape: \", X.shape)\n",
        "print(\"y.shape: \", y.shape)"
      ],
      "metadata": {
        "colab": {
          "base_uri": "https://localhost:8080/"
        },
        "id": "qqafWhqoZFCc",
        "outputId": "4521841d-0d3a-46c1-e8fe-bc04fbaa83c4"
      },
      "execution_count": 29,
      "outputs": [
        {
          "output_type": "stream",
          "name": "stdout",
          "text": [
            "X.shape:  (30962, 2861)\n",
            "y.shape:  (30962,)\n"
          ]
        }
      ]
    },
    {
      "cell_type": "code",
      "source": [
        "# 最終予測値を格納するdf\n",
        "# df to store the final prediction\n",
        "preds_lgb = pd.DataFrame()\n",
        "\n",
        "for k, (tr_id, vl_id) in enumerate(kf.split(X, y)):\n",
        "    print(\"=\"*50)\n",
        "    print(f\"               KFold{k+1}\")\n",
        "    print(\"=\"*50)\n",
        "    \n",
        "    X_train, X_val = X.iloc[tr_id, :], X.iloc[vl_id, :]\n",
        "    y_train, y_val = y.iloc[tr_id], y.iloc[vl_id]\n",
        "    \n",
        "    lgb_train = lgb.Dataset(X_train, y_train)\n",
        "    lgb_val = lgb.Dataset(X_val, y_val)\n",
        "    \n",
        "    model_lgb = lgb.train(params=params,\n",
        "                          train_set=lgb_train,\n",
        "                          valid_sets=lgb_val,\n",
        "                          num_boost_round=100000,\n",
        "                          early_stopping_rounds=200,\n",
        "                          verbose_eval=1000)\n",
        "    \n",
        "    pred_lgb = model_lgb.predict(X_test, num_iteration=model_lgb.best_iteration)\n",
        "    pred_lgb = pd.DataFrame(pred_lgb)\n",
        "    preds_lgb = pd.concat([preds_lgb, pred_lgb], axis=1)"
      ],
      "metadata": {
        "colab": {
          "base_uri": "https://localhost:8080/"
        },
        "id": "B184AXIDaMUS",
        "outputId": "a13107b5-96c4-47a5-c618-4d2eda7c14df"
      },
      "execution_count": 30,
      "outputs": [
        {
          "output_type": "stream",
          "name": "stdout",
          "text": [
            "==================================================\n",
            "               KFold1\n",
            "==================================================\n"
          ]
        },
        {
          "output_type": "stream",
          "name": "stderr",
          "text": [
            "/usr/local/lib/python3.7/dist-packages/lightgbm/engine.py:118: UserWarning: Found `n_estimators` in params. Will use it instead of argument\n",
            "  warnings.warn(\"Found `{}` in params. Will use it instead of argument\".format(alias))\n"
          ]
        },
        {
          "output_type": "stream",
          "name": "stdout",
          "text": [
            "Training until validation scores don't improve for 200 rounds.\n",
            "[1000]\tvalid_0's binary_logloss: 0.635025\n",
            "Early stopping, best iteration is:\n",
            "[807]\tvalid_0's binary_logloss: 0.634738\n",
            "==================================================\n",
            "               KFold2\n",
            "==================================================\n",
            "Training until validation scores don't improve for 200 rounds.\n",
            "Early stopping, best iteration is:\n",
            "[634]\tvalid_0's binary_logloss: 0.648207\n",
            "==================================================\n",
            "               KFold3\n",
            "==================================================\n",
            "Training until validation scores don't improve for 200 rounds.\n",
            "[1000]\tvalid_0's binary_logloss: 0.646822\n",
            "Early stopping, best iteration is:\n",
            "[901]\tvalid_0's binary_logloss: 0.64624\n",
            "==================================================\n",
            "               KFold4\n",
            "==================================================\n",
            "Training until validation scores don't improve for 200 rounds.\n",
            "[1000]\tvalid_0's binary_logloss: 0.635261\n",
            "Early stopping, best iteration is:\n",
            "[1134]\tvalid_0's binary_logloss: 0.634124\n",
            "==================================================\n",
            "               KFold5\n",
            "==================================================\n",
            "Training until validation scores don't improve for 200 rounds.\n",
            "Early stopping, best iteration is:\n",
            "[775]\tvalid_0's binary_logloss: 0.637234\n",
            "==================================================\n",
            "               KFold6\n",
            "==================================================\n",
            "Training until validation scores don't improve for 200 rounds.\n",
            "[1000]\tvalid_0's binary_logloss: 0.644469\n",
            "Early stopping, best iteration is:\n",
            "[1313]\tvalid_0's binary_logloss: 0.64409\n",
            "==================================================\n",
            "               KFold7\n",
            "==================================================\n",
            "Training until validation scores don't improve for 200 rounds.\n",
            "Early stopping, best iteration is:\n",
            "[639]\tvalid_0's binary_logloss: 0.64582\n",
            "==================================================\n",
            "               KFold8\n",
            "==================================================\n",
            "Training until validation scores don't improve for 200 rounds.\n",
            "Early stopping, best iteration is:\n",
            "[624]\tvalid_0's binary_logloss: 0.635935\n",
            "==================================================\n",
            "               KFold9\n",
            "==================================================\n",
            "Training until validation scores don't improve for 200 rounds.\n",
            "[1000]\tvalid_0's binary_logloss: 0.629478\n",
            "Early stopping, best iteration is:\n",
            "[1609]\tvalid_0's binary_logloss: 0.627811\n"
          ]
        }
      ]
    },
    {
      "cell_type": "markdown",
      "source": [
        "# Predict"
      ],
      "metadata": {
        "id": "sBad8xkWAXi1"
      }
    },
    {
      "cell_type": "code",
      "source": [
        "#　予測値の平均を計算して、最終的な予測値とする\n",
        "# Calculate the average of the predictions to get the final prediction.\n",
        "pred = preds_lgb.mean(axis=1)\n",
        "submission_df[\"is_laugh\"] = pred\n",
        "\n",
        "submission_df.head()"
      ],
      "metadata": {
        "colab": {
          "base_uri": "https://localhost:8080/",
          "height": 206
        },
        "id": "jCsmWtuOaXti",
        "outputId": "958ee8af-b579-4292-88b0-c4f831ceb415"
      },
      "execution_count": 31,
      "outputs": [
        {
          "output_type": "execute_result",
          "data": {
            "text/plain": [
              "          id  is_laugh\n",
              "0  rfdjcfsqq  0.739519\n",
              "1  tsgqmfpef  0.703844\n",
              "2  owjcthkz2  0.697094\n",
              "3  rvgaocjyy  0.739904\n",
              "4  uxtwu5i69  0.887635"
            ],
            "text/html": [
              "\n",
              "  <div id=\"df-e82ae9c3-10d8-4123-ad23-0127d76f5841\">\n",
              "    <div class=\"colab-df-container\">\n",
              "      <div>\n",
              "<style scoped>\n",
              "    .dataframe tbody tr th:only-of-type {\n",
              "        vertical-align: middle;\n",
              "    }\n",
              "\n",
              "    .dataframe tbody tr th {\n",
              "        vertical-align: top;\n",
              "    }\n",
              "\n",
              "    .dataframe thead th {\n",
              "        text-align: right;\n",
              "    }\n",
              "</style>\n",
              "<table border=\"1\" class=\"dataframe\">\n",
              "  <thead>\n",
              "    <tr style=\"text-align: right;\">\n",
              "      <th></th>\n",
              "      <th>id</th>\n",
              "      <th>is_laugh</th>\n",
              "    </tr>\n",
              "  </thead>\n",
              "  <tbody>\n",
              "    <tr>\n",
              "      <th>0</th>\n",
              "      <td>rfdjcfsqq</td>\n",
              "      <td>0.739519</td>\n",
              "    </tr>\n",
              "    <tr>\n",
              "      <th>1</th>\n",
              "      <td>tsgqmfpef</td>\n",
              "      <td>0.703844</td>\n",
              "    </tr>\n",
              "    <tr>\n",
              "      <th>2</th>\n",
              "      <td>owjcthkz2</td>\n",
              "      <td>0.697094</td>\n",
              "    </tr>\n",
              "    <tr>\n",
              "      <th>3</th>\n",
              "      <td>rvgaocjyy</td>\n",
              "      <td>0.739904</td>\n",
              "    </tr>\n",
              "    <tr>\n",
              "      <th>4</th>\n",
              "      <td>uxtwu5i69</td>\n",
              "      <td>0.887635</td>\n",
              "    </tr>\n",
              "  </tbody>\n",
              "</table>\n",
              "</div>\n",
              "      <button class=\"colab-df-convert\" onclick=\"convertToInteractive('df-e82ae9c3-10d8-4123-ad23-0127d76f5841')\"\n",
              "              title=\"Convert this dataframe to an interactive table.\"\n",
              "              style=\"display:none;\">\n",
              "        \n",
              "  <svg xmlns=\"http://www.w3.org/2000/svg\" height=\"24px\"viewBox=\"0 0 24 24\"\n",
              "       width=\"24px\">\n",
              "    <path d=\"M0 0h24v24H0V0z\" fill=\"none\"/>\n",
              "    <path d=\"M18.56 5.44l.94 2.06.94-2.06 2.06-.94-2.06-.94-.94-2.06-.94 2.06-2.06.94zm-11 1L8.5 8.5l.94-2.06 2.06-.94-2.06-.94L8.5 2.5l-.94 2.06-2.06.94zm10 10l.94 2.06.94-2.06 2.06-.94-2.06-.94-.94-2.06-.94 2.06-2.06.94z\"/><path d=\"M17.41 7.96l-1.37-1.37c-.4-.4-.92-.59-1.43-.59-.52 0-1.04.2-1.43.59L10.3 9.45l-7.72 7.72c-.78.78-.78 2.05 0 2.83L4 21.41c.39.39.9.59 1.41.59.51 0 1.02-.2 1.41-.59l7.78-7.78 2.81-2.81c.8-.78.8-2.07 0-2.86zM5.41 20L4 18.59l7.72-7.72 1.47 1.35L5.41 20z\"/>\n",
              "  </svg>\n",
              "      </button>\n",
              "      \n",
              "  <style>\n",
              "    .colab-df-container {\n",
              "      display:flex;\n",
              "      flex-wrap:wrap;\n",
              "      gap: 12px;\n",
              "    }\n",
              "\n",
              "    .colab-df-convert {\n",
              "      background-color: #E8F0FE;\n",
              "      border: none;\n",
              "      border-radius: 50%;\n",
              "      cursor: pointer;\n",
              "      display: none;\n",
              "      fill: #1967D2;\n",
              "      height: 32px;\n",
              "      padding: 0 0 0 0;\n",
              "      width: 32px;\n",
              "    }\n",
              "\n",
              "    .colab-df-convert:hover {\n",
              "      background-color: #E2EBFA;\n",
              "      box-shadow: 0px 1px 2px rgba(60, 64, 67, 0.3), 0px 1px 3px 1px rgba(60, 64, 67, 0.15);\n",
              "      fill: #174EA6;\n",
              "    }\n",
              "\n",
              "    [theme=dark] .colab-df-convert {\n",
              "      background-color: #3B4455;\n",
              "      fill: #D2E3FC;\n",
              "    }\n",
              "\n",
              "    [theme=dark] .colab-df-convert:hover {\n",
              "      background-color: #434B5C;\n",
              "      box-shadow: 0px 1px 3px 1px rgba(0, 0, 0, 0.15);\n",
              "      filter: drop-shadow(0px 1px 2px rgba(0, 0, 0, 0.3));\n",
              "      fill: #FFFFFF;\n",
              "    }\n",
              "  </style>\n",
              "\n",
              "      <script>\n",
              "        const buttonEl =\n",
              "          document.querySelector('#df-e82ae9c3-10d8-4123-ad23-0127d76f5841 button.colab-df-convert');\n",
              "        buttonEl.style.display =\n",
              "          google.colab.kernel.accessAllowed ? 'block' : 'none';\n",
              "\n",
              "        async function convertToInteractive(key) {\n",
              "          const element = document.querySelector('#df-e82ae9c3-10d8-4123-ad23-0127d76f5841');\n",
              "          const dataTable =\n",
              "            await google.colab.kernel.invokeFunction('convertToInteractive',\n",
              "                                                     [key], {});\n",
              "          if (!dataTable) return;\n",
              "\n",
              "          const docLinkHtml = 'Like what you see? Visit the ' +\n",
              "            '<a target=\"_blank\" href=https://colab.research.google.com/notebooks/data_table.ipynb>data table notebook</a>'\n",
              "            + ' to learn more about interactive tables.';\n",
              "          element.innerHTML = '';\n",
              "          dataTable['output_type'] = 'display_data';\n",
              "          await google.colab.output.renderOutput(dataTable, element);\n",
              "          const docLink = document.createElement('div');\n",
              "          docLink.innerHTML = docLinkHtml;\n",
              "          element.appendChild(docLink);\n",
              "        }\n",
              "      </script>\n",
              "    </div>\n",
              "  </div>\n",
              "  "
            ]
          },
          "metadata": {},
          "execution_count": 31
        }
      ]
    },
    {
      "cell_type": "code",
      "source": [
        "submission_df.to_csv(('/content/drive/MyDrive/nishika/sub.csv'), index=False)"
      ],
      "metadata": {
        "id": "wV2NPdgBEYM2"
      },
      "execution_count": 32,
      "outputs": []
    }
  ]
}