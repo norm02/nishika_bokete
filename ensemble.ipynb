{
  "nbformat": 4,
  "nbformat_minor": 0,
  "metadata": {
    "colab": {
      "provenance": [],
      "mount_file_id": "1XcuPjSHFevYSDS4osQlZ64hFVtNI2ywU",
      "authorship_tag": "ABX9TyN3wKaGfEdBGgj+oY2TrUSV"
    },
    "kernelspec": {
      "name": "python3",
      "display_name": "Python 3"
    },
    "language_info": {
      "name": "python"
    }
  },
  "cells": [
    {
      "cell_type": "code",
      "execution_count": 1,
      "metadata": {
        "id": "kPaG3TbNF4TB"
      },
      "outputs": [],
      "source": [
        "import pandas as pd\n",
        "import numpy as np\n",
        "import os"
      ]
    },
    {
      "cell_type": "code",
      "source": [
        "df_1 = pd.read_csv('/content/drive/MyDrive/nishika/sub/sub53.csv')\n",
        "\n",
        "df_2 = pd.read_csv('/content/drive/MyDrive/nishika/sub/sub56.csv')"
      ],
      "metadata": {
        "id": "u6DsdKhlF6VC"
      },
      "execution_count": 2,
      "outputs": []
    },
    {
      "cell_type": "code",
      "source": [
        "print(df_1)"
      ],
      "metadata": {
        "colab": {
          "base_uri": "https://localhost:8080/"
        },
        "id": "DIY3OsZqHKyt",
        "outputId": "2fe89149-8a47-42d9-ca05-e416e4ec1dfc"
      },
      "execution_count": 3,
      "outputs": [
        {
          "output_type": "stream",
          "name": "stdout",
          "text": [
            "             id  is_laugh\n",
            "0     rfdjcfsqq  0.468470\n",
            "1     tsgqmfpef  0.417070\n",
            "2     owjcthkz2  0.289793\n",
            "3     rvgaocjyy  0.404410\n",
            "4     uxtwu5i69  0.823924\n",
            "...         ...       ...\n",
            "5995  vx1lpzark  0.310152\n",
            "5996  y9sugbhm8  0.742443\n",
            "5997  dsd1yixzk  0.483111\n",
            "5998  vmyopn0mu  0.603946\n",
            "5999  sveiueszw  0.662109\n",
            "\n",
            "[6000 rows x 2 columns]\n"
          ]
        }
      ]
    },
    {
      "cell_type": "code",
      "source": [
        "df = pd.DataFrame({\"df_1\":df_1['is_laugh'],\n",
        "                  \"df_2\":df_2['is_laugh'],\n",
        "                 })\n",
        "\n",
        "# 相関行列\n",
        "df.corr()"
      ],
      "metadata": {
        "colab": {
          "base_uri": "https://localhost:8080/",
          "height": 112
        },
        "id": "emMsaFu-F-1x",
        "outputId": "b058bf80-5e2f-47b1-eb2b-7dc24630abea"
      },
      "execution_count": 4,
      "outputs": [
        {
          "output_type": "execute_result",
          "data": {
            "text/plain": [
              "          df_1      df_2\n",
              "df_1  1.000000  0.861358\n",
              "df_2  0.861358  1.000000"
            ],
            "text/html": [
              "\n",
              "  <div id=\"df-38f2ab2a-4124-431f-8c01-cf721dde31db\">\n",
              "    <div class=\"colab-df-container\">\n",
              "      <div>\n",
              "<style scoped>\n",
              "    .dataframe tbody tr th:only-of-type {\n",
              "        vertical-align: middle;\n",
              "    }\n",
              "\n",
              "    .dataframe tbody tr th {\n",
              "        vertical-align: top;\n",
              "    }\n",
              "\n",
              "    .dataframe thead th {\n",
              "        text-align: right;\n",
              "    }\n",
              "</style>\n",
              "<table border=\"1\" class=\"dataframe\">\n",
              "  <thead>\n",
              "    <tr style=\"text-align: right;\">\n",
              "      <th></th>\n",
              "      <th>df_1</th>\n",
              "      <th>df_2</th>\n",
              "    </tr>\n",
              "  </thead>\n",
              "  <tbody>\n",
              "    <tr>\n",
              "      <th>df_1</th>\n",
              "      <td>1.000000</td>\n",
              "      <td>0.861358</td>\n",
              "    </tr>\n",
              "    <tr>\n",
              "      <th>df_2</th>\n",
              "      <td>0.861358</td>\n",
              "      <td>1.000000</td>\n",
              "    </tr>\n",
              "  </tbody>\n",
              "</table>\n",
              "</div>\n",
              "      <button class=\"colab-df-convert\" onclick=\"convertToInteractive('df-38f2ab2a-4124-431f-8c01-cf721dde31db')\"\n",
              "              title=\"Convert this dataframe to an interactive table.\"\n",
              "              style=\"display:none;\">\n",
              "        \n",
              "  <svg xmlns=\"http://www.w3.org/2000/svg\" height=\"24px\"viewBox=\"0 0 24 24\"\n",
              "       width=\"24px\">\n",
              "    <path d=\"M0 0h24v24H0V0z\" fill=\"none\"/>\n",
              "    <path d=\"M18.56 5.44l.94 2.06.94-2.06 2.06-.94-2.06-.94-.94-2.06-.94 2.06-2.06.94zm-11 1L8.5 8.5l.94-2.06 2.06-.94-2.06-.94L8.5 2.5l-.94 2.06-2.06.94zm10 10l.94 2.06.94-2.06 2.06-.94-2.06-.94-.94-2.06-.94 2.06-2.06.94z\"/><path d=\"M17.41 7.96l-1.37-1.37c-.4-.4-.92-.59-1.43-.59-.52 0-1.04.2-1.43.59L10.3 9.45l-7.72 7.72c-.78.78-.78 2.05 0 2.83L4 21.41c.39.39.9.59 1.41.59.51 0 1.02-.2 1.41-.59l7.78-7.78 2.81-2.81c.8-.78.8-2.07 0-2.86zM5.41 20L4 18.59l7.72-7.72 1.47 1.35L5.41 20z\"/>\n",
              "  </svg>\n",
              "      </button>\n",
              "      \n",
              "  <style>\n",
              "    .colab-df-container {\n",
              "      display:flex;\n",
              "      flex-wrap:wrap;\n",
              "      gap: 12px;\n",
              "    }\n",
              "\n",
              "    .colab-df-convert {\n",
              "      background-color: #E8F0FE;\n",
              "      border: none;\n",
              "      border-radius: 50%;\n",
              "      cursor: pointer;\n",
              "      display: none;\n",
              "      fill: #1967D2;\n",
              "      height: 32px;\n",
              "      padding: 0 0 0 0;\n",
              "      width: 32px;\n",
              "    }\n",
              "\n",
              "    .colab-df-convert:hover {\n",
              "      background-color: #E2EBFA;\n",
              "      box-shadow: 0px 1px 2px rgba(60, 64, 67, 0.3), 0px 1px 3px 1px rgba(60, 64, 67, 0.15);\n",
              "      fill: #174EA6;\n",
              "    }\n",
              "\n",
              "    [theme=dark] .colab-df-convert {\n",
              "      background-color: #3B4455;\n",
              "      fill: #D2E3FC;\n",
              "    }\n",
              "\n",
              "    [theme=dark] .colab-df-convert:hover {\n",
              "      background-color: #434B5C;\n",
              "      box-shadow: 0px 1px 3px 1px rgba(0, 0, 0, 0.15);\n",
              "      filter: drop-shadow(0px 1px 2px rgba(0, 0, 0, 0.3));\n",
              "      fill: #FFFFFF;\n",
              "    }\n",
              "  </style>\n",
              "\n",
              "      <script>\n",
              "        const buttonEl =\n",
              "          document.querySelector('#df-38f2ab2a-4124-431f-8c01-cf721dde31db button.colab-df-convert');\n",
              "        buttonEl.style.display =\n",
              "          google.colab.kernel.accessAllowed ? 'block' : 'none';\n",
              "\n",
              "        async function convertToInteractive(key) {\n",
              "          const element = document.querySelector('#df-38f2ab2a-4124-431f-8c01-cf721dde31db');\n",
              "          const dataTable =\n",
              "            await google.colab.kernel.invokeFunction('convertToInteractive',\n",
              "                                                     [key], {});\n",
              "          if (!dataTable) return;\n",
              "\n",
              "          const docLinkHtml = 'Like what you see? Visit the ' +\n",
              "            '<a target=\"_blank\" href=https://colab.research.google.com/notebooks/data_table.ipynb>data table notebook</a>'\n",
              "            + ' to learn more about interactive tables.';\n",
              "          element.innerHTML = '';\n",
              "          dataTable['output_type'] = 'display_data';\n",
              "          await google.colab.output.renderOutput(dataTable, element);\n",
              "          const docLink = document.createElement('div');\n",
              "          docLink.innerHTML = docLinkHtml;\n",
              "          element.appendChild(docLink);\n",
              "        }\n",
              "      </script>\n",
              "    </div>\n",
              "  </div>\n",
              "  "
            ]
          },
          "metadata": {},
          "execution_count": 4
        }
      ]
    },
    {
      "cell_type": "code",
      "source": [
        "# 予測値の多数決\n",
        "sum_pred = df_1[\"is_laugh\"]*0.8 + df_2[\"is_laugh\"]*0.2\n",
        "ensemble = pd.DataFrame({\"id\": df_1[\"id\"], \"is_laugh\":sum_pred})\n",
        "ensemble.to_csv(\"sub.csv\", index=False)"
      ],
      "metadata": {
        "id": "o5rdUz6LGDgp"
      },
      "execution_count": 5,
      "outputs": []
    },
    {
      "cell_type": "code",
      "source": [
        "print(ensemble)"
      ],
      "metadata": {
        "colab": {
          "base_uri": "https://localhost:8080/"
        },
        "id": "PkQgjRzAGKB5",
        "outputId": "13ac7f91-78dc-4b88-d859-71027390be18"
      },
      "execution_count": 6,
      "outputs": [
        {
          "output_type": "stream",
          "name": "stdout",
          "text": [
            "             id  is_laugh\n",
            "0     rfdjcfsqq  0.466728\n",
            "1     tsgqmfpef  0.391977\n",
            "2     owjcthkz2  0.289083\n",
            "3     rvgaocjyy  0.411782\n",
            "4     uxtwu5i69  0.824398\n",
            "...         ...       ...\n",
            "5995  vx1lpzark  0.334583\n",
            "5996  y9sugbhm8  0.744096\n",
            "5997  dsd1yixzk  0.498414\n",
            "5998  vmyopn0mu  0.587363\n",
            "5999  sveiueszw  0.676266\n",
            "\n",
            "[6000 rows x 2 columns]\n"
          ]
        }
      ]
    },
    {
      "cell_type": "code",
      "source": [],
      "metadata": {
        "id": "REAWxXK5Ls-L"
      },
      "execution_count": null,
      "outputs": []
    }
  ]
}