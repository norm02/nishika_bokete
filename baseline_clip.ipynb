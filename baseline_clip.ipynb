{
  "cells": [
    {
      "cell_type": "markdown",
      "metadata": {
        "id": "m0ayzrjm-DgE"
      },
      "source": [
        "# ボケ判定AIを作ろう！-チュートリアル1\n",
        "このnotebookは、Nishikaコンペティション [ボケ判定AIを作ろう！](https://www.nishika.com/competitions/) のチュートリアルです。\n",
        "\n",
        "「ボケて」データを用いて、画像データと文章からそのボケてが面白いか面白くないかを予測することをテーマとしています。\n",
        "\n",
        "このNotebookでは、画像とテキストそれぞれの特徴量生成を以下のような方法で行っていきます。\n",
        "\n",
        "- CNNモデルを用いた画像データの特徴量化\n",
        "- BERTモデルを用いたテキストデータの特徴量化\n",
        "\n",
        "特徴量の作成では、テキストと画像それぞれ別々で作成していますので、画像データとテキストデータを組み合わせた特徴量を入れることで精度向上が見込めるかも知れませんので、いろいろと試していただければと思います。"
      ]
    },
    {
      "cell_type": "markdown",
      "metadata": {
        "id": "EjvjywgsCuKU"
      },
      "source": [
        "| 要素 | 説明 |\n",
        "| ---- | ---- |\n",
        "|id | ID|\n",
        "|odai_photo_file_name | ボケてのお題画像|\n",
        "|text | ボケての文章|\n",
        "|is_laugh | 面白さ（面白い：１、面白くない：０）|\n"
      ]
    },
    {
      "cell_type": "markdown",
      "metadata": {
        "id": "9YJVABJ8CqoX"
      },
      "source": [
        "ディレクトリ構成は以下のように設定します\n",
        "\n",
        "```\n",
        "├── train.zip\n",
        "│ ├── xxx.jpg\n",
        "│ └── yyy.jpg\n",
        "├── test.zip\n",
        "│ ├── xxx.jpg\n",
        "│ └── yyy.jpg\n",
        "├── train.csv\n",
        "├── test.csv\n",
        "├── sample_submission.csv\n",
        "└── submission.csv(今回のbaselineで生成されるsubmissionファイル)\n",
        "\n",
        "\n",
        "```\n",
        "\n",
        "### setting\n",
        "ページ上部の「ランタイム」>「ランタイムのタイプを変更」から「GPU」「ハイメモリ」を選択"
      ]
    },
    {
      "cell_type": "code",
      "execution_count": null,
      "metadata": {
        "colab": {
          "base_uri": "https://localhost:8080/"
        },
        "id": "exPnU6gJ9_8L",
        "outputId": "62a5e2c2-baed-41ba-c88b-cc3d84f1a1c8"
      },
      "outputs": [
        {
          "output_type": "stream",
          "name": "stdout",
          "text": [
            "Drive already mounted at /content/drive; to attempt to forcibly remount, call drive.mount(\"/content/drive\", force_remount=True).\n"
          ]
        }
      ],
      "source": [
        "from google.colab import drive\n",
        "drive.mount('/content/drive')"
      ]
    },
    {
      "cell_type": "code",
      "execution_count": null,
      "metadata": {
        "colab": {
          "base_uri": "https://localhost:8080/"
        },
        "id": "9onj0RDDiWU4",
        "outputId": "b689b7da-9536-4ce9-a083-e6ff144a563f"
      },
      "outputs": [
        {
          "output_type": "stream",
          "name": "stdout",
          "text": [
            "Wed Sep 21 01:47:26 2022       \n",
            "+-----------------------------------------------------------------------------+\n",
            "| NVIDIA-SMI 460.32.03    Driver Version: 460.32.03    CUDA Version: 11.2     |\n",
            "|-------------------------------+----------------------+----------------------+\n",
            "| GPU  Name        Persistence-M| Bus-Id        Disp.A | Volatile Uncorr. ECC |\n",
            "| Fan  Temp  Perf  Pwr:Usage/Cap|         Memory-Usage | GPU-Util  Compute M. |\n",
            "|                               |                      |               MIG M. |\n",
            "|===============================+======================+======================|\n",
            "|   0  Tesla P100-PCIE...  Off  | 00000000:00:04.0 Off |                    0 |\n",
            "| N/A   63C    P0    35W / 250W |      0MiB / 16280MiB |      0%      Default |\n",
            "|                               |                      |                  N/A |\n",
            "+-------------------------------+----------------------+----------------------+\n",
            "                                                                               \n",
            "+-----------------------------------------------------------------------------+\n",
            "| Processes:                                                                  |\n",
            "|  GPU   GI   CI        PID   Type   Process name                  GPU Memory |\n",
            "|        ID   ID                                                   Usage      |\n",
            "|=============================================================================|\n",
            "|  No running processes found                                                 |\n",
            "+-----------------------------------------------------------------------------+\n"
          ]
        }
      ],
      "source": [
        "!nvidia-smi"
      ]
    },
    {
      "cell_type": "markdown",
      "metadata": {
        "id": "JGai1EPR_tEA"
      },
      "source": [
        "# Library"
      ]
    },
    {
      "cell_type": "code",
      "execution_count": null,
      "metadata": {
        "id": "23tLb36S_nX-"
      },
      "outputs": [],
      "source": [
        "!pip install --quiet transformers==4.18.0\n",
        "!pip install --quiet tokenizers==0.12.1\n",
        "!pip install --quiet sentencepiece\n",
        "!pip install --quiet japanize-matplotlib\n",
        "!pip install transformers fugashi ipadic >> /dev/null"
      ]
    },
    {
      "cell_type": "code",
      "execution_count": null,
      "metadata": {
        "colab": {
          "base_uri": "https://localhost:8080/"
        },
        "id": "QgFkrWO3LVwp",
        "outputId": "1a03b4be-e5a1-4745-d10b-7fa68d45c5c2"
      },
      "outputs": [
        {
          "output_type": "stream",
          "name": "stdout",
          "text": [
            "Looking in indexes: https://pypi.org/simple, https://us-python.pkg.dev/colab-wheels/public/simple/\n",
            "Collecting git+https://github.com/rinnakk/japanese-clip.git\n",
            "  Cloning https://github.com/rinnakk/japanese-clip.git to /tmp/pip-req-build-8ocwobdz\n",
            "  Running command git clone -q https://github.com/rinnakk/japanese-clip.git /tmp/pip-req-build-8ocwobdz\n",
            "Requirement already satisfied: torch>=1.9.0 in /usr/local/lib/python3.7/dist-packages (from japanese-clip==0.2.0) (1.12.1+cu113)\n",
            "Requirement already satisfied: torchvision in /usr/local/lib/python3.7/dist-packages (from japanese-clip==0.2.0) (0.13.1+cu113)\n",
            "Requirement already satisfied: transformers>=4.15.0 in /usr/local/lib/python3.7/dist-packages (from japanese-clip==0.2.0) (4.18.0)\n",
            "Requirement already satisfied: sentencepiece<=0.1.94,>=0.1.91 in /usr/local/lib/python3.7/dist-packages (from japanese-clip==0.2.0) (0.1.94)\n",
            "Requirement already satisfied: pandas in /usr/local/lib/python3.7/dist-packages (from japanese-clip==0.2.0) (1.3.5)\n",
            "Requirement already satisfied: scipy in /usr/local/lib/python3.7/dist-packages (from japanese-clip==0.2.0) (1.7.3)\n",
            "Requirement already satisfied: typing-extensions in /usr/local/lib/python3.7/dist-packages (from torch>=1.9.0->japanese-clip==0.2.0) (4.1.1)\n",
            "Requirement already satisfied: sacremoses in /usr/local/lib/python3.7/dist-packages (from transformers>=4.15.0->japanese-clip==0.2.0) (0.0.53)\n",
            "Requirement already satisfied: regex!=2019.12.17 in /usr/local/lib/python3.7/dist-packages (from transformers>=4.15.0->japanese-clip==0.2.0) (2022.6.2)\n",
            "Requirement already satisfied: importlib-metadata in /usr/local/lib/python3.7/dist-packages (from transformers>=4.15.0->japanese-clip==0.2.0) (4.12.0)\n",
            "Requirement already satisfied: tqdm>=4.27 in /usr/local/lib/python3.7/dist-packages (from transformers>=4.15.0->japanese-clip==0.2.0) (4.64.1)\n",
            "Requirement already satisfied: filelock in /usr/local/lib/python3.7/dist-packages (from transformers>=4.15.0->japanese-clip==0.2.0) (3.8.0)\n",
            "Requirement already satisfied: huggingface-hub<1.0,>=0.1.0 in /usr/local/lib/python3.7/dist-packages (from transformers>=4.15.0->japanese-clip==0.2.0) (0.9.1)\n",
            "Requirement already satisfied: pyyaml>=5.1 in /usr/local/lib/python3.7/dist-packages (from transformers>=4.15.0->japanese-clip==0.2.0) (6.0)\n",
            "Requirement already satisfied: requests in /usr/local/lib/python3.7/dist-packages (from transformers>=4.15.0->japanese-clip==0.2.0) (2.23.0)\n",
            "Requirement already satisfied: numpy>=1.17 in /usr/local/lib/python3.7/dist-packages (from transformers>=4.15.0->japanese-clip==0.2.0) (1.21.6)\n",
            "Requirement already satisfied: packaging>=20.0 in /usr/local/lib/python3.7/dist-packages (from transformers>=4.15.0->japanese-clip==0.2.0) (21.3)\n",
            "Requirement already satisfied: tokenizers!=0.11.3,<0.13,>=0.11.1 in /usr/local/lib/python3.7/dist-packages (from transformers>=4.15.0->japanese-clip==0.2.0) (0.12.1)\n",
            "Requirement already satisfied: pyparsing!=3.0.5,>=2.0.2 in /usr/local/lib/python3.7/dist-packages (from packaging>=20.0->transformers>=4.15.0->japanese-clip==0.2.0) (3.0.9)\n",
            "Requirement already satisfied: zipp>=0.5 in /usr/local/lib/python3.7/dist-packages (from importlib-metadata->transformers>=4.15.0->japanese-clip==0.2.0) (3.8.1)\n",
            "Requirement already satisfied: python-dateutil>=2.7.3 in /usr/local/lib/python3.7/dist-packages (from pandas->japanese-clip==0.2.0) (2.8.2)\n",
            "Requirement already satisfied: pytz>=2017.3 in /usr/local/lib/python3.7/dist-packages (from pandas->japanese-clip==0.2.0) (2022.2.1)\n",
            "Requirement already satisfied: six>=1.5 in /usr/local/lib/python3.7/dist-packages (from python-dateutil>=2.7.3->pandas->japanese-clip==0.2.0) (1.15.0)\n",
            "Requirement already satisfied: idna<3,>=2.5 in /usr/local/lib/python3.7/dist-packages (from requests->transformers>=4.15.0->japanese-clip==0.2.0) (2.10)\n",
            "Requirement already satisfied: certifi>=2017.4.17 in /usr/local/lib/python3.7/dist-packages (from requests->transformers>=4.15.0->japanese-clip==0.2.0) (2022.6.15)\n",
            "Requirement already satisfied: urllib3!=1.25.0,!=1.25.1,<1.26,>=1.21.1 in /usr/local/lib/python3.7/dist-packages (from requests->transformers>=4.15.0->japanese-clip==0.2.0) (1.24.3)\n",
            "Requirement already satisfied: chardet<4,>=3.0.2 in /usr/local/lib/python3.7/dist-packages (from requests->transformers>=4.15.0->japanese-clip==0.2.0) (3.0.4)\n",
            "Requirement already satisfied: joblib in /usr/local/lib/python3.7/dist-packages (from sacremoses->transformers>=4.15.0->japanese-clip==0.2.0) (1.1.0)\n",
            "Requirement already satisfied: click in /usr/local/lib/python3.7/dist-packages (from sacremoses->transformers>=4.15.0->japanese-clip==0.2.0) (7.1.2)\n",
            "Requirement already satisfied: pillow!=8.3.*,>=5.3.0 in /usr/local/lib/python3.7/dist-packages (from torchvision->japanese-clip==0.2.0) (7.1.2)\n"
          ]
        }
      ],
      "source": [
        "! pip install git+https://github.com/rinnakk/japanese-clip.git"
      ]
    },
    {
      "cell_type": "code",
      "execution_count": null,
      "metadata": {
        "colab": {
          "base_uri": "https://localhost:8080/"
        },
        "id": "thcWprDW8bcF",
        "outputId": "425ea7ee-b9a0-4a28-a108-772a938f2fd8"
      },
      "outputs": [
        {
          "output_type": "stream",
          "name": "stdout",
          "text": [
            "/bin/bash: conda: command not found\n",
            "Looking in indexes: https://pypi.org/simple, https://us-python.pkg.dev/colab-wheels/public/simple/\n",
            "Requirement already satisfied: ftfy in /usr/local/lib/python3.7/dist-packages (6.1.1)\n",
            "Requirement already satisfied: regex in /usr/local/lib/python3.7/dist-packages (2022.6.2)\n",
            "Requirement already satisfied: tqdm in /usr/local/lib/python3.7/dist-packages (4.64.1)\n",
            "Requirement already satisfied: wcwidth>=0.2.5 in /usr/local/lib/python3.7/dist-packages (from ftfy) (0.2.5)\n",
            "Looking in indexes: https://pypi.org/simple, https://us-python.pkg.dev/colab-wheels/public/simple/\n",
            "Collecting git+https://github.com/openai/CLIP.git\n",
            "  Cloning https://github.com/openai/CLIP.git to /tmp/pip-req-build-hnbt_iuy\n",
            "  Running command git clone -q https://github.com/openai/CLIP.git /tmp/pip-req-build-hnbt_iuy\n",
            "Requirement already satisfied: ftfy in /usr/local/lib/python3.7/dist-packages (from clip==1.0) (6.1.1)\n",
            "Requirement already satisfied: regex in /usr/local/lib/python3.7/dist-packages (from clip==1.0) (2022.6.2)\n",
            "Requirement already satisfied: tqdm in /usr/local/lib/python3.7/dist-packages (from clip==1.0) (4.64.1)\n",
            "Requirement already satisfied: torch in /usr/local/lib/python3.7/dist-packages (from clip==1.0) (1.12.1+cu113)\n",
            "Requirement already satisfied: torchvision in /usr/local/lib/python3.7/dist-packages (from clip==1.0) (0.13.1+cu113)\n",
            "Requirement already satisfied: wcwidth>=0.2.5 in /usr/local/lib/python3.7/dist-packages (from ftfy->clip==1.0) (0.2.5)\n",
            "Requirement already satisfied: typing-extensions in /usr/local/lib/python3.7/dist-packages (from torch->clip==1.0) (4.1.1)\n",
            "Requirement already satisfied: pillow!=8.3.*,>=5.3.0 in /usr/local/lib/python3.7/dist-packages (from torchvision->clip==1.0) (7.1.2)\n",
            "Requirement already satisfied: requests in /usr/local/lib/python3.7/dist-packages (from torchvision->clip==1.0) (2.23.0)\n",
            "Requirement already satisfied: numpy in /usr/local/lib/python3.7/dist-packages (from torchvision->clip==1.0) (1.21.6)\n",
            "Requirement already satisfied: idna<3,>=2.5 in /usr/local/lib/python3.7/dist-packages (from requests->torchvision->clip==1.0) (2.10)\n",
            "Requirement already satisfied: urllib3!=1.25.0,!=1.25.1,<1.26,>=1.21.1 in /usr/local/lib/python3.7/dist-packages (from requests->torchvision->clip==1.0) (1.24.3)\n",
            "Requirement already satisfied: chardet<4,>=3.0.2 in /usr/local/lib/python3.7/dist-packages (from requests->torchvision->clip==1.0) (3.0.4)\n",
            "Requirement already satisfied: certifi>=2017.4.17 in /usr/local/lib/python3.7/dist-packages (from requests->torchvision->clip==1.0) (2022.6.15)\n"
          ]
        }
      ],
      "source": [
        "! conda install --yes -c pytorch pytorch=1.7.1 torchvision cudatoolkit=11.0\n",
        "! pip install ftfy regex tqdm\n",
        "! pip install git+https://github.com/openai/CLIP.git"
      ]
    },
    {
      "cell_type": "code",
      "execution_count": null,
      "metadata": {
        "colab": {
          "base_uri": "https://localhost:8080/"
        },
        "id": "UdWnvMGQO1Wa",
        "outputId": "3c3e2997-fec5-4ecd-e35c-38754c7f4da8"
      },
      "outputs": [
        {
          "output_type": "stream",
          "name": "stdout",
          "text": [
            "/bin/bash: conda: command not found\n",
            "Looking in indexes: https://pypi.org/simple, https://us-python.pkg.dev/colab-wheels/public/simple/\n",
            "Requirement already satisfied: ftfy in /usr/local/lib/python3.7/dist-packages (6.1.1)\n",
            "Requirement already satisfied: regex in /usr/local/lib/python3.7/dist-packages (2022.6.2)\n",
            "Requirement already satisfied: tqdm in /usr/local/lib/python3.7/dist-packages (4.64.1)\n",
            "Requirement already satisfied: wcwidth>=0.2.5 in /usr/local/lib/python3.7/dist-packages (from ftfy) (0.2.5)\n",
            "Looking in indexes: https://pypi.org/simple, https://us-python.pkg.dev/colab-wheels/public/simple/\n",
            "Collecting git+https://github.com/openai/CLIP.git\n",
            "  Cloning https://github.com/openai/CLIP.git to /tmp/pip-req-build-cgxwx943\n",
            "  Running command git clone -q https://github.com/openai/CLIP.git /tmp/pip-req-build-cgxwx943\n",
            "Requirement already satisfied: ftfy in /usr/local/lib/python3.7/dist-packages (from clip==1.0) (6.1.1)\n",
            "Requirement already satisfied: regex in /usr/local/lib/python3.7/dist-packages (from clip==1.0) (2022.6.2)\n",
            "Requirement already satisfied: tqdm in /usr/local/lib/python3.7/dist-packages (from clip==1.0) (4.64.1)\n",
            "Requirement already satisfied: torch in /usr/local/lib/python3.7/dist-packages (from clip==1.0) (1.12.1+cu113)\n",
            "Requirement already satisfied: torchvision in /usr/local/lib/python3.7/dist-packages (from clip==1.0) (0.13.1+cu113)\n",
            "Requirement already satisfied: wcwidth>=0.2.5 in /usr/local/lib/python3.7/dist-packages (from ftfy->clip==1.0) (0.2.5)\n",
            "Requirement already satisfied: typing-extensions in /usr/local/lib/python3.7/dist-packages (from torch->clip==1.0) (4.1.1)\n",
            "Requirement already satisfied: requests in /usr/local/lib/python3.7/dist-packages (from torchvision->clip==1.0) (2.23.0)\n",
            "Requirement already satisfied: pillow!=8.3.*,>=5.3.0 in /usr/local/lib/python3.7/dist-packages (from torchvision->clip==1.0) (7.1.2)\n",
            "Requirement already satisfied: numpy in /usr/local/lib/python3.7/dist-packages (from torchvision->clip==1.0) (1.21.6)\n",
            "Requirement already satisfied: chardet<4,>=3.0.2 in /usr/local/lib/python3.7/dist-packages (from requests->torchvision->clip==1.0) (3.0.4)\n",
            "Requirement already satisfied: certifi>=2017.4.17 in /usr/local/lib/python3.7/dist-packages (from requests->torchvision->clip==1.0) (2022.6.15)\n",
            "Requirement already satisfied: urllib3!=1.25.0,!=1.25.1,<1.26,>=1.21.1 in /usr/local/lib/python3.7/dist-packages (from requests->torchvision->clip==1.0) (1.24.3)\n",
            "Requirement already satisfied: idna<3,>=2.5 in /usr/local/lib/python3.7/dist-packages (from requests->torchvision->clip==1.0) (2.10)\n"
          ]
        }
      ],
      "source": [
        "! conda install --yes -c pytorch pytorch=1.7.1 torchvision cudatoolkit=11.0\n",
        "! pip install ftfy regex tqdm\n",
        "! pip install git+https://github.com/openai/CLIP.git"
      ]
    },
    {
      "cell_type": "code",
      "execution_count": null,
      "metadata": {
        "colab": {
          "base_uri": "https://localhost:8080/"
        },
        "id": "Myu_A_Kc_zyK",
        "outputId": "0862536a-e39d-4138-e4ab-3600520e36d7"
      },
      "outputs": [
        {
          "output_type": "stream",
          "name": "stderr",
          "text": [
            "[nltk_data] Downloading package wordnet to /root/nltk_data...\n",
            "[nltk_data]   Package wordnet is already up-to-date!\n",
            "[nltk_data] Downloading package stopwords to /root/nltk_data...\n",
            "[nltk_data]   Package stopwords is already up-to-date!\n",
            "[nltk_data] Downloading package punkt to /root/nltk_data...\n",
            "[nltk_data]   Package punkt is already up-to-date!\n"
          ]
        }
      ],
      "source": [
        "import pandas as pd\n",
        "import numpy as np\n",
        "import matplotlib.pyplot as plt\n",
        "import seaborn as sns\n",
        "from PIL import Image\n",
        "\n",
        "import torch\n",
        "import transformers\n",
        "\n",
        "from sklearn.metrics import mean_squared_error\n",
        "from sklearn.metrics import log_loss\n",
        "from sklearn.model_selection import StratifiedKFold, KFold\n",
        "from sklearn.model_selection import train_test_split\n",
        "from sklearn.metrics import confusion_matrix\n",
        "\n",
        "import sys\n",
        "import os\n",
        "import re\n",
        "import random\n",
        "\n",
        "from time import time\n",
        "from tqdm import tqdm\n",
        "\n",
        "from contextlib import contextmanager\n",
        "import lightgbm as lgb\n",
        "\n",
        "from pathlib import Path\n",
        "\n",
        "import re\n",
        "import requests\n",
        "import unicodedata\n",
        "import nltk\n",
        "from nltk.corpus import wordnet\n",
        "from bs4 import BeautifulSoup\n",
        "nltk.download(['wordnet', 'stopwords', 'punkt'])\n",
        "\n",
        "import japanese_clip as ja_clip\n",
        "from torchvision.io import read_image\n",
        "\n",
        "import cv2"
      ]
    },
    {
      "cell_type": "markdown",
      "metadata": {
        "id": "dCYVrA1lAB8L"
      },
      "source": [
        "# Setting"
      ]
    },
    {
      "cell_type": "code",
      "source": [
        "#上限表示数を拡張\n",
        "pd.set_option('display.max_columns', 200)\n",
        "pd.set_option('display.max_rows', 300)"
      ],
      "metadata": {
        "id": "BD85pPiXoRKL"
      },
      "execution_count": null,
      "outputs": []
    },
    {
      "cell_type": "code",
      "execution_count": null,
      "metadata": {
        "id": "z9WsZjx-NT-O"
      },
      "outputs": [],
      "source": [
        "def seed_everything(seed=1234):\n",
        "    random.seed(seed)\n",
        "    os.environ['PYTHONHASHSEED'] = str(seed)\n",
        "    np.random.seed(seed)\n",
        "    torch.manual_seed(seed)\n",
        "    torch.cuda.manual_seed(seed)\n",
        "\n",
        "seed_everything(42)"
      ]
    },
    {
      "cell_type": "code",
      "execution_count": null,
      "metadata": {
        "id": "ajiBxfC2ABC4"
      },
      "outputs": [],
      "source": [
        "INPUT = \"/content/drive/MyDrive/nishika\" # 所望のディレクトリに変更してください。\n",
        "train_image_path =\"/content/drive/MyDrive/nishika/train/\"\n",
        "test_image_path =\"/content/drive/MyDrive/nishika/test/\""
      ]
    },
    {
      "cell_type": "code",
      "execution_count": null,
      "metadata": {
        "id": "Nh06H3rFAPA5"
      },
      "outputs": [],
      "source": [
        "train_df = pd.read_csv(os.path.join(INPUT, \"train.csv\"))\n",
        "test_df = pd.read_csv(os.path.join(INPUT, \"test.csv\"))\n",
        "submission_df = pd.read_csv(os.path.join(INPUT, \"sample_submission.csv\"))\n",
        "\n",
        "train_df[\"img_path\"] = train_image_path + train_df[\"odai_photo_file_name\"]\n",
        "test_df[\"img_path\"] = test_image_path + test_df[\"odai_photo_file_name\"]"
      ]
    },
    {
      "cell_type": "code",
      "execution_count": null,
      "metadata": {
        "id": "vyriHV_X8EcV"
      },
      "outputs": [],
      "source": [
        "import torchvision.models as models\n",
        "\n",
        "\n",
        "from torch.utils.data import Dataset, DataLoader\n",
        "\n",
        "device = \"cuda\" if torch.cuda.is_available() else \"cpu\""
      ]
    },
    {
      "cell_type": "code",
      "execution_count": null,
      "metadata": {
        "id": "uemCcXr779IK"
      },
      "outputs": [],
      "source": [
        "#import clip\n",
        "\n",
        "model, preprocess = ja_clip.load(\"rinna/japanese-clip-vit-b-16\", cache_dir=\"/tmp/japanese_clip\", device=device)\n",
        "tokenizer = ja_clip.load_tokenizer()"
      ]
    },
    {
      "cell_type": "code",
      "execution_count": null,
      "metadata": {
        "id": "2WI4k4jz72NZ"
      },
      "outputs": [],
      "source": [
        "def _get_img_paths(img_dir):\n",
        "    img_dir = Path(img_dir)\n",
        "    img_extensions = [\".jpg\"]\n",
        "    img_paths = [str(p) for p in img_dir.iterdir() if p.suffix in img_extensions]\n",
        "    img_paths.sort()\n",
        "\n",
        "    return img_paths\n",
        "\n",
        "\n",
        "class ImageFolder(Dataset):\n",
        "    def __init__(self, img_dir):\n",
        "        # 画像ファイルのパス一覧を取得する。\n",
        "        self.img_paths = _get_img_paths(img_dir)\n",
        "        #self.transform = transform\n",
        "\n",
        "    def __getitem__(self, index):\n",
        "        path = self.img_paths[index]\n",
        "        img = preprocess(Image.open(path).convert(\"RGB\"))\n",
        "        #inputs = self.transform(img)\n",
        "\n",
        "        return {\"image\": img, \"path\": path}\n",
        "\n",
        "    def __len__(self):\n",
        "        return len(self.img_paths)"
      ]
    },
    {
      "cell_type": "code",
      "execution_count": null,
      "metadata": {
        "id": "ObnpqCS9Bvui"
      },
      "outputs": [],
      "source": [
        "# Dataset を作成する。\n",
        "dstrain = ImageFolder(\"/content/drive/MyDrive/nishika/train\")"
      ]
    },
    {
      "cell_type": "code",
      "execution_count": null,
      "metadata": {
        "id": "RJkZmjM1ANhJ"
      },
      "outputs": [],
      "source": [
        "import glob\n",
        "import itertools\n",
        "\n",
        "\n",
        "def get_images_features(dataset):\n",
        "    image_features = []\n",
        "    \n",
        "    with torch.no_grad():\n",
        "        for batch in tqdm(DataLoader(dataset, batch_size=8)):\n",
        "            inputs = batch[\"image\"].to(device)\n",
        "            outputs = model.get_image_features(inputs)\n",
        "\n",
        "            image_features.append(outputs)\n",
        "\n",
        "    return torch.cat(image_features).cpu().numpy()"
      ]
    },
    {
      "cell_type": "code",
      "execution_count": null,
      "metadata": {
        "colab": {
          "base_uri": "https://localhost:8080/"
        },
        "id": "Uf2ZalqQFcau",
        "outputId": "4c8cf6aa-811a-45bf-97d2-3fe89cf2f78d"
      },
      "outputs": [
        {
          "output_type": "stream",
          "name": "stderr",
          "text": [
            "100%|██████████| 1469/1469 [03:55<00:00,  6.23it/s]\n"
          ]
        }
      ],
      "source": [
        "train_image_features = get_images_features(dstrain)"
      ]
    },
    {
      "cell_type": "code",
      "execution_count": null,
      "metadata": {
        "id": "T3x9JsVsI3ht"
      },
      "outputs": [],
      "source": [
        "image_feature = pd.DataFrame.from_dict(train_image_features, orient='columns').add_prefix(\"clip_image_\").reset_index()\n",
        "image_feature.rename(columns={\"columns\":\"odai_photo_file_name\"}, inplace=True)"
      ]
    },
    {
      "cell_type": "code",
      "execution_count": null,
      "metadata": {
        "id": "LJ9ot5R6YWge"
      },
      "outputs": [],
      "source": [
        "image_feature = image_feature.drop([\"index\"], axis=1)"
      ]
    },
    {
      "cell_type": "code",
      "execution_count": null,
      "metadata": {
        "id": "pNZpZ19iJEun"
      },
      "outputs": [],
      "source": [
        "# trainのデータに結合します。\n",
        "train_df = pd.concat([train_df, image_feature],axis=1)"
      ]
    },
    {
      "cell_type": "code",
      "execution_count": null,
      "metadata": {
        "colab": {
          "base_uri": "https://localhost:8080/"
        },
        "id": "TLa8BVy5y4mh",
        "outputId": "5caf35d3-65fb-418d-d9bc-f02e214c10b0"
      },
      "outputs": [
        {
          "output_type": "execute_result",
          "data": {
            "text/plain": [
              "(24962, 517)"
            ]
          },
          "metadata": {},
          "execution_count": 21
        }
      ],
      "source": [
        "train_df.shape"
      ]
    },
    {
      "cell_type": "code",
      "execution_count": null,
      "metadata": {
        "id": "zDcOsVqB984D"
      },
      "outputs": [],
      "source": [
        "# Dataset を作成する。\n",
        "dstest = ImageFolder(\"/content/drive/MyDrive/nishika/test\")"
      ]
    },
    {
      "cell_type": "code",
      "execution_count": null,
      "metadata": {
        "colab": {
          "base_uri": "https://localhost:8080/"
        },
        "id": "JcwVrtW_-D0t",
        "outputId": "e6f4c28b-e33b-45c0-a44d-afeef3bdfe06"
      },
      "outputs": [
        {
          "output_type": "stream",
          "name": "stderr",
          "text": [
            "100%|██████████| 353/353 [00:56<00:00,  6.30it/s]\n"
          ]
        }
      ],
      "source": [
        "test_image_features = get_images_features(dstest)"
      ]
    },
    {
      "cell_type": "code",
      "execution_count": null,
      "metadata": {
        "id": "FNVN31Wr-J9F"
      },
      "outputs": [],
      "source": [
        "image_feature = pd.DataFrame.from_dict(test_image_features, orient='columns').add_prefix(\"clip_image_\").reset_index()\n",
        "image_feature.rename(columns={\"columns\":\"odai_photo_file_name\"}, inplace=True)"
      ]
    },
    {
      "cell_type": "code",
      "execution_count": null,
      "metadata": {
        "id": "I99tWAshZNYm",
        "colab": {
          "base_uri": "https://localhost:8080/"
        },
        "outputId": "22546c81-2bf8-4574-91db-92524738c2fc"
      },
      "outputs": [
        {
          "output_type": "stream",
          "name": "stdout",
          "text": [
            "      index  clip_image_0  clip_image_1  clip_image_2  clip_image_3  \\\n",
            "0         0     -4.281466      3.277126      3.281017     -5.307654   \n",
            "1         1     -3.514833     -3.176367      3.058226      0.847838   \n",
            "2         2     -2.830554      3.938714      7.258020     -2.919314   \n",
            "3         3     -6.937390      0.223198      6.307675     -3.888863   \n",
            "4         4     -2.757272     -7.686695      2.864905     -8.172541   \n",
            "...     ...           ...           ...           ...           ...   \n",
            "5995   5995      1.836371      1.182519      0.457679     -4.365069   \n",
            "5996   5996      2.727795      2.558982      6.536792     -7.300496   \n",
            "5997   5997     -0.481079      1.797865     -3.596152     -5.357271   \n",
            "5998   5998     -1.329463      0.870131      2.792527      0.986721   \n",
            "5999   5999     -0.869813      3.248981     -1.239307     -2.873646   \n",
            "\n",
            "      clip_image_4  clip_image_5  clip_image_6  clip_image_7  clip_image_8  \\\n",
            "0         0.795318     -0.558152     -1.636442     -3.095061      0.250943   \n",
            "1         3.406819     -7.170070      0.863656     -0.280225      0.932081   \n",
            "2        -0.952339      0.458474      1.072817     -0.618579     -2.357728   \n",
            "3         1.586925     -1.956181     -2.655483      4.762391      1.603231   \n",
            "4        -0.045483     -2.648792     -1.347143     -4.364135     -0.513442   \n",
            "...            ...           ...           ...           ...           ...   \n",
            "5995     -4.488608     -2.164310     -1.366260     -0.905468      3.293349   \n",
            "5996     -5.165848      0.266667     -0.996878     -0.524967     -3.501327   \n",
            "5997      2.775059      0.619189     -4.022978      1.846714      0.352827   \n",
            "5998      1.119683     -6.421226      2.497910      3.665287     -1.427365   \n",
            "5999      2.440687     -5.006104      4.452365     -3.647640     -2.095101   \n",
            "\n",
            "      clip_image_9  clip_image_10  clip_image_11  clip_image_12  \\\n",
            "0         3.755300       0.733966      -2.837114      -4.069175   \n",
            "1         0.949935       1.719484       0.421003      -2.372485   \n",
            "2         5.806011       5.683670      -1.534273      -2.161416   \n",
            "3         1.559581       3.465321      -3.780897      -2.193548   \n",
            "4         5.250901       4.851294       3.306210       0.633041   \n",
            "...            ...            ...            ...            ...   \n",
            "5995     -3.858124       3.363568       2.078245       1.287205   \n",
            "5996     -2.113923      -3.063531       1.679058       3.105633   \n",
            "5997      2.705203       4.998438      -1.345200      -2.848798   \n",
            "5998      4.097610       2.727679       4.371942      -1.408445   \n",
            "5999      1.182680       1.063027       4.814915       0.201977   \n",
            "\n",
            "      clip_image_13  clip_image_14  clip_image_15  clip_image_16  \\\n",
            "0          6.300031       2.440357       1.293873       2.334176   \n",
            "1         -4.521790       0.884794      -3.995284       1.764175   \n",
            "2          2.983468       3.672679       0.358206       4.153907   \n",
            "3          2.260830      -2.084341       7.765927       4.276506   \n",
            "4          1.075008       8.388914       2.260211      -0.102985   \n",
            "...             ...            ...            ...            ...   \n",
            "5995       0.872790       4.326141       4.557846       4.736424   \n",
            "5996      -3.054904      -3.227618       3.483353       1.631642   \n",
            "5997       2.100030       4.508914       1.920454      -0.335824   \n",
            "5998       2.156929       1.501626       4.507260       0.873775   \n",
            "5999      -1.697052       7.308976       5.483966       0.556292   \n",
            "\n",
            "      clip_image_17  clip_image_18  clip_image_19  clip_image_20  \\\n",
            "0         -0.025009      -3.001420       0.594858      -5.959559   \n",
            "1          7.028759      -5.766500       2.373970      -0.107337   \n",
            "2         -3.714557      -8.155042       4.098909      -6.760942   \n",
            "3         -6.128337      -0.996230      -2.225612       2.957552   \n",
            "4         -0.956734      -2.396960      -3.130991       0.161738   \n",
            "...             ...            ...            ...            ...   \n",
            "5995      -4.430945      -0.637953       1.137625      -0.822558   \n",
            "5996       1.295502      -0.536349      -2.667956      -4.419402   \n",
            "5997       2.398411      -5.382193      -1.806475       3.066839   \n",
            "5998      -3.063357      -5.833895      -1.822082      -7.316177   \n",
            "5999      -3.773351      -2.987863      -2.031127      -0.614685   \n",
            "\n",
            "      clip_image_21  clip_image_22  clip_image_23  clip_image_24  \\\n",
            "0          0.028671      -0.892282      -3.998239      -0.381524   \n",
            "1          0.276592       0.091839       1.396096      -1.712992   \n",
            "2         -2.131969       6.010195      -0.925578      -3.967703   \n",
            "3         -2.258433      -0.142533       1.131135      -3.023251   \n",
            "4         -4.433451       7.080541       6.781917       1.054753   \n",
            "...             ...            ...            ...            ...   \n",
            "5995      -2.671299      -0.262237      -2.131140      -1.811036   \n",
            "5996      -0.346246      -5.338219       0.384904      -0.426151   \n",
            "5997      -1.911613       0.903046       0.952211       0.612433   \n",
            "5998      -1.447593       2.305294      -3.460861      -5.985219   \n",
            "5999       3.966488       4.468195      -2.309009       1.041121   \n",
            "\n",
            "      clip_image_25  clip_image_26  clip_image_27  clip_image_28  \\\n",
            "0          0.052678       1.229928       3.164054       1.825187   \n",
            "1          8.415552      -0.183197      -0.189517      -7.883800   \n",
            "2          1.510304       6.201939      -3.167635       2.918796   \n",
            "3          5.214190      -1.472368       0.417079       4.119747   \n",
            "4          4.414879      -2.967798      -4.885529      -0.604337   \n",
            "...             ...            ...            ...            ...   \n",
            "5995       1.267778      -4.418065      -1.325860      -0.548784   \n",
            "5996       4.592220       6.982749      -4.076226       1.307857   \n",
            "5997       2.346562       0.571467      -0.307478      -2.971372   \n",
            "5998      -6.346098       0.067637       0.082675      -0.420809   \n",
            "5999       0.225505      -1.131613       4.387737       6.767066   \n",
            "\n",
            "      clip_image_29  clip_image_30  clip_image_31  clip_image_32  \\\n",
            "0         -3.178515      -4.004498      -3.130518      -6.980557   \n",
            "1         -3.240308      -6.010502       5.368279      -3.277953   \n",
            "2         -4.238300       0.343600       0.411298      -6.068138   \n",
            "3         -7.671129      -0.640037       1.149519      -3.901861   \n",
            "4         -1.703200      -2.572948      -1.846862      -0.267770   \n",
            "...             ...            ...            ...            ...   \n",
            "5995      -3.824927       1.569654       1.596612      -1.943911   \n",
            "5996      -1.000708      -4.603292       2.461070      -4.133725   \n",
            "5997      -3.272823      -0.975533       0.972716      -0.949510   \n",
            "5998      -6.286722       0.818234      -6.819942      -6.617105   \n",
            "5999      -5.726589      -0.529237      -2.888492       1.584463   \n",
            "\n",
            "      clip_image_33  clip_image_34  clip_image_35  clip_image_36  \\\n",
            "0         -4.085005      -1.995554      -0.490496      -0.691692   \n",
            "1          3.179211       6.284046       1.570059      -1.126706   \n",
            "2         -2.632722       4.109173      -0.147750       0.271324   \n",
            "3         -8.357272      -2.690158      -4.122417       0.726237   \n",
            "4         -2.654679       3.051244       8.091616      -0.619301   \n",
            "...             ...            ...            ...            ...   \n",
            "5995      -1.784388      -1.288009       1.344631      -0.821924   \n",
            "5996      -0.948802      -0.287015       4.662728       0.346671   \n",
            "5997      -3.489758       8.980438       2.774291       3.648221   \n",
            "5998       7.042678       7.118230      -0.234847      -4.035816   \n",
            "5999      -0.662423      10.300329       2.362855      -2.022400   \n",
            "\n",
            "      clip_image_37  clip_image_38  clip_image_39  clip_image_40  \\\n",
            "0          0.700804      -2.696913       0.774909       4.633677   \n",
            "1          1.962587      -1.216070       0.899840       0.641650   \n",
            "2          2.177874       4.722419      -3.838036       2.785053   \n",
            "3         -2.846461      -4.788843       0.635860       3.613524   \n",
            "4         -1.399123       2.727180       3.801440       2.624920   \n",
            "...             ...            ...            ...            ...   \n",
            "5995      -0.836081       0.639640       0.010962       1.720319   \n",
            "5996      -3.258559       3.418876       1.435048       1.354853   \n",
            "5997       3.339928       2.168290       0.321623       4.674705   \n",
            "5998      -2.340602      -0.594863       2.103055      -2.188943   \n",
            "5999      -5.111410       2.952902      -1.354189      -0.255112   \n",
            "\n",
            "      clip_image_41  clip_image_42  clip_image_43  clip_image_44  \\\n",
            "0         -3.572836      -7.388810       0.589991       1.286476   \n",
            "1         -3.628602       0.427923      -0.206312      -1.485272   \n",
            "2         -3.578431       1.209483      -0.441398      -0.575152   \n",
            "3         -1.522375      -6.399569       2.284990      -0.157831   \n",
            "4         -2.265844       2.186432      -2.042264       6.132937   \n",
            "...             ...            ...            ...            ...   \n",
            "5995      -0.604632       0.757174       0.114168      -0.355858   \n",
            "5996      -2.053361      -3.605525      -4.792673       4.677004   \n",
            "5997       0.402791       2.708516       0.281512      -0.860980   \n",
            "5998       0.549332      -5.066080       3.621312       0.845931   \n",
            "5999      -1.293678       0.646130       6.663448      -6.642067   \n",
            "\n",
            "      clip_image_45  clip_image_46  clip_image_47  clip_image_48  \\\n",
            "0          1.491494       2.827554      -2.092188      -1.407659   \n",
            "1          4.735631       8.747869       3.144079      -0.708694   \n",
            "2          2.239636       5.226481       3.567800      -0.616801   \n",
            "3          0.907080      -5.344403      -2.610601       0.511031   \n",
            "4          0.475198      -6.705288      -0.111932      -1.771181   \n",
            "...             ...            ...            ...            ...   \n",
            "5995      -0.318937       3.896575      -0.846084       1.740777   \n",
            "5996      -2.175528      -4.308213      -2.247660      -1.178035   \n",
            "5997      -1.707968      -1.582835       3.618495       1.516086   \n",
            "5998      -0.558795       0.812150      -3.382272       0.742354   \n",
            "5999      -3.889639       5.742900      -1.699473       3.060733   \n",
            "\n",
            "      clip_image_49  clip_image_50  clip_image_51  clip_image_52  \\\n",
            "0         -3.117031       2.076108       2.147154       1.318724   \n",
            "1         -2.412620       2.311351      -1.601996      -3.415303   \n",
            "2          0.284296       3.494307       0.380542       3.424366   \n",
            "3         -3.387272       4.094980       1.691749      -1.597546   \n",
            "4         -2.388272       1.025672      -3.942803       4.944152   \n",
            "...             ...            ...            ...            ...   \n",
            "5995       2.023945       2.624649       2.005535      -2.547533   \n",
            "5996       1.489636       4.185668      -4.903195      -1.326104   \n",
            "5997      -0.797483       3.973813       2.513352      -3.185746   \n",
            "5998      -6.672816       2.791419      -2.270457      -5.306664   \n",
            "5999      -5.382933       1.414612      -4.656690      -2.303444   \n",
            "\n",
            "      clip_image_53  clip_image_54  clip_image_55  clip_image_56  \\\n",
            "0          3.255131       2.093521      -1.385321      -1.927785   \n",
            "1         -5.209023       2.103009       1.402912      -2.711465   \n",
            "2          6.342007      -1.738723      -3.265016      -0.550955   \n",
            "3          3.091987       4.405514      -4.114423       3.044315   \n",
            "4         -2.698531      -1.289001       0.384673       2.381787   \n",
            "...             ...            ...            ...            ...   \n",
            "5995      -3.566514       0.856527       2.816064       0.299157   \n",
            "5996      -3.906287       1.185505      -4.633943       1.973968   \n",
            "5997      -4.397709      -0.687039      -0.761289       1.227947   \n",
            "5998       4.382967       5.842946      -4.371202      -1.857106   \n",
            "5999      -3.873078      -2.091204       1.437683      -1.675974   \n",
            "\n",
            "      clip_image_57  clip_image_58  clip_image_59  clip_image_60  \\\n",
            "0          5.646677       2.234275      -2.965304      -3.547490   \n",
            "1          1.272872      -1.764430      -4.083404       1.816782   \n",
            "2          0.472543      -4.632603      -2.925310      -8.540154   \n",
            "3          2.070950      -1.132296      -3.358391      -3.532216   \n",
            "4          0.329097      -2.527158       2.521557      -7.863391   \n",
            "...             ...            ...            ...            ...   \n",
            "5995      -1.010505      -0.144946       1.905886       0.932721   \n",
            "5996      -0.297961      -0.636376      -2.160534      -3.908231   \n",
            "5997       4.290144      -5.432048      -0.201957      -7.294989   \n",
            "5998      -3.490227       0.501280      -5.907363      -9.196058   \n",
            "5999       1.274267       2.202289      -1.806643      -3.840505   \n",
            "\n",
            "      clip_image_61  clip_image_62  clip_image_63  clip_image_64  \\\n",
            "0          1.593314       4.875883       0.916225       5.685530   \n",
            "1         -6.040010       2.226233      -2.720489       7.111602   \n",
            "2          2.112641       1.669270       0.474036       6.988175   \n",
            "3          0.245891      -1.664223       3.306269       5.250382   \n",
            "4          1.785247       1.606648      -2.293601       3.820966   \n",
            "...             ...            ...            ...            ...   \n",
            "5995      -1.739696       1.862409      -0.608985       3.684211   \n",
            "5996       3.675543       4.256686       3.186467      -2.754523   \n",
            "5997      -0.954769       1.995298       2.281348      -0.562774   \n",
            "5998       2.294803       3.092091       6.522589       5.225641   \n",
            "5999       5.085948       3.342656      -0.882992      -1.716289   \n",
            "\n",
            "      clip_image_65  clip_image_66  clip_image_67  clip_image_68  \\\n",
            "0         -3.026823      -3.386492       1.565242       4.843231   \n",
            "1         -2.587331       1.552258      -0.616314       0.922062   \n",
            "2          0.670214      -2.141905      -0.982637       1.510930   \n",
            "3          3.695205       2.076060      -1.730431       3.194087   \n",
            "4         -3.321380       3.022894      -3.836831      -6.578619   \n",
            "...             ...            ...            ...            ...   \n",
            "5995       2.063636       1.657713       2.220740       2.121955   \n",
            "5996      -3.438288      -0.059246      -1.839064       3.321495   \n",
            "5997       1.492170       4.186573      -4.313439       0.450738   \n",
            "5998      -3.608745       4.869795       0.515273       6.765202   \n",
            "5999       5.847919       4.408393       6.341728       4.758242   \n",
            "\n",
            "      clip_image_69  clip_image_70  clip_image_71  clip_image_72  \\\n",
            "0          6.291467       1.375068       3.733443      -3.219431   \n",
            "1         -3.717678       2.174673      12.052320      -5.051842   \n",
            "2         -3.984322       1.924359       3.826350      -0.256640   \n",
            "3         -3.798728       1.110650       5.944233      -0.670382   \n",
            "4          2.327892      -3.422129       5.786705       0.713179   \n",
            "...             ...            ...            ...            ...   \n",
            "5995       2.339440      -1.001001       2.550926       0.136336   \n",
            "5996      -4.398179       1.347687       6.215875       3.079955   \n",
            "5997       2.337845      -4.573628       2.718102      -6.007013   \n",
            "5998       6.844663      -5.832213      -1.420836       4.830903   \n",
            "5999      -2.390215       1.231163      -0.101698       8.460214   \n",
            "\n",
            "      clip_image_73  clip_image_74  clip_image_75  clip_image_76  \\\n",
            "0          4.771996       1.304630       1.527722      -0.031068   \n",
            "1         -0.611351       0.299247      -2.850222      -6.476068   \n",
            "2          2.731824      -4.525648       0.734230       1.939748   \n",
            "3          1.886892       4.701560      -1.636611      -0.572672   \n",
            "4         -5.860141       2.431231       1.254816      -5.237428   \n",
            "...             ...            ...            ...            ...   \n",
            "5995      -0.219769      -2.987144      -2.678818      -3.260458   \n",
            "5996       3.504461      -4.708607      -2.009542      -1.904893   \n",
            "5997       2.816764      -4.600475      -5.982434      -8.669260   \n",
            "5998      -3.909766       0.808822      -3.581157       1.877234   \n",
            "5999       0.373098       6.127988       5.108861       2.950332   \n",
            "\n",
            "      clip_image_77  clip_image_78  clip_image_79  clip_image_80  \\\n",
            "0          0.460975       0.477959      -1.816367       1.644809   \n",
            "1          1.280918      -8.389793       3.560090       1.843125   \n",
            "2          1.785125       6.567302      -8.792311      -3.301867   \n",
            "3         -0.620380       1.042894      -4.277131       0.993512   \n",
            "4          3.264718      -0.195372      -4.186841      -1.111887   \n",
            "...             ...            ...            ...            ...   \n",
            "5995      -0.287464      -1.577493      -2.643017      -1.245100   \n",
            "5996      -0.470075      -1.230816       0.287794      -3.360972   \n",
            "5997      -1.991651      -2.479151      -2.291595      -0.920333   \n",
            "5998       0.496425       0.591231      -7.214633      -3.551597   \n",
            "5999      -1.139544       0.712484      -1.271190       0.891834   \n",
            "\n",
            "      clip_image_81  clip_image_82  clip_image_83  clip_image_84  \\\n",
            "0         -4.038803      -1.225854       2.353528       0.826358   \n",
            "1          5.926933       0.691853       5.322197       2.653723   \n",
            "2         -4.831530      -3.714109       4.391306      -2.546748   \n",
            "3         -2.732041       0.437983      -3.926329      -2.862275   \n",
            "4         -1.916613      -2.937611      -2.122275      -1.035866   \n",
            "...             ...            ...            ...            ...   \n",
            "5995       2.253739      -0.659578       0.718711      -1.190655   \n",
            "5996      -4.819274       2.231743      -0.964912      -4.333867   \n",
            "5997      -3.323278      -3.948065      -5.332014      -4.601611   \n",
            "5998      -6.314506       6.330960       1.089504       3.940448   \n",
            "5999      -3.267863       3.423227       2.722813      -1.492278   \n",
            "\n",
            "      clip_image_85  clip_image_86  clip_image_87  clip_image_88  \\\n",
            "0         -3.012845       2.537105      -3.693861      -0.932276   \n",
            "1         -2.533836      -5.312016      -0.124686       0.136547   \n",
            "2         -6.462832       9.091709      -2.724827       0.738639   \n",
            "3          2.205158       2.773351      -1.437974      -0.266821   \n",
            "4          1.326022       0.241264       0.858755      -1.288537   \n",
            "...             ...            ...            ...            ...   \n",
            "5995       4.160454       0.049246       1.146027       0.203226   \n",
            "5996      -3.105371       4.592746       2.076004       4.356963   \n",
            "5997       1.033846       3.275908       2.236827       3.640022   \n",
            "5998      -8.744033      -0.925536      -0.131281      -0.303190   \n",
            "5999      -7.912812      -1.481443      -0.327537      -6.497621   \n",
            "\n",
            "      clip_image_89  clip_image_90  clip_image_91  clip_image_92  \\\n",
            "0          2.525835      -3.734750       4.640288       0.866274   \n",
            "1         -5.055036      -4.933352      -0.759696      -0.053665   \n",
            "2         -0.512947      -1.459718      10.941281      -5.518162   \n",
            "3          1.157506      -3.010806       5.351568       3.715339   \n",
            "4          1.800190      -2.398818       5.584200      -3.482136   \n",
            "...             ...            ...            ...            ...   \n",
            "5995       1.457544       1.169163      -0.770510       1.351910   \n",
            "5996       0.139129      -0.877516      -3.709163      -6.529412   \n",
            "5997       5.903749       4.681349       4.249328      -1.074857   \n",
            "5998      -0.462336       0.994988       2.448810      -1.085215   \n",
            "5999      -3.282823      -6.530525       1.085461       2.732156   \n",
            "\n",
            "      clip_image_93  clip_image_94  clip_image_95  clip_image_96  \\\n",
            "0         -0.103089      -0.299943       1.032972       7.642287   \n",
            "1          2.186507      -3.677165       1.903361      -4.190686   \n",
            "2         -3.163246       4.793086      -2.343277      -3.654147   \n",
            "3          4.457774      -0.266179      -2.745755      -3.170446   \n",
            "4         -2.863256      -2.253269      -5.303891      -1.698819   \n",
            "...             ...            ...            ...            ...   \n",
            "5995       2.026149      -0.799794       1.123429      -4.053383   \n",
            "5996      -1.415321      -2.511316      -5.557761       3.066089   \n",
            "5997       3.703660      -1.753654       0.496017      -3.561715   \n",
            "5998       0.434879       1.104247      -1.316810      -4.735951   \n",
            "5999      -2.392130       0.737198      -4.442612      -2.844195   \n",
            "\n",
            "      clip_image_97  clip_image_98  ...  clip_image_412  clip_image_413  \\\n",
            "0          3.183475      -2.446629  ...       -1.202353       -0.019905   \n",
            "1         -3.628613      -3.801830  ...        1.368981       -0.273651   \n",
            "2          2.298727       4.231396  ...        0.469923        2.658174   \n",
            "3          5.925314       7.395350  ...        3.813169        2.829139   \n",
            "4          2.693688       0.036577  ...        3.200191       -1.722765   \n",
            "...             ...            ...  ...             ...             ...   \n",
            "5995       1.838000      -0.545353  ...       -1.614189        0.170171   \n",
            "5996      -8.195215       1.038952  ...        0.384483        0.958773   \n",
            "5997       0.247815      -6.564673  ...        7.928899        0.370627   \n",
            "5998      -0.205991       0.911570  ...        1.912074       -0.271969   \n",
            "5999      -0.269861      -5.907199  ...       -2.340359       -3.083295   \n",
            "\n",
            "      clip_image_414  clip_image_415  clip_image_416  clip_image_417  \\\n",
            "0          -3.348872       -0.263719        2.398532       -1.190099   \n",
            "1           2.133685        0.167691       -6.198837       -2.579003   \n",
            "2          -5.123994       -0.712479        0.750921       -0.298069   \n",
            "3          -4.324001        3.969455        1.782670        1.898716   \n",
            "4          -4.158237        6.314064       -1.842785        2.817057   \n",
            "...              ...             ...             ...             ...   \n",
            "5995       -0.520320        1.971257        1.347337        0.442242   \n",
            "5996        2.863483       -1.944049        1.766307        1.765949   \n",
            "5997       -2.577158       -0.054626       -0.773173       -1.806980   \n",
            "5998       -0.796111       -0.439191       -0.070081        1.041948   \n",
            "5999        3.041857       -0.982569       -2.008367       -2.948285   \n",
            "\n",
            "      clip_image_418  clip_image_419  clip_image_420  clip_image_421  \\\n",
            "0           1.280706        2.867555        2.784438        1.142036   \n",
            "1          -2.270088       -4.428472        0.556724        4.622194   \n",
            "2          -1.881744        2.189980        0.523823        3.103030   \n",
            "3          -1.443307       -1.699110       -1.411492        1.805770   \n",
            "4           1.822454       -3.373040        2.672660       -0.506079   \n",
            "...              ...             ...             ...             ...   \n",
            "5995       -1.935429        0.748131        0.965717        0.199406   \n",
            "5996       -0.160178       -1.039921        0.362501        2.128639   \n",
            "5997       -1.331676        4.824361       -0.174131        2.750220   \n",
            "5998       -0.763939       -3.196446       -0.297402        3.303507   \n",
            "5999        4.204154        5.032967       -1.162689        1.495285   \n",
            "\n",
            "      clip_image_422  clip_image_423  clip_image_424  clip_image_425  \\\n",
            "0           0.681206       -1.607894       -2.258037       -0.586847   \n",
            "1          -0.675201        3.096726       -0.116593        7.061149   \n",
            "2          -2.675730       -2.188437       -0.410551        0.335032   \n",
            "3           4.772775       -1.151877       -5.026154       -0.877337   \n",
            "4          -0.505097       -0.361127       -2.738445        1.883433   \n",
            "...              ...             ...             ...             ...   \n",
            "5995        2.459963       -0.243151       -1.083959        0.053714   \n",
            "5996       -1.563833       -2.695940       -4.724110        0.991979   \n",
            "5997        0.763020        2.888916       -7.393449        8.279547   \n",
            "5998       -2.085183       -0.719244        0.178966        3.287999   \n",
            "5999        1.639420        0.757733       -6.103760        1.758019   \n",
            "\n",
            "      clip_image_426  clip_image_427  clip_image_428  clip_image_429  \\\n",
            "0           1.376048       -8.132542        3.176076       -4.518328   \n",
            "1           4.969520        1.060575        5.346279       -3.823023   \n",
            "2          -2.831256       -2.750628        6.837757       -3.015104   \n",
            "3          -4.156026       -3.911001        1.629352        1.342045   \n",
            "4           3.003295       -3.018280        4.916942       -1.131870   \n",
            "...              ...             ...             ...             ...   \n",
            "5995       -0.536650        0.774255       -1.612691        0.971349   \n",
            "5996       -0.448992        4.871785       -1.459917       -0.697070   \n",
            "5997       -0.863691       -4.977382        5.319421       -3.136602   \n",
            "5998       -3.342651       -6.006487       -1.513586       -0.228873   \n",
            "5999        3.595734        1.768114       -2.825018        5.750209   \n",
            "\n",
            "      clip_image_430  clip_image_431  clip_image_432  clip_image_433  \\\n",
            "0           2.040568       -4.608506        0.039120        1.200343   \n",
            "1          -2.349740       -0.144194       -4.565019        0.157324   \n",
            "2          -3.213452       -6.578628       -1.204733       -1.819501   \n",
            "3          -0.337445       -2.431278       -0.483851       -2.972587   \n",
            "4          -2.542178        1.506108        3.999477       -3.243114   \n",
            "...              ...             ...             ...             ...   \n",
            "5995       -0.598415       -0.344383       -0.528759        2.272234   \n",
            "5996        4.221495        2.202928        0.578351        1.177238   \n",
            "5997       -1.145480        2.006886        3.105935       -0.666642   \n",
            "5998        4.355743        2.073926       -2.102979        3.757331   \n",
            "5999        2.160612       -4.550673       -1.805826       -1.304980   \n",
            "\n",
            "      clip_image_434  clip_image_435  clip_image_436  clip_image_437  \\\n",
            "0           1.339927        0.957403        3.222165       -1.710433   \n",
            "1           3.194610        2.500279        0.074707       -1.398789   \n",
            "2          -3.023972        5.098950       -0.216870       -1.950143   \n",
            "3          -0.089499        7.876258       -1.318682       -7.478484   \n",
            "4          -1.168509       -3.954563        4.453665       -6.412202   \n",
            "...              ...             ...             ...             ...   \n",
            "5995       -2.373415        1.172889       -1.299065        0.405238   \n",
            "5996        0.725063       -8.345047       -0.058149       -0.822803   \n",
            "5997        3.128866        4.518476        6.380009       -3.147164   \n",
            "5998       -4.874287        6.151427       -2.951493       -6.725017   \n",
            "5999       -2.369049        3.888334       -6.103431       -1.517171   \n",
            "\n",
            "      clip_image_438  clip_image_439  clip_image_440  clip_image_441  \\\n",
            "0          -2.231214       -3.636089       -0.831331        1.342296   \n",
            "1           0.874461        4.857463       -3.898254       -2.573545   \n",
            "2           1.052485       -2.290647        2.782355        1.439950   \n",
            "3           2.500023       -4.494443        6.791757        4.790170   \n",
            "4          -4.554678        0.942271       -3.389742       -0.091594   \n",
            "...              ...             ...             ...             ...   \n",
            "5995        1.458877       -0.507922        2.914145        1.912035   \n",
            "5996        2.408696        6.526813       -3.691109        3.567000   \n",
            "5997       -5.510595        2.323481       -3.485126       -3.045219   \n",
            "5998       -3.301607       -0.210027        5.068227        2.536633   \n",
            "5999       -2.218157       -2.763596        0.492649        4.626003   \n",
            "\n",
            "      clip_image_442  clip_image_443  clip_image_444  clip_image_445  \\\n",
            "0           9.676061       -0.633616       -4.097692        4.361667   \n",
            "1          -3.835626        3.067296        3.508115        5.850517   \n",
            "2           0.417449       -2.296446        0.381818       10.312609   \n",
            "3           0.548594       -3.383085       -2.458122        0.783760   \n",
            "4           0.117950        0.137201       -0.473090       -0.505746   \n",
            "...              ...             ...             ...             ...   \n",
            "5995       -0.997830        1.709402        0.207188       -1.311684   \n",
            "5996        2.190912       -2.808581       -7.549329        1.615087   \n",
            "5997        2.630233       -0.541467       -3.079432        7.161747   \n",
            "5998       -0.463827        3.631715        0.354000       -5.085061   \n",
            "5999       -2.303477        5.987428        4.812104        2.506278   \n",
            "\n",
            "      clip_image_446  clip_image_447  clip_image_448  clip_image_449  \\\n",
            "0           0.700089        3.496278        0.772786       -3.771135   \n",
            "1           2.605108       -1.492817        6.207807       -0.031709   \n",
            "2          -0.440211        1.047094        7.360022       -1.132055   \n",
            "3          -1.230135        5.151164        0.995557       -1.568444   \n",
            "4          -0.328372        5.154570        2.206547       -1.470805   \n",
            "...              ...             ...             ...             ...   \n",
            "5995        2.691570        0.936421       -0.370394       -2.337551   \n",
            "5996       -1.531280        0.341802        5.477202       -3.773139   \n",
            "5997        0.362692        9.206708        0.799539       -4.155180   \n",
            "5998       -1.254478        5.941893       -0.245564        2.212009   \n",
            "5999       -4.762185        1.317215       -2.679112        0.926186   \n",
            "\n",
            "      clip_image_450  clip_image_451  clip_image_452  clip_image_453  \\\n",
            "0           6.097189        4.838702        4.623739        1.916049   \n",
            "1           0.575788        0.328470       -1.838398        2.845416   \n",
            "2           1.958899        0.806947       -3.432973        1.241184   \n",
            "3           2.536075        3.439586       -2.350400        0.637007   \n",
            "4           5.915499        0.169599       -1.817268       -5.092687   \n",
            "...              ...             ...             ...             ...   \n",
            "5995        1.291923       -3.109288       -0.463587        3.206804   \n",
            "5996        0.376734        0.581831        6.026303        4.751626   \n",
            "5997        4.240903        1.066649        7.398411        1.220211   \n",
            "5998        5.547743        5.465971       -1.177392       -2.769740   \n",
            "5999       -2.636862        4.071852        0.050221       -1.670723   \n",
            "\n",
            "      clip_image_454  clip_image_455  clip_image_456  clip_image_457  \\\n",
            "0          -0.627807        2.750296        2.599225       -2.559900   \n",
            "1           0.098111       -0.405520        0.623044       -4.784131   \n",
            "2           2.085619        2.946624       -3.125819       -1.790708   \n",
            "3          -2.563215        6.179547        0.622001        2.664710   \n",
            "4          -3.609964       -0.294702        2.132504        1.009709   \n",
            "...              ...             ...             ...             ...   \n",
            "5995       -0.205915        5.152183       -3.009116       -1.081888   \n",
            "5996       -0.549163        1.598151        1.264175       -0.131426   \n",
            "5997       -5.089825        4.239024        3.172751       -1.820551   \n",
            "5998       -2.002967        6.311922        0.821418       -3.244834   \n",
            "5999       -6.586199        5.060594        2.898832       -2.462270   \n",
            "\n",
            "      clip_image_458  clip_image_459  clip_image_460  clip_image_461  \\\n",
            "0          -3.886900       -0.687714        0.800747        0.419192   \n",
            "1           3.429904       -0.513196       -2.530635        2.831507   \n",
            "2          -4.973253        2.922071       -1.708047        4.369500   \n",
            "3          -5.802470        6.831856       -1.604713       -1.855198   \n",
            "4          -4.881789       -4.185452       -7.017005       -2.323946   \n",
            "...              ...             ...             ...             ...   \n",
            "5995        2.625559        1.582549       -2.734180        0.975547   \n",
            "5996       -4.139955        5.013049       -1.921221        1.956259   \n",
            "5997        0.993578        3.958335       -6.162344       -4.880236   \n",
            "5998       -4.958569        2.687156        3.175603       -0.293633   \n",
            "5999        3.365390        5.169724        0.074694        0.014304   \n",
            "\n",
            "      clip_image_462  clip_image_463  clip_image_464  clip_image_465  \\\n",
            "0          -3.459361       -1.937610        3.058250        1.714612   \n",
            "1           0.613992       -1.804901       -4.484828        0.958425   \n",
            "2          -1.560992       -9.427002        1.105994        2.383062   \n",
            "3           3.414812       -5.153232       -4.547230       -2.659000   \n",
            "4          -3.720616       -0.354884       -4.355737       -0.580146   \n",
            "...              ...             ...             ...             ...   \n",
            "5995       -2.285141        0.840801       -0.972080       -2.825653   \n",
            "5996       -1.273176        1.290273        0.581539       -1.944810   \n",
            "5997        0.573135       -3.276655       -1.175818       -2.673901   \n",
            "5998        6.668832       -4.047385       -0.134974       -5.929537   \n",
            "5999       -3.412004        2.751998       -3.172225        3.874483   \n",
            "\n",
            "      clip_image_466  clip_image_467  clip_image_468  clip_image_469  \\\n",
            "0          -4.275348       -1.625414       -1.493094        1.018679   \n",
            "1           0.339261        5.061570        3.780036       -0.942897   \n",
            "2           0.394803        0.892148       -3.856686       -3.300114   \n",
            "3          -1.262074        3.765252        5.548649       -6.160691   \n",
            "4           0.980618        2.474323        7.257541       -2.997562   \n",
            "...              ...             ...             ...             ...   \n",
            "5995       -1.860450       -1.694077        3.368192        0.604018   \n",
            "5996        2.800476       -0.483745        2.673184        2.904408   \n",
            "5997       -2.376024        0.503945       -0.986551       -2.128698   \n",
            "5998        2.727574        2.596601        2.127300        5.090490   \n",
            "5999       -1.833432        2.506810        1.114742        3.803523   \n",
            "\n",
            "      clip_image_470  clip_image_471  clip_image_472  clip_image_473  \\\n",
            "0           6.640020        2.399134       -1.428442       -2.494079   \n",
            "1           1.921866        1.801120        1.686599        0.714130   \n",
            "2           4.158259        1.310114       -0.515253        0.636884   \n",
            "3           2.753455        2.786308        1.015672        0.079846   \n",
            "4           4.858592        0.241672        2.546600        0.272228   \n",
            "...              ...             ...             ...             ...   \n",
            "5995       -0.013491        1.159565       -0.503216       -4.516966   \n",
            "5996       -4.126674        1.611574        2.545951        4.860071   \n",
            "5997        1.582608       -1.044565        3.031302       -1.183865   \n",
            "5998        2.064456        1.500865       -4.451548        3.211162   \n",
            "5999        0.995488       -4.427687       -0.803073        1.995108   \n",
            "\n",
            "      clip_image_474  clip_image_475  clip_image_476  clip_image_477  \\\n",
            "0          -4.283396       -1.393723        0.129797       -2.255130   \n",
            "1           1.265826        2.439607        9.036980       -0.436801   \n",
            "2           1.166962        4.381408       -6.341459       -1.213742   \n",
            "3           1.293367        1.093643       -6.952247        3.164289   \n",
            "4          -6.369719        0.860993       -4.363481        0.144460   \n",
            "...              ...             ...             ...             ...   \n",
            "5995        1.452504        1.543382        1.956529        0.621511   \n",
            "5996        1.881841       -2.312121       -8.106580       -4.124059   \n",
            "5997        0.348050        5.587328       -9.919691        1.121103   \n",
            "5998        1.250566       -4.624806        6.691359       -3.093044   \n",
            "5999       -8.460270        6.260839        6.107878       -7.169533   \n",
            "\n",
            "      clip_image_478  clip_image_479  clip_image_480  clip_image_481  \\\n",
            "0          -3.090926       -5.904205        0.886993        1.606658   \n",
            "1          -1.239309       -2.904341        2.721039        3.116531   \n",
            "2           2.263398       -3.632669       -0.095975       -7.762703   \n",
            "3          -0.875522       -5.585590       -2.031627        2.060749   \n",
            "4          -2.409074       -4.206740       -3.768902        0.797740   \n",
            "...              ...             ...             ...             ...   \n",
            "5995       -0.116733       -2.709555       -0.223606        1.428233   \n",
            "5996        3.452854        0.485151        1.443934       -3.645444   \n",
            "5997       -0.684552       -5.986154       -0.073577       -3.546996   \n",
            "5998       -3.400582       -3.130879       -3.439909        6.213377   \n",
            "5999        2.342696        3.341504       -4.157550        3.389847   \n",
            "\n",
            "      clip_image_482  clip_image_483  clip_image_484  clip_image_485  \\\n",
            "0          -0.988857       -2.470896       -0.690805       -1.727354   \n",
            "1           1.484618       -2.950960        1.459301        2.817100   \n",
            "2          -1.612009        2.400035       -2.993840       -6.936675   \n",
            "3          -2.859334       -0.194021        2.409939        0.853439   \n",
            "4          -0.274458       -0.877848        1.186080       -2.091899   \n",
            "...              ...             ...             ...             ...   \n",
            "5995       -1.352300       -0.411573        0.064050       -2.073576   \n",
            "5996       -4.244631       -2.293178        2.940616        0.001744   \n",
            "5997       -0.555466        2.596328       -0.617308        0.167411   \n",
            "5998        0.804300        2.484668        1.524709       -0.432860   \n",
            "5999        0.915113        2.978178       -1.170003       -2.442348   \n",
            "\n",
            "      clip_image_486  clip_image_487  clip_image_488  clip_image_489  \\\n",
            "0          -0.525948        2.455478        5.110977        5.619618   \n",
            "1          -0.370856       -4.417009        4.512398       -0.213102   \n",
            "2          -9.994084       -2.256247        4.821642       -1.068084   \n",
            "3          -4.247001       -1.105647       -3.835636        0.904542   \n",
            "4           4.024549       -0.940199       -2.753562        8.434222   \n",
            "...              ...             ...             ...             ...   \n",
            "5995       -3.371009       -3.768331        2.079581        2.338113   \n",
            "5996       -5.293284       -0.970863        2.908211        3.389725   \n",
            "5997        3.402410        2.031334       -0.869546        6.905703   \n",
            "5998        0.682179        1.053284        4.324862        1.674890   \n",
            "5999       -4.835597        1.320312        4.902082       -3.580936   \n",
            "\n",
            "      clip_image_490  clip_image_491  clip_image_492  clip_image_493  \\\n",
            "0          -4.598511       -4.928740       -4.909928        1.362142   \n",
            "1           1.572392        6.622856        2.289489       -3.821689   \n",
            "2          -3.070409        0.692808        1.891599        1.370237   \n",
            "3           1.846485       -1.524981       -2.897870        3.118355   \n",
            "4          -2.141435       -1.455890       -3.709040        5.098984   \n",
            "...              ...             ...             ...             ...   \n",
            "5995        4.793808        0.285545        2.436315       -0.966933   \n",
            "5996        0.049645        9.110878        0.901565       -0.379883   \n",
            "5997       -2.066169        1.411864       -3.356136        0.069186   \n",
            "5998        0.155754        3.712796       -2.035045       -6.033574   \n",
            "5999       -4.693681        1.241341        0.336769        4.161892   \n",
            "\n",
            "      clip_image_494  clip_image_495  clip_image_496  clip_image_497  \\\n",
            "0           0.656026        0.823317       -4.011886        7.321919   \n",
            "1          -1.903242        1.178389       -1.795413        0.983041   \n",
            "2           5.378594        5.426473       -2.015295        3.215078   \n",
            "3          -3.876658        2.187256       -0.184319        4.824523   \n",
            "4          -0.329652        5.106952        1.007481       -2.066504   \n",
            "...              ...             ...             ...             ...   \n",
            "5995       -2.325462        0.419090       -1.032138       -0.169772   \n",
            "5996       -2.425252       -0.406357        0.243879       -0.629219   \n",
            "5997       -0.396282        4.016253       -4.460679       -5.816559   \n",
            "5998        3.960191       -6.083651        0.676499        4.188577   \n",
            "5999       -4.090679       -5.180970        2.147628       -1.266724   \n",
            "\n",
            "      clip_image_498  clip_image_499  clip_image_500  clip_image_501  \\\n",
            "0           1.777131       -0.097441       -2.151989        5.646163   \n",
            "1          -1.717509        1.976005       -2.110409        1.314587   \n",
            "2           4.274004        0.803512        4.165598        6.818825   \n",
            "3           0.458177        1.303773       -0.225150       -2.065155   \n",
            "4          -4.953811        1.972346       -4.780399       -4.294651   \n",
            "...              ...             ...             ...             ...   \n",
            "5995        0.733480       -0.580993        0.615960       -1.017786   \n",
            "5996        0.260517        2.079905      -10.093297        0.382886   \n",
            "5997       -2.829077       -0.937115        1.422691        0.179187   \n",
            "5998        2.537754        1.671527        2.218775        1.458170   \n",
            "5999        8.470297        1.543212        6.837752       -0.198386   \n",
            "\n",
            "      clip_image_502  clip_image_503  clip_image_504  clip_image_505  \\\n",
            "0          -1.132266       -5.850366        3.695666       -7.629457   \n",
            "1           6.204115        3.563266        0.024531       -2.189493   \n",
            "2          -5.453631        0.290701       -1.368943       -6.580788   \n",
            "3          -0.829034       -7.050450        0.158030       -2.052691   \n",
            "4           0.859861       -7.612486       -1.422058       -6.323627   \n",
            "...              ...             ...             ...             ...   \n",
            "5995       -1.013135        0.098500        3.182159       -2.159686   \n",
            "5996       -0.996079       -1.826497       -0.428396        1.025105   \n",
            "5997       -2.872962       -0.752054        0.594697       -4.408225   \n",
            "5998       -7.015323       -6.336792        4.821933        0.724051   \n",
            "5999       -4.742533        0.467709        2.864677       -5.303444   \n",
            "\n",
            "      clip_image_506  clip_image_507  clip_image_508  clip_image_509  \\\n",
            "0           2.811038        1.403811       -2.392069        0.264078   \n",
            "1           4.173116       -0.863237       -9.705874        6.496695   \n",
            "2           3.373815        2.492756        6.228702       -3.939885   \n",
            "3          -1.364797       -1.574390        2.701284        0.481541   \n",
            "4          -2.360306        3.946715        0.411336       -3.050467   \n",
            "...              ...             ...             ...             ...   \n",
            "5995        0.532531        2.125196        1.582122        1.795995   \n",
            "5996       -2.030325        1.333187       -1.159514        1.253345   \n",
            "5997       -3.756935       -0.427659       -4.500473        0.467981   \n",
            "5998       -1.353085       -4.738773        1.472338        1.448965   \n",
            "5999       -1.763232        2.268360        0.620333        4.659191   \n",
            "\n",
            "      clip_image_510  clip_image_511  \n",
            "0          -1.189055        0.417515  \n",
            "1          -4.950420       -5.325003  \n",
            "2           1.373003       -0.691991  \n",
            "3          -1.148393        3.186684  \n",
            "4           2.144588       -1.025290  \n",
            "...              ...             ...  \n",
            "5995        3.297585        1.850948  \n",
            "5996       -2.665408       -3.454803  \n",
            "5997        5.502528        5.444071  \n",
            "5998       -4.151205       -2.771466  \n",
            "5999       -7.370193       -2.816253  \n",
            "\n",
            "[6000 rows x 513 columns]\n"
          ]
        }
      ],
      "source": [
        "print(image_feature)"
      ]
    },
    {
      "cell_type": "code",
      "execution_count": null,
      "metadata": {
        "id": "-KditMK0ZDTW"
      },
      "outputs": [],
      "source": [
        "image_feature = image_feature.drop([\"index\"], axis=1)"
      ]
    },
    {
      "cell_type": "code",
      "execution_count": null,
      "metadata": {
        "id": "vXHqKW1-ZQyW",
        "colab": {
          "base_uri": "https://localhost:8080/"
        },
        "outputId": "0fa90022-b60a-4b9f-a303-b2ff4fba9a8b"
      },
      "outputs": [
        {
          "output_type": "stream",
          "name": "stdout",
          "text": [
            "      clip_image_0  clip_image_1  clip_image_2  clip_image_3  clip_image_4  \\\n",
            "0        -4.281466      3.277126      3.281017     -5.307654      0.795318   \n",
            "1        -3.514833     -3.176367      3.058226      0.847838      3.406819   \n",
            "2        -2.830554      3.938714      7.258020     -2.919314     -0.952339   \n",
            "3        -6.937390      0.223198      6.307675     -3.888863      1.586925   \n",
            "4        -2.757272     -7.686695      2.864905     -8.172541     -0.045483   \n",
            "...            ...           ...           ...           ...           ...   \n",
            "5995      1.836371      1.182519      0.457679     -4.365069     -4.488608   \n",
            "5996      2.727795      2.558982      6.536792     -7.300496     -5.165848   \n",
            "5997     -0.481079      1.797865     -3.596152     -5.357271      2.775059   \n",
            "5998     -1.329463      0.870131      2.792527      0.986721      1.119683   \n",
            "5999     -0.869813      3.248981     -1.239307     -2.873646      2.440687   \n",
            "\n",
            "      clip_image_5  clip_image_6  clip_image_7  clip_image_8  clip_image_9  \\\n",
            "0        -0.558152     -1.636442     -3.095061      0.250943      3.755300   \n",
            "1        -7.170070      0.863656     -0.280225      0.932081      0.949935   \n",
            "2         0.458474      1.072817     -0.618579     -2.357728      5.806011   \n",
            "3        -1.956181     -2.655483      4.762391      1.603231      1.559581   \n",
            "4        -2.648792     -1.347143     -4.364135     -0.513442      5.250901   \n",
            "...            ...           ...           ...           ...           ...   \n",
            "5995     -2.164310     -1.366260     -0.905468      3.293349     -3.858124   \n",
            "5996      0.266667     -0.996878     -0.524967     -3.501327     -2.113923   \n",
            "5997      0.619189     -4.022978      1.846714      0.352827      2.705203   \n",
            "5998     -6.421226      2.497910      3.665287     -1.427365      4.097610   \n",
            "5999     -5.006104      4.452365     -3.647640     -2.095101      1.182680   \n",
            "\n",
            "      clip_image_10  clip_image_11  clip_image_12  clip_image_13  \\\n",
            "0          0.733966      -2.837114      -4.069175       6.300031   \n",
            "1          1.719484       0.421003      -2.372485      -4.521790   \n",
            "2          5.683670      -1.534273      -2.161416       2.983468   \n",
            "3          3.465321      -3.780897      -2.193548       2.260830   \n",
            "4          4.851294       3.306210       0.633041       1.075008   \n",
            "...             ...            ...            ...            ...   \n",
            "5995       3.363568       2.078245       1.287205       0.872790   \n",
            "5996      -3.063531       1.679058       3.105633      -3.054904   \n",
            "5997       4.998438      -1.345200      -2.848798       2.100030   \n",
            "5998       2.727679       4.371942      -1.408445       2.156929   \n",
            "5999       1.063027       4.814915       0.201977      -1.697052   \n",
            "\n",
            "      clip_image_14  clip_image_15  clip_image_16  clip_image_17  \\\n",
            "0          2.440357       1.293873       2.334176      -0.025009   \n",
            "1          0.884794      -3.995284       1.764175       7.028759   \n",
            "2          3.672679       0.358206       4.153907      -3.714557   \n",
            "3         -2.084341       7.765927       4.276506      -6.128337   \n",
            "4          8.388914       2.260211      -0.102985      -0.956734   \n",
            "...             ...            ...            ...            ...   \n",
            "5995       4.326141       4.557846       4.736424      -4.430945   \n",
            "5996      -3.227618       3.483353       1.631642       1.295502   \n",
            "5997       4.508914       1.920454      -0.335824       2.398411   \n",
            "5998       1.501626       4.507260       0.873775      -3.063357   \n",
            "5999       7.308976       5.483966       0.556292      -3.773351   \n",
            "\n",
            "      clip_image_18  clip_image_19  clip_image_20  clip_image_21  \\\n",
            "0         -3.001420       0.594858      -5.959559       0.028671   \n",
            "1         -5.766500       2.373970      -0.107337       0.276592   \n",
            "2         -8.155042       4.098909      -6.760942      -2.131969   \n",
            "3         -0.996230      -2.225612       2.957552      -2.258433   \n",
            "4         -2.396960      -3.130991       0.161738      -4.433451   \n",
            "...             ...            ...            ...            ...   \n",
            "5995      -0.637953       1.137625      -0.822558      -2.671299   \n",
            "5996      -0.536349      -2.667956      -4.419402      -0.346246   \n",
            "5997      -5.382193      -1.806475       3.066839      -1.911613   \n",
            "5998      -5.833895      -1.822082      -7.316177      -1.447593   \n",
            "5999      -2.987863      -2.031127      -0.614685       3.966488   \n",
            "\n",
            "      clip_image_22  clip_image_23  clip_image_24  clip_image_25  \\\n",
            "0         -0.892282      -3.998239      -0.381524       0.052678   \n",
            "1          0.091839       1.396096      -1.712992       8.415552   \n",
            "2          6.010195      -0.925578      -3.967703       1.510304   \n",
            "3         -0.142533       1.131135      -3.023251       5.214190   \n",
            "4          7.080541       6.781917       1.054753       4.414879   \n",
            "...             ...            ...            ...            ...   \n",
            "5995      -0.262237      -2.131140      -1.811036       1.267778   \n",
            "5996      -5.338219       0.384904      -0.426151       4.592220   \n",
            "5997       0.903046       0.952211       0.612433       2.346562   \n",
            "5998       2.305294      -3.460861      -5.985219      -6.346098   \n",
            "5999       4.468195      -2.309009       1.041121       0.225505   \n",
            "\n",
            "      clip_image_26  clip_image_27  clip_image_28  clip_image_29  \\\n",
            "0          1.229928       3.164054       1.825187      -3.178515   \n",
            "1         -0.183197      -0.189517      -7.883800      -3.240308   \n",
            "2          6.201939      -3.167635       2.918796      -4.238300   \n",
            "3         -1.472368       0.417079       4.119747      -7.671129   \n",
            "4         -2.967798      -4.885529      -0.604337      -1.703200   \n",
            "...             ...            ...            ...            ...   \n",
            "5995      -4.418065      -1.325860      -0.548784      -3.824927   \n",
            "5996       6.982749      -4.076226       1.307857      -1.000708   \n",
            "5997       0.571467      -0.307478      -2.971372      -3.272823   \n",
            "5998       0.067637       0.082675      -0.420809      -6.286722   \n",
            "5999      -1.131613       4.387737       6.767066      -5.726589   \n",
            "\n",
            "      clip_image_30  clip_image_31  clip_image_32  clip_image_33  \\\n",
            "0         -4.004498      -3.130518      -6.980557      -4.085005   \n",
            "1         -6.010502       5.368279      -3.277953       3.179211   \n",
            "2          0.343600       0.411298      -6.068138      -2.632722   \n",
            "3         -0.640037       1.149519      -3.901861      -8.357272   \n",
            "4         -2.572948      -1.846862      -0.267770      -2.654679   \n",
            "...             ...            ...            ...            ...   \n",
            "5995       1.569654       1.596612      -1.943911      -1.784388   \n",
            "5996      -4.603292       2.461070      -4.133725      -0.948802   \n",
            "5997      -0.975533       0.972716      -0.949510      -3.489758   \n",
            "5998       0.818234      -6.819942      -6.617105       7.042678   \n",
            "5999      -0.529237      -2.888492       1.584463      -0.662423   \n",
            "\n",
            "      clip_image_34  clip_image_35  clip_image_36  clip_image_37  \\\n",
            "0         -1.995554      -0.490496      -0.691692       0.700804   \n",
            "1          6.284046       1.570059      -1.126706       1.962587   \n",
            "2          4.109173      -0.147750       0.271324       2.177874   \n",
            "3         -2.690158      -4.122417       0.726237      -2.846461   \n",
            "4          3.051244       8.091616      -0.619301      -1.399123   \n",
            "...             ...            ...            ...            ...   \n",
            "5995      -1.288009       1.344631      -0.821924      -0.836081   \n",
            "5996      -0.287015       4.662728       0.346671      -3.258559   \n",
            "5997       8.980438       2.774291       3.648221       3.339928   \n",
            "5998       7.118230      -0.234847      -4.035816      -2.340602   \n",
            "5999      10.300329       2.362855      -2.022400      -5.111410   \n",
            "\n",
            "      clip_image_38  clip_image_39  clip_image_40  clip_image_41  \\\n",
            "0         -2.696913       0.774909       4.633677      -3.572836   \n",
            "1         -1.216070       0.899840       0.641650      -3.628602   \n",
            "2          4.722419      -3.838036       2.785053      -3.578431   \n",
            "3         -4.788843       0.635860       3.613524      -1.522375   \n",
            "4          2.727180       3.801440       2.624920      -2.265844   \n",
            "...             ...            ...            ...            ...   \n",
            "5995       0.639640       0.010962       1.720319      -0.604632   \n",
            "5996       3.418876       1.435048       1.354853      -2.053361   \n",
            "5997       2.168290       0.321623       4.674705       0.402791   \n",
            "5998      -0.594863       2.103055      -2.188943       0.549332   \n",
            "5999       2.952902      -1.354189      -0.255112      -1.293678   \n",
            "\n",
            "      clip_image_42  clip_image_43  clip_image_44  clip_image_45  \\\n",
            "0         -7.388810       0.589991       1.286476       1.491494   \n",
            "1          0.427923      -0.206312      -1.485272       4.735631   \n",
            "2          1.209483      -0.441398      -0.575152       2.239636   \n",
            "3         -6.399569       2.284990      -0.157831       0.907080   \n",
            "4          2.186432      -2.042264       6.132937       0.475198   \n",
            "...             ...            ...            ...            ...   \n",
            "5995       0.757174       0.114168      -0.355858      -0.318937   \n",
            "5996      -3.605525      -4.792673       4.677004      -2.175528   \n",
            "5997       2.708516       0.281512      -0.860980      -1.707968   \n",
            "5998      -5.066080       3.621312       0.845931      -0.558795   \n",
            "5999       0.646130       6.663448      -6.642067      -3.889639   \n",
            "\n",
            "      clip_image_46  clip_image_47  clip_image_48  clip_image_49  \\\n",
            "0          2.827554      -2.092188      -1.407659      -3.117031   \n",
            "1          8.747869       3.144079      -0.708694      -2.412620   \n",
            "2          5.226481       3.567800      -0.616801       0.284296   \n",
            "3         -5.344403      -2.610601       0.511031      -3.387272   \n",
            "4         -6.705288      -0.111932      -1.771181      -2.388272   \n",
            "...             ...            ...            ...            ...   \n",
            "5995       3.896575      -0.846084       1.740777       2.023945   \n",
            "5996      -4.308213      -2.247660      -1.178035       1.489636   \n",
            "5997      -1.582835       3.618495       1.516086      -0.797483   \n",
            "5998       0.812150      -3.382272       0.742354      -6.672816   \n",
            "5999       5.742900      -1.699473       3.060733      -5.382933   \n",
            "\n",
            "      clip_image_50  clip_image_51  clip_image_52  clip_image_53  \\\n",
            "0          2.076108       2.147154       1.318724       3.255131   \n",
            "1          2.311351      -1.601996      -3.415303      -5.209023   \n",
            "2          3.494307       0.380542       3.424366       6.342007   \n",
            "3          4.094980       1.691749      -1.597546       3.091987   \n",
            "4          1.025672      -3.942803       4.944152      -2.698531   \n",
            "...             ...            ...            ...            ...   \n",
            "5995       2.624649       2.005535      -2.547533      -3.566514   \n",
            "5996       4.185668      -4.903195      -1.326104      -3.906287   \n",
            "5997       3.973813       2.513352      -3.185746      -4.397709   \n",
            "5998       2.791419      -2.270457      -5.306664       4.382967   \n",
            "5999       1.414612      -4.656690      -2.303444      -3.873078   \n",
            "\n",
            "      clip_image_54  clip_image_55  clip_image_56  clip_image_57  \\\n",
            "0          2.093521      -1.385321      -1.927785       5.646677   \n",
            "1          2.103009       1.402912      -2.711465       1.272872   \n",
            "2         -1.738723      -3.265016      -0.550955       0.472543   \n",
            "3          4.405514      -4.114423       3.044315       2.070950   \n",
            "4         -1.289001       0.384673       2.381787       0.329097   \n",
            "...             ...            ...            ...            ...   \n",
            "5995       0.856527       2.816064       0.299157      -1.010505   \n",
            "5996       1.185505      -4.633943       1.973968      -0.297961   \n",
            "5997      -0.687039      -0.761289       1.227947       4.290144   \n",
            "5998       5.842946      -4.371202      -1.857106      -3.490227   \n",
            "5999      -2.091204       1.437683      -1.675974       1.274267   \n",
            "\n",
            "      clip_image_58  clip_image_59  clip_image_60  clip_image_61  \\\n",
            "0          2.234275      -2.965304      -3.547490       1.593314   \n",
            "1         -1.764430      -4.083404       1.816782      -6.040010   \n",
            "2         -4.632603      -2.925310      -8.540154       2.112641   \n",
            "3         -1.132296      -3.358391      -3.532216       0.245891   \n",
            "4         -2.527158       2.521557      -7.863391       1.785247   \n",
            "...             ...            ...            ...            ...   \n",
            "5995      -0.144946       1.905886       0.932721      -1.739696   \n",
            "5996      -0.636376      -2.160534      -3.908231       3.675543   \n",
            "5997      -5.432048      -0.201957      -7.294989      -0.954769   \n",
            "5998       0.501280      -5.907363      -9.196058       2.294803   \n",
            "5999       2.202289      -1.806643      -3.840505       5.085948   \n",
            "\n",
            "      clip_image_62  clip_image_63  clip_image_64  clip_image_65  \\\n",
            "0          4.875883       0.916225       5.685530      -3.026823   \n",
            "1          2.226233      -2.720489       7.111602      -2.587331   \n",
            "2          1.669270       0.474036       6.988175       0.670214   \n",
            "3         -1.664223       3.306269       5.250382       3.695205   \n",
            "4          1.606648      -2.293601       3.820966      -3.321380   \n",
            "...             ...            ...            ...            ...   \n",
            "5995       1.862409      -0.608985       3.684211       2.063636   \n",
            "5996       4.256686       3.186467      -2.754523      -3.438288   \n",
            "5997       1.995298       2.281348      -0.562774       1.492170   \n",
            "5998       3.092091       6.522589       5.225641      -3.608745   \n",
            "5999       3.342656      -0.882992      -1.716289       5.847919   \n",
            "\n",
            "      clip_image_66  clip_image_67  clip_image_68  clip_image_69  \\\n",
            "0         -3.386492       1.565242       4.843231       6.291467   \n",
            "1          1.552258      -0.616314       0.922062      -3.717678   \n",
            "2         -2.141905      -0.982637       1.510930      -3.984322   \n",
            "3          2.076060      -1.730431       3.194087      -3.798728   \n",
            "4          3.022894      -3.836831      -6.578619       2.327892   \n",
            "...             ...            ...            ...            ...   \n",
            "5995       1.657713       2.220740       2.121955       2.339440   \n",
            "5996      -0.059246      -1.839064       3.321495      -4.398179   \n",
            "5997       4.186573      -4.313439       0.450738       2.337845   \n",
            "5998       4.869795       0.515273       6.765202       6.844663   \n",
            "5999       4.408393       6.341728       4.758242      -2.390215   \n",
            "\n",
            "      clip_image_70  clip_image_71  clip_image_72  clip_image_73  \\\n",
            "0          1.375068       3.733443      -3.219431       4.771996   \n",
            "1          2.174673      12.052320      -5.051842      -0.611351   \n",
            "2          1.924359       3.826350      -0.256640       2.731824   \n",
            "3          1.110650       5.944233      -0.670382       1.886892   \n",
            "4         -3.422129       5.786705       0.713179      -5.860141   \n",
            "...             ...            ...            ...            ...   \n",
            "5995      -1.001001       2.550926       0.136336      -0.219769   \n",
            "5996       1.347687       6.215875       3.079955       3.504461   \n",
            "5997      -4.573628       2.718102      -6.007013       2.816764   \n",
            "5998      -5.832213      -1.420836       4.830903      -3.909766   \n",
            "5999       1.231163      -0.101698       8.460214       0.373098   \n",
            "\n",
            "      clip_image_74  clip_image_75  clip_image_76  clip_image_77  \\\n",
            "0          1.304630       1.527722      -0.031068       0.460975   \n",
            "1          0.299247      -2.850222      -6.476068       1.280918   \n",
            "2         -4.525648       0.734230       1.939748       1.785125   \n",
            "3          4.701560      -1.636611      -0.572672      -0.620380   \n",
            "4          2.431231       1.254816      -5.237428       3.264718   \n",
            "...             ...            ...            ...            ...   \n",
            "5995      -2.987144      -2.678818      -3.260458      -0.287464   \n",
            "5996      -4.708607      -2.009542      -1.904893      -0.470075   \n",
            "5997      -4.600475      -5.982434      -8.669260      -1.991651   \n",
            "5998       0.808822      -3.581157       1.877234       0.496425   \n",
            "5999       6.127988       5.108861       2.950332      -1.139544   \n",
            "\n",
            "      clip_image_78  clip_image_79  clip_image_80  clip_image_81  \\\n",
            "0          0.477959      -1.816367       1.644809      -4.038803   \n",
            "1         -8.389793       3.560090       1.843125       5.926933   \n",
            "2          6.567302      -8.792311      -3.301867      -4.831530   \n",
            "3          1.042894      -4.277131       0.993512      -2.732041   \n",
            "4         -0.195372      -4.186841      -1.111887      -1.916613   \n",
            "...             ...            ...            ...            ...   \n",
            "5995      -1.577493      -2.643017      -1.245100       2.253739   \n",
            "5996      -1.230816       0.287794      -3.360972      -4.819274   \n",
            "5997      -2.479151      -2.291595      -0.920333      -3.323278   \n",
            "5998       0.591231      -7.214633      -3.551597      -6.314506   \n",
            "5999       0.712484      -1.271190       0.891834      -3.267863   \n",
            "\n",
            "      clip_image_82  clip_image_83  clip_image_84  clip_image_85  \\\n",
            "0         -1.225854       2.353528       0.826358      -3.012845   \n",
            "1          0.691853       5.322197       2.653723      -2.533836   \n",
            "2         -3.714109       4.391306      -2.546748      -6.462832   \n",
            "3          0.437983      -3.926329      -2.862275       2.205158   \n",
            "4         -2.937611      -2.122275      -1.035866       1.326022   \n",
            "...             ...            ...            ...            ...   \n",
            "5995      -0.659578       0.718711      -1.190655       4.160454   \n",
            "5996       2.231743      -0.964912      -4.333867      -3.105371   \n",
            "5997      -3.948065      -5.332014      -4.601611       1.033846   \n",
            "5998       6.330960       1.089504       3.940448      -8.744033   \n",
            "5999       3.423227       2.722813      -1.492278      -7.912812   \n",
            "\n",
            "      clip_image_86  clip_image_87  clip_image_88  clip_image_89  \\\n",
            "0          2.537105      -3.693861      -0.932276       2.525835   \n",
            "1         -5.312016      -0.124686       0.136547      -5.055036   \n",
            "2          9.091709      -2.724827       0.738639      -0.512947   \n",
            "3          2.773351      -1.437974      -0.266821       1.157506   \n",
            "4          0.241264       0.858755      -1.288537       1.800190   \n",
            "...             ...            ...            ...            ...   \n",
            "5995       0.049246       1.146027       0.203226       1.457544   \n",
            "5996       4.592746       2.076004       4.356963       0.139129   \n",
            "5997       3.275908       2.236827       3.640022       5.903749   \n",
            "5998      -0.925536      -0.131281      -0.303190      -0.462336   \n",
            "5999      -1.481443      -0.327537      -6.497621      -3.282823   \n",
            "\n",
            "      clip_image_90  clip_image_91  clip_image_92  clip_image_93  \\\n",
            "0         -3.734750       4.640288       0.866274      -0.103089   \n",
            "1         -4.933352      -0.759696      -0.053665       2.186507   \n",
            "2         -1.459718      10.941281      -5.518162      -3.163246   \n",
            "3         -3.010806       5.351568       3.715339       4.457774   \n",
            "4         -2.398818       5.584200      -3.482136      -2.863256   \n",
            "...             ...            ...            ...            ...   \n",
            "5995       1.169163      -0.770510       1.351910       2.026149   \n",
            "5996      -0.877516      -3.709163      -6.529412      -1.415321   \n",
            "5997       4.681349       4.249328      -1.074857       3.703660   \n",
            "5998       0.994988       2.448810      -1.085215       0.434879   \n",
            "5999      -6.530525       1.085461       2.732156      -2.392130   \n",
            "\n",
            "      clip_image_94  clip_image_95  clip_image_96  clip_image_97  \\\n",
            "0         -0.299943       1.032972       7.642287       3.183475   \n",
            "1         -3.677165       1.903361      -4.190686      -3.628613   \n",
            "2          4.793086      -2.343277      -3.654147       2.298727   \n",
            "3         -0.266179      -2.745755      -3.170446       5.925314   \n",
            "4         -2.253269      -5.303891      -1.698819       2.693688   \n",
            "...             ...            ...            ...            ...   \n",
            "5995      -0.799794       1.123429      -4.053383       1.838000   \n",
            "5996      -2.511316      -5.557761       3.066089      -8.195215   \n",
            "5997      -1.753654       0.496017      -3.561715       0.247815   \n",
            "5998       1.104247      -1.316810      -4.735951      -0.205991   \n",
            "5999       0.737198      -4.442612      -2.844195      -0.269861   \n",
            "\n",
            "      clip_image_98  clip_image_99  ...  clip_image_412  clip_image_413  \\\n",
            "0         -2.446629       3.967746  ...       -1.202353       -0.019905   \n",
            "1         -3.801830       2.979136  ...        1.368981       -0.273651   \n",
            "2          4.231396       2.106017  ...        0.469923        2.658174   \n",
            "3          7.395350       1.511838  ...        3.813169        2.829139   \n",
            "4          0.036577       4.923079  ...        3.200191       -1.722765   \n",
            "...             ...            ...  ...             ...             ...   \n",
            "5995      -0.545353       0.605833  ...       -1.614189        0.170171   \n",
            "5996       1.038952       1.741234  ...        0.384483        0.958773   \n",
            "5997      -6.564673       3.377975  ...        7.928899        0.370627   \n",
            "5998       0.911570       3.791356  ...        1.912074       -0.271969   \n",
            "5999      -5.907199       2.640441  ...       -2.340359       -3.083295   \n",
            "\n",
            "      clip_image_414  clip_image_415  clip_image_416  clip_image_417  \\\n",
            "0          -3.348872       -0.263719        2.398532       -1.190099   \n",
            "1           2.133685        0.167691       -6.198837       -2.579003   \n",
            "2          -5.123994       -0.712479        0.750921       -0.298069   \n",
            "3          -4.324001        3.969455        1.782670        1.898716   \n",
            "4          -4.158237        6.314064       -1.842785        2.817057   \n",
            "...              ...             ...             ...             ...   \n",
            "5995       -0.520320        1.971257        1.347337        0.442242   \n",
            "5996        2.863483       -1.944049        1.766307        1.765949   \n",
            "5997       -2.577158       -0.054626       -0.773173       -1.806980   \n",
            "5998       -0.796111       -0.439191       -0.070081        1.041948   \n",
            "5999        3.041857       -0.982569       -2.008367       -2.948285   \n",
            "\n",
            "      clip_image_418  clip_image_419  clip_image_420  clip_image_421  \\\n",
            "0           1.280706        2.867555        2.784438        1.142036   \n",
            "1          -2.270088       -4.428472        0.556724        4.622194   \n",
            "2          -1.881744        2.189980        0.523823        3.103030   \n",
            "3          -1.443307       -1.699110       -1.411492        1.805770   \n",
            "4           1.822454       -3.373040        2.672660       -0.506079   \n",
            "...              ...             ...             ...             ...   \n",
            "5995       -1.935429        0.748131        0.965717        0.199406   \n",
            "5996       -0.160178       -1.039921        0.362501        2.128639   \n",
            "5997       -1.331676        4.824361       -0.174131        2.750220   \n",
            "5998       -0.763939       -3.196446       -0.297402        3.303507   \n",
            "5999        4.204154        5.032967       -1.162689        1.495285   \n",
            "\n",
            "      clip_image_422  clip_image_423  clip_image_424  clip_image_425  \\\n",
            "0           0.681206       -1.607894       -2.258037       -0.586847   \n",
            "1          -0.675201        3.096726       -0.116593        7.061149   \n",
            "2          -2.675730       -2.188437       -0.410551        0.335032   \n",
            "3           4.772775       -1.151877       -5.026154       -0.877337   \n",
            "4          -0.505097       -0.361127       -2.738445        1.883433   \n",
            "...              ...             ...             ...             ...   \n",
            "5995        2.459963       -0.243151       -1.083959        0.053714   \n",
            "5996       -1.563833       -2.695940       -4.724110        0.991979   \n",
            "5997        0.763020        2.888916       -7.393449        8.279547   \n",
            "5998       -2.085183       -0.719244        0.178966        3.287999   \n",
            "5999        1.639420        0.757733       -6.103760        1.758019   \n",
            "\n",
            "      clip_image_426  clip_image_427  clip_image_428  clip_image_429  \\\n",
            "0           1.376048       -8.132542        3.176076       -4.518328   \n",
            "1           4.969520        1.060575        5.346279       -3.823023   \n",
            "2          -2.831256       -2.750628        6.837757       -3.015104   \n",
            "3          -4.156026       -3.911001        1.629352        1.342045   \n",
            "4           3.003295       -3.018280        4.916942       -1.131870   \n",
            "...              ...             ...             ...             ...   \n",
            "5995       -0.536650        0.774255       -1.612691        0.971349   \n",
            "5996       -0.448992        4.871785       -1.459917       -0.697070   \n",
            "5997       -0.863691       -4.977382        5.319421       -3.136602   \n",
            "5998       -3.342651       -6.006487       -1.513586       -0.228873   \n",
            "5999        3.595734        1.768114       -2.825018        5.750209   \n",
            "\n",
            "      clip_image_430  clip_image_431  clip_image_432  clip_image_433  \\\n",
            "0           2.040568       -4.608506        0.039120        1.200343   \n",
            "1          -2.349740       -0.144194       -4.565019        0.157324   \n",
            "2          -3.213452       -6.578628       -1.204733       -1.819501   \n",
            "3          -0.337445       -2.431278       -0.483851       -2.972587   \n",
            "4          -2.542178        1.506108        3.999477       -3.243114   \n",
            "...              ...             ...             ...             ...   \n",
            "5995       -0.598415       -0.344383       -0.528759        2.272234   \n",
            "5996        4.221495        2.202928        0.578351        1.177238   \n",
            "5997       -1.145480        2.006886        3.105935       -0.666642   \n",
            "5998        4.355743        2.073926       -2.102979        3.757331   \n",
            "5999        2.160612       -4.550673       -1.805826       -1.304980   \n",
            "\n",
            "      clip_image_434  clip_image_435  clip_image_436  clip_image_437  \\\n",
            "0           1.339927        0.957403        3.222165       -1.710433   \n",
            "1           3.194610        2.500279        0.074707       -1.398789   \n",
            "2          -3.023972        5.098950       -0.216870       -1.950143   \n",
            "3          -0.089499        7.876258       -1.318682       -7.478484   \n",
            "4          -1.168509       -3.954563        4.453665       -6.412202   \n",
            "...              ...             ...             ...             ...   \n",
            "5995       -2.373415        1.172889       -1.299065        0.405238   \n",
            "5996        0.725063       -8.345047       -0.058149       -0.822803   \n",
            "5997        3.128866        4.518476        6.380009       -3.147164   \n",
            "5998       -4.874287        6.151427       -2.951493       -6.725017   \n",
            "5999       -2.369049        3.888334       -6.103431       -1.517171   \n",
            "\n",
            "      clip_image_438  clip_image_439  clip_image_440  clip_image_441  \\\n",
            "0          -2.231214       -3.636089       -0.831331        1.342296   \n",
            "1           0.874461        4.857463       -3.898254       -2.573545   \n",
            "2           1.052485       -2.290647        2.782355        1.439950   \n",
            "3           2.500023       -4.494443        6.791757        4.790170   \n",
            "4          -4.554678        0.942271       -3.389742       -0.091594   \n",
            "...              ...             ...             ...             ...   \n",
            "5995        1.458877       -0.507922        2.914145        1.912035   \n",
            "5996        2.408696        6.526813       -3.691109        3.567000   \n",
            "5997       -5.510595        2.323481       -3.485126       -3.045219   \n",
            "5998       -3.301607       -0.210027        5.068227        2.536633   \n",
            "5999       -2.218157       -2.763596        0.492649        4.626003   \n",
            "\n",
            "      clip_image_442  clip_image_443  clip_image_444  clip_image_445  \\\n",
            "0           9.676061       -0.633616       -4.097692        4.361667   \n",
            "1          -3.835626        3.067296        3.508115        5.850517   \n",
            "2           0.417449       -2.296446        0.381818       10.312609   \n",
            "3           0.548594       -3.383085       -2.458122        0.783760   \n",
            "4           0.117950        0.137201       -0.473090       -0.505746   \n",
            "...              ...             ...             ...             ...   \n",
            "5995       -0.997830        1.709402        0.207188       -1.311684   \n",
            "5996        2.190912       -2.808581       -7.549329        1.615087   \n",
            "5997        2.630233       -0.541467       -3.079432        7.161747   \n",
            "5998       -0.463827        3.631715        0.354000       -5.085061   \n",
            "5999       -2.303477        5.987428        4.812104        2.506278   \n",
            "\n",
            "      clip_image_446  clip_image_447  clip_image_448  clip_image_449  \\\n",
            "0           0.700089        3.496278        0.772786       -3.771135   \n",
            "1           2.605108       -1.492817        6.207807       -0.031709   \n",
            "2          -0.440211        1.047094        7.360022       -1.132055   \n",
            "3          -1.230135        5.151164        0.995557       -1.568444   \n",
            "4          -0.328372        5.154570        2.206547       -1.470805   \n",
            "...              ...             ...             ...             ...   \n",
            "5995        2.691570        0.936421       -0.370394       -2.337551   \n",
            "5996       -1.531280        0.341802        5.477202       -3.773139   \n",
            "5997        0.362692        9.206708        0.799539       -4.155180   \n",
            "5998       -1.254478        5.941893       -0.245564        2.212009   \n",
            "5999       -4.762185        1.317215       -2.679112        0.926186   \n",
            "\n",
            "      clip_image_450  clip_image_451  clip_image_452  clip_image_453  \\\n",
            "0           6.097189        4.838702        4.623739        1.916049   \n",
            "1           0.575788        0.328470       -1.838398        2.845416   \n",
            "2           1.958899        0.806947       -3.432973        1.241184   \n",
            "3           2.536075        3.439586       -2.350400        0.637007   \n",
            "4           5.915499        0.169599       -1.817268       -5.092687   \n",
            "...              ...             ...             ...             ...   \n",
            "5995        1.291923       -3.109288       -0.463587        3.206804   \n",
            "5996        0.376734        0.581831        6.026303        4.751626   \n",
            "5997        4.240903        1.066649        7.398411        1.220211   \n",
            "5998        5.547743        5.465971       -1.177392       -2.769740   \n",
            "5999       -2.636862        4.071852        0.050221       -1.670723   \n",
            "\n",
            "      clip_image_454  clip_image_455  clip_image_456  clip_image_457  \\\n",
            "0          -0.627807        2.750296        2.599225       -2.559900   \n",
            "1           0.098111       -0.405520        0.623044       -4.784131   \n",
            "2           2.085619        2.946624       -3.125819       -1.790708   \n",
            "3          -2.563215        6.179547        0.622001        2.664710   \n",
            "4          -3.609964       -0.294702        2.132504        1.009709   \n",
            "...              ...             ...             ...             ...   \n",
            "5995       -0.205915        5.152183       -3.009116       -1.081888   \n",
            "5996       -0.549163        1.598151        1.264175       -0.131426   \n",
            "5997       -5.089825        4.239024        3.172751       -1.820551   \n",
            "5998       -2.002967        6.311922        0.821418       -3.244834   \n",
            "5999       -6.586199        5.060594        2.898832       -2.462270   \n",
            "\n",
            "      clip_image_458  clip_image_459  clip_image_460  clip_image_461  \\\n",
            "0          -3.886900       -0.687714        0.800747        0.419192   \n",
            "1           3.429904       -0.513196       -2.530635        2.831507   \n",
            "2          -4.973253        2.922071       -1.708047        4.369500   \n",
            "3          -5.802470        6.831856       -1.604713       -1.855198   \n",
            "4          -4.881789       -4.185452       -7.017005       -2.323946   \n",
            "...              ...             ...             ...             ...   \n",
            "5995        2.625559        1.582549       -2.734180        0.975547   \n",
            "5996       -4.139955        5.013049       -1.921221        1.956259   \n",
            "5997        0.993578        3.958335       -6.162344       -4.880236   \n",
            "5998       -4.958569        2.687156        3.175603       -0.293633   \n",
            "5999        3.365390        5.169724        0.074694        0.014304   \n",
            "\n",
            "      clip_image_462  clip_image_463  clip_image_464  clip_image_465  \\\n",
            "0          -3.459361       -1.937610        3.058250        1.714612   \n",
            "1           0.613992       -1.804901       -4.484828        0.958425   \n",
            "2          -1.560992       -9.427002        1.105994        2.383062   \n",
            "3           3.414812       -5.153232       -4.547230       -2.659000   \n",
            "4          -3.720616       -0.354884       -4.355737       -0.580146   \n",
            "...              ...             ...             ...             ...   \n",
            "5995       -2.285141        0.840801       -0.972080       -2.825653   \n",
            "5996       -1.273176        1.290273        0.581539       -1.944810   \n",
            "5997        0.573135       -3.276655       -1.175818       -2.673901   \n",
            "5998        6.668832       -4.047385       -0.134974       -5.929537   \n",
            "5999       -3.412004        2.751998       -3.172225        3.874483   \n",
            "\n",
            "      clip_image_466  clip_image_467  clip_image_468  clip_image_469  \\\n",
            "0          -4.275348       -1.625414       -1.493094        1.018679   \n",
            "1           0.339261        5.061570        3.780036       -0.942897   \n",
            "2           0.394803        0.892148       -3.856686       -3.300114   \n",
            "3          -1.262074        3.765252        5.548649       -6.160691   \n",
            "4           0.980618        2.474323        7.257541       -2.997562   \n",
            "...              ...             ...             ...             ...   \n",
            "5995       -1.860450       -1.694077        3.368192        0.604018   \n",
            "5996        2.800476       -0.483745        2.673184        2.904408   \n",
            "5997       -2.376024        0.503945       -0.986551       -2.128698   \n",
            "5998        2.727574        2.596601        2.127300        5.090490   \n",
            "5999       -1.833432        2.506810        1.114742        3.803523   \n",
            "\n",
            "      clip_image_470  clip_image_471  clip_image_472  clip_image_473  \\\n",
            "0           6.640020        2.399134       -1.428442       -2.494079   \n",
            "1           1.921866        1.801120        1.686599        0.714130   \n",
            "2           4.158259        1.310114       -0.515253        0.636884   \n",
            "3           2.753455        2.786308        1.015672        0.079846   \n",
            "4           4.858592        0.241672        2.546600        0.272228   \n",
            "...              ...             ...             ...             ...   \n",
            "5995       -0.013491        1.159565       -0.503216       -4.516966   \n",
            "5996       -4.126674        1.611574        2.545951        4.860071   \n",
            "5997        1.582608       -1.044565        3.031302       -1.183865   \n",
            "5998        2.064456        1.500865       -4.451548        3.211162   \n",
            "5999        0.995488       -4.427687       -0.803073        1.995108   \n",
            "\n",
            "      clip_image_474  clip_image_475  clip_image_476  clip_image_477  \\\n",
            "0          -4.283396       -1.393723        0.129797       -2.255130   \n",
            "1           1.265826        2.439607        9.036980       -0.436801   \n",
            "2           1.166962        4.381408       -6.341459       -1.213742   \n",
            "3           1.293367        1.093643       -6.952247        3.164289   \n",
            "4          -6.369719        0.860993       -4.363481        0.144460   \n",
            "...              ...             ...             ...             ...   \n",
            "5995        1.452504        1.543382        1.956529        0.621511   \n",
            "5996        1.881841       -2.312121       -8.106580       -4.124059   \n",
            "5997        0.348050        5.587328       -9.919691        1.121103   \n",
            "5998        1.250566       -4.624806        6.691359       -3.093044   \n",
            "5999       -8.460270        6.260839        6.107878       -7.169533   \n",
            "\n",
            "      clip_image_478  clip_image_479  clip_image_480  clip_image_481  \\\n",
            "0          -3.090926       -5.904205        0.886993        1.606658   \n",
            "1          -1.239309       -2.904341        2.721039        3.116531   \n",
            "2           2.263398       -3.632669       -0.095975       -7.762703   \n",
            "3          -0.875522       -5.585590       -2.031627        2.060749   \n",
            "4          -2.409074       -4.206740       -3.768902        0.797740   \n",
            "...              ...             ...             ...             ...   \n",
            "5995       -0.116733       -2.709555       -0.223606        1.428233   \n",
            "5996        3.452854        0.485151        1.443934       -3.645444   \n",
            "5997       -0.684552       -5.986154       -0.073577       -3.546996   \n",
            "5998       -3.400582       -3.130879       -3.439909        6.213377   \n",
            "5999        2.342696        3.341504       -4.157550        3.389847   \n",
            "\n",
            "      clip_image_482  clip_image_483  clip_image_484  clip_image_485  \\\n",
            "0          -0.988857       -2.470896       -0.690805       -1.727354   \n",
            "1           1.484618       -2.950960        1.459301        2.817100   \n",
            "2          -1.612009        2.400035       -2.993840       -6.936675   \n",
            "3          -2.859334       -0.194021        2.409939        0.853439   \n",
            "4          -0.274458       -0.877848        1.186080       -2.091899   \n",
            "...              ...             ...             ...             ...   \n",
            "5995       -1.352300       -0.411573        0.064050       -2.073576   \n",
            "5996       -4.244631       -2.293178        2.940616        0.001744   \n",
            "5997       -0.555466        2.596328       -0.617308        0.167411   \n",
            "5998        0.804300        2.484668        1.524709       -0.432860   \n",
            "5999        0.915113        2.978178       -1.170003       -2.442348   \n",
            "\n",
            "      clip_image_486  clip_image_487  clip_image_488  clip_image_489  \\\n",
            "0          -0.525948        2.455478        5.110977        5.619618   \n",
            "1          -0.370856       -4.417009        4.512398       -0.213102   \n",
            "2          -9.994084       -2.256247        4.821642       -1.068084   \n",
            "3          -4.247001       -1.105647       -3.835636        0.904542   \n",
            "4           4.024549       -0.940199       -2.753562        8.434222   \n",
            "...              ...             ...             ...             ...   \n",
            "5995       -3.371009       -3.768331        2.079581        2.338113   \n",
            "5996       -5.293284       -0.970863        2.908211        3.389725   \n",
            "5997        3.402410        2.031334       -0.869546        6.905703   \n",
            "5998        0.682179        1.053284        4.324862        1.674890   \n",
            "5999       -4.835597        1.320312        4.902082       -3.580936   \n",
            "\n",
            "      clip_image_490  clip_image_491  clip_image_492  clip_image_493  \\\n",
            "0          -4.598511       -4.928740       -4.909928        1.362142   \n",
            "1           1.572392        6.622856        2.289489       -3.821689   \n",
            "2          -3.070409        0.692808        1.891599        1.370237   \n",
            "3           1.846485       -1.524981       -2.897870        3.118355   \n",
            "4          -2.141435       -1.455890       -3.709040        5.098984   \n",
            "...              ...             ...             ...             ...   \n",
            "5995        4.793808        0.285545        2.436315       -0.966933   \n",
            "5996        0.049645        9.110878        0.901565       -0.379883   \n",
            "5997       -2.066169        1.411864       -3.356136        0.069186   \n",
            "5998        0.155754        3.712796       -2.035045       -6.033574   \n",
            "5999       -4.693681        1.241341        0.336769        4.161892   \n",
            "\n",
            "      clip_image_494  clip_image_495  clip_image_496  clip_image_497  \\\n",
            "0           0.656026        0.823317       -4.011886        7.321919   \n",
            "1          -1.903242        1.178389       -1.795413        0.983041   \n",
            "2           5.378594        5.426473       -2.015295        3.215078   \n",
            "3          -3.876658        2.187256       -0.184319        4.824523   \n",
            "4          -0.329652        5.106952        1.007481       -2.066504   \n",
            "...              ...             ...             ...             ...   \n",
            "5995       -2.325462        0.419090       -1.032138       -0.169772   \n",
            "5996       -2.425252       -0.406357        0.243879       -0.629219   \n",
            "5997       -0.396282        4.016253       -4.460679       -5.816559   \n",
            "5998        3.960191       -6.083651        0.676499        4.188577   \n",
            "5999       -4.090679       -5.180970        2.147628       -1.266724   \n",
            "\n",
            "      clip_image_498  clip_image_499  clip_image_500  clip_image_501  \\\n",
            "0           1.777131       -0.097441       -2.151989        5.646163   \n",
            "1          -1.717509        1.976005       -2.110409        1.314587   \n",
            "2           4.274004        0.803512        4.165598        6.818825   \n",
            "3           0.458177        1.303773       -0.225150       -2.065155   \n",
            "4          -4.953811        1.972346       -4.780399       -4.294651   \n",
            "...              ...             ...             ...             ...   \n",
            "5995        0.733480       -0.580993        0.615960       -1.017786   \n",
            "5996        0.260517        2.079905      -10.093297        0.382886   \n",
            "5997       -2.829077       -0.937115        1.422691        0.179187   \n",
            "5998        2.537754        1.671527        2.218775        1.458170   \n",
            "5999        8.470297        1.543212        6.837752       -0.198386   \n",
            "\n",
            "      clip_image_502  clip_image_503  clip_image_504  clip_image_505  \\\n",
            "0          -1.132266       -5.850366        3.695666       -7.629457   \n",
            "1           6.204115        3.563266        0.024531       -2.189493   \n",
            "2          -5.453631        0.290701       -1.368943       -6.580788   \n",
            "3          -0.829034       -7.050450        0.158030       -2.052691   \n",
            "4           0.859861       -7.612486       -1.422058       -6.323627   \n",
            "...              ...             ...             ...             ...   \n",
            "5995       -1.013135        0.098500        3.182159       -2.159686   \n",
            "5996       -0.996079       -1.826497       -0.428396        1.025105   \n",
            "5997       -2.872962       -0.752054        0.594697       -4.408225   \n",
            "5998       -7.015323       -6.336792        4.821933        0.724051   \n",
            "5999       -4.742533        0.467709        2.864677       -5.303444   \n",
            "\n",
            "      clip_image_506  clip_image_507  clip_image_508  clip_image_509  \\\n",
            "0           2.811038        1.403811       -2.392069        0.264078   \n",
            "1           4.173116       -0.863237       -9.705874        6.496695   \n",
            "2           3.373815        2.492756        6.228702       -3.939885   \n",
            "3          -1.364797       -1.574390        2.701284        0.481541   \n",
            "4          -2.360306        3.946715        0.411336       -3.050467   \n",
            "...              ...             ...             ...             ...   \n",
            "5995        0.532531        2.125196        1.582122        1.795995   \n",
            "5996       -2.030325        1.333187       -1.159514        1.253345   \n",
            "5997       -3.756935       -0.427659       -4.500473        0.467981   \n",
            "5998       -1.353085       -4.738773        1.472338        1.448965   \n",
            "5999       -1.763232        2.268360        0.620333        4.659191   \n",
            "\n",
            "      clip_image_510  clip_image_511  \n",
            "0          -1.189055        0.417515  \n",
            "1          -4.950420       -5.325003  \n",
            "2           1.373003       -0.691991  \n",
            "3          -1.148393        3.186684  \n",
            "4           2.144588       -1.025290  \n",
            "...              ...             ...  \n",
            "5995        3.297585        1.850948  \n",
            "5996       -2.665408       -3.454803  \n",
            "5997        5.502528        5.444071  \n",
            "5998       -4.151205       -2.771466  \n",
            "5999       -7.370193       -2.816253  \n",
            "\n",
            "[6000 rows x 512 columns]\n"
          ]
        }
      ],
      "source": [
        "print(image_feature)"
      ]
    },
    {
      "cell_type": "code",
      "execution_count": null,
      "metadata": {
        "id": "1riWq283-Plj"
      },
      "outputs": [],
      "source": [
        "# testのデータに結合します。\n",
        "test_df = pd.concat([test_df, image_feature],axis=1)"
      ]
    },
    {
      "cell_type": "code",
      "execution_count": null,
      "metadata": {
        "colab": {
          "base_uri": "https://localhost:8080/"
        },
        "id": "_xtltEAbzoko",
        "outputId": "a9eb3e87-52b4-4dea-b61b-eba0a293deb1"
      },
      "outputs": [
        {
          "output_type": "execute_result",
          "data": {
            "text/plain": [
              "(6000, 516)"
            ]
          },
          "metadata": {},
          "execution_count": 29
        }
      ],
      "source": [
        "test_df.shape"
      ]
    },
    {
      "cell_type": "code",
      "execution_count": null,
      "metadata": {
        "id": "VwWPcX3rr8PW"
      },
      "outputs": [],
      "source": [
        "## テキストの欠損値を補間します\n",
        "train_df[\"text\"] = train_df[\"text\"].fillna('NaN')\n",
        "test_df[\"text\"] = test_df[\"text\"].fillna('NaN')"
      ]
    },
    {
      "cell_type": "code",
      "execution_count": null,
      "metadata": {
        "id": "32m2iyR0kqM2"
      },
      "outputs": [],
      "source": [
        "import tensorflow as tf\n",
        "\n",
        "def get_texts_features(dataset):\n",
        "    text_labels = []\n",
        "    \n",
        "    with torch.no_grad():\n",
        "        for labels in tqdm(DataLoader(dataset, batch_size=8)):\n",
        "            inputs = ja_clip.tokenize(texts = labels, device = device)\n",
        "            outputs = model.get_text_features(**inputs)\n",
        "            text_labels.append(outputs)\n",
        "\n",
        "    return torch.cat(text_labels).cpu().numpy()"
      ]
    },
    {
      "cell_type": "code",
      "execution_count": null,
      "metadata": {
        "colab": {
          "base_uri": "https://localhost:8080/"
        },
        "id": "D2tYXFzYlCOq",
        "outputId": "d49d53e9-6d63-4aab-ee42-aa52614f5509"
      },
      "outputs": [
        {
          "output_type": "stream",
          "name": "stderr",
          "text": [
            "100%|██████████| 368/368 [07:09<00:00,  1.17s/it]\n"
          ]
        }
      ],
      "source": [
        "train_labels = get_texts_features(train_df[\"text\"])"
      ]
    },
    {
      "cell_type": "code",
      "execution_count": null,
      "metadata": {
        "id": "VXRQoEBXz0Zj",
        "colab": {
          "base_uri": "https://localhost:8080/"
        },
        "outputId": "fb206152-42ef-461f-daa4-9efede9befe4"
      },
      "outputs": [
        {
          "output_type": "stream",
          "name": "stderr",
          "text": [
            "100%|██████████| 89/89 [01:43<00:00,  1.17s/it]\n"
          ]
        }
      ],
      "source": [
        "test_labels = get_texts_features(test_df[\"text\"])"
      ]
    },
    {
      "cell_type": "code",
      "execution_count": null,
      "metadata": {
        "id": "7fXmhjUtz9u5",
        "colab": {
          "base_uri": "https://localhost:8080/"
        },
        "outputId": "cca0a5e3-5544-42db-d479-352b8ddc841b"
      },
      "outputs": [
        {
          "output_type": "stream",
          "name": "stdout",
          "text": [
            "[[-1.5649021   0.15887263  1.3396915  ... -1.4969461  -1.1562951\n",
            "  -0.5815047 ]\n",
            " [-1.9463104   0.6809429   1.6938939  ...  2.123869   -0.611176\n",
            "  -0.74336433]\n",
            " [-3.1759503  -0.35415027  1.7235297  ... -0.53730327  1.1523111\n",
            "   1.6702305 ]\n",
            " ...\n",
            " [-0.05695796 -0.8826298  -0.17094478 ...  0.65434414 -1.2391343\n",
            "  -0.5864433 ]\n",
            " [-4.1187267   1.423794   -0.33475235 ... -0.08616334 -0.45975918\n",
            "  -0.6247557 ]\n",
            " [-2.4656858  -1.6448038  -0.38685018 ... -0.5409956   2.1207223\n",
            "  -0.86331296]]\n"
          ]
        }
      ],
      "source": [
        "print(train_labels)"
      ]
    },
    {
      "cell_type": "code",
      "execution_count": null,
      "metadata": {
        "id": "U1I7xF2Y19MX"
      },
      "outputs": [],
      "source": [
        "## テキスト特徴量\n",
        "features_text_train_df = pd.DataFrame(train_labels).add_prefix(\"clip-text\")\n",
        "features_text_test_df = pd.DataFrame(test_labels).add_prefix(\"clip-text\")\n",
        "\n",
        "train_df = pd.concat([train_df, features_text_train_df], axis=1)\n",
        "test_df = pd.concat([test_df, features_text_test_df], axis=1)"
      ]
    },
    {
      "cell_type": "code",
      "execution_count": null,
      "metadata": {
        "id": "i-dWAwir54xN",
        "colab": {
          "base_uri": "https://localhost:8080/"
        },
        "outputId": "d980b271-eda2-4614-d468-41396f3a26d1"
      },
      "outputs": [
        {
          "output_type": "stream",
          "name": "stdout",
          "text": [
            "(24962, 1029)\n",
            "(6000, 1028)\n"
          ]
        }
      ],
      "source": [
        "print(train_df.shape)\n",
        "print(test_df.shape)"
      ]
    },
    {
      "cell_type": "code",
      "execution_count": null,
      "metadata": {
        "id": "Hj68OivBX6sP"
      },
      "outputs": [],
      "source": [
        "train_df.to_csv('/content/drive/MyDrive/nishika/embeded/embedding_train_rinna_clip.csv')"
      ]
    },
    {
      "cell_type": "code",
      "execution_count": null,
      "metadata": {
        "id": "LsxA0p2yYKPT"
      },
      "outputs": [],
      "source": [
        "test_df.to_csv('/content/drive/MyDrive/nishika/embeded/embedding_test_rinna_clip.csv')"
      ]
    },
    {
      "cell_type": "code",
      "execution_count": null,
      "metadata": {
        "id": "fL4aJeMLYUWT",
        "colab": {
          "base_uri": "https://localhost:8080/"
        },
        "outputId": "df46bce6-238c-43a5-af9d-02abc2f72809"
      },
      "outputs": [
        {
          "output_type": "execute_result",
          "data": {
            "text/plain": [
              "0    12481\n",
              "1    12481\n",
              "Name: is_laugh, dtype: int64"
            ]
          },
          "metadata": {},
          "execution_count": 40
        }
      ],
      "source": [
        "train_df[\"is_laugh\"].value_counts()"
      ]
    },
    {
      "cell_type": "markdown",
      "metadata": {
        "id": "H4K63PLc6oGW"
      },
      "source": [
        "# Data Split"
      ]
    },
    {
      "cell_type": "code",
      "execution_count": null,
      "metadata": {
        "id": "0pInRB316fFo"
      },
      "outputs": [],
      "source": [
        "# 学習データと評価データに分割します\n",
        "train_df, valid_df = train_test_split(train_df, test_size=0.2, random_state=42, stratify=train_df[\"is_laugh\"])\n",
        "\n",
        "train_y = train_df[\"is_laugh\"]\n",
        "train_x = train_df.drop([\"id\", \"odai_photo_file_name\", \"text\",\"is_laugh\"], axis=1)\n",
        "\n",
        "valid_y = valid_df[\"is_laugh\"]\n",
        "valid_x = valid_df.drop([\"id\", \"odai_photo_file_name\", \"text\",\"is_laugh\"], axis=1)\n",
        "\n",
        "test_x = test_df.drop([\"id\", \"odai_photo_file_name\", \"text\"], axis=1)"
      ]
    },
    {
      "cell_type": "code",
      "execution_count": null,
      "metadata": {
        "id": "2DyOqFn57PAA",
        "colab": {
          "base_uri": "https://localhost:8080/"
        },
        "outputId": "340bcd6e-01fb-4d13-909d-a7eb658a3661"
      },
      "outputs": [
        {
          "output_type": "stream",
          "name": "stdout",
          "text": [
            "(19969, 1025)\n",
            "(4993, 1025)\n"
          ]
        }
      ],
      "source": [
        "print(train_x.shape)\n",
        "print(valid_x.shape)"
      ]
    },
    {
      "cell_type": "markdown",
      "metadata": {
        "id": "jtw_IUp87-HP"
      },
      "source": [
        "# Model"
      ]
    },
    {
      "cell_type": "code",
      "source": [
        "train_x = train_x.drop(\"img_path\", axis=1)\n",
        "valid_x = valid_x.drop(\"img_path\", axis=1)"
      ],
      "metadata": {
        "id": "p-rAzkqFyXvI"
      },
      "execution_count": null,
      "outputs": []
    },
    {
      "cell_type": "code",
      "source": [
        "test_x = test_x.drop(\"img_path\", axis=1)"
      ],
      "metadata": {
        "id": "PhwSLHloyNaD"
      },
      "execution_count": null,
      "outputs": []
    },
    {
      "cell_type": "code",
      "execution_count": null,
      "metadata": {
        "id": "dZS_euCU79xd",
        "colab": {
          "base_uri": "https://localhost:8080/"
        },
        "outputId": "da801112-a83a-43af-bcf3-f7fbec573826"
      },
      "outputs": [
        {
          "output_type": "stream",
          "name": "stderr",
          "text": [
            "/usr/local/lib/python3.7/dist-packages/lightgbm/engine.py:118: UserWarning: Found `n_estimators` in params. Will use it instead of argument\n",
            "  warnings.warn(\"Found `{}` in params. Will use it instead of argument\".format(alias))\n"
          ]
        },
        {
          "output_type": "stream",
          "name": "stdout",
          "text": [
            "Training until validation scores don't improve for 50 rounds.\n",
            "[50]\ttrain's binary_logloss: 0.628491\tvalid's binary_logloss: 0.677975\n",
            "[100]\ttrain's binary_logloss: 0.590375\tvalid's binary_logloss: 0.677479\n",
            "Early stopping, best iteration is:\n",
            "[80]\ttrain's binary_logloss: 0.603957\tvalid's binary_logloss: 0.676736\n"
          ]
        }
      ],
      "source": [
        "lgbm_params = {  \n",
        "    \"n_estimators\": 20000,\n",
        "    \"objective\": 'binary',\n",
        "    \"learning_rate\": 0.05,\n",
        "    \"num_leaves\": 32,\n",
        "    \"random_state\": 71,\n",
        "    \"n_jobs\": -1,\n",
        "    \"importance_type\": \"gain\",\n",
        "    'colsample_bytree': .8,\n",
        "    \"reg_lambda\": 5,\n",
        "    \"max_depth\":5,\n",
        "    }\n",
        "\n",
        "lgtrain = lgb.Dataset(train_x, train_y)\n",
        "lgvalid = lgb.Dataset(valid_x, valid_y)\n",
        "\n",
        "lgb_clf = lgb.train(\n",
        "    lgbm_params,\n",
        "    lgtrain,\n",
        "    num_boost_round=10000,\n",
        "    valid_sets=[lgtrain, lgvalid],\n",
        "    valid_names=['train','valid'],\n",
        "    early_stopping_rounds=50,\n",
        "    verbose_eval=50\n",
        ")"
      ]
    },
    {
      "cell_type": "code",
      "execution_count": null,
      "metadata": {
        "id": "5m1V_v6T9vMz",
        "colab": {
          "base_uri": "https://localhost:8080/",
          "height": 585
        },
        "outputId": "b4369f87-b2b4-4a25-a431-21397df870b5"
      },
      "outputs": [
        {
          "output_type": "display_data",
          "data": {
            "text/plain": [
              "<Figure size 864x576 with 1 Axes>"
            ],
            "image/png": "[encoded data removed]"
          },
          "metadata": {
            "needs_background": "light"
          }
        }
      ],
      "source": [
        "# 特徴量の重要度を可視化。\n",
        "lgb.plot_importance(lgb_clf, figsize=(12,8), max_num_features=50, importance_type='gain')\n",
        "plt.tight_layout()\n",
        "plt.show()"
      ]
    },
    {
      "cell_type": "code",
      "execution_count": null,
      "metadata": {
        "id": "qQaVWqkTAZ74",
        "colab": {
          "base_uri": "https://localhost:8080/"
        },
        "outputId": "88a502c4-3291-44fd-b69f-dc1b7bfc6427"
      },
      "outputs": [
        {
          "output_type": "stream",
          "name": "stdout",
          "text": [
            "0.5691968756258762\n"
          ]
        }
      ],
      "source": [
        "# 評価指標はlog lossだが、accuracyも見てみる\n",
        "\n",
        "val_pred = lgb_clf.predict(valid_x, num_iteration=lgb_clf.best_iteration)\n",
        "val_pred_max = np.round(lgb_clf.predict(valid_x)).astype(int)  # クラスに分類\n",
        "accuracy = sum(valid_y == val_pred_max) / len(valid_y)\n",
        "print(accuracy)"
      ]
    },
    {
      "cell_type": "code",
      "execution_count": null,
      "metadata": {
        "id": "FPX2pXaZBMpu",
        "colab": {
          "base_uri": "https://localhost:8080/",
          "height": 514
        },
        "outputId": "9337a433-877c-4038-91f9-dd2bdddcce6a"
      },
      "outputs": [
        {
          "output_type": "execute_result",
          "data": {
            "text/plain": [
              "Text(0.5, 51.0, 'Predict')"
            ]
          },
          "metadata": {},
          "execution_count": 49
        },
        {
          "output_type": "display_data",
          "data": {
            "text/plain": [
              "<Figure size 576x576 with 2 Axes>"
            ],
            "image/png": "[encoded data removed]"
          },
          "metadata": {
            "needs_background": "light"
          }
        }
      ],
      "source": [
        "_conf_options = {\"normalize\": None,}\n",
        "_plot_options = {\n",
        "        \"cmap\": \"Blues\",\n",
        "        \"annot\": True\n",
        "    }\n",
        "\n",
        "conf = confusion_matrix(y_true=valid_y,\n",
        "                        y_pred=val_pred_max,\n",
        "                        **_conf_options)\n",
        "\n",
        "fig, ax = plt.subplots(figsize=(8, 8))\n",
        "sns.heatmap(conf, ax=ax, **_plot_options)\n",
        "ax.set_ylabel(\"Label\")\n",
        "ax.set_xlabel(\"Predict\")"
      ]
    },
    {
      "cell_type": "markdown",
      "metadata": {
        "id": "sBad8xkWAXi1"
      },
      "source": [
        "# Predict"
      ]
    },
    {
      "cell_type": "code",
      "execution_count": null,
      "metadata": {
        "id": "gGvSdvMH-hq5"
      },
      "outputs": [],
      "source": [
        "test_pred = lgb_clf.predict(test_x, num_iteration=lgb_clf.best_iteration)"
      ]
    },
    {
      "cell_type": "code",
      "execution_count": null,
      "metadata": {
        "id": "p8g6BTPjCg9R",
        "colab": {
          "base_uri": "https://localhost:8080/",
          "height": 206
        },
        "outputId": "e2313b5f-2bff-404a-f3ff-b44c1f5894b3"
      },
      "outputs": [
        {
          "output_type": "execute_result",
          "data": {
            "text/plain": [
              "          id  is_laugh\n",
              "0  rfdjcfsqq  0.592954\n",
              "1  tsgqmfpef  0.352611\n",
              "2  owjcthkz2  0.436790\n",
              "3  rvgaocjyy  0.492911\n",
              "4  uxtwu5i69  0.725688"
            ],
            "text/html": [
              "\n",
              "  <div id=\"df-0f08a6bd-3fae-41eb-8be9-81a2be70531b\">\n",
              "    <div class=\"colab-df-container\">\n",
              "      <div>\n",
              "<style scoped>\n",
              "    .dataframe tbody tr th:only-of-type {\n",
              "        vertical-align: middle;\n",
              "    }\n",
              "\n",
              "    .dataframe tbody tr th {\n",
              "        vertical-align: top;\n",
              "    }\n",
              "\n",
              "    .dataframe thead th {\n",
              "        text-align: right;\n",
              "    }\n",
              "</style>\n",
              "<table border=\"1\" class=\"dataframe\">\n",
              "  <thead>\n",
              "    <tr style=\"text-align: right;\">\n",
              "      <th></th>\n",
              "      <th>id</th>\n",
              "      <th>is_laugh</th>\n",
              "    </tr>\n",
              "  </thead>\n",
              "  <tbody>\n",
              "    <tr>\n",
              "      <th>0</th>\n",
              "      <td>rfdjcfsqq</td>\n",
              "      <td>0.592954</td>\n",
              "    </tr>\n",
              "    <tr>\n",
              "      <th>1</th>\n",
              "      <td>tsgqmfpef</td>\n",
              "      <td>0.352611</td>\n",
              "    </tr>\n",
              "    <tr>\n",
              "      <th>2</th>\n",
              "      <td>owjcthkz2</td>\n",
              "      <td>0.436790</td>\n",
              "    </tr>\n",
              "    <tr>\n",
              "      <th>3</th>\n",
              "      <td>rvgaocjyy</td>\n",
              "      <td>0.492911</td>\n",
              "    </tr>\n",
              "    <tr>\n",
              "      <th>4</th>\n",
              "      <td>uxtwu5i69</td>\n",
              "      <td>0.725688</td>\n",
              "    </tr>\n",
              "  </tbody>\n",
              "</table>\n",
              "</div>\n",
              "      <button class=\"colab-df-convert\" onclick=\"convertToInteractive('df-0f08a6bd-3fae-41eb-8be9-81a2be70531b')\"\n",
              "              title=\"Convert this dataframe to an interactive table.\"\n",
              "              style=\"display:none;\">\n",
              "        \n",
              "  <svg xmlns=\"http://www.w3.org/2000/svg\" height=\"24px\"viewBox=\"0 0 24 24\"\n",
              "       width=\"24px\">\n",
              "    <path d=\"M0 0h24v24H0V0z\" fill=\"none\"/>\n",
              "    <path d=\"M18.56 5.44l.94 2.06.94-2.06 2.06-.94-2.06-.94-.94-2.06-.94 2.06-2.06.94zm-11 1L8.5 8.5l.94-2.06 2.06-.94-2.06-.94L8.5 2.5l-.94 2.06-2.06.94zm10 10l.94 2.06.94-2.06 2.06-.94-2.06-.94-.94-2.06-.94 2.06-2.06.94z\"/><path d=\"M17.41 7.96l-1.37-1.37c-.4-.4-.92-.59-1.43-.59-.52 0-1.04.2-1.43.59L10.3 9.45l-7.72 7.72c-.78.78-.78 2.05 0 2.83L4 21.41c.39.39.9.59 1.41.59.51 0 1.02-.2 1.41-.59l7.78-7.78 2.81-2.81c.8-.78.8-2.07 0-2.86zM5.41 20L4 18.59l7.72-7.72 1.47 1.35L5.41 20z\"/>\n",
              "  </svg>\n",
              "      </button>\n",
              "      \n",
              "  <style>\n",
              "    .colab-df-container {\n",
              "      display:flex;\n",
              "      flex-wrap:wrap;\n",
              "      gap: 12px;\n",
              "    }\n",
              "\n",
              "    .colab-df-convert {\n",
              "      background-color: #E8F0FE;\n",
              "      border: none;\n",
              "      border-radius: 50%;\n",
              "      cursor: pointer;\n",
              "      display: none;\n",
              "      fill: #1967D2;\n",
              "      height: 32px;\n",
              "      padding: 0 0 0 0;\n",
              "      width: 32px;\n",
              "    }\n",
              "\n",
              "    .colab-df-convert:hover {\n",
              "      background-color: #E2EBFA;\n",
              "      box-shadow: 0px 1px 2px rgba(60, 64, 67, 0.3), 0px 1px 3px 1px rgba(60, 64, 67, 0.15);\n",
              "      fill: #174EA6;\n",
              "    }\n",
              "\n",
              "    [theme=dark] .colab-df-convert {\n",
              "      background-color: #3B4455;\n",
              "      fill: #D2E3FC;\n",
              "    }\n",
              "\n",
              "    [theme=dark] .colab-df-convert:hover {\n",
              "      background-color: #434B5C;\n",
              "      box-shadow: 0px 1px 3px 1px rgba(0, 0, 0, 0.15);\n",
              "      filter: drop-shadow(0px 1px 2px rgba(0, 0, 0, 0.3));\n",
              "      fill: #FFFFFF;\n",
              "    }\n",
              "  </style>\n",
              "\n",
              "      <script>\n",
              "        const buttonEl =\n",
              "          document.querySelector('#df-0f08a6bd-3fae-41eb-8be9-81a2be70531b button.colab-df-convert');\n",
              "        buttonEl.style.display =\n",
              "          google.colab.kernel.accessAllowed ? 'block' : 'none';\n",
              "\n",
              "        async function convertToInteractive(key) {\n",
              "          const element = document.querySelector('#df-0f08a6bd-3fae-41eb-8be9-81a2be70531b');\n",
              "          const dataTable =\n",
              "            await google.colab.kernel.invokeFunction('convertToInteractive',\n",
              "                                                     [key], {});\n",
              "          if (!dataTable) return;\n",
              "\n",
              "          const docLinkHtml = 'Like what you see? Visit the ' +\n",
              "            '<a target=\"_blank\" href=https://colab.research.google.com/notebooks/data_table.ipynb>data table notebook</a>'\n",
              "            + ' to learn more about interactive tables.';\n",
              "          element.innerHTML = '';\n",
              "          dataTable['output_type'] = 'display_data';\n",
              "          await google.colab.output.renderOutput(dataTable, element);\n",
              "          const docLink = document.createElement('div');\n",
              "          docLink.innerHTML = docLinkHtml;\n",
              "          element.appendChild(docLink);\n",
              "        }\n",
              "      </script>\n",
              "    </div>\n",
              "  </div>\n",
              "  "
            ]
          },
          "metadata": {},
          "execution_count": 51
        }
      ],
      "source": [
        "submission_df[\"is_laugh\"] = test_pred\n",
        "submission_df.head()"
      ]
    },
    {
      "cell_type": "code",
      "execution_count": null,
      "metadata": {
        "id": "mEhTo6Leu02p"
      },
      "outputs": [],
      "source": [
        "submission_df.to_csv(('/content/drive/MyDrive/nishika/sub.csv'), index=False)"
      ]
    },
    {
      "cell_type": "markdown",
      "metadata": {
        "id": "VSDaDtajVF3F"
      },
      "source": [
        "実際に提出して、スコアを確認してみましょう。  精度向上に向けて様々なアイディアがあるかと思いますので、ぜひいろいろとトライしていただければと思います！\n",
        "\n",
        "- 異なる学習済みモデルでの特徴量化\n",
        "- 画像の状況とボケての文章との解離具合を測定する\n",
        "- 説明文口調とセリフ口調の分類をしてみる。\n",
        "- 画像に何が写っているかを検出し、特徴量に加えてみる（人が写っている。動物が写っている）\n"
      ]
    }
  ],
  "metadata": {
    "colab": {
      "collapsed_sections": [],
      "machine_shape": "hm",
      "provenance": []
    },
    "gpuClass": "standard",
    "kernelspec": {
      "display_name": "Python 3",
      "name": "python3"
    },
    "language_info": {
      "name": "python"
    },
    "accelerator": "GPU"
  },
  "nbformat": 4,
  "nbformat_minor": 0
}