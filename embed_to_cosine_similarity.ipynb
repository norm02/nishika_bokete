{
  "nbformat": 4,
  "nbformat_minor": 0,
  "metadata": {
    "colab": {
      "provenance": [],
      "collapsed_sections": [],
      "machine_shape": "hm"
    },
    "kernelspec": {
      "name": "python3",
      "display_name": "Python 3"
    },
    "language_info": {
      "name": "python"
    },
    "gpuClass": "standard"
  },
  "cells": [
    {
      "cell_type": "code",
      "source": [
        "from google.colab import drive\n",
        "drive.mount('/content/drive')"
      ],
      "metadata": {
        "colab": {
          "base_uri": "https://localhost:8080/"
        },
        "id": "XbQRd4jUUS1V",
        "outputId": "34a70bd0-deea-4e59-8c06-84507e4b13e4"
      },
      "execution_count": null,
      "outputs": [
        {
          "output_type": "stream",
          "name": "stdout",
          "text": [
            "Drive already mounted at /content/drive; to attempt to forcibly remount, call drive.mount(\"/content/drive\", force_remount=True).\n"
          ]
        }
      ]
    },
    {
      "cell_type": "code",
      "source": [
        "import pandas as pd\n",
        "import numpy as np\n",
        "import matplotlib.pyplot as plt\n",
        "import seaborn as sns\n",
        "\n",
        "from sklearn.metrics import mean_squared_error\n",
        "from sklearn.metrics import log_loss\n",
        "from sklearn.model_selection import StratifiedKFold, KFold\n",
        "from sklearn.model_selection import train_test_split\n",
        "from sklearn.metrics import confusion_matrix\n",
        "\n",
        "import sys\n",
        "import os\n",
        "import re\n",
        "import random\n",
        "\n",
        "from time import time\n",
        "from tqdm import tqdm\n",
        "\n",
        "from contextlib import contextmanager\n",
        "import lightgbm as lgb"
      ],
      "metadata": {
        "id": "XEm9k6tUTlsG"
      },
      "execution_count": null,
      "outputs": []
    },
    {
      "cell_type": "code",
      "source": [
        "#上限表示数を拡張\n",
        "pd.set_option('display.max_columns', 10000)\n",
        "pd.set_option('display.max_rows', 1000)"
      ],
      "metadata": {
        "id": "zPmPFgPYAfU-"
      },
      "execution_count": null,
      "outputs": []
    },
    {
      "cell_type": "code",
      "source": [
        "def seed_everything(seed=1234):\n",
        "    random.seed(seed)\n",
        "    os.environ['PYTHONHASHSEED'] = str(seed)\n",
        "    np.random.seed(seed)\n",
        "\n",
        "seed_everything(42)"
      ],
      "metadata": {
        "id": "EkuBal2iT4tu"
      },
      "execution_count": null,
      "outputs": []
    },
    {
      "cell_type": "code",
      "source": [
        "df_6_tr = pd.read_csv(\"/content/drive/MyDrive/nishika/embeded/embedding_train_rinna_clip.csv\")\n",
        "df_6_ts = pd.read_csv(\"/content/drive/MyDrive/nishika/embeded/embedding_test_rinna_clip.csv\")"
      ],
      "metadata": {
        "id": "qzlQNGLajjmD"
      },
      "execution_count": null,
      "outputs": []
    },
    {
      "cell_type": "code",
      "source": [
        "df_6_tr = df_6_tr.drop([\"Unnamed: 0\",\"odai_photo_file_name\",\"is_laugh\",\"id\",\"text\",\"img_path\"], axis=1)"
      ],
      "metadata": {
        "id": "81_wqadkqUYL"
      },
      "execution_count": null,
      "outputs": []
    },
    {
      "cell_type": "code",
      "source": [
        "df_6_ts = df_6_ts.drop([\"Unnamed: 0\",\"odai_photo_file_name\",\"id\",\"text\",\"img_path\"], axis=1)"
      ],
      "metadata": {
        "id": "RIm9QRUGuLvD"
      },
      "execution_count": null,
      "outputs": []
    },
    {
      "cell_type": "code",
      "source": [
        "tr_text_embed = df_6_tr.loc[:,\"clip-text0\":\"clip-text511\"]"
      ],
      "metadata": {
        "id": "Ch6iVjtwpp0T"
      },
      "execution_count": null,
      "outputs": []
    },
    {
      "cell_type": "code",
      "source": [
        "tr_text_embed_np = tr_text_embed.to_numpy()"
      ],
      "metadata": {
        "id": "4xfk89aMwTXx"
      },
      "execution_count": null,
      "outputs": []
    },
    {
      "cell_type": "code",
      "source": [
        "tr_image_embed = df_6_tr.loc[:,\"clip_image_0\":\"clip_image_511\"]"
      ],
      "metadata": {
        "id": "8Q3pE9L9ry1P"
      },
      "execution_count": null,
      "outputs": []
    },
    {
      "cell_type": "code",
      "source": [
        "tr_image_embed_np = tr_image_embed.to_numpy()"
      ],
      "metadata": {
        "id": "SP5BW1ELwp2R"
      },
      "execution_count": null,
      "outputs": []
    },
    {
      "cell_type": "code",
      "source": [
        "ts_text_embed = df_6_ts.loc[:,\"clip-text0\":\"clip-text511\"]"
      ],
      "metadata": {
        "id": "Q533dcEkvpwP"
      },
      "execution_count": null,
      "outputs": []
    },
    {
      "cell_type": "code",
      "source": [
        "ts_text_embed_np = ts_text_embed.to_numpy()"
      ],
      "metadata": {
        "id": "GekCKiORwune"
      },
      "execution_count": null,
      "outputs": []
    },
    {
      "cell_type": "code",
      "source": [
        "ts_image_embed = df_6_ts.loc[:,\"clip_image_0\":\"clip_image_511\"]"
      ],
      "metadata": {
        "id": "WrSAzGBuv7jd"
      },
      "execution_count": null,
      "outputs": []
    },
    {
      "cell_type": "code",
      "source": [
        "ts_image_embed_np = ts_image_embed.to_numpy()"
      ],
      "metadata": {
        "id": "CEqz4X7zwxpW"
      },
      "execution_count": null,
      "outputs": []
    },
    {
      "cell_type": "code",
      "source": [
        "del df_6_tr,df_6_ts,tr_image_embed,tr_text_embed,ts_image_embed,ts_text_embed"
      ],
      "metadata": {
        "id": "9An8wNbY_KvR"
      },
      "execution_count": null,
      "outputs": []
    },
    {
      "cell_type": "code",
      "source": [
        "from sklearn.preprocessing import StandardScaler\n",
        "\n",
        "sc = StandardScaler()"
      ],
      "metadata": {
        "id": "T14A_Ohv9EUu"
      },
      "execution_count": null,
      "outputs": []
    },
    {
      "cell_type": "code",
      "source": [
        "from sklearn.metrics.pairwise import cosine_similarity \n",
        "\n",
        "cos_sim_tr = cosine_similarity(tr_image_embed_np , tr_text_embed_np)"
      ],
      "metadata": {
        "id": "yXNiE8Lxw5iX"
      },
      "execution_count": null,
      "outputs": []
    },
    {
      "cell_type": "code",
      "source": [
        "cos_sim_ts = cosine_similarity(ts_image_embed_np , ts_text_embed_np)"
      ],
      "metadata": {
        "id": "tIay3nv4xLu8"
      },
      "execution_count": null,
      "outputs": []
    },
    {
      "cell_type": "code",
      "source": [
        "cos_sim_tr = sc.fit_transform(cos_sim_tr)"
      ],
      "metadata": {
        "id": "f3CbeGHE9FFW"
      },
      "execution_count": null,
      "outputs": []
    },
    {
      "cell_type": "code",
      "source": [
        "cos_sim_ts = sc.fit_transform(cos_sim_ts)"
      ],
      "metadata": {
        "id": "cllZWiNP9The"
      },
      "execution_count": null,
      "outputs": []
    },
    {
      "cell_type": "code",
      "source": [
        "from sklearn.manifold import TSNE\n",
        "tsne = TSNE(n_components=2, random_state = 0)\n",
        "features_tr = tsne.fit_transform(cos_sim_tr)"
      ],
      "metadata": {
        "id": "R_M-WPP57fuI"
      },
      "execution_count": null,
      "outputs": []
    },
    {
      "cell_type": "code",
      "source": [
        "del cos_sim_tr"
      ],
      "metadata": {
        "id": "XjXK4xOvAHEN"
      },
      "execution_count": null,
      "outputs": []
    },
    {
      "cell_type": "code",
      "source": [
        "features_ts = tsne.fit_transform(cos_sim_ts)"
      ],
      "metadata": {
        "id": "vwyMGrnS7zbu"
      },
      "execution_count": null,
      "outputs": []
    },
    {
      "cell_type": "code",
      "source": [
        "del cos_sim_ts"
      ],
      "metadata": {
        "id": "gnlfX9cR8BTQ"
      },
      "execution_count": null,
      "outputs": []
    },
    {
      "cell_type": "code",
      "source": [
        "print(features_tr)"
      ],
      "metadata": {
        "id": "adwCgDfLHBwi"
      },
      "execution_count": null,
      "outputs": []
    },
    {
      "cell_type": "code",
      "source": [
        "#x = np.argsort(-cos_sim_tr, axis=0)"
      ],
      "metadata": {
        "id": "a0E2n78FxiAN"
      },
      "execution_count": null,
      "outputs": []
    },
    {
      "cell_type": "code",
      "source": [
        "#x2 = np.argsort(-cos_sim_ts, axis=0)"
      ],
      "metadata": {
        "id": "e-KrhkZfznWQ"
      },
      "execution_count": null,
      "outputs": []
    },
    {
      "cell_type": "code",
      "source": [
        "#x_tr_top3 = x[0:3].mean()\n",
        "#x_tr_top10 = x[0:10].mean()"
      ],
      "metadata": {
        "id": "vZ-WdUB4zEZa"
      },
      "execution_count": null,
      "outputs": []
    },
    {
      "cell_type": "code",
      "source": [
        "#x_ts_top3 = x2[0:3].mean()\n",
        "#x_ts_top10 = x2[0:3].mean()"
      ],
      "metadata": {
        "id": "hXr-9Douzdom"
      },
      "execution_count": null,
      "outputs": []
    },
    {
      "cell_type": "code",
      "source": [
        "#print(x[0:3])"
      ],
      "metadata": {
        "id": "aTfbWnJXygKu"
      },
      "execution_count": null,
      "outputs": []
    },
    {
      "cell_type": "code",
      "source": [
        "cos_sim_tr_df = pd.DataFrame(features_tr).add_prefix(\"cos_sim_tr\")\n",
        "cos_sim_ts_df = pd.DataFrame(features_ts).add_prefix(\"cos_sim_ts\")"
      ],
      "metadata": {
        "id": "h4RRdBNM1h_x"
      },
      "execution_count": null,
      "outputs": []
    },
    {
      "cell_type": "code",
      "source": [
        "cos_sim_tr_df = cos_sim_tr_df.to_csv('/content/drive/MyDrive/nishika/output/tsne_cos_sim_tr_df.csv')"
      ],
      "metadata": {
        "id": "itpVPqzBwFMB"
      },
      "execution_count": null,
      "outputs": []
    },
    {
      "cell_type": "code",
      "source": [
        "cos_sim_ts_df = cos_sim_ts_df.to_csv('/content/drive/MyDrive/nishika/output/tsne_cos_sim_ts_df.csv')"
      ],
      "metadata": {
        "id": "TdLm6a4kwb6p"
      },
      "execution_count": null,
      "outputs": []
    }
  ]
}